{
 "cells": [
  {
   "cell_type": "markdown",
   "metadata": {},
   "source": [
    "___\n",
    "<a href='https://cafe.naver.com/jmhonglab'><p style=\"text-align:center;\"><img src='https://lh3.googleusercontent.com/lY3ySXooSmwsq5r-mRi7uiypbo0Vez6pmNoQxMFhl9fmZJkRHu5lO2vo7se_0YOzgmDyJif9fi4_z0o3ZFdwd8NVSWG6Ea80uWaf3pOHpR4GHGDV7kaFeuHR3yAjIJjDgfXMxsvw=w2400'  class=\"center\" width=\"50%\" height=\"50%\"/></p></a>\n",
    "___\n",
    "<center><em>Content Copyright by HongLab, Inc.</em></center>"
   ]
  },
  {
   "cell_type": "markdown",
   "metadata": {},
   "source": [
    "### 계산기 만들기\n",
    "\n",
    "힌트\n",
    "- 시작할때 0, C를 눌러도 0, 숫자를 입력하면 0을 삭제 후 숫자로.\n",
    "- '='를 누르면 계산 결과 출력(eval() 사용)\n",
    "- 계산할 수 없는 입력이면 ERROR 출력\n",
    "- ERROR 일 때 다시 키를 누르면 재시작"
   ]
  },
  {
   "cell_type": "markdown",
   "metadata": {},
   "source": [
    "[도전] 콜백용 함수를 하나만 만들기\n",
    "- 어려운점: Button의 command에는 인수를 하나도 받지 않는 함수만 등록 가능"
   ]
  },
  {
   "cell_type": "code",
   "execution_count": 1,
   "metadata": {},
   "outputs": [
    {
     "name": "stderr",
     "output_type": "stream",
     "text": [
      "Exception in Tkinter callback\n",
      "Traceback (most recent call last):\n",
      "  File \"C:\\Users\\jmhong\\miniconda3\\envs\\py310\\lib\\tkinter\\__init__.py\", line 1921, in __call__\n",
      "    return self.func(*args)\n",
      "TypeError: button_click() missing 1 required positional argument: 'key'\n"
     ]
    }
   ],
   "source": [
    "from tkinter import *\n",
    "\n",
    "window = Tk()\n",
    "\n",
    "window.title(\"My Calculator\")\n",
    "\n",
    "\n",
    "def button_click(key):\n",
    "    print(key, \"is pressed\")\n",
    "\n",
    "\n",
    "# 버튼을 클릭하면 오류 발생\n",
    "# TypeError: button_click() missing 1 required positional argument: 'key'\n",
    "# button_click 함수에 \"1\"을 어떻게 전달할까?\n",
    "button_1 = Button(window, text=\"1\", command=button_click) \n",
    "\n",
    "\n",
    "button_1.pack()\n",
    "\n",
    "window.mainloop()"
   ]
  },
  {
   "cell_type": "markdown",
   "metadata": {},
   "source": [
    "- 힌트: 람다의 매개변수의 기본값을 이용해서 인수를 넣어주는 것 처럼 구현 가능"
   ]
  },
  {
   "cell_type": "code",
   "execution_count": 1,
   "metadata": {},
   "outputs": [
    {
     "name": "stdout",
     "output_type": "stream",
     "text": [
      "1 is pressed\n",
      "1 is pressed\n",
      "1 is pressed\n"
     ]
    }
   ],
   "source": [
    "from tkinter import *\n",
    "\n",
    "window = Tk()\n",
    "\n",
    "window.title(\"My Calculator\")\n",
    "\n",
    "\n",
    "def button_click(key):\n",
    "    print(key, \"is pressed\")\n",
    "\n",
    "\n",
    "# 람다 함수의 매개변수 기본값 사용\n",
    "button_1 = Button(window, text=\"1\", command=lambda key=\"1\": button_click(key)) \n",
    "\n",
    "\n",
    "button_1.pack()\n",
    "\n",
    "window.mainloop()"
   ]
  },
  {
   "cell_type": "markdown",
   "metadata": {},
   "source": [
    "OOP 구조로 바꿔보세요."
   ]
  },
  {
   "cell_type": "code",
   "execution_count": null,
   "metadata": {},
   "outputs": [],
   "source": []
  }
 ],
 "metadata": {
  "interpreter": {
   "hash": "8018e705143a54fe8977c076a25f32bbbfeba551799f40fa3d5ac4e2da245feb"
  },
  "kernelspec": {
   "display_name": "Python 3.10.2 ('py310')",
   "language": "python",
   "name": "python3"
  },
  "language_info": {
   "codemirror_mode": {
    "name": "ipython",
    "version": 3
   },
   "file_extension": ".py",
   "mimetype": "text/x-python",
   "name": "python",
   "nbconvert_exporter": "python",
   "pygments_lexer": "ipython3",
   "version": "3.10.2"
  },
  "orig_nbformat": 4
 },
 "nbformat": 4,
 "nbformat_minor": 2
}
