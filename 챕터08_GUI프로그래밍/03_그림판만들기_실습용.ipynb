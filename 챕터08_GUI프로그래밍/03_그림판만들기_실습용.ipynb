{
 "cells": [
  {
   "cell_type": "markdown",
   "metadata": {},
   "source": [
    "___\n",
    "<a href='https://cafe.naver.com/jmhonglab'><p style=\"text-align:center;\"><img src='https://lh3.googleusercontent.com/lY3ySXooSmwsq5r-mRi7uiypbo0Vez6pmNoQxMFhl9fmZJkRHu5lO2vo7se_0YOzgmDyJif9fi4_z0o3ZFdwd8NVSWG6Ea80uWaf3pOHpR4GHGDV7kaFeuHR3yAjIJjDgfXMxsvw=w2400'  class=\"center\" width=\"50%\" height=\"50%\"/></p></a>\n",
    "___\n",
    "<center><em>Content Copyright by HongLab, Inc.</em></center>"
   ]
  },
  {
   "cell_type": "markdown",
   "metadata": {},
   "source": [
    "# 그림판 만들기"
   ]
  },
  {
   "cell_type": "markdown",
   "metadata": {},
   "source": [
    "### 캔버스 위젯과 마우스 이벤트"
   ]
  },
  {
   "cell_type": "code",
   "execution_count": 6,
   "metadata": {},
   "outputs": [],
   "source": [
    "# 이벤트 출력\n",
    "\n",
    "from tkinter import *\n",
    "\n",
    "\n",
    "class MyPaint(Tk):\n",
    "    def __init__(self):\n",
    "        super().__init__()\n",
    "\n",
    "        self.title(\"My Paint\")\n",
    "\n",
    "        # 캔버스 위젯 사용\n",
    "        self.canvas = Canvas(self, width=1024, height=768, bg=\"white\")\n",
    "\n",
    "        # 마우스 이벤트 등록\n",
    "        self.canvas.bind(\"<Button-1>\", self.report)  # 첫 번째 마우스 버튼 누르기\n",
    "        self.canvas.bind(\"<Button-3>\", self.report)  # 세 번째 마우스 버튼 누르기\n",
    "        self.canvas.bind(\"<B1-Motion>\", self.report)  # 누른채로 이동\n",
    "        self.canvas.bind(\"<ButtonRelease-1>\", self.report)  # 버튼 떼기\n",
    "\n",
    "        # 이벤트 출력용\n",
    "        self.display = Label(self, font=(\"Arial\", 25))\n",
    "\n",
    "        self.display.pack(fill=BOTH, expand=True)\n",
    "        self.canvas.pack(fill=BOTH, expand=True)\n",
    "\n",
    "    def report(self, event):\n",
    "        self.display[\"text\"] = str(event)\n",
    "\n",
    "\n",
    "if __name__ == \"__main__\":\n",
    "    MyPaint().mainloop()"
   ]
  },
  {
   "cell_type": "markdown",
   "metadata": {},
   "source": [
    "### 캔버스에 그리기\n",
    "\n",
    "마우스를 빠르게 움직일 때 문제 발생"
   ]
  },
  {
   "cell_type": "code",
   "execution_count": 2,
   "metadata": {},
   "outputs": [],
   "source": [
    "from tkinter import *\n",
    "\n",
    "\n",
    "class MyPaint(Tk):\n",
    "    def __init__(self):\n",
    "        super().__init__()\n",
    "\n",
    "        self.title(\"My Paint\")\n",
    "\n",
    "        self.canvas = Canvas(self, width=1024, height=768, bg=\"white\")\n",
    "        self.canvas.bind(\"<B1-Motion>\", self.draw)\n",
    "        self.canvas.pack(fill=BOTH, expand=True)\n",
    "\n",
    "    def draw(self, e):\n",
    "        # pen width is 10\n",
    "        # oval: 타원\n",
    "        self.canvas.create_oval(\n",
    "            e.x - 5, e.y - 5, e.x + 5, e.y + 5, fill=\"blue\", outline=\"blue\"\n",
    "        )\n",
    "\n",
    "\n",
    "if __name__ == \"__main__\":\n",
    "    MyPaint().mainloop()"
   ]
  },
  {
   "cell_type": "markdown",
   "metadata": {},
   "source": [
    "### [실습] 마우스로 선으로 그리기\n",
    "\n",
    "1. 시작할 때 마우스 좌표를 보관할 수 있는 old_x와 old_y를 None으로 초기화\n",
    "2. 마우스 버튼이 눌렸을 때 old_x와 old_y가 None이 아니라면 (old_x, old_y) 부터 현재 마우스 커서 위치까지 직선을 그린다. 그 다음에 (직선을 그렸든 그리지 않았든) old_x와 old_y에 현재 마우스 커서 위치를 보관한다.\n",
    "3. 마우스 버튼에서 손을 떼면 더이상 그리지 않도록 old_x와 old_y를 None으로 바꾼다."
   ]
  },
  {
   "cell_type": "code",
   "execution_count": 3,
   "metadata": {},
   "outputs": [],
   "source": [
    "# 실습용\n",
    "\n",
    "from tkinter import *\n",
    "\n",
    "\n",
    "class MyPaint(Tk):\n",
    "    def __init__(self):\n",
    "        super().__init__()\n",
    "\n",
    "        self.title(\"My Paint\")\n",
    "\n",
    "        # 캔버스 위젯 사용\n",
    "        self.canvas = Canvas(self, width=1024, height=768, bg=\"white\")\n",
    "        self.canvas.pack(fill=BOTH, expand=True)\n",
    "\n",
    "        # 직선 그리는 방법\n",
    "        self.canvas.create_line(\n",
    "            100, 100, 300, 300, width=3, fill=\"blue\", capstyle=ROUND, smooth=True\n",
    "        )\n",
    "\n",
    "    def draw(self, e):\n",
    "        pass\n",
    "\n",
    "    def reset_xy(self, e):\n",
    "        pass\n",
    "\n",
    "\n",
    "if __name__ == \"__main__\":\n",
    "    MyPaint().mainloop()"
   ]
  },
  {
   "cell_type": "markdown",
   "metadata": {},
   "source": [
    "### 기능 추가\n",
    "\n"
   ]
  },
  {
   "cell_type": "markdown",
   "metadata": {},
   "source": [
    "색깔 선택창 예제"
   ]
  },
  {
   "cell_type": "code",
   "execution_count": 11,
   "metadata": {},
   "outputs": [
    {
     "data": {
      "text/plain": [
       "((255, 0, 0), '#ff0000')"
      ]
     },
     "execution_count": 11,
     "metadata": {},
     "output_type": "execute_result"
    }
   ],
   "source": [
    "from tkinter import *\n",
    "from tkinter import colorchooser  # submodules\n",
    "\n",
    "colorchooser.askcolor(color=\"blue\")  # 예시: ((128, 0, 255), '#8000ff')\n",
    "# pen_color = colorchooser.askcolor(color=\"blue\")[1]"
   ]
  },
  {
   "cell_type": "markdown",
   "metadata": {},
   "source": [
    "슬라이더"
   ]
  },
  {
   "cell_type": "code",
   "execution_count": 12,
   "metadata": {},
   "outputs": [],
   "source": [
    "# 슬라이더 예제\n",
    "\n",
    "from tkinter import *\n",
    "\n",
    "\n",
    "class MyPaint(Tk):\n",
    "    def __init__(self):\n",
    "        super().__init__()\n",
    "\n",
    "        self.title(\"My Paint\")\n",
    "\n",
    "        self.slider = Scale(\n",
    "            self, from_=1, to=100, command=self.report, orient=HORIZONTAL\n",
    "        )  # from_ 언더스코어 주의\n",
    "        self.slider.set(50)\n",
    "\n",
    "        self.display = Label(self, font=(\"Arial\", 25))\n",
    "\n",
    "        self.display.pack(fill=BOTH, expand=True)\n",
    "        self.slider.pack()\n",
    "\n",
    "    def report(self, event):\n",
    "        self.display[\"text\"] = str(event)\n",
    "\n",
    "\n",
    "if __name__ == \"__main__\":\n",
    "    MyPaint().mainloop()"
   ]
  },
  {
   "cell_type": "markdown",
   "metadata": {},
   "source": [
    "### [실습] 펜의 색과 두께 선택 기능 추가"
   ]
  },
  {
   "cell_type": "code",
   "execution_count": 13,
   "metadata": {},
   "outputs": [],
   "source": [
    "# 실습용\n",
    "# 펜의 색과 두께 선택 기능 추가\n",
    "\n",
    "from tkinter import *\n",
    "from tkinter import colorchooser  # submodules\n",
    "\n",
    "\n",
    "class MyPaint(Tk):\n",
    "    def __init__(self):\n",
    "        super().__init__()\n",
    "\n",
    "        self.title(\"My Paint\")\n",
    "\n",
    "        self.width = 3  # 초기 펜 두께\n",
    "        self.pen_color = \"blue\"\n",
    "        self.old_x = None\n",
    "        self.old_y = None\n",
    "\n",
    "        self.controls = Frame(self, padx=5, pady=5)\n",
    "        # 펜 두께 슬라이더와 색 변경 버튼 추가\n",
    "\n",
    "        self.canvas = Canvas(self, width=1024, height=768, bg=\"white\")\n",
    "        self.canvas.bind(\"<B1-Motion>\", self.draw)\n",
    "        self.canvas.bind(\"<ButtonRelease-1>\", self.reset_xy)\n",
    "\n",
    "        self.controls.pack(fill=BOTH, expand=True)\n",
    "        self.canvas.pack(fill=BOTH, expand=True)\n",
    "\n",
    "    def change_width(self, e):\n",
    "        pass\n",
    "\n",
    "    def change_color(self):\n",
    "        pass\n",
    "\n",
    "    def draw(self, e):\n",
    "        if self.old_x and self.old_y:\n",
    "            self.canvas.create_line(\n",
    "                self.old_x,\n",
    "                self.old_y,\n",
    "                e.x,\n",
    "                e.y,\n",
    "                width=self.width,\n",
    "                fill=self.pen_color,\n",
    "                capstyle=ROUND,\n",
    "                smooth=True,\n",
    "            )\n",
    "\n",
    "        self.old_x = e.x\n",
    "        self.old_y = e.y\n",
    "\n",
    "    def reset_xy(self, e):\n",
    "        self.old_x = None\n",
    "        self.old_y = None\n",
    "\n",
    "\n",
    "if __name__ == \"__main__\":\n",
    "    MyPaint().mainloop()"
   ]
  },
  {
   "cell_type": "markdown",
   "metadata": {},
   "source": [
    "더 추가해볼만한 기능들\n",
    "- 배경 색 선택, 지우개, 저장하기, 읽어와서 배경으로 사용하기, Undo/Redo(어려움) 등"
   ]
  }
 ],
 "metadata": {
  "interpreter": {
   "hash": "8018e705143a54fe8977c076a25f32bbbfeba551799f40fa3d5ac4e2da245feb"
  },
  "kernelspec": {
   "display_name": "Python 3.10.2 ('py310')",
   "language": "python",
   "name": "python3"
  },
  "language_info": {
   "codemirror_mode": {
    "name": "ipython",
    "version": 3
   },
   "file_extension": ".py",
   "mimetype": "text/x-python",
   "name": "python",
   "nbconvert_exporter": "python",
   "pygments_lexer": "ipython3",
   "version": "3.10.2"
  },
  "orig_nbformat": 4
 },
 "nbformat": 4,
 "nbformat_minor": 2
}
