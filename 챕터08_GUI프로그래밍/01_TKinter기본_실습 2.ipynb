{
 "cells": [
  {
   "cell_type": "markdown",
   "metadata": {},
   "source": [
    "___\n",
    "<a href='https://cafe.naver.com/jmhonglab'><p style=\"text-align:center;\"><img src='https://lh3.googleusercontent.com/lY3ySXooSmwsq5r-mRi7uiypbo0Vez6pmNoQxMFhl9fmZJkRHu5lO2vo7se_0YOzgmDyJif9fi4_z0o3ZFdwd8NVSWG6Ea80uWaf3pOHpR4GHGDV7kaFeuHR3yAjIJjDgfXMxsvw=w2400'  class=\"center\" width=\"50%\" height=\"50%\"/></p></a>\n",
    "___\n",
    "<center><em>Content Copyright by HongLab, Inc.</em></center>"
   ]
  },
  {
   "cell_type": "markdown",
   "metadata": {},
   "source": [
    "# GUI 프로그래밍\n",
    "\n",
    "CLI(Command Line Interface) vs GUI(Graphical User Interface)\n",
    "\n",
    "### TKinter 기본\n",
    "\n",
    "파이썬 표준 GUI 인터페이스 [TKinter](https://docs.python.org/3/library/tkinter.html)\n",
    "\n",
    "1. 윈도우(window) 생성\n",
    "1. 프레임(frame) 추가 (선택)\n",
    "1. 필요한 위젯들 추가\n",
    "1. 배치 (geometry managers)\n",
    "1. 이벤트(콜백함수, 람다 등) 연결\n",
    "1. 메인루프 시작\n",
    "\n",
    "위젯(Widgets)\n",
    "- 버튼(Button)\n",
    "- 레이블(Label)\n",
    "- 엔트리(Entry)\n",
    "- 텍스트(Text)  \n",
    "\n",
    "기하구조 매니저 (geometry manager)\n",
    "- pack\n",
    "- place\n",
    "- grid\n"
   ]
  },
  {
   "cell_type": "markdown",
   "metadata": {},
   "source": [
    "윈도우 생성 및 메인 루프 실행"
   ]
  },
  {
   "cell_type": "code",
   "execution_count": null,
   "metadata": {},
   "outputs": [],
   "source": [
    "from tkinter import *\n",
    "\n",
    "# 루트 윈도우 생성\n",
    "window = Tk()\n",
    "window.title(\"My GUI Window\")  # 윈도우 이름\n",
    "window.geometry(\"800x600\")  # 윈도우 크기\n",
    "\n",
    "# 메인 루프 실행\n",
    "window.mainloop()"
   ]
  },
  {
   "cell_type": "markdown",
   "metadata": {},
   "source": [
    "버튼 추가 (윈도우 -> 버튼)"
   ]
  },
  {
   "cell_type": "code",
   "execution_count": null,
   "metadata": {},
   "outputs": [],
   "source": [
    "from tkinter import *\n",
    "\n",
    "window = Tk()\n",
    "window.title(\"My GUI Window\")  # 윈도우 이름\n",
    "window.geometry(\"800x600\")  # 윈도우 크기\n",
    "\n",
    "\n",
    "def button_pressed():\n",
    "    print(\"Button pressed\")\n",
    "\n",
    "\n",
    "# 버튼 만들기 (Master 설정 필요)\n",
    "button = Button(\n",
    "    master=window,\n",
    "    text=\"클릭하세요\",\n",
    "    bg=\"white\",\n",
    "    fg=\"blue\",\n",
    "    width=80,\n",
    "    height=5,\n",
    "    command=button_pressed,  # 이벤트 연결\n",
    ")\n",
    "\n",
    "# 다양하게 설정 가능\n",
    "button.pack(side=TOP)  # LEFT, RIGHT, TOP, BOTTOM\n",
    "\n",
    "window.mainloop()"
   ]
  },
  {
   "cell_type": "markdown",
   "metadata": {},
   "source": [
    "윈도우 -> 프레임 -> 버튼"
   ]
  },
  {
   "cell_type": "code",
   "execution_count": null,
   "metadata": {},
   "outputs": [],
   "source": [
    "from tkinter import *\n",
    "\n",
    "window = Tk()\n",
    "window.title(\"My GUI Window\")  # 윈도우 이름\n",
    "window.geometry(\"800x600\")  # 윈도우 크기\n",
    "\n",
    "f = Frame(master=window, bg=\"plum1\", bd=10)\n",
    "# 프레임 배치\n",
    "# f.pack()\n",
    "f.place(x=100, y=250)\n",
    "\n",
    "# 버튼 만들기\n",
    "button = Button(\n",
    "    f,\n",
    "    text=\"클릭하세요\",\n",
    "    bg=\"white\",\n",
    "    fg=\"blue\",\n",
    "    width=80,\n",
    "    height=2,\n",
    "    command=lambda: print(\"Button pressed\"),\n",
    ")\n",
    "button.pack(side=BOTTOM)  # LEFT, RIGHT, TOP, BOTTOM\n",
    "\n",
    "window.mainloop()"
   ]
  },
  {
   "cell_type": "markdown",
   "metadata": {},
   "source": [
    "레이블 추가"
   ]
  },
  {
   "cell_type": "code",
   "execution_count": null,
   "metadata": {},
   "outputs": [],
   "source": [
    "from tkinter import *\n",
    "\n",
    "window = Tk()\n",
    "window.title(\"My GUI Window\")  # 윈도우 이름\n",
    "window.geometry(\"800x600\")  # 윈도우 크기\n",
    "\n",
    "\n",
    "def button_pressed():\n",
    "    label[\"text\"] = \"Button Pressed\"\n",
    "    label[\"bg\"] = \"burlywood1\"\n",
    "\n",
    "\n",
    "label = Label(window, text=\"Hello!\", font=(\"Arial\", 25))\n",
    "\n",
    "button = Button(\n",
    "    master=window,\n",
    "    text=\"클릭하세요\",\n",
    "    bg=\"white\",\n",
    "    fg=\"blue\",\n",
    "    width=80,\n",
    "    height=5,\n",
    "    font=(\"System\", 25),\n",
    "    command=button_pressed,\n",
    ")\n",
    "\n",
    "label.pack(side=RIGHT)\n",
    "button.pack(side=RIGHT)\n",
    "\n",
    "window.mainloop()"
   ]
  },
  {
   "cell_type": "markdown",
   "metadata": {},
   "source": [
    "grid() 배치"
   ]
  },
  {
   "cell_type": "code",
   "execution_count": null,
   "metadata": {},
   "outputs": [],
   "source": [
    "from tkinter import *\n",
    "\n",
    "window = Tk()\n",
    "window.title(\"My GUI Window\")  # 윈도우 이름\n",
    "\n",
    "\n",
    "for c in range(3):\n",
    "    for r in range(5):\n",
    "        new_label = Label(window, text=f\"({r},{c})\", font=(\"Arial\", 25), bg=\"white\")\n",
    "        new_label.grid(row=r, column=c, padx=5, pady=5)\n",
    "\n",
    "Label(window, text=\"This is wider\", font=(\"Ariel\", 25), bg=\"white\").grid(\n",
    "    row=5, column=2, columnspan=3\n",
    ")\n",
    "\n",
    "window.mainloop()"
   ]
  },
  {
   "cell_type": "markdown",
   "metadata": {},
   "source": [
    "Entry 위젯으로 문자열 입력 받기. 이벤트 발생은 Button 사용"
   ]
  },
  {
   "cell_type": "code",
   "execution_count": null,
   "metadata": {},
   "outputs": [],
   "source": [
    "from tkinter import *\n",
    "\n",
    "\n",
    "def button_pressed():\n",
    "    print(entry.get())\n",
    "    entry.insert(index=END, string=\", World!\")\n",
    "    # entry.delete(0, END)\n",
    "\n",
    "\n",
    "window = Tk()\n",
    "\n",
    "entry = Entry(\n",
    "    master=window, fg=\"black\", bg=\"yellow\", width=30, justify=CENTER, font=(\"Arial\", 25)\n",
    ")\n",
    "\n",
    "button = Button(\n",
    "    master=window,\n",
    "    text=\"클릭하세요\",\n",
    "    bg=\"white\",\n",
    "    fg=\"blue\",\n",
    "    width=80,\n",
    "    height=2,\n",
    "    command=button_pressed,\n",
    ")\n",
    "\n",
    "entry.pack()\n",
    "button.pack()\n",
    "\n",
    "window.mainloop()"
   ]
  },
  {
   "cell_type": "markdown",
   "metadata": {},
   "source": [
    "Text 위젯으로 여러 줄"
   ]
  },
  {
   "cell_type": "code",
   "execution_count": null,
   "metadata": {},
   "outputs": [],
   "source": [
    "window = Tk()\n",
    "\n",
    "\n",
    "def button_pressed():\n",
    "    print(text_box.get(\"1.0\", END))\n",
    "    text_box.insert(index=\"2.0\", chars=\"Good!\")\n",
    "    #text_box.delete(\"1.0\", END)\n",
    "\n",
    "\n",
    "button = Button(\n",
    "    master=window,\n",
    "    text=\"클릭하세요\",\n",
    "    bg=\"white\",\n",
    "    fg=\"blue\",\n",
    "    width=80,\n",
    "    height=2,\n",
    "    command=button_pressed,\n",
    ")\n",
    "text_box = Text(master=window)\n",
    "\n",
    "button.pack()\n",
    "text_box.pack()\n",
    "\n",
    "window.mainloop()"
   ]
  },
  {
   "cell_type": "markdown",
   "metadata": {},
   "source": [
    "```Frame``` 프레임 여러개 사용 가능"
   ]
  },
  {
   "cell_type": "code",
   "execution_count": 3,
   "metadata": {},
   "outputs": [],
   "source": [
    "from tkinter import *\n",
    "\n",
    "window = Tk()\n",
    "\n",
    "frame_a = Frame(master=window, relief=RAISED)\n",
    "frame_b = Frame(master=window)\n",
    "\n",
    "label_a = Button(master=frame_a, text=\"I'm in Frame A\", font=(\"Arial\", 25))\n",
    "label_a.pack()\n",
    "\n",
    "label_b = Label(master=frame_b, text=\"I'm in Frame B\", font=(\"Arial\", 25))\n",
    "label_b.pack()\n",
    "\n",
    "frame_a.pack()\n",
    "frame_b.pack()\n",
    "\n",
    "window.mainloop()"
   ]
  },
  {
   "cell_type": "markdown",
   "metadata": {},
   "source": [
    "### [실습] 숫자 증가/감소\n",
    "\n"
   ]
  },
  {
   "cell_type": "code",
   "execution_count": null,
   "metadata": {},
   "outputs": [],
   "source": [
    "from tkinter import *\n",
    "\n",
    "\n",
    "\n",
    "window = Tk()\n",
    "\n",
    "\n",
    "\n",
    "\n",
    "window.mainloop()"
   ]
  },
  {
   "cell_type": "markdown",
   "metadata": {},
   "source": [
    "### [실습] 숫자 맞추기 게임\n",
    "\n",
    "팁: ```pack(fill=BOTH, expand=True)```을 사용하면 위젯들의 크기를 키워줍니다."
   ]
  },
  {
   "cell_type": "code",
   "execution_count": null,
   "metadata": {},
   "outputs": [],
   "source": [
    "import random\n",
    "\n",
    "num = random.randint(1, 101)\n",
    "\n",
    "try_count = 0\n",
    "\n",
    "while True:\n",
    "    user_guess = int(input(\"1이상 100이하 자연수를 추측해보세요: \"))\n",
    "\n",
    "    try_count += 1\n",
    "\n",
    "    if user_guess > num:\n",
    "        print(f\"{user_guess}보다 작습니다.\")\n",
    "    elif user_guess < num:\n",
    "        print(f\"{user_guess}보다 큽니다.\")\n",
    "    else:\n",
    "        print(f\"{num}을(를) {try_count}번 만에 맞췄습니다.\")\n",
    "        break"
   ]
  },
  {
   "cell_type": "code",
   "execution_count": 1,
   "metadata": {},
   "outputs": [],
   "source": [
    "import random\n",
    "from tkinter import *\n",
    "\n",
    "\n",
    "\n",
    "window = Tk()\n",
    "\n",
    "\n",
    "\n",
    "window.mainloop()"
   ]
  },
  {
   "cell_type": "markdown",
   "metadata": {},
   "source": [
    "### [실습] 화씨 섭씨 변환\n",
    "\n",
    "힌트\n",
    "- ```eval()```\n",
    "- ```c = str((f - 32) * 5 / 9)```\n",
    "- ```f = str(c * 9 / 5 + 32)```\n",
    "- ```f_entry.bind(\"<Return>\", lambda _: f2c())```\n",
    "- 화씨섭씨 기호는 복사붙여넣기하세요: °F, °C\n",
    "- grid 사용 추천"
   ]
  },
  {
   "cell_type": "code",
   "execution_count": 3,
   "metadata": {},
   "outputs": [],
   "source": [
    "from tkinter import *\n",
    "\n",
    "\n",
    "def f2c():\n",
    "    pass\n",
    "\n",
    "def c2f():\n",
    "    pass\n",
    "\n",
    "\n",
    "window = Tk()\n",
    "\n",
    "\n",
    "\n",
    "window.mainloop()"
   ]
  },
  {
   "cell_type": "code",
   "execution_count": null,
   "metadata": {},
   "outputs": [],
   "source": []
  },
  {
   "cell_type": "code",
   "execution_count": null,
   "metadata": {},
   "outputs": [],
   "source": []
  }
 ],
 "metadata": {
  "interpreter": {
   "hash": "4e4a43d73bced3a6de5125252de52756354fa9cd2a395ae122159333d29a56ba"
  },
  "kernelspec": {
   "display_name": "Python 3.10.0 64-bit ('mypy310': conda)",
   "language": "python",
   "name": "python3"
  },
  "language_info": {
   "codemirror_mode": {
    "name": "ipython",
    "version": 3
   },
   "file_extension": ".py",
   "mimetype": "text/x-python",
   "name": "python",
   "nbconvert_exporter": "python",
   "pygments_lexer": "ipython3",
   "version": "3.10.2"
  },
  "orig_nbformat": 4
 },
 "nbformat": 4,
 "nbformat_minor": 2
}
