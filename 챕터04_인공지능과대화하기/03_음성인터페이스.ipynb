{
 "cells": [
  {
   "cell_type": "markdown",
   "metadata": {},
   "source": [
    "___\n",
    "<a href='https://cafe.naver.com/jmhonglab'><p style=\"text-align:center;\"><img src='https://lh3.googleusercontent.com/lY3ySXooSmwsq5r-mRi7uiypbo0Vez6pmNoQxMFhl9fmZJkRHu5lO2vo7se_0YOzgmDyJif9fi4_z0o3ZFdwd8NVSWG6Ea80uWaf3pOHpR4GHGDV7kaFeuHR3yAjIJjDgfXMxsvw=w2400'  class=\"center\" width=\"50%\" height=\"50%\"/></p></a>\n",
    "___\n",
    "<center><em>Content Copyright by HongLab, Inc.</em></center>"
   ]
  },
  {
   "cell_type": "markdown",
   "metadata": {},
   "source": [
    "# 음성 인터페이스[(Voice User Interface)](https://en.wikipedia.org/wiki/Voice_user_interface)"
   ]
  },
  {
   "cell_type": "markdown",
   "metadata": {},
   "source": [
    "사용자로부터 음성 명령을 받아서 현재 시간과 날짜를 안내해주는 규칙 기반(Rule-based) 음성 비서를 만들어봅시다.\n",
    "\n",
    "[조언]  \n",
    "- 기능을 구현하는 문제는 예시와 똑같이 만들려고 노력할 필요는 없습니다. 원하는 대로 기능이 작동하면 충분합니다.\n",
    "- 복잡한 구조를 만드는 어려움을 느껴봐야 하기 때문에 일부러 함수를 만들지는 않고 있습니다.\n",
    "- 인터넷을 접속해서 정보를 가져오는 기능은 다음 강의에서 다룹니다.\n",
    "- 음악을 틀어준다든지, 웹브라우저로 검색 결과를 띄워준다든지 등등 여러가지 아이디어를 내봅시다."
   ]
  },
  {
   "cell_type": "code",
   "execution_count": null,
   "metadata": {},
   "outputs": [],
   "source": [
    "import speech_recognition as sr\n",
    "from datetime import datetime\n",
    "from io import BytesIO\n",
    "from navertts import NaverTTS\n",
    "from pydub import AudioSegment\n",
    "from pydub.playback import play\n"
   ]
  },
  {
   "cell_type": "markdown",
   "metadata": {},
   "source": [
    "음성을 합성하고 재생하는 부분을 한 곳에 모아보겠습니다."
   ]
  },
  {
   "cell_type": "code",
   "execution_count": null,
   "metadata": {},
   "outputs": [],
   "source": [
    "import speech_recognition as sr\n",
    "from datetime import datetime\n",
    "from io import BytesIO\n",
    "from navertts import NaverTTS\n",
    "from pydub import AudioSegment\n",
    "from pydub.playback import play\n"
   ]
  },
  {
   "cell_type": "code",
   "execution_count": null,
   "metadata": {},
   "outputs": [],
   "source": [
    "# 내 코드\n",
    "\n",
    "import speech_recognition as sr\n",
    "\n",
    "from io import BytesIO\n",
    "\n",
    "from navertts import NaverTTS\n",
    "\n",
    "from pydub import AudioSegment\n",
    "from pydub.playback import play\n",
    "\n",
    "import datetime\n",
    "\n",
    "\n",
    "\n",
    "r = sr.Recognizer()\n",
    "microphone = sr.Microphone(device_index=1)\n",
    "\n",
    "print(\"날짜와 시간을 알려주는 프로그램!\")\n",
    "\n",
    "\n",
    "\n",
    "while True:\n",
    "    # 음성인식\n",
    "    with microphone as source:\n",
    "        r.adjust_for_ambient_noise(source)\n",
    "        print(\"음성 인식 대기중\")\n",
    "        audio = r.listen(source)\n",
    "\n",
    "    speech = None\n",
    "    finished = False\n",
    "    try:\n",
    "        text = r.recognize_google(audio, language=\"ko\")\n",
    "    except:\n",
    "        speech = \"이해할 수 없는 명령입니다.\"\n",
    "    else:\n",
    "        if \"날짜\" in text:\n",
    "            speech = f\"오늘 날짜는 {datetime.date.today().year}년 {datetime.date.today().month}월 {datetime.date.today().day}일 입니다.\"\n",
    "            print(speech)\n",
    "        elif \"시간\" in text:\n",
    "            speech = f\"현재 시간은 {datetime.datetime.now().hour}시 {datetime.datetime.now().minute}분 {datetime.datetime.now().second}초 입니다.\"\n",
    "        elif \"종료\" in text:\n",
    "            speech = \"종료합니다.\"\n",
    "            finished = True\n",
    "        else:\n",
    "            speech = \"실행할 수 없는 명령입니다.\"\n",
    "\n",
    "        tts = NaverTTS(speech, lang=\"ko\")\n",
    "        fp = BytesIO()\n",
    "        tts.write_to_fp(fp)\n",
    "        fp = BytesIO(fp.getvalue())\n",
    "        my_sound = AudioSegment.from_file(fp, format=\"mp3\")\n",
    "        play(my_sound)\n",
    "        if finished:\n",
    "            break\n"
   ]
  }
 ],
 "metadata": {
  "interpreter": {
   "hash": "f64e548cbf2ebb58caacc39a919b16809fbf0a70979c18e5ddba76aa9934d80e"
  },
  "kernelspec": {
   "display_name": "Python 3.9.5 64-bit ('base': conda)",
   "language": "python",
   "name": "python3"
  },
  "language_info": {
   "codemirror_mode": {
    "name": "ipython",
    "version": 3
   },
   "file_extension": ".py",
   "mimetype": "text/x-python",
   "name": "python",
   "nbconvert_exporter": "python",
   "pygments_lexer": "ipython3",
   "version": "3.10.14"
  },
  "orig_nbformat": 4
 },
 "nbformat": 4,
 "nbformat_minor": 2
}
