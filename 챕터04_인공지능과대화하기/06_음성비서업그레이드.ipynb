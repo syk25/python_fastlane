{
 "cells": [
  {
   "cell_type": "markdown",
   "metadata": {},
   "source": [
    "___\n",
    "<a href='https://cafe.naver.com/jmhonglab'><p style=\"text-align:center;\"><img src='https://lh3.googleusercontent.com/lY3ySXooSmwsq5r-mRi7uiypbo0Vez6pmNoQxMFhl9fmZJkRHu5lO2vo7se_0YOzgmDyJif9fi4_z0o3ZFdwd8NVSWG6Ea80uWaf3pOHpR4GHGDV7kaFeuHR3yAjIJjDgfXMxsvw=w2400'  class=\"center\" width=\"50%\" height=\"50%\"/></p></a>\n",
    "___\n",
    "<center><em>Content Copyright by HongLab, Inc.</em></center>"
   ]
  },
  {
   "cell_type": "markdown",
   "metadata": {},
   "source": [
    "# 음성 비서 업그레이드\n",
    "\n",
    "### 목표\n",
    "- 도시 이름이 들어 있으면 그 도시의 날짜/시간/날씨 안내\n",
    "- 함수를 사용해서 코드의 구조를 개선\n"
   ]
  },
  {
   "cell_type": "markdown",
   "metadata": {},
   "source": [
    "### 접근 방법\n",
    "- 창의적인 아이디어를 덧붙이는 것이 최고  \n",
    "- 정답을 찾으려고 하지 말고 내가 상상하는 것을 만들려고 노력  \n",
    "- 좋은 구조의 기준은 사람에 따라 다르지만 일반적으로 이해하기 쉽고 기능 개선과 관리가 유리"
   ]
  },
  {
   "cell_type": "markdown",
   "metadata": {},
   "source": [
    "### 세계 시간\n",
    "\n",
    "##### 파이썬 TimeZone [pytz](http://pytz.sourceforge.net/) 패키지\n",
    "\n",
    "```\n",
    "pip install pytz\n",
    "```\n",
    "아래 예제 참고\n",
    "\n"
   ]
  },
  {
   "cell_type": "code",
   "execution_count": null,
   "metadata": {},
   "outputs": [],
   "source": [
    "# 파이썬 timezone 사용 예시\n",
    "\n",
    "from datetime import datetime, timedelta\n",
    "from pytz import timezone\n",
    "\n",
    "tz = timezone(\"Asia/Seoul\")\n",
    "current_time = datetime.now().astimezone(tz)\n",
    "\n",
    "print(current_time)"
   ]
  },
  {
   "cell_type": "markdown",
   "metadata": {},
   "source": [
    "```timezone()```을 설정할 때 알아야 하는 ```zone``` 문자열(위의 예제에서는 \"Asia/Seoul\")은 ```all_timezones```에서 찾을 수 있습니다."
   ]
  },
  {
   "cell_type": "code",
   "execution_count": null,
   "metadata": {},
   "outputs": [],
   "source": [
    "# 지원하는 타임존을 모두 출력해볼 수도 있지만 너무 많습니다.\n",
    "\n",
    "from pytz import all_timezones\n",
    "\n",
    "all_timezones"
   ]
  },
  {
   "cell_type": "code",
   "execution_count": null,
   "metadata": {},
   "outputs": [],
   "source": [
    "# 내가 찾는 도시가 들어있는지 확인해볼 수 있습니다.\n",
    "\n",
    "from pytz import all_timezones\n",
    "\n",
    "[z for z in all_timezones if \"seoul\" in z.lower()]"
   ]
  },
  {
   "cell_type": "markdown",
   "metadata": {},
   "source": [
    "몇 개 미리 찾아놨어요.\n",
    "```\n",
    "'Asia/Seoul', 'America/New_York', 'America/Los_Angeles', 'Europe/Paris', 'Europe/London'\n",
    "```"
   ]
  },
  {
   "cell_type": "markdown",
   "metadata": {},
   "source": [
    "### 세계 날씨\n"
   ]
  },
  {
   "cell_type": "markdown",
   "metadata": {},
   "source": [
    "[OpenWeather에서 도시 영어 이름 확인](https://openweathermap.org/find)\n"
   ]
  },
  {
   "cell_type": "code",
   "execution_count": null,
   "metadata": {},
   "outputs": [],
   "source": [
    "# 앞에서 공부한 OpenWeather API 사용법입니다.\n",
    "import requests\n",
    "\n",
    "API_KEY = \"YOUR_KEY_HERE\"\n",
    "BASE_URL = \"http://api.openweathermap.org/data/2.5/weather\"\n",
    "LANGUAGE = \"kr\"\n",
    "\n",
    "city = \"seoul\"  # 여기에 위에서 찾은 도시 이름 사용\n",
    "request_url = f\"{BASE_URL}?appid={API_KEY}&q={city}&lang={LANGUAGE}\"\n",
    "\n",
    "# 이하 생략"
   ]
  },
  {
   "cell_type": "markdown",
   "metadata": {},
   "source": [
    "### 사용자 명령에서 도시 이름 찾기"
   ]
  },
  {
   "cell_type": "markdown",
   "metadata": {},
   "source": [
    "인간의 언어를 컴퓨터로 분석하고 이해하는 것은 어려운 일입니다. 전문적인 자연어 처리에는 파이썬의 [NLTK](https://www.nltk.org/)를 많이 사용합니다.\n",
    "\n",
    "여기서는 간단히 사용자의 말에 도시 이름이 들어있는지 찾아주는 함수를 만들어서 사용하겠습니다.\n",
    "\n",
    "**작동 예시**\n",
    "```\n",
    "find_keyword([\"서울\", \"뉴욕\"], \"뉴욕 시간\", \"서울\") -> \"뉴욕\" 반환\n",
    "find_keyword([\"서울\", \"뉴욕\"], \"파리 날씨\", \"서울\") -> \"서울\" 반환\n",
    "```"
   ]
  },
  {
   "cell_type": "code",
   "execution_count": null,
   "metadata": {},
   "outputs": [],
   "source": [
    "from datetime import datetime, timedelta\n",
    "from pytz import timezone\n",
    "\n",
    "def find_keyword(keywords: list[str], sentence: str, default: str = \"\") -> str:\n",
    "    \"\"\"keywords의 아이템들 중에서 sentence에서 가장 먼저 발견되는 문자열을 반환\n",
    "\n",
    "    Args:\n",
    "        keywords (list[str]): 찾고자 하는 키워드의 리스트 예) [\"서울\", \"뉴욕\"]\n",
    "        sentence (str): 키워드를 찾아볼 문장 예) \"뉴욕의 날씨를 알려주세요\"\n",
    "        default (str): 키워드가 하나도 없을 경우 반환할 문자열 예) \"서울\"\n",
    "\n",
    "    Returns:\n",
    "        str: 문장 안에서 처음 발견한 키워드. 없을 경우 default 반환.\n",
    "    \"\"\"\n",
    "\n",
    "    # 여기에 구현\n",
    "\n",
    "    return default\n",
    "\n",
    "\n",
    "cities_dict = {\n",
    "    \"서울\": \"Asia/Seoul\",\n",
    "    \"뉴욕\": \"America/New_York\",\n",
    "    \"로스앤젤레스\": \"America/Los_Angeles\",\n",
    "    \"파리\": \"Europe/Paris\",\n",
    "    \"런던\": \"Europe/London\",\n",
    "}\n",
    "\n",
    "user_command = \"로스앤젤레스의 시간을 알려주세요\"  # 또는 더 간단히 \"뉴욕 시간\"\n",
    "\n",
    "city = find_keyword(cities_dict.keys(), user_command, \"서울\")\n",
    "\n",
    "# tz = timezone(\"NotCityName\") zone이 정확하지 않으면 오류발생\n",
    "tz = timezone(cities_dict[city])\n",
    "\n",
    "today = datetime.today().astimezone(tz)\n",
    "\n",
    "print(today)"
   ]
  },
  {
   "cell_type": "markdown",
   "metadata": {},
   "source": [
    "### 실습 방법\n",
    "\n",
    "1. 앞에서 만들었던 코드를 고쳐서 기능 추가\n",
    "1. 첨부된 .py 파일을 참고해서 정리 (스크립트 모드 권장)\n"
   ]
  }
 ],
 "metadata": {
  "interpreter": {
   "hash": "c9e3598667a9b4826dc0715db37fec6d4eb7b4cb364ec4d7624ecbefebdc40f5"
  },
  "kernelspec": {
   "display_name": "Python 3.10.0 ('py10')",
   "language": "python",
   "name": "python3"
  },
  "language_info": {
   "codemirror_mode": {
    "name": "ipython",
    "version": 3
   },
   "file_extension": ".py",
   "mimetype": "text/x-python",
   "name": "python",
   "nbconvert_exporter": "python",
   "pygments_lexer": "ipython3",
   "version": "3.10.0"
  },
  "orig_nbformat": 4
 },
 "nbformat": 4,
 "nbformat_minor": 2
}
