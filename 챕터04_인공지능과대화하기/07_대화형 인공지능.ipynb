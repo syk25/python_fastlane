{
 "cells": [
  {
   "cell_type": "markdown",
   "metadata": {},
   "source": [
    "___\n",
    "<a href='https://cafe.naver.com/jmhonglab'><p style=\"text-align:center;\"><img src='https://lh3.googleusercontent.com/lY3ySXooSmwsq5r-mRi7uiypbo0Vez6pmNoQxMFhl9fmZJkRHu5lO2vo7se_0YOzgmDyJif9fi4_z0o3ZFdwd8NVSWG6Ea80uWaf3pOHpR4GHGDV7kaFeuHR3yAjIJjDgfXMxsvw=w2400'  class=\"center\" width=\"50%\" height=\"50%\"/></p></a>\n",
    "___\n",
    "<center><em>Content Copyright by HongLab, Inc.</em></center>"
   ]
  },
  {
   "cell_type": "markdown",
   "metadata": {},
   "source": [
    "# 대화형 인공지능\n",
    "\n",
    "우리가 온라인 쇼핑몰에서 흔하게 보는 상담용 챗봇은 대화 내용이 정해져 있기 때문에 규칙 기반 대화 모델을 개선해서 만듭니다. 여기서 얘기하는 \"대화형 인공지능\"은 인간처럼 자유로운 대화를 나눌 수 있는 모델을 의미합니다.\n",
    "\n",
    "[두 인공지능이 인간이 되는 것에 대해 나누는 대화(GPT3)](https://www.youtube.com/watch?v=jz78fSnBG0s&t=3s)"
   ]
  },
  {
   "cell_type": "markdown",
   "metadata": {},
   "source": [
    "### [ParlAI](https://parl.ai/)\n",
    "\n",
    "ParlAI는 다양한 모델을 사용해볼 수 있는 플랫폼입니다. 2022년 2월 현재 간단한 실습용으로 사용하기 가장 좋은 환경을 제공해줍니다. 내부적으로 PyTorch를 사용하는데 작은 모델은 GPU 가속 없이 CPU만으로도 빠르게 작동합니다.\n",
    "\n",
    "- [공식 홈페이지](https://parl.ai/)와 [Github](https://github.com/facebookresearch/ParlAI)\n",
    "- Meta AI 블로그 [A state-of-the-art open source chatbot](https://ai.facebook.com/blog/state-of-the-art-open-source-chatbot/)\n",
    "\n",
    "- 뉴럴 네트워크 훈련에 사용하는 데이터셋 예시: [Blended Skill Talk dataset](https://parl.ai/projects/bst/)\n",
    "\n",
    "\n",
    "파이썬 3.8 (또는 가상환경) 사용을 권장합니다. \n",
    "- 윈도우에서는 ```pip install parlai```로 간단히 사용가능합니다. 만약 특정 버전을 설치하고 싶다면 ```pip install parlai==1.5.1```와 같이 등호 두개 옆에 버전을 지정해주면 됩니다. 여기서는 1.5.1 버전 기준으로 진행합니다.\n",
    "- 맥은 M1 Monterey 12.1에서 같은 방식으로 설치 후 작동을 확인하였으나 각자의 환경에 따라 추가적인 패키지 설치가 필요할 수도 있습니다."
   ]
  },
  {
   "cell_type": "markdown",
   "metadata": {},
   "source": [
    "여기서는 두 가지 실습을 진행하겠습니다.\n",
    "1. ParlAI에서 자체 지원해주는 자유 대화 체험\n",
    "1. ParlAI 모델을 내가 만든 파이썬 프로그램에 넣기"
   ]
  },
  {
   "cell_type": "markdown",
   "metadata": {},
   "source": [
    "##### 터미널에서 사용해보기\n",
    "\n",
    "[ParlAI 모델 동물원](https://www.parl.ai/docs/zoo.html)에서 설명을 보면서 적당한 모델을 하나 고릅니다. 이때 명령어 샘플에서 ```parlai interactive```가 들어있는 것들이 대화형으로 테스트하기 편리한 형태입니다.\n",
    "\n",
    "터미널에서 \n",
    "```\n",
    "parlai interactive --model-file \"zoo:blender/blender_90M/model\"\n",
    "```\n",
    "입력하면 모델 다운로드 후 텍스트 입력으로 대화를 시작할 수 있습니다. 모델들이 큰 편이라서 다운로드에 시간이 꽤 걸립니다.\n"
   ]
  },
  {
   "cell_type": "markdown",
   "metadata": {},
   "source": [
    "실행시켜 보면 아래와 같은 경고 메시지가 매번 출력됩니다.\n",
    "\n",
    "```\n",
    "C:\\Users\\jmhong\\miniconda3\\envs\\py39\\lib\\site-packages\\parlai\\core\\torch_generator_agent.py:1610: UserWarning: __floordiv__ is deprecated, and its behavior will change in a future version of pytorch. It currently rounds toward 0 (like the 'trunc' function NOT 'floor'). This results in incorrect rounding for negative values. To keep the current behavior, use torch.div(a, b, rounding_mode='trunc'), or for actual floor division, use torch.div(a, b, rounding_mode='floor').\n",
    "```\n",
    "없애는 방법은 경고가 발생하는 파일(torch_generator_agent.py)에서 ```hyp_ids = best_idxs // voc_size``` 부분을 ```hyp_ids = torch.div(best_idxs, voc_size, rounding_mode=\"floor\")```로 수정하면 됩니다."
   ]
  },
  {
   "cell_type": "markdown",
   "metadata": {},
   "source": [
    "##### 내가 만든 프로그램에 넣기\n",
    "\n",
    "강의 노트와 함께 제공되는 ```hlab_parlai_wrapper``` 모듈을 사용해서 음성인식과 음성합성을 붙여보세요.\n",
    "\n",
    "```07_parlai_chatbot_test.py``` 파일을 열어서 시작하시면 됩니다. ```hlab_parlai_wrapper.py``` 파일이 꼭 같은 폴더 안에 들어있어야 합니다."
   ]
  }
 ],
 "metadata": {
  "interpreter": {
   "hash": "8018e705143a54fe8977c076a25f32bbbfeba551799f40fa3d5ac4e2da245feb"
  },
  "kernelspec": {
   "display_name": "Python 3.10.0 64-bit ('py310': conda)",
   "language": "python",
   "name": "python3"
  },
  "language_info": {
   "codemirror_mode": {
    "name": "ipython",
    "version": 3
   },
   "file_extension": ".py",
   "mimetype": "text/x-python",
   "name": "python",
   "nbconvert_exporter": "python",
   "pygments_lexer": "ipython3",
   "version": "3.10.0"
  },
  "orig_nbformat": 4
 },
 "nbformat": 4,
 "nbformat_minor": 2
}
