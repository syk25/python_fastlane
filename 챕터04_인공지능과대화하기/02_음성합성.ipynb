{
 "cells": [
  {
   "cell_type": "markdown",
   "metadata": {},
   "source": [
    "___\n",
    "<a href='https://cafe.naver.com/jmhonglab'><p style=\"text-align:center;\"><img src='https://lh3.googleusercontent.com/lY3ySXooSmwsq5r-mRi7uiypbo0Vez6pmNoQxMFhl9fmZJkRHu5lO2vo7se_0YOzgmDyJif9fi4_z0o3ZFdwd8NVSWG6Ea80uWaf3pOHpR4GHGDV7kaFeuHR3yAjIJjDgfXMxsvw=w2400'  class=\"center\" width=\"50%\" height=\"50%\"/></p></a>\n",
    "___\n",
    "<center><em>Content Copyright by HongLab, Inc.</em></center>"
   ]
  },
  {
   "cell_type": "markdown",
   "metadata": {},
   "source": [
    "# 음성 합성 \n",
    "\n",
    "음성 합성은 음성 인식의 반대 과정을 거칩니다. 대표적인 기술로는 구글의 [타코트론](https://ai.googleblog.com/2017/12/tacotron-2-generating-human-like-speech.html)이 있습니다.\n",
    "\n",
    "\n",
    "### [Google Text-to-Speech](https://github.com/pndurette/gTTS)\n",
    "\n",
    "구글에서 제공해주는 음성 합성 패키지입니다. 인터넷이 연결되어 있어야 사용할 수 있습니다.\n",
    "\n",
    "```\n",
    "pip install gtts\n",
    "pip install pydub\n",
    "```\n",
    "\n",
    "맥에서는 ffmpeg을 추가로 설치해야 합니다.\n",
    "```\n",
    "brew install ffmpeg\n",
    "```"
   ]
  },
  {
   "cell_type": "markdown",
   "metadata": {},
   "source": [
    "사용 가능한 언어들의 목록을 출력해보겠습니다."
   ]
  },
  {
   "cell_type": "code",
   "execution_count": null,
   "metadata": {},
   "outputs": [],
   "source": [
    "import gtts\n",
    "\n",
    "#print(\"사용 가능한 모든 언어들\", gtts.lang.tts_langs())\n",
    "\n",
    "# 영어와 한국어만 보기\n",
    "# 딕트 컴프리헨션 (C언어 블럭과 혼동 주의)\n",
    "{\n",
    "    k: v\n",
    "    for k, v in gtts.lang.tts_langs().items()\n",
    "    if v.lower() == \"korean\" or v.lower() == \"english\"\n",
    "}"
   ]
  },
  {
   "cell_type": "code",
   "execution_count": null,
   "metadata": {},
   "outputs": [],
   "source": [
    "import gtts\n",
    "from pydub import AudioSegment\n",
    "from pydub.playback import play\n",
    "\n",
    "# 텍스트를 음성으로 바꿉니다.\n",
    "tts = gtts.gTTS(\"안녕하세요? 인공지능입니다.\", lang=\"ko\")\n",
    "\n",
    "# mp3 파일로 저장합니다.\n",
    "tts.save(\"temp.mp3\")\n",
    "\n",
    "# mp3 파일을 다시 읽어들입니다.\n",
    "my_sound = AudioSegment.from_mp3(\"temp.mp3\")\n",
    "\n",
    "# 컴퓨터로 재생합니다.\n",
    "play(my_sound)"
   ]
  },
  {
   "cell_type": "markdown",
   "metadata": {},
   "source": [
    "파일로 저장하지 않고 바로 재생하는 방법도 있습니다."
   ]
  },
  {
   "cell_type": "code",
   "execution_count": null,
   "metadata": {},
   "outputs": [],
   "source": [
    "import gtts\n",
    "from pydub import AudioSegment\n",
    "from pydub.playback import play\n",
    "from io import BytesIO\n",
    "\n",
    "# 텍스트를 음성으로 바꿉니다.\n",
    "tts = gtts.gTTS(\"Hi! I am an artificial intelligence.\", lang=\"kr\")\n",
    "\n",
    "# mp3 오디오 데이터를 메모리에 저장합니다.\n",
    "fp = BytesIO()\n",
    "tts.write_to_fp(fp)\n",
    "fp = BytesIO(fp.getvalue())\n",
    "\n",
    "# 오디오 데이터를 메모리로부터 가져옵니다.\n",
    "my_sound = AudioSegment.from_file(fp, format=\"mp3\")\n",
    "\n",
    "# 컴퓨터로 재생합니다.\n",
    "play(my_sound)"
   ]
  },
  {
   "cell_type": "markdown",
   "metadata": {},
   "source": [
    "[참고] ```gTTS()```와 ```write_to_ft()```의 문서를 참고해서 예외 처리를 할 수 있습니다."
   ]
  },
  {
   "cell_type": "markdown",
   "metadata": {},
   "source": [
    "### [pyttsx3](https://github.com/nateshmbhat/pyttsx3)\n",
    "\n",
    "\n",
    "운영체제에서 제공해주는 음성 합성 엔진을 사용하기 때문에 인터넷 연결 불필요\n",
    "\n",
    "- [SAPI5](https://en.wikipedia.org/wiki/Microsoft_Speech_API) on Windows\n",
    "- [NSSpeechSynthesizer](https://developer.apple.com/documentation/appkit/nsspeechsynthesizer) on Mac OS\n",
    "\n",
    "```\n",
    "pip install pyttsx3\n",
    "```\n",
    "\n",
    "윈도우에서는 음성 설정에서 사용 가능한 언어를 추가할 수 있습니다.  \n",
    "맥에서는 accessibility -> spoken contents에서 사용 가능한 목소리를 추가할 수 있습니다.\n"
   ]
  },
  {
   "cell_type": "markdown",
   "metadata": {},
   "source": [
    "설치되어 있는 언어를 먼저 확인해봅시다.\n"
   ]
  },
  {
   "cell_type": "code",
   "execution_count": null,
   "metadata": {},
   "outputs": [],
   "source": [
    "import pyttsx3\n",
    "\n",
    "engine = pyttsx3.init()\n",
    "\n",
    "voices = engine.getProperty(\"voices\")\n",
    "\n",
    "for id, voice in enumerate(voices):\n",
    "    print(id, voice)\n"
   ]
  },
  {
   "cell_type": "markdown",
   "metadata": {},
   "source": [
    "기본적인 재생 방법은 다음과 같습니다.\n"
   ]
  },
  {
   "cell_type": "code",
   "execution_count": null,
   "metadata": {},
   "outputs": [],
   "source": [
    "import pyttsx3\n",
    "\n",
    "engine = pyttsx3.init()\n",
    "\n",
    "engine.say(\"안녕하세요? 인공지능입니다.\")\n",
    "\n",
    "engine.runAndWait()"
   ]
  },
  {
   "cell_type": "markdown",
   "metadata": {},
   "source": [
    "더 간단하게 사용할 수도 있습니다."
   ]
  },
  {
   "cell_type": "code",
   "execution_count": null,
   "metadata": {},
   "outputs": [],
   "source": [
    "import pyttsx3\n",
    "\n",
    "# 더 간단한 방법\n",
    "pyttsx3.speak(\"안녕하세요? 인공지능입니다.\")"
   ]
  },
  {
   "cell_type": "markdown",
   "metadata": {},
   "source": [
    "그 외에도 말하는 속도, 소리 크기, 목소리(언어) 등을 바꿀 수 있습니다."
   ]
  },
  {
   "cell_type": "code",
   "execution_count": null,
   "metadata": {},
   "outputs": [],
   "source": [
    "# 여러가지 속성 바꾸기\n",
    "import pyttsx3\n",
    "\n",
    "engine = pyttsx3.init()\n",
    "\n",
    "# 말하는 속도\n",
    "engine.setProperty(\"rate\", 200)\n",
    "rate = engine.getProperty(\"rate\")\n",
    "\n",
    "# 소리 크기\n",
    "engine.setProperty(\"volume\", 1.0)  # 0~1\n",
    "volume = engine.getProperty(\"volume\")\n",
    "\n",
    "# 목소리\n",
    "voices = engine.getProperty(\"voices\")\n",
    "engine.setProperty(\"voice\", voices[1].id)\n",
    "\n",
    "# 말하기\n",
    "engine.say(\"12345\")\n",
    "engine.say(\"안녕하세요? 홍정모입니다.\")\n",
    "engine.say(\"I will speak this text\")\n",
    "engine.runAndWait()\n",
    "engine.stop()"
   ]
  },
  {
   "cell_type": "markdown",
   "metadata": {},
   "source": [
    "### [Naver Cloud Platform](https://www.ncloud.com/)\n",
    "\n",
    "비공식 API [NaverTTS](https://github.com/scottgigante/NaverTTS) Unofficial Python API for NAVER [Papago TTS](https://papago.naver.com/)\n",
    "\n",
    "[클로바 스피치 가격](https://www.ncloud.com/product/aiService/clovaSpeech)\n",
    "\n",
    "```\n",
    "pip install NaverTTS\n",
    "```\n"
   ]
  },
  {
   "cell_type": "code",
   "execution_count": null,
   "metadata": {},
   "outputs": [],
   "source": [
    "from io import BytesIO\n",
    "#from gtts import gTTS\n",
    "from navertts import NaverTTS\n",
    "\n",
    "from pydub import AudioSegment\n",
    "from pydub.playback import play\n",
    "\n",
    "tts = NaverTTS(\"안녕하세요? 인공지능입니다.\", lang=\"ko\")\n",
    "fp = BytesIO()\n",
    "tts.write_to_fp(fp)\n",
    "fp = BytesIO(fp.getvalue())\n",
    "my_sound = AudioSegment.from_file(fp, format=\"mp3\")\n",
    "play(my_sound)\n"
   ]
  },
  {
   "cell_type": "code",
   "execution_count": null,
   "metadata": {},
   "outputs": [],
   "source": [
    "# 목소리 산뜻함\n",
    "from navertts import NaverTTS\n",
    "\n",
    "# 여러 옵션들 https://github.com/scottgigante/NaverTTS/blob/master/navertts/tts.py\n",
    "tts = NaverTTS('hello')\n",
    "tts.save('hello.mp3')\n",
    "\n",
    "# mp3 파일을 다시 읽어들입니다.\n",
    "my_sound = AudioSegment.from_mp3(\"hello.mp3\")\n",
    "\n",
    "# 컴퓨터로 재생합니다.\n",
    "play(my_sound)"
   ]
  }
 ],
 "metadata": {
  "interpreter": {
   "hash": "f64e548cbf2ebb58caacc39a919b16809fbf0a70979c18e5ddba76aa9934d80e"
  },
  "kernelspec": {
   "display_name": "Python 3.9.5 64-bit ('base': conda)",
   "language": "python",
   "name": "python3"
  },
  "language_info": {
   "codemirror_mode": {
    "name": "ipython",
    "version": 3
   },
   "file_extension": ".py",
   "mimetype": "text/x-python",
   "name": "python",
   "nbconvert_exporter": "python",
   "pygments_lexer": "ipython3",
   "version": "3.10.0"
  },
  "orig_nbformat": 4
 },
 "nbformat": 4,
 "nbformat_minor": 2
}
