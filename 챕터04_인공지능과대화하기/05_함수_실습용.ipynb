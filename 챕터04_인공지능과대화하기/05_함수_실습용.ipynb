{
 "cells": [
  {
   "cell_type": "markdown",
   "metadata": {},
   "source": [
    "___\n",
    "<a href='https://cafe.naver.com/jmhonglab'><p style=\"text-align:center;\"><img src='https://lh3.googleusercontent.com/lY3ySXooSmwsq5r-mRi7uiypbo0Vez6pmNoQxMFhl9fmZJkRHu5lO2vo7se_0YOzgmDyJif9fi4_z0o3ZFdwd8NVSWG6Ea80uWaf3pOHpR4GHGDV7kaFeuHR3yAjIJjDgfXMxsvw=w2400'  class=\"center\" width=\"50%\" height=\"50%\"/></p></a>\n",
    "___\n",
    "<center><em>Content Copyright by HongLab, Inc.</em></center>"
   ]
  },
  {
   "cell_type": "markdown",
   "metadata": {},
   "source": [
    "# 함수(Function)\n",
    "\n",
    "영어에서 function이란 단어는 기능이라는 의미를 가지고 있습니다. 수학에서는 함수로 번역됩니다. 컴퓨터 프로그래밍에서 함수(function)란 어떠한 기능(function)을 수행하기 위해서 필요한 명령문들을 묶어서 이름을 붙여놓은 것입니다.\n",
    "\n",
    "지금까지는 [파이썬에 내장](https://docs.python.org/3/library/functions.html)되어 있거나 패키지로 제공되는 여러가지 함수들을 어떻게 활용할 것인가라는 관점에서 공부를 해왔습니다. 여기서부터는 여러가지 함수들을 직접 만들고 그 함수들을 엮어서 점점 더 크고 복잡한 프로그램을 만드는 방향으로 조금씩 관점을 바꿔봅시다.\n",
    "\n",
    "함수의 문법은 프로그래머를 편하게 해주는 자잘한 편의기능들 위주이기 때문에 어렵지는 않습니다. 그러나 함수를 공부하기 시작한다는 것은 더 큰 프로그램을 만드는 단계로 나아간다는 의미이기 때문에 복잡하게 느껴질 수는 있습니다. \n",
    "\n",
    "그럴때마다 추상적인 관점에서 각각의 함수들의 '입력'과 '출력'이 뭔지를 먼저 찾아서 전체 구조의 실마리를 풀어나가는 요령이 생기면 기능이 많고 복잡한 프로그램을 만들 때도 두렵지 않게 됩니다.\n",
    "\n",
    "```\n",
    "입력 -> 함수 -> 출력\n",
    "```\n",
    "\n",
    "함수와 관련된 유용한 개념과 문법들을 쭉 훑어본 후에 이어지는 강의에서 다양한 프로그램을 만들어 가면서 하나하나 제대로 활용하는 방식들을 익혀나가도록 하겠습니다.\n"
   ]
  },
  {
   "cell_type": "markdown",
   "metadata": {},
   "source": [
    "### 함수가 필요한 이유\n",
    "1. 자주 사용되는 코드를 묶어서 재사용할 수 있다. 매번 구현하기 어렵거나 번거로운 경우에 편리하다."
   ]
  },
  {
   "cell_type": "code",
   "execution_count": null,
   "metadata": {},
   "outputs": [],
   "source": [
    "my_income = int(input())\n",
    "\n",
    "if my_income <= 12:\n",
    "    tax = my_income * 0.06\n",
    "elif my_income <= 46:\n",
    "    tax = my_income * 0.15 - 1.08\n",
    "else:\n",
    "    tax = my_income * 0.24 - 5.22\n",
    "\n",
    "print(\"내야할 세금은\", tax, \"입니다.\")"
   ]
  },
  {
   "cell_type": "code",
   "execution_count": null,
   "metadata": {},
   "outputs": [],
   "source": [
    "# 세금을 계산하기 위해 필요한 명령문들을 묶어서\n",
    "# compute_tax라는 이름을 붙여서 함수로 만들었습니다.\n",
    "def compute_tax(my_income):\n",
    "    \"\"\"수입을 입력 받아서 세금을 계산\"\"\"\n",
    "\n",
    "    pass\n",
    "\n",
    "my_income = float(input(\"연수입을 입력해주세요:\"))\n",
    "\n",
    "tax = compute_tax(my_income)\n",
    "\n",
    "print(\"내야할 세금은\", tax, \"입니다.\")"
   ]
  },
  {
   "cell_type": "markdown",
   "metadata": {},
   "source": [
    "2. 크고 복잡한 문제를 작고 단순한 문제 여러개로 쪼개서 생각할 수 있다."
   ]
  },
  {
   "cell_type": "code",
   "execution_count": null,
   "metadata": {},
   "outputs": [],
   "source": [
    "def speech_to_text():\n",
    "    \"\"\"사용자의 말을 인식해서 문자열로 바꾼다.\n",
    "\n",
    "    Args:\n",
    "        사용자의 말을 마이크로 듣기 때문에 매개변수가 없음\n",
    "\n",
    "    Returns:\n",
    "        str: 인식된 문자열\n",
    "    \"\"\"\n",
    "    pass\n",
    "\n",
    "\n",
    "def talk_to_ai(user_input):\n",
    "    \"\"\"사용자의 대사를 인공지능에게 전달해주고 대답을 받는다.\n",
    "\n",
    "    Args:\n",
    "        user_input (str): 인공지능에게 하는 말\n",
    "\n",
    "    Returns:\n",
    "        str: 인공지능의 대답\n",
    "    \"\"\"\n",
    "    pass\n",
    "\n",
    "\n",
    "def text_to_speech(text):\n",
    "    \"\"\"문자열을 소리로 재생한다.\n",
    "\n",
    "    Args:\n",
    "        text (str): 재생할 문자열\n",
    "\n",
    "    Returns:\n",
    "    \"\"\"\n",
    "    pass\n",
    "\n",
    "\n",
    "user_input = speech_to_text()\n",
    "\n",
    "answer = talk_to_ai(user_input)\n",
    "\n",
    "text_to_speech(answer)"
   ]
  },
  {
   "cell_type": "markdown",
   "metadata": {},
   "source": [
    "### 함수를 만드는 과정\n",
    "\n",
    "1. 전체 프로그램을 어떻게 분해할지 생각해본다.\n",
    "2. 개별 함수의 입력과 출력을 정의한다. \n",
    "3. 문법에 따라 구현한다."
   ]
  },
  {
   "cell_type": "markdown",
   "metadata": {},
   "source": [
    "파이썬에서는 함수도 객체이기 때문에 유연하고 창의적으로 사용할 수 있습니다. 여기서는 함수를 만들고 사용하는 기본 문법과 핵심 개념들 위주로 살펴보고 다양한 용법들은 이어지는 강의에서 계속 덧붙여가겠습니다."
   ]
  },
  {
   "cell_type": "markdown",
   "metadata": {},
   "source": [
    "### [함수의 형식](https://docs.python.org/3/tutorial/controlflow.html#defining-functions)\n",
    "\n",
    "함수의 기본적인 형식은 다음과 같습니다.\n",
    "```\n",
    "def 함수이름(매개변수1, 매개변수2, ...):\n",
    "    \"\"\"함수의 기능에 대해서 설명을 추가할 수 있습니다.\"\"\"\n",
    "    \n",
    "    기능을 수행하거나 반환값을 계산하는 명령문들\n",
    "    \n",
    "    return 반환값 또는 반환값을 계산하는 표현식\n",
    "```"
   ]
  },
  {
   "cell_type": "markdown",
   "metadata": {},
   "source": [
    "- 함수를 만들 때는 정의한다(define)는 의미로 ```def``` 키워드를 사용합니다.  \n",
    "- 파이썬에서 함수 이름을 지을 때는 snake_case와 같은 스네이크 케이스를 사용합니다.\n",
    "- 괄호 안에는 기능을 수행할 때 필요한 매개변수(parameter)들을 나열할 수 있습니다. 매개변수가 하나도 없는 함수라도 괄호는 필요합니다.\n",
    "- 함수 몸체의 시작에는 \"\"\"와 \"\"\" 사이에 함수에 대한 설명을 넣을 수 있습니다. docstring이라고 부르며 문법적으로는 여러 줄을 사용할 수 있는 문자열입니다.\n",
    "- ```return```은 함수 실행을 끝내면서 함수를 호출한 곳으로 반환값을 돌려보냅니다.\n",
    "- ```return``` 오른쪽의 표현식이나 ```return``` 자체를 생략하면 내부적으로 ```return None```을 수행합니다.\n",
    "\n"
   ]
  },
  {
   "cell_type": "markdown",
   "metadata": {},
   "source": [
    "예제로 확인해봅시다. 숫자 두 개를 더해주는 간단한 함수입니다. 어떤 순서로 실행되는지 디버거로 추적해봅시다."
   ]
  },
  {
   "cell_type": "code",
   "execution_count": null,
   "metadata": {},
   "outputs": [],
   "source": []
  },
  {
   "cell_type": "markdown",
   "metadata": {},
   "source": [
    "함수를 호출할 때 매개변수 자리에 1과 2를 넣어주면 함수 안에서 a에 1이 b에 2가 대입된 것 처럼 temp를 계산합니다. temp를 반환(return)하면 함수를 호출한 곳으로 돌려보내기 때문에 result에 temp가 대입됩니다.\n",
    "\n",
    "용어를 잠깐 정리하자면 ```add_two()``` 함수 안에서 사용되는 a와 b는 매개변수(parameter)라고 부릅니다. ```add_two()``` 함수를 호출할 때 a와 b에 실제로 들어가는 1과 2를  실매개변수(actual parameter)나 인수(argument)라고 부릅니다. argument를 인수가 아니라 인자로 번역하는 경우도 많습니다."
   ]
  },
  {
   "cell_type": "markdown",
   "metadata": {},
   "source": [
    "인수 자리에는 표현식을 넣어줄 수도 있습니다. "
   ]
  },
  {
   "cell_type": "code",
   "execution_count": null,
   "metadata": {},
   "outputs": [],
   "source": []
  },
  {
   "cell_type": "markdown",
   "metadata": {},
   "source": [
    "같은 함수를 인수만 바꿔가면서 여러 번 사용할 수 있습니다. 함수 호출을 표현식의 일부로 사용할 수 있습니다."
   ]
  },
  {
   "cell_type": "code",
   "execution_count": null,
   "metadata": {},
   "outputs": [],
   "source": []
  },
  {
   "cell_type": "markdown",
   "metadata": {},
   "source": [
    "##### [실습] draw_pyramid() 함수를 만들어봅시다."
   ]
  },
  {
   "cell_type": "markdown",
   "metadata": {},
   "source": [
    "앞에서 연습문제로 만들었던 별찍기 코드를 함수로 정리해서 여러번 사용해봅시다."
   ]
  },
  {
   "cell_type": "code",
   "execution_count": null,
   "metadata": {},
   "outputs": [],
   "source": [
    "# 첫 번째 피라미드 그리기\n",
    "num_lines = 2\n",
    "\n",
    "for j in range(1, num_lines + 1):\n",
    "\n",
    "    for i in range(num_lines - j):\n",
    "        print(\" \", end=\"\")\n",
    "\n",
    "    for i in range(j * 2 - 1):\n",
    "        print(\"*\", end=\"\")\n",
    "\n",
    "    print()\n",
    "\n",
    "# 두 번째 피라미드 그리기\n",
    "num_lines = 4\n",
    "\n",
    "for j in range(1, num_lines + 1):\n",
    "\n",
    "    for i in range(num_lines - j):\n",
    "        print(\" \", end=\"\")\n",
    "\n",
    "    for i in range(j * 2 - 1):\n",
    "        print(\"*\", end=\"\")\n",
    "\n",
    "    print()\n",
    "\n",
    "# 세 번째 피라미드를 그린다면?"
   ]
  },
  {
   "cell_type": "code",
   "execution_count": null,
   "metadata": {},
   "outputs": [],
   "source": [
    "def draw_pyramid(num_lines):\n",
    "    pass\n",
    "\n",
    "\n",
    "draw_pyramid(2)\n",
    "\n",
    "draw_pyramid(4)  # 함수는 여러번 사용할 수 있습니다."
   ]
  },
  {
   "cell_type": "markdown",
   "metadata": {},
   "source": [
    "##### [실습] 소수인 약수만 찾기\n",
    "자연수 하나를 입력받고 그 자연수의 약수들 중에서 소수인 것들만 골라서 리스트를 만들어 봅시다.\n",
    "\n",
    "|입력|출력|\n",
    "|---|---|\n",
    "|8|[2]|\n",
    "|24|[2, 3]|\n",
    "|114|[2, 3, 19]|"
   ]
  },
  {
   "cell_type": "code",
   "execution_count": null,
   "metadata": {},
   "outputs": [],
   "source": [
    "def find_divisors(num):\n",
    "    \"\"\"입력받은 자연수의 약수들의 리스트를 반환\"\"\"\n",
    "    pass\n",
    "\n",
    "\n",
    "def is_prime(num):\n",
    "    \"\"\"입력받은 자연수가 소수인지 판별하여 bool로 반환\"\"\"\n",
    "    pass\n",
    "\n",
    "\n",
    "def find_prime_divisors(num):\n",
    "    \"\"\"입력받은 자연수의 약수들 중에서 소수들만 리스트로 반환\"\"\"\n",
    "    pass\n",
    "\n",
    "\n",
    "find_prime_divisors(114)"
   ]
  },
  {
   "cell_type": "markdown",
   "metadata": {},
   "source": [
    "[참고] 메써드는 특정 자료형에 소속되어 있는 함수입니다."
   ]
  },
  {
   "cell_type": "code",
   "execution_count": null,
   "metadata": {},
   "outputs": [],
   "source": []
  },
  {
   "cell_type": "markdown",
   "metadata": {},
   "source": [
    "### 매개변수(Parameters)"
   ]
  },
  {
   "cell_type": "markdown",
   "metadata": {},
   "source": [
    "인수를 넣어줄 때는 함수를 정의할 때 정해 놓은 매개변수의 갯수와 순서에 맞게 넣어줘야 합니다."
   ]
  },
  {
   "cell_type": "code",
   "execution_count": null,
   "metadata": {},
   "outputs": [],
   "source": []
  },
  {
   "cell_type": "markdown",
   "metadata": {},
   "source": [
    "오류(error)가 발생하는 경우에는 어떤 오류인지 읽어봅시다."
   ]
  },
  {
   "cell_type": "code",
   "execution_count": 1,
   "metadata": {},
   "outputs": [
    {
     "ename": "TypeError",
     "evalue": "'str' object cannot be interpreted as an integer",
     "output_type": "error",
     "traceback": [
      "\u001b[1;31m---------------------------------------------------------------------------\u001b[0m",
      "\u001b[1;31mTypeError\u001b[0m                                 Traceback (most recent call last)",
      "\u001b[1;32mc:\\Users\\jmhong\\HongLabPythonPrivate\\Ch04_인공지능과대화하기\\05_함수_실습용.ipynb Cell 31'\u001b[0m in \u001b[0;36m<module>\u001b[1;34m\u001b[0m\n\u001b[0;32m      <a href='vscode-notebook-cell:/c%3A/Users/jmhong/HongLabPythonPrivate/Ch04_%EC%9D%B8%EA%B3%B5%EC%A7%80%EB%8A%A5%EA%B3%BC%EB%8C%80%ED%99%94%ED%95%98%EA%B8%B0/05_%ED%95%A8%EC%88%98_%EC%8B%A4%EC%8A%B5%EC%9A%A9.ipynb#ch0000034?line=3'>4</a>\u001b[0m     \u001b[39mfor\u001b[39;00m _ \u001b[39min\u001b[39;00m \u001b[39mrange\u001b[39m(count):\n\u001b[0;32m      <a href='vscode-notebook-cell:/c%3A/Users/jmhong/HongLabPythonPrivate/Ch04_%EC%9D%B8%EA%B3%B5%EC%A7%80%EB%8A%A5%EA%B3%BC%EB%8C%80%ED%99%94%ED%95%98%EA%B8%B0/05_%ED%95%A8%EC%88%98_%EC%8B%A4%EC%8A%B5%EC%9A%A9.ipynb#ch0000034?line=4'>5</a>\u001b[0m         \u001b[39mprint\u001b[39m(message)\n\u001b[1;32m----> <a href='vscode-notebook-cell:/c%3A/Users/jmhong/HongLabPythonPrivate/Ch04_%EC%9D%B8%EA%B3%B5%EC%A7%80%EB%8A%A5%EA%B3%BC%EB%8C%80%ED%99%94%ED%95%98%EA%B8%B0/05_%ED%95%A8%EC%88%98_%EC%8B%A4%EC%8A%B5%EC%9A%A9.ipynb#ch0000034?line=7'>8</a>\u001b[0m repeat_print(\u001b[39m3\u001b[39;49m, \u001b[39m\"\u001b[39;49m\u001b[39m안녕\u001b[39;49m\u001b[39m\"\u001b[39;49m)\n",
      "\u001b[1;32mc:\\Users\\jmhong\\HongLabPythonPrivate\\Ch04_인공지능과대화하기\\05_함수_실습용.ipynb Cell 31'\u001b[0m in \u001b[0;36mrepeat_print\u001b[1;34m(message, count)\u001b[0m\n\u001b[0;32m      <a href='vscode-notebook-cell:/c%3A/Users/jmhong/HongLabPythonPrivate/Ch04_%EC%9D%B8%EA%B3%B5%EC%A7%80%EB%8A%A5%EA%B3%BC%EB%8C%80%ED%99%94%ED%95%98%EA%B8%B0/05_%ED%95%A8%EC%88%98_%EC%8B%A4%EC%8A%B5%EC%9A%A9.ipynb#ch0000034?line=0'>1</a>\u001b[0m \u001b[39mdef\u001b[39;00m \u001b[39mrepeat_print\u001b[39m(message, count):\n\u001b[0;32m      <a href='vscode-notebook-cell:/c%3A/Users/jmhong/HongLabPythonPrivate/Ch04_%EC%9D%B8%EA%B3%B5%EC%A7%80%EB%8A%A5%EA%B3%BC%EB%8C%80%ED%99%94%ED%95%98%EA%B8%B0/05_%ED%95%A8%EC%88%98_%EC%8B%A4%EC%8A%B5%EC%9A%A9.ipynb#ch0000034?line=1'>2</a>\u001b[0m     \u001b[39m\"\"\"message를 count번 출력\"\"\"\u001b[39;00m\n\u001b[1;32m----> <a href='vscode-notebook-cell:/c%3A/Users/jmhong/HongLabPythonPrivate/Ch04_%EC%9D%B8%EA%B3%B5%EC%A7%80%EB%8A%A5%EA%B3%BC%EB%8C%80%ED%99%94%ED%95%98%EA%B8%B0/05_%ED%95%A8%EC%88%98_%EC%8B%A4%EC%8A%B5%EC%9A%A9.ipynb#ch0000034?line=3'>4</a>\u001b[0m     \u001b[39mfor\u001b[39;00m _ \u001b[39min\u001b[39;00m \u001b[39mrange\u001b[39;49m(count):\n\u001b[0;32m      <a href='vscode-notebook-cell:/c%3A/Users/jmhong/HongLabPythonPrivate/Ch04_%EC%9D%B8%EA%B3%B5%EC%A7%80%EB%8A%A5%EA%B3%BC%EB%8C%80%ED%99%94%ED%95%98%EA%B8%B0/05_%ED%95%A8%EC%88%98_%EC%8B%A4%EC%8A%B5%EC%9A%A9.ipynb#ch0000034?line=4'>5</a>\u001b[0m         \u001b[39mprint\u001b[39m(message)\n",
      "\u001b[1;31mTypeError\u001b[0m: 'str' object cannot be interpreted as an integer"
     ]
    }
   ],
   "source": [
    "def repeat_print(message, count):\n",
    "    \"\"\"message를 count번 출력\"\"\"\n",
    "\n",
    "    for _ in range(count):\n",
    "        print(message)\n",
    "\n",
    "\n",
    "repeat_print(3, \"안녕\")  # 오류 발생"
   ]
  },
  {
   "cell_type": "code",
   "execution_count": 2,
   "metadata": {},
   "outputs": [
    {
     "ename": "TypeError",
     "evalue": "repeat_print() missing 1 required positional argument: 'count'",
     "output_type": "error",
     "traceback": [
      "\u001b[1;31m---------------------------------------------------------------------------\u001b[0m",
      "\u001b[1;31mTypeError\u001b[0m                                 Traceback (most recent call last)",
      "\u001b[1;32mc:\\Users\\jmhong\\HongLabPythonPrivate\\Ch04_인공지능과대화하기\\05_함수_실습용.ipynb Cell 32'\u001b[0m in \u001b[0;36m<module>\u001b[1;34m\u001b[0m\n\u001b[0;32m      <a href='vscode-notebook-cell:/c%3A/Users/jmhong/HongLabPythonPrivate/Ch04_%EC%9D%B8%EA%B3%B5%EC%A7%80%EB%8A%A5%EA%B3%BC%EB%8C%80%ED%99%94%ED%95%98%EA%B8%B0/05_%ED%95%A8%EC%88%98_%EC%8B%A4%EC%8A%B5%EC%9A%A9.ipynb#ch0000035?line=3'>4</a>\u001b[0m     \u001b[39mfor\u001b[39;00m _ \u001b[39min\u001b[39;00m \u001b[39mrange\u001b[39m(count):\n\u001b[0;32m      <a href='vscode-notebook-cell:/c%3A/Users/jmhong/HongLabPythonPrivate/Ch04_%EC%9D%B8%EA%B3%B5%EC%A7%80%EB%8A%A5%EA%B3%BC%EB%8C%80%ED%99%94%ED%95%98%EA%B8%B0/05_%ED%95%A8%EC%88%98_%EC%8B%A4%EC%8A%B5%EC%9A%A9.ipynb#ch0000035?line=4'>5</a>\u001b[0m         \u001b[39mprint\u001b[39m(message)\n\u001b[1;32m----> <a href='vscode-notebook-cell:/c%3A/Users/jmhong/HongLabPythonPrivate/Ch04_%EC%9D%B8%EA%B3%B5%EC%A7%80%EB%8A%A5%EA%B3%BC%EB%8C%80%ED%99%94%ED%95%98%EA%B8%B0/05_%ED%95%A8%EC%88%98_%EC%8B%A4%EC%8A%B5%EC%9A%A9.ipynb#ch0000035?line=7'>8</a>\u001b[0m repeat_print(\u001b[39m\"\u001b[39;49m\u001b[39m안녕\u001b[39;49m\u001b[39m\"\u001b[39;49m)\n",
      "\u001b[1;31mTypeError\u001b[0m: repeat_print() missing 1 required positional argument: 'count'"
     ]
    }
   ],
   "source": [
    "def repeat_print(message, count):\n",
    "    \"\"\"message를 count번 출력\"\"\"\n",
    "\n",
    "    for _ in range(count):\n",
    "        print(message)\n",
    "\n",
    "\n",
    "repeat_print(\"안녕\")  # 오류 발생"
   ]
  },
  {
   "cell_type": "code",
   "execution_count": 3,
   "metadata": {},
   "outputs": [
    {
     "ename": "TypeError",
     "evalue": "repeat_print() missing 2 required positional arguments: 'message' and 'count'",
     "output_type": "error",
     "traceback": [
      "\u001b[1;31m---------------------------------------------------------------------------\u001b[0m",
      "\u001b[1;31mTypeError\u001b[0m                                 Traceback (most recent call last)",
      "\u001b[1;32mc:\\Users\\jmhong\\HongLabPythonPrivate\\Ch04_인공지능과대화하기\\05_함수_실습용.ipynb Cell 33'\u001b[0m in \u001b[0;36m<module>\u001b[1;34m\u001b[0m\n\u001b[0;32m      <a href='vscode-notebook-cell:/c%3A/Users/jmhong/HongLabPythonPrivate/Ch04_%EC%9D%B8%EA%B3%B5%EC%A7%80%EB%8A%A5%EA%B3%BC%EB%8C%80%ED%99%94%ED%95%98%EA%B8%B0/05_%ED%95%A8%EC%88%98_%EC%8B%A4%EC%8A%B5%EC%9A%A9.ipynb#ch0000037?line=3'>4</a>\u001b[0m     \u001b[39mfor\u001b[39;00m _ \u001b[39min\u001b[39;00m \u001b[39mrange\u001b[39m(count):\n\u001b[0;32m      <a href='vscode-notebook-cell:/c%3A/Users/jmhong/HongLabPythonPrivate/Ch04_%EC%9D%B8%EA%B3%B5%EC%A7%80%EB%8A%A5%EA%B3%BC%EB%8C%80%ED%99%94%ED%95%98%EA%B8%B0/05_%ED%95%A8%EC%88%98_%EC%8B%A4%EC%8A%B5%EC%9A%A9.ipynb#ch0000037?line=4'>5</a>\u001b[0m         \u001b[39mprint\u001b[39m(message)\n\u001b[1;32m----> <a href='vscode-notebook-cell:/c%3A/Users/jmhong/HongLabPythonPrivate/Ch04_%EC%9D%B8%EA%B3%B5%EC%A7%80%EB%8A%A5%EA%B3%BC%EB%8C%80%ED%99%94%ED%95%98%EA%B8%B0/05_%ED%95%A8%EC%88%98_%EC%8B%A4%EC%8A%B5%EC%9A%A9.ipynb#ch0000037?line=7'>8</a>\u001b[0m repeat_print()\n",
      "\u001b[1;31mTypeError\u001b[0m: repeat_print() missing 2 required positional arguments: 'message' and 'count'"
     ]
    }
   ],
   "source": [
    "def repeat_print(message, count):\n",
    "    \"\"\"message를 count번 출력\"\"\"\n",
    "\n",
    "    for _ in range(count):\n",
    "        print(message)\n",
    "\n",
    "\n",
    "repeat_print()  # 오류 발생"
   ]
  },
  {
   "cell_type": "markdown",
   "metadata": {},
   "source": [
    "인수를 넣어줄 때 인수의 순서를 정확히 맞춰줘야 한다는 의미에서 위치 인수(positional argument)라고 부릅니다. \n",
    "\n",
    "인수를 넣어줄 때 어떤 매개변수에 넣어줄지를 명확히 적어주면 순서는 무시할 수 있습니다. 이것을 키워드 인수(keyword argument)라고 부릅니다."
   ]
  },
  {
   "cell_type": "code",
   "execution_count": null,
   "metadata": {},
   "outputs": [],
   "source": [
    "def repeat_print(message, count):\n",
    "    \"\"\"message를 count번 출력\"\"\"\n",
    "\n",
    "    for _ in range(count):\n",
    "        print(message)\n",
    "\n",
    "\n",
    "# 키워드 인수를 사용하면\n",
    "# 매개변수가 정의된 순서와 인수를 넣어주는 순서가 달라도\n",
    "# 오류가 발생하지 않아요\n"
   ]
  },
  {
   "cell_type": "markdown",
   "metadata": {},
   "source": [
    "매개변수의 기본값을 설정해줄 수도 있습니다. 인수를 넣어주지 않으면 기본값을 넣어준 것처럼 처리해주기 때문에 매번 모든 인수를 다 넣어줄 필요가 없어집니다."
   ]
  },
  {
   "cell_type": "code",
   "execution_count": null,
   "metadata": {},
   "outputs": [],
   "source": [
    "def repeat_print(message=\"안녕\", count=1):\n",
    "    \"\"\"message를 count번 출력\"\"\"\n",
    "\n",
    "    for _ in range(count):\n",
    "        print(message)\n",
    "\n"
   ]
  },
  {
   "cell_type": "markdown",
   "metadata": {},
   "source": [
    "위치 인수를 사용할 때 매개변수보다 인수가 많으면 (인수가 부족하면) 왼쪽의 매개변수부터 인수를 넣어줍니다."
   ]
  },
  {
   "cell_type": "code",
   "execution_count": null,
   "metadata": {},
   "outputs": [],
   "source": [
    "def repeat_print(message=\"안녕\", count=1):\n",
    "    \"\"\"message를 count번 출력\"\"\"\n",
    "\n",
    "    for _ in range(count):\n",
    "        print(message)\n",
    "\n"
   ]
  },
  {
   "cell_type": "code",
   "execution_count": null,
   "metadata": {},
   "outputs": [],
   "source": [
    "# 매개 변수의 순서를 바꿨을 경우\n",
    "def repeat_print(count=1, message=\"안녕\"):\n",
    "    \"\"\"message를 count번 출력\"\"\"\n",
    "\n",
    "    for _ in range(count):\n",
    "        print(message)\n",
    "\n",
    "\n"
   ]
  },
  {
   "cell_type": "markdown",
   "metadata": {},
   "source": [
    "모든 매개변수에 기본값을 설정해줄 필요는 없습니다. 그러나 기본값이 없는 매개변수가 왼쪽에 와야 합니다."
   ]
  },
  {
   "cell_type": "code",
   "execution_count": null,
   "metadata": {},
   "outputs": [],
   "source": [
    "def repeat_print(message, count=1):\n",
    "    \"\"\"message를 count번 출력\"\"\"\n",
    "\n",
    "    for _ in range(count):\n",
    "        print(message)"
   ]
  },
  {
   "cell_type": "code",
   "execution_count": 4,
   "metadata": {},
   "outputs": [
    {
     "ename": "SyntaxError",
     "evalue": "non-default argument follows default argument (2104178177.py, line 1)",
     "output_type": "error",
     "traceback": [
      "\u001b[1;36m  Input \u001b[1;32mIn [4]\u001b[1;36m\u001b[0m\n\u001b[1;33m    def repeat_print(message = \"안녕\", count):\u001b[0m\n\u001b[1;37m                                     ^\u001b[0m\n\u001b[1;31mSyntaxError\u001b[0m\u001b[1;31m:\u001b[0m non-default argument follows default argument\n"
     ]
    }
   ],
   "source": [
    "def repeat_print(message = \"안녕\", count):\n",
    "    \"\"\"message를 count번 출력\"\"\"\n",
    "\n",
    "    for _ in range(count):\n",
    "        print(message)"
   ]
  },
  {
   "cell_type": "markdown",
   "metadata": {},
   "source": [
    "### 덕 타이핑([Duck Typing](https://en.wikipedia.org/wiki/Duck_typing))\n",
    "\n",
    "> \"오리(duck)처럼 뒤뚱거리면서 걷고 오리처럼 꽥꽥거린다면 오리다.\"\n",
    "\n",
    "파이썬에서 사용하는 동적 타이핑(dynamic typing)의 성격을 설명할 때 많이 사용되는 문구입니다. 함수의 매개변수 사용과 관련지어본다면 인수의 자료형을 고려하지 않고 일단 넣어서 작동하면 된다라는 의미입니다. 파이썬 프로그래밍을 편리하게 만들어준다는 **장점**이 있습니다. 반대로 의도와 다르게 사용하는 것을 미리 방지하기가 어렵다는 **단점**도 있습니다. "
   ]
  },
  {
   "cell_type": "code",
   "execution_count": 5,
   "metadata": {},
   "outputs": [
    {
     "name": "stdout",
     "output_type": "stream",
     "text": [
      "\n",
      "안\n",
      "안녕\n",
      "안녕?\n",
      "[]\n",
      "['딸기']\n",
      "['딸기', '바나나']\n",
      "['딸기', '바나나', '포도']\n"
     ]
    },
    {
     "ename": "TypeError",
     "evalue": "object of type 'int' has no len()",
     "output_type": "error",
     "traceback": [
      "\u001b[1;31m---------------------------------------------------------------------------\u001b[0m",
      "\u001b[1;31mTypeError\u001b[0m                                 Traceback (most recent call last)",
      "\u001b[1;32mc:\\Users\\jmhong\\HongLabPythonPrivate\\Ch04_인공지능과대화하기\\05_함수_실습용.ipynb Cell 45'\u001b[0m in \u001b[0;36m<module>\u001b[1;34m\u001b[0m\n\u001b[0;32m      <a href='vscode-notebook-cell:/c%3A/Users/jmhong/HongLabPythonPrivate/Ch04_%EC%9D%B8%EA%B3%B5%EC%A7%80%EB%8A%A5%EA%B3%BC%EB%8C%80%ED%99%94%ED%95%98%EA%B8%B0/05_%ED%95%A8%EC%88%98_%EC%8B%A4%EC%8A%B5%EC%9A%A9.ipynb#ch0000051?line=6'>7</a>\u001b[0m print_triangle(\u001b[39m\"\u001b[39m\u001b[39m안녕?\u001b[39m\u001b[39m\"\u001b[39m)\n\u001b[0;32m      <a href='vscode-notebook-cell:/c%3A/Users/jmhong/HongLabPythonPrivate/Ch04_%EC%9D%B8%EA%B3%B5%EC%A7%80%EB%8A%A5%EA%B3%BC%EB%8C%80%ED%99%94%ED%95%98%EA%B8%B0/05_%ED%95%A8%EC%88%98_%EC%8B%A4%EC%8A%B5%EC%9A%A9.ipynb#ch0000051?line=8'>9</a>\u001b[0m print_triangle([\u001b[39m\"\u001b[39m\u001b[39m딸기\u001b[39m\u001b[39m\"\u001b[39m, \u001b[39m\"\u001b[39m\u001b[39m바나나\u001b[39m\u001b[39m\"\u001b[39m, \u001b[39m\"\u001b[39m\u001b[39m포도\u001b[39m\u001b[39m\"\u001b[39m])\n\u001b[1;32m---> <a href='vscode-notebook-cell:/c%3A/Users/jmhong/HongLabPythonPrivate/Ch04_%EC%9D%B8%EA%B3%B5%EC%A7%80%EB%8A%A5%EA%B3%BC%EB%8C%80%ED%99%94%ED%95%98%EA%B8%B0/05_%ED%95%A8%EC%88%98_%EC%8B%A4%EC%8A%B5%EC%9A%A9.ipynb#ch0000051?line=10'>11</a>\u001b[0m print_triangle(\u001b[39m123\u001b[39;49m)\n",
      "\u001b[1;32mc:\\Users\\jmhong\\HongLabPythonPrivate\\Ch04_인공지능과대화하기\\05_함수_실습용.ipynb Cell 45'\u001b[0m in \u001b[0;36mprint_triangle\u001b[1;34m(message)\u001b[0m\n\u001b[0;32m      <a href='vscode-notebook-cell:/c%3A/Users/jmhong/HongLabPythonPrivate/Ch04_%EC%9D%B8%EA%B3%B5%EC%A7%80%EB%8A%A5%EA%B3%BC%EB%8C%80%ED%99%94%ED%95%98%EA%B8%B0/05_%ED%95%A8%EC%88%98_%EC%8B%A4%EC%8A%B5%EC%9A%A9.ipynb#ch0000051?line=1'>2</a>\u001b[0m \u001b[39mdef\u001b[39;00m \u001b[39mprint_triangle\u001b[39m(message):\n\u001b[1;32m----> <a href='vscode-notebook-cell:/c%3A/Users/jmhong/HongLabPythonPrivate/Ch04_%EC%9D%B8%EA%B3%B5%EC%A7%80%EB%8A%A5%EA%B3%BC%EB%8C%80%ED%99%94%ED%95%98%EA%B8%B0/05_%ED%95%A8%EC%88%98_%EC%8B%A4%EC%8A%B5%EC%9A%A9.ipynb#ch0000051?line=2'>3</a>\u001b[0m     \u001b[39mfor\u001b[39;00m i \u001b[39min\u001b[39;00m \u001b[39mrange\u001b[39m(\u001b[39mlen\u001b[39;49m(message) \u001b[39m+\u001b[39m \u001b[39m1\u001b[39m):\n\u001b[0;32m      <a href='vscode-notebook-cell:/c%3A/Users/jmhong/HongLabPythonPrivate/Ch04_%EC%9D%B8%EA%B3%B5%EC%A7%80%EB%8A%A5%EA%B3%BC%EB%8C%80%ED%99%94%ED%95%98%EA%B8%B0/05_%ED%95%A8%EC%88%98_%EC%8B%A4%EC%8A%B5%EC%9A%A9.ipynb#ch0000051?line=3'>4</a>\u001b[0m         \u001b[39mprint\u001b[39m(message[:i])\n",
      "\u001b[1;31mTypeError\u001b[0m: object of type 'int' has no len()"
     ]
    }
   ],
   "source": [
    "# message에 len()과 슬라이싱을 사용하는 객체가 들어오면 정상작동\n",
    "def print_triangle(message):\n",
    "    for i in range(len(message) + 1):\n",
    "        print(message[:i])\n",
    "\n",
    "\n",
    "print_triangle(\"안녕?\")\n",
    "\n",
    "print_triangle([\"딸기\", \"바나나\", \"포도\"])\n",
    "\n",
    "print_triangle(123)  # 오류 발생"
   ]
  },
  {
   "cell_type": "code",
   "execution_count": 6,
   "metadata": {},
   "outputs": [
    {
     "name": "stdout",
     "output_type": "stream",
     "text": [
      "3\n"
     ]
    }
   ],
   "source": [
    "def repeat_print(message=\"안녕\", count=1):\n",
    "    \"\"\"message를 count번 출력\"\"\"\n",
    "\n",
    "    for _ in range(count):\n",
    "        print(message)\n",
    "\n",
    "\n",
    "# 사용자의 의도와 다르게 작동하더라도 미리 확인하기가 어렵습니다.\n",
    "repeat_print(3)"
   ]
  },
  {
   "cell_type": "code",
   "execution_count": 7,
   "metadata": {},
   "outputs": [
    {
     "name": "stdout",
     "output_type": "stream",
     "text": [
      "함수를 잘못 사용하였습니다.\n"
     ]
    }
   ],
   "source": [
    "def repeat_print(message=\"안녕\", count=1):\n",
    "    \"\"\"message를 count번 출력\"\"\"\n",
    "\n",
    "    if isinstance(message, str) and isinstance(count, int):\n",
    "        for _ in range(count):\n",
    "            print(message)\n",
    "    else:\n",
    "        print(\"함수를 잘못 사용하였습니다.\")\n",
    "\n",
    "\n",
    "repeat_print(3)"
   ]
  },
  {
   "cell_type": "markdown",
   "metadata": {},
   "source": [
    "함수를 정의할 때 매개변수와 반환값의 자료형에 대해 힌트를 주는 방식([type hinting](https://docs.python.org/3/library/typing.html))으로 보완할 수 있습니다. 스크립트를 실행해보지 않고 인수의 자료형이 정확한지 확인하고 싶다면 [mypy](http://mypy-lang.org/)와 같은 외부 도구를 사용할 수 있습니다."
   ]
  },
  {
   "cell_type": "code",
   "execution_count": null,
   "metadata": {},
   "outputs": [],
   "source": [
    "def repeat_print(message: str = \"안녕\", count: int = 1) -> None:\n",
    "    \"\"\"message를 count번 출력\"\"\"\n",
    "\n",
    "    for _ in range(count):\n",
    "        print(message)\n",
    "\n"
   ]
  },
  {
   "cell_type": "markdown",
   "metadata": {},
   "source": [
    "### 인수의 개수가 변할 수 있는 경우"
   ]
  },
  {
   "cell_type": "markdown",
   "metadata": {},
   "source": [
    "매개변수 하나에 그때그때 개수가 다른 여러개의 인수를 넣어주고 싶다면 가장 쉽게 떠올릴 수 있는 방법은 컨테이너를 넣어주는 것입니다."
   ]
  },
  {
   "cell_type": "code",
   "execution_count": null,
   "metadata": {},
   "outputs": [],
   "source": [
    "def print_many(my_tuple):\n",
    "\n",
    "    print(my_tuple)\n",
    "\n",
    "# 튜플 하나를 넣어줍니다.\n"
   ]
  },
  {
   "cell_type": "markdown",
   "metadata": {},
   "source": [
    "인수를 무작정 여러개 넣어주면 오류 발생합니다."
   ]
  },
  {
   "cell_type": "code",
   "execution_count": 8,
   "metadata": {},
   "outputs": [
    {
     "ename": "TypeError",
     "evalue": "print_many() takes 1 positional argument but 5 were given",
     "output_type": "error",
     "traceback": [
      "\u001b[1;31m---------------------------------------------------------------------------\u001b[0m",
      "\u001b[1;31mTypeError\u001b[0m                                 Traceback (most recent call last)",
      "\u001b[1;32mc:\\Users\\jmhong\\HongLabPythonPrivate\\Ch04_인공지능과대화하기\\05_함수_실습용.ipynb Cell 54'\u001b[0m in \u001b[0;36m<module>\u001b[1;34m\u001b[0m\n\u001b[0;32m      <a href='vscode-notebook-cell:/c%3A/Users/jmhong/HongLabPythonPrivate/Ch04_%EC%9D%B8%EA%B3%B5%EC%A7%80%EB%8A%A5%EA%B3%BC%EB%8C%80%ED%99%94%ED%95%98%EA%B8%B0/05_%ED%95%A8%EC%88%98_%EC%8B%A4%EC%8A%B5%EC%9A%A9.ipynb#ch0000062?line=0'>1</a>\u001b[0m \u001b[39mdef\u001b[39;00m \u001b[39mprint_many\u001b[39m(my_tuple):\n\u001b[0;32m      <a href='vscode-notebook-cell:/c%3A/Users/jmhong/HongLabPythonPrivate/Ch04_%EC%9D%B8%EA%B3%B5%EC%A7%80%EB%8A%A5%EA%B3%BC%EB%8C%80%ED%99%94%ED%95%98%EA%B8%B0/05_%ED%95%A8%EC%88%98_%EC%8B%A4%EC%8A%B5%EC%9A%A9.ipynb#ch0000062?line=2'>3</a>\u001b[0m     \u001b[39mprint\u001b[39m(my_tuple)\n\u001b[1;32m----> <a href='vscode-notebook-cell:/c%3A/Users/jmhong/HongLabPythonPrivate/Ch04_%EC%9D%B8%EA%B3%B5%EC%A7%80%EB%8A%A5%EA%B3%BC%EB%8C%80%ED%99%94%ED%95%98%EA%B8%B0/05_%ED%95%A8%EC%88%98_%EC%8B%A4%EC%8A%B5%EC%9A%A9.ipynb#ch0000062?line=5'>6</a>\u001b[0m print_many(\u001b[39m1\u001b[39;49m, \u001b[39m2\u001b[39;49m, \u001b[39m3\u001b[39;49m, \u001b[39m4\u001b[39;49m, \u001b[39m5\u001b[39;49m)\n",
      "\u001b[1;31mTypeError\u001b[0m: print_many() takes 1 positional argument but 5 were given"
     ]
    }
   ],
   "source": [
    "def print_many(my_tuple):\n",
    "\n",
    "    print(my_tuple)\n",
    "\n",
    "\n",
    "print_many(1, 2, 3, 4, 5) "
   ]
  },
  {
   "cell_type": "markdown",
   "metadata": {},
   "source": [
    "매개변수 이름 앞에 *를 붙여주면 튜플로 받아옵니다."
   ]
  },
  {
   "cell_type": "code",
   "execution_count": null,
   "metadata": {},
   "outputs": [],
   "source": [
    "def print_many(*arguments):\n",
    "\n",
    "    print(type(arguments))\n",
    "\n",
    "    print(arguments)\n",
    "\n",
    "\n"
   ]
  },
  {
   "cell_type": "markdown",
   "metadata": {},
   "source": [
    "가변 인수 자리에 튜플을 넣으면 튜플을 아이템으로 가진 튜플이 됩니다."
   ]
  },
  {
   "cell_type": "code",
   "execution_count": null,
   "metadata": {},
   "outputs": [],
   "source": [
    "def print_many(*arguments):\n",
    "\n",
    "    print(type(arguments))\n",
    "\n",
    "    print(arguments)\n",
    "\n",
    "\n"
   ]
  },
  {
   "cell_type": "markdown",
   "metadata": {},
   "source": [
    "매개변수 이름 앞에 **를 붙여주면 사전으로 받아옵니다. 이때 콜론이 아니라 등호를 사용한다는 점과 키워드가 자동으로 문자로 변환된다는 점을 봐두세요."
   ]
  },
  {
   "cell_type": "code",
   "execution_count": null,
   "metadata": {},
   "outputs": [],
   "source": [
    "def print_many(**keywords):\n",
    "\n",
    "    print(type(keywords))\n",
    "\n",
    "    for k in keywords:\n",
    "        print(k, \":\", keywords[k])\n",
    "\n",
    "\n"
   ]
  },
  {
   "cell_type": "markdown",
   "metadata": {},
   "source": [
    "사전을 인수로 넣어주는 경우와 비교해보세요."
   ]
  },
  {
   "cell_type": "code",
   "execution_count": null,
   "metadata": {},
   "outputs": [],
   "source": []
  },
  {
   "cell_type": "markdown",
   "metadata": {},
   "source": [
    "### 언패킹(unpacking) 연산자\n",
    "\n",
    "```*``` 연산자를 이터러블 앞에 사용하면 하나의 이터러블 객체로 묶여 있는 여러개의 아이템들을 여러개의 객체로 풀어줍니다.\n"
   ]
  },
  {
   "cell_type": "code",
   "execution_count": null,
   "metadata": {},
   "outputs": [],
   "source": [
    "my_list = [1, 2, 3]\n",
    "\n",
    "print(my_list)  # print([1, 2, 3])\n",
    "\n",
    "print(*my_list)  # print(1, 2, 3)"
   ]
  },
  {
   "cell_type": "code",
   "execution_count": null,
   "metadata": {},
   "outputs": [],
   "source": [
    "my_list1 = [1, 2, 3]\n",
    "my_list2 = [4, 5, 6]\n",
    "\n"
   ]
  },
  {
   "cell_type": "code",
   "execution_count": null,
   "metadata": {},
   "outputs": [],
   "source": [
    "def add_three(a, b, c):\n",
    "\n",
    "    print(\"a = \", a)\n",
    "    print(\"b = \", b)\n",
    "    print(\"c = \", c)\n",
    "\n",
    "    return a + b + c\n",
    "\n",
    "\n"
   ]
  },
  {
   "cell_type": "markdown",
   "metadata": {},
   "source": [
    "```*``` 연산자로 사전을 언팩하면 키만 전달됩니다."
   ]
  },
  {
   "cell_type": "code",
   "execution_count": null,
   "metadata": {},
   "outputs": [],
   "source": [
    "def add_three(a, b, c):\n",
    "\n",
    "    print(\"a = \", a)\n",
    "    print(\"b = \", b)\n",
    "    print(\"c = \", c)\n",
    "\n",
    "    return a + b + c\n",
    "\n",
    "\n"
   ]
  },
  {
   "cell_type": "markdown",
   "metadata": {},
   "source": [
    "사전을 언패킹할 때는 ```**``` 연산자를 사용합니다."
   ]
  },
  {
   "cell_type": "code",
   "execution_count": null,
   "metadata": {},
   "outputs": [],
   "source": [
    "{**{\"a\": 1, \"b\": 2}, \"c\": 2}"
   ]
  },
  {
   "cell_type": "code",
   "execution_count": null,
   "metadata": {},
   "outputs": [],
   "source": [
    "def add_three(a, b, c):\n",
    "\n",
    "    print(\"a = \", a)\n",
    "    print(\"b = \", b)\n",
    "    print(\"c = \", c)\n",
    "\n",
    "    return a + b + c\n",
    "\n",
    "\n"
   ]
  },
  {
   "cell_type": "markdown",
   "metadata": {},
   "source": [
    "### 반환(Return)\n",
    "\n",
    "```return```을 사용하지 않은 함수는 끝까지 실행된 다음에 ```None```을 반환합니다.\n"
   ]
  },
  {
   "cell_type": "code",
   "execution_count": null,
   "metadata": {},
   "outputs": [],
   "source": [
    "def repeat_print(message=\"안녕\", count=1):\n",
    "    \"\"\"message를 count번 출력\"\"\"\n",
    "\n",
    "    for _ in range(count):\n",
    "        print(message)\n",
    "\n",
    "    # return None\n",
    "\n",
    "\n"
   ]
  },
  {
   "cell_type": "markdown",
   "metadata": {},
   "source": [
    "함수 중간에서 ```return```을 할 수도 있습니다."
   ]
  },
  {
   "cell_type": "code",
   "execution_count": null,
   "metadata": {},
   "outputs": [],
   "source": [
    "def compute_tax(my_income):\n",
    "    \"\"\"수입을 받아서 세금을 계산\"\"\"\n",
    "\n",
    "    if my_income <= 12:\n",
    "        return my_income * 0.06\n",
    "    elif my_income <= 46:\n",
    "        return my_income * 0.15 - 1.08\n",
    "    else:\n",
    "        return my_income * 0.24 - 5.22\n",
    "\n",
    "\n",
    "my_income = float(input(\"연수입을 입력해주세요:\"))\n",
    "\n",
    "tax = compute_tax(my_income)\n",
    "\n",
    "print(\"내야할 세금은\", tax, \"입니다.\")"
   ]
  },
  {
   "cell_type": "markdown",
   "metadata": {},
   "source": [
    "반환값이 여러 개일 경우에는 내부적으로 튜플을 사용합니다."
   ]
  },
  {
   "cell_type": "code",
   "execution_count": null,
   "metadata": {},
   "outputs": [],
   "source": [
    "import random\n",
    "\n",
    "\n",
    "def two_random_numbers():\n",
    "    return random.random(), random.random()\n",
    "    # return (random.random(), random.random())\n",
    "    # return [random.random(), random.random()] # 원한다면 리스트 사용도 가능\n",
    "\n",
    "\n"
   ]
  },
  {
   "cell_type": "markdown",
   "metadata": {},
   "source": [
    "### 객체 참조에 의한 호출 ([Call by Object Reference](https://docs.python.org/3/tutorial/controlflow.html#id1))"
   ]
  },
  {
   "cell_type": "markdown",
   "metadata": {},
   "source": [
    "파이썬에서는 함수를 호출할 때 인수로 객체의 참조를 넘겨줍니다. 즉, 매개변수는 인수로 들어온 객체를 이름만 바꿔서 계속 사용하는 것입니다. 이미 만들어져 있는 객체를 굳이 새로 만들 필요는 없겠지요.\n",
    "\n",
    "매개변수가 불변 객체일 경우에는 함수 내부에서 변경을 하더라도 객체를 새로 만들기 때문에 인수로 넣어줬던 객체에 영향을 주지 않습니다."
   ]
  },
  {
   "cell_type": "code",
   "execution_count": null,
   "metadata": {},
   "outputs": [],
   "source": [
    "\n"
   ]
  },
  {
   "cell_type": "markdown",
   "metadata": {},
   "source": [
    "인수로 넣어준 객체가 가변 객체일 경우에는 함수 내부에서 매개변수를 통해서 변경을 할 수 있습니다."
   ]
  },
  {
   "cell_type": "code",
   "execution_count": null,
   "metadata": {},
   "outputs": [],
   "source": []
  },
  {
   "cell_type": "markdown",
   "metadata": {},
   "source": [
    "함수 호출 전에 함수 밖에서 만들어진 가변 객체를 함수 안에서 변경하는 것은 프로그래머가 예상치 못한 문제를 일으킬 수도 있습니다. 그래서 형식적으로 ```return```을 추가하여 함수 내부에서 뭔가 바꾼다는 것을 표시해줄 수도 있습니다."
   ]
  },
  {
   "cell_type": "code",
   "execution_count": null,
   "metadata": {},
   "outputs": [],
   "source": []
  },
  {
   "cell_type": "markdown",
   "metadata": {},
   "source": [
    "함수를 호출할 때 리스트를 복사해서 사본을 넣어줄 수도 있습니다. 단, ```copy()``` 메써드는 아이템들까지 새로 만들어주지는 않습니다. 그래서 얕은 복사(shallow copy)라고 부릅니다."
   ]
  },
  {
   "cell_type": "code",
   "execution_count": null,
   "metadata": {},
   "outputs": [],
   "source": []
  },
  {
   "cell_type": "markdown",
   "metadata": {},
   "source": [
    "깊은 복사(Deep copy)를 이용하면 아이템까지도 사본을 만들 수 있습니다."
   ]
  },
  {
   "cell_type": "code",
   "execution_count": null,
   "metadata": {},
   "outputs": [],
   "source": []
  },
  {
   "cell_type": "markdown",
   "metadata": {},
   "source": [
    "복사하는 작업을 함수 안에서 할 수도 있습니다."
   ]
  },
  {
   "cell_type": "code",
   "execution_count": null,
   "metadata": {},
   "outputs": [],
   "source": []
  },
  {
   "cell_type": "markdown",
   "metadata": {},
   "source": [
    "함수가 반환을 할 때도 객체의 참조를 반환합니다. 새로 객체를 만드는 것 보다 효율적이겠지요."
   ]
  },
  {
   "cell_type": "code",
   "execution_count": null,
   "metadata": {},
   "outputs": [],
   "source": []
  },
  {
   "cell_type": "markdown",
   "metadata": {},
   "source": [
    "가변 기본값을 사용할 때는 주의가 필요합니다."
   ]
  },
  {
   "cell_type": "code",
   "execution_count": null,
   "metadata": {},
   "outputs": [],
   "source": [
    "# [주의] 가변 객체를 인수로 넣어줄 때\n",
    "# 기본값의 객체가 계속 재사용됩니다.\n"
   ]
  },
  {
   "cell_type": "markdown",
   "metadata": {},
   "source": [
    "[보충] 주피터 노트북에서는 위의 셀을 실행시키면서 만들어놓은 변수들을 아래 셀에서 계속 사용할 수가 있습니다. 커널을 재시작(restart) 시키면 위 셀의 실행 흔적을 없앨 수 있습니다. 다만, 출력 결과는 유지가 되기 때문에 지우고 싶다면 따로 지워야 합니다."
   ]
  },
  {
   "cell_type": "code",
   "execution_count": null,
   "metadata": {},
   "outputs": [],
   "source": [
    "x = 100\n",
    "\n",
    "print(x)"
   ]
  },
  {
   "cell_type": "code",
   "execution_count": null,
   "metadata": {},
   "outputs": [],
   "source": [
    "print(x)"
   ]
  },
  {
   "cell_type": "markdown",
   "metadata": {},
   "source": [
    "### 변수의 범위(Scope)\n",
    "\n"
   ]
  },
  {
   "cell_type": "markdown",
   "metadata": {},
   "source": [
    "함수 안에서 정의된 변수를 함수 지역 안에서만 사용될 수 있다는 의미로 지역 변수(local variable)라고 부릅니다."
   ]
  },
  {
   "cell_type": "code",
   "execution_count": null,
   "metadata": {},
   "outputs": [],
   "source": []
  },
  {
   "cell_type": "markdown",
   "metadata": {},
   "source": [
    "함수 밖에서는 지역 변수를 사용할 수 없습니다."
   ]
  },
  {
   "cell_type": "code",
   "execution_count": null,
   "metadata": {},
   "outputs": [],
   "source": [
    "# 커널 리스타트 후 실행\n"
   ]
  },
  {
   "cell_type": "markdown",
   "metadata": {},
   "source": [
    "서로 다른 함수 안에서 같은 이름의 지역 변수를 사용할 수 있습니다. 우리가 봤을 때는 이름이 같아서 같은 변수인가 혼동할 수도 있지만 서로 다른 함수 안에서 정의되었기 때문에 파이썬 입장에서는 다른 변수입니다."
   ]
  },
  {
   "cell_type": "code",
   "execution_count": null,
   "metadata": {},
   "outputs": [],
   "source": []
  },
  {
   "cell_type": "markdown",
   "metadata": {},
   "source": [
    "함수 밖에서 정의된 변수를 어디서든 사용할 수 있다는 의미로 전역 변수(global variable)라고 부릅니다."
   ]
  },
  {
   "cell_type": "code",
   "execution_count": null,
   "metadata": {},
   "outputs": [],
   "source": [
    "y = 7 # 전역(global) 변수\n",
    "\n",
    "\n"
   ]
  },
  {
   "cell_type": "markdown",
   "metadata": {},
   "source": [
    "단, 함수가 실행되는 시점에서 정의되어 있는 전역 변수만 사용할 수 있습니다."
   ]
  },
  {
   "cell_type": "code",
   "execution_count": 1,
   "metadata": {},
   "outputs": [
    {
     "ename": "NameError",
     "evalue": "name 'y' is not defined",
     "output_type": "error",
     "traceback": [
      "\u001b[1;31m---------------------------------------------------------------------------\u001b[0m",
      "\u001b[1;31mNameError\u001b[0m                                 Traceback (most recent call last)",
      "\u001b[1;32mc:\\Users\\jmhong\\HongLabPythonPrivate\\Ch04_인공지능과대화하기\\05_함수_실습용.ipynb Cell 108'\u001b[0m in \u001b[0;36m<module>\u001b[1;34m\u001b[0m\n\u001b[0;32m      <a href='vscode-notebook-cell:/c%3A/Users/jmhong/HongLabPythonPrivate/Ch04_%EC%9D%B8%EA%B3%B5%EC%A7%80%EB%8A%A5%EA%B3%BC%EB%8C%80%ED%99%94%ED%95%98%EA%B8%B0/05_%ED%95%A8%EC%88%98_%EC%8B%A4%EC%8A%B5%EC%9A%A9.ipynb#ch0000116?line=2'>3</a>\u001b[0m \u001b[39mdef\u001b[39;00m \u001b[39mmy_func\u001b[39m():\n\u001b[0;32m      <a href='vscode-notebook-cell:/c%3A/Users/jmhong/HongLabPythonPrivate/Ch04_%EC%9D%B8%EA%B3%B5%EC%A7%80%EB%8A%A5%EA%B3%BC%EB%8C%80%ED%99%94%ED%95%98%EA%B8%B0/05_%ED%95%A8%EC%88%98_%EC%8B%A4%EC%8A%B5%EC%9A%A9.ipynb#ch0000116?line=3'>4</a>\u001b[0m     \u001b[39mprint\u001b[39m(y) \u001b[39m# 오류 발생\u001b[39;00m\n\u001b[1;32m----> <a href='vscode-notebook-cell:/c%3A/Users/jmhong/HongLabPythonPrivate/Ch04_%EC%9D%B8%EA%B3%B5%EC%A7%80%EB%8A%A5%EA%B3%BC%EB%8C%80%ED%99%94%ED%95%98%EA%B8%B0/05_%ED%95%A8%EC%88%98_%EC%8B%A4%EC%8A%B5%EC%9A%A9.ipynb#ch0000116?line=5'>6</a>\u001b[0m my_func()\n\u001b[0;32m      <a href='vscode-notebook-cell:/c%3A/Users/jmhong/HongLabPythonPrivate/Ch04_%EC%9D%B8%EA%B3%B5%EC%A7%80%EB%8A%A5%EA%B3%BC%EB%8C%80%ED%99%94%ED%95%98%EA%B8%B0/05_%ED%95%A8%EC%88%98_%EC%8B%A4%EC%8A%B5%EC%9A%A9.ipynb#ch0000116?line=7'>8</a>\u001b[0m y \u001b[39m=\u001b[39m \u001b[39m100\u001b[39m\n",
      "\u001b[1;32mc:\\Users\\jmhong\\HongLabPythonPrivate\\Ch04_인공지능과대화하기\\05_함수_실습용.ipynb Cell 108'\u001b[0m in \u001b[0;36mmy_func\u001b[1;34m()\u001b[0m\n\u001b[0;32m      <a href='vscode-notebook-cell:/c%3A/Users/jmhong/HongLabPythonPrivate/Ch04_%EC%9D%B8%EA%B3%B5%EC%A7%80%EB%8A%A5%EA%B3%BC%EB%8C%80%ED%99%94%ED%95%98%EA%B8%B0/05_%ED%95%A8%EC%88%98_%EC%8B%A4%EC%8A%B5%EC%9A%A9.ipynb#ch0000116?line=2'>3</a>\u001b[0m \u001b[39mdef\u001b[39;00m \u001b[39mmy_func\u001b[39m():\n\u001b[1;32m----> <a href='vscode-notebook-cell:/c%3A/Users/jmhong/HongLabPythonPrivate/Ch04_%EC%9D%B8%EA%B3%B5%EC%A7%80%EB%8A%A5%EA%B3%BC%EB%8C%80%ED%99%94%ED%95%98%EA%B8%B0/05_%ED%95%A8%EC%88%98_%EC%8B%A4%EC%8A%B5%EC%9A%A9.ipynb#ch0000116?line=3'>4</a>\u001b[0m     \u001b[39mprint\u001b[39m(y)\n",
      "\u001b[1;31mNameError\u001b[0m: name 'y' is not defined"
     ]
    }
   ],
   "source": [
    "# 커널 리스타트 후 실행\n",
    "\n",
    "def my_func():\n",
    "    print(y) # 오류 발생\n",
    "\n",
    "my_func()\n",
    "\n",
    "y = 100"
   ]
  },
  {
   "cell_type": "code",
   "execution_count": 1,
   "metadata": {},
   "outputs": [
    {
     "name": "stdout",
     "output_type": "stream",
     "text": [
      "100\n"
     ]
    }
   ],
   "source": [
    "# 커널 리스타트 후 실행\n",
    "\n",
    "def my_func():\n",
    "    print(y)\n",
    "\n",
    "y = 100\n",
    "\n",
    "my_func()"
   ]
  },
  {
   "cell_type": "markdown",
   "metadata": {},
   "source": [
    "전역 변수와 지역 변수의 이름이 다를 경우에는 함수 안에서는 둘 다 사용할 수 있습니다."
   ]
  },
  {
   "cell_type": "code",
   "execution_count": null,
   "metadata": {},
   "outputs": [],
   "source": [
    "y = 7 # 전역(global) 변수\n",
    "\n"
   ]
  },
  {
   "cell_type": "markdown",
   "metadata": {},
   "source": [
    "전역 변수와 이름이 같은 지역 변수가 있을 때는 함수 안에서는 지역 변수만 사용합니다. 함수 밖에서는 지역 변수를 사용할 수 없으니까 전역 변수를 사용합니다."
   ]
  },
  {
   "cell_type": "code",
   "execution_count": null,
   "metadata": {},
   "outputs": [],
   "source": [
    "x = 1\n",
    "\n"
   ]
  },
  {
   "cell_type": "markdown",
   "metadata": {},
   "source": [
    "함수 안에서 전역 변수와 이름이 같은 지역 변수가 아직 정의되지 않았다 하더라도 만들어질 예정이라면 파이썬이 전역 변수 사용을 막아줍니다. "
   ]
  },
  {
   "cell_type": "code",
   "execution_count": 2,
   "metadata": {},
   "outputs": [
    {
     "ename": "UnboundLocalError",
     "evalue": "local variable 'x' referenced before assignment",
     "output_type": "error",
     "traceback": [
      "\u001b[1;31m---------------------------------------------------------------------------\u001b[0m",
      "\u001b[1;31mUnboundLocalError\u001b[0m                         Traceback (most recent call last)",
      "\u001b[1;32mc:\\Users\\jmhong\\HongLabPythonPrivate\\Ch04_인공지능과대화하기\\05_함수_실습용.ipynb Cell 115'\u001b[0m in \u001b[0;36m<module>\u001b[1;34m\u001b[0m\n\u001b[0;32m      <a href='vscode-notebook-cell:/c%3A/Users/jmhong/HongLabPythonPrivate/Ch04_%EC%9D%B8%EA%B3%B5%EC%A7%80%EB%8A%A5%EA%B3%BC%EB%8C%80%ED%99%94%ED%95%98%EA%B8%B0/05_%ED%95%A8%EC%88%98_%EC%8B%A4%EC%8A%B5%EC%9A%A9.ipynb#ch0000123?line=5'>6</a>\u001b[0m     \u001b[39mprint\u001b[39m(x)  \u001b[39m# 오류 발생\u001b[39;00m\n\u001b[0;32m      <a href='vscode-notebook-cell:/c%3A/Users/jmhong/HongLabPythonPrivate/Ch04_%EC%9D%B8%EA%B3%B5%EC%A7%80%EB%8A%A5%EA%B3%BC%EB%8C%80%ED%99%94%ED%95%98%EA%B8%B0/05_%ED%95%A8%EC%88%98_%EC%8B%A4%EC%8A%B5%EC%9A%A9.ipynb#ch0000123?line=7'>8</a>\u001b[0m     x \u001b[39m=\u001b[39m \u001b[39m10\u001b[39m\n\u001b[1;32m---> <a href='vscode-notebook-cell:/c%3A/Users/jmhong/HongLabPythonPrivate/Ch04_%EC%9D%B8%EA%B3%B5%EC%A7%80%EB%8A%A5%EA%B3%BC%EB%8C%80%ED%99%94%ED%95%98%EA%B8%B0/05_%ED%95%A8%EC%88%98_%EC%8B%A4%EC%8A%B5%EC%9A%A9.ipynb#ch0000123?line=10'>11</a>\u001b[0m my_func()\n\u001b[0;32m     <a href='vscode-notebook-cell:/c%3A/Users/jmhong/HongLabPythonPrivate/Ch04_%EC%9D%B8%EA%B3%B5%EC%A7%80%EB%8A%A5%EA%B3%BC%EB%8C%80%ED%99%94%ED%95%98%EA%B8%B0/05_%ED%95%A8%EC%88%98_%EC%8B%A4%EC%8A%B5%EC%9A%A9.ipynb#ch0000123?line=12'>13</a>\u001b[0m \u001b[39mprint\u001b[39m(x)\n",
      "\u001b[1;32mc:\\Users\\jmhong\\HongLabPythonPrivate\\Ch04_인공지능과대화하기\\05_함수_실습용.ipynb Cell 115'\u001b[0m in \u001b[0;36mmy_func\u001b[1;34m()\u001b[0m\n\u001b[0;32m      <a href='vscode-notebook-cell:/c%3A/Users/jmhong/HongLabPythonPrivate/Ch04_%EC%9D%B8%EA%B3%B5%EC%A7%80%EB%8A%A5%EA%B3%BC%EB%8C%80%ED%99%94%ED%95%98%EA%B8%B0/05_%ED%95%A8%EC%88%98_%EC%8B%A4%EC%8A%B5%EC%9A%A9.ipynb#ch0000123?line=3'>4</a>\u001b[0m \u001b[39mdef\u001b[39;00m \u001b[39mmy_func\u001b[39m():\n\u001b[1;32m----> <a href='vscode-notebook-cell:/c%3A/Users/jmhong/HongLabPythonPrivate/Ch04_%EC%9D%B8%EA%B3%B5%EC%A7%80%EB%8A%A5%EA%B3%BC%EB%8C%80%ED%99%94%ED%95%98%EA%B8%B0/05_%ED%95%A8%EC%88%98_%EC%8B%A4%EC%8A%B5%EC%9A%A9.ipynb#ch0000123?line=5'>6</a>\u001b[0m     \u001b[39mprint\u001b[39m(x)  \u001b[39m# 오류 발생\u001b[39;00m\n\u001b[0;32m      <a href='vscode-notebook-cell:/c%3A/Users/jmhong/HongLabPythonPrivate/Ch04_%EC%9D%B8%EA%B3%B5%EC%A7%80%EB%8A%A5%EA%B3%BC%EB%8C%80%ED%99%94%ED%95%98%EA%B8%B0/05_%ED%95%A8%EC%88%98_%EC%8B%A4%EC%8A%B5%EC%9A%A9.ipynb#ch0000123?line=7'>8</a>\u001b[0m     x \u001b[39m=\u001b[39m \u001b[39m10\u001b[39m\n",
      "\u001b[1;31mUnboundLocalError\u001b[0m: local variable 'x' referenced before assignment"
     ]
    }
   ],
   "source": [
    "x = 1\n",
    "\n",
    "\n",
    "def my_func():\n",
    "\n",
    "    print(x)  # 오류 발생\n",
    "\n",
    "    x = 10\n",
    "\n",
    "\n",
    "my_func()\n",
    "\n",
    "print(x)"
   ]
  },
  {
   "cell_type": "markdown",
   "metadata": {},
   "source": [
    "만약 함수 안에서 전역 변수를 지역 변수처럼 사용하고 싶다면 ```global``` 키워드를 사용할 수 있습니다."
   ]
  },
  {
   "cell_type": "code",
   "execution_count": null,
   "metadata": {},
   "outputs": [],
   "source": []
  },
  {
   "cell_type": "markdown",
   "metadata": {},
   "source": [
    "가변 객체에 대한 전역 변수는 ```global``` 없이도 함수 안에서 변경을 할 수 있습니다."
   ]
  },
  {
   "cell_type": "code",
   "execution_count": null,
   "metadata": {},
   "outputs": [],
   "source": []
  },
  {
   "cell_type": "markdown",
   "metadata": {},
   "source": [
    "그러나 새로 만들면 지역 변수입니다."
   ]
  },
  {
   "cell_type": "code",
   "execution_count": null,
   "metadata": {},
   "outputs": [],
   "source": []
  },
  {
   "cell_type": "markdown",
   "metadata": {},
   "source": [
    "```global```을 사용하면 새로 만들 수도 있습니다."
   ]
  },
  {
   "cell_type": "code",
   "execution_count": null,
   "metadata": {},
   "outputs": [],
   "source": []
  },
  {
   "cell_type": "markdown",
   "metadata": {},
   "source": [
    "\n",
    "함수를 호출할 때 프로그램의 흐름에 따라 객체의 이름을 담고 있는 프레임(frame)이 어떻게 달라지는지  [가시화 도구](https://pythontutor.com/visualize.html#mode=edit)를 사용해서 확인해봅시다."
   ]
  },
  {
   "cell_type": "markdown",
   "metadata": {},
   "source": [
    "[참고] 파이썬이 이름을 찾는 우선순위는 LEGB를 따릅니다. 일단은 지역(local)과 전역(global)만 구분을 잘 하시면 됩니다.\n",
    "1. Local scope\n",
    "2. Enclosing scope\n",
    "3. Global scope\n",
    "4. Built-in scope\n"
   ]
  },
  {
   "cell_type": "code",
   "execution_count": null,
   "metadata": {},
   "outputs": [],
   "source": []
  },
  {
   "cell_type": "code",
   "execution_count": null,
   "metadata": {},
   "outputs": [],
   "source": []
  },
  {
   "cell_type": "markdown",
   "metadata": {},
   "source": [
    "### 재귀 호출(recursion)\n",
    "\n",
    "함수 안에서 다른 함수를 호출할 수 있듯이 자기 자신을 호출할 수도 있습니다.\n",
    "\n"
   ]
  },
  {
   "cell_type": "code",
   "execution_count": null,
   "metadata": {},
   "outputs": [],
   "source": []
  },
  {
   "cell_type": "markdown",
   "metadata": {},
   "source": [
    "어떤 함수가 그 안에서 자기 자신을 호출한다면?"
   ]
  },
  {
   "cell_type": "code",
   "execution_count": null,
   "metadata": {},
   "outputs": [],
   "source": []
  },
  {
   "cell_type": "code",
   "execution_count": null,
   "metadata": {},
   "outputs": [],
   "source": []
  },
  {
   "cell_type": "markdown",
   "metadata": {},
   "source": [
    "재귀 호출을 중단하는 종료 조건이 필요"
   ]
  },
  {
   "cell_type": "code",
   "execution_count": null,
   "metadata": {},
   "outputs": [],
   "source": []
  },
  {
   "cell_type": "markdown",
   "metadata": {},
   "source": [
    "##### [예시] [팩토리얼](https://en.wikipedia.org/wiki/Factorial)\n",
    "\n",
    "$n$의 팩토리얼을 계산해주는 함수를 $f(n)$이라고 한다면\n",
    "- $n = 0$ 인 경우에는 $f(n) = 1$\n",
    "- $n \\geq 1$ 인 경우에는 $f(n) = n \\times f(n - 1)$\n",
    "\n",
    "예상 출력  \n",
    "```1 1 2 6 24 120 720 5040 40320 362880 3628800```"
   ]
  },
  {
   "cell_type": "code",
   "execution_count": null,
   "metadata": {},
   "outputs": [],
   "source": [
    "def factorial(n):\n",
    "    pass\n",
    "\n",
    "\n",
    "for n in range(0, 11):\n",
    "    print(factorial(n), end=\" \")"
   ]
  },
  {
   "cell_type": "markdown",
   "metadata": {},
   "source": [
    "##### [실습] [피보나치 수열](https://en.wikipedia.org/wiki/Fibonacci_number)"
   ]
  },
  {
   "cell_type": "markdown",
   "metadata": {},
   "source": [
    "$n$번째 피보나치 수를 계산해주는 함수를 $f(n)$이라고 한다면\n",
    "- $n = 0$ 인 경우에는 $f(n) = 0$\n",
    "- $n = 1$ 인 경우에는 $f(n) = 1$\n",
    "- $n > 1$ 인 경우에는 $f(n) = f(n-1) + f(n-2)$\n",
    "\n",
    "예상 출력  \n",
    "```0 1 1 2 3 5 8 13 21 34 55```"
   ]
  },
  {
   "cell_type": "code",
   "execution_count": null,
   "metadata": {},
   "outputs": [],
   "source": [
    "def fibonacci(n):\n",
    "    pass\n",
    "\n",
    "\n",
    "for n in range(0, 11):\n",
    "    print(fibonacci(n), end=\" \")"
   ]
  },
  {
   "cell_type": "markdown",
   "metadata": {},
   "source": [
    "### 함수 객체 (Function Object)\n",
    "\n",
    "파이썬에서는 함수도 객체이기 때문에 프로그램의 구조를 유연하게 만들고 프로그래밍의 효율성을 높일 수 있습니다. 초보때는 아리송하거나 실수하는 경우도 많은 문법이지만 여러가지 프로그램을 만들면서 필요성이 자연스럽게 떠오르는 순간을 만나면 프로그래밍 효율성이 확 올라갑니다.\n",
    "\n",
    "- 함수를 변수로 저장했다가 나중에 사용할 수 있습니다."
   ]
  },
  {
   "cell_type": "code",
   "execution_count": null,
   "metadata": {},
   "outputs": [],
   "source": [
    "from datetime import datetime\n",
    "\n",
    "\n",
    "def print_date():\n",
    "    today = datetime.today()\n",
    "    print(f\"오늘은 {today.year}년 {today.month}월 {today.day}일 입니다.\")\n"
   ]
  },
  {
   "cell_type": "markdown",
   "metadata": {},
   "source": [
    "- 함수를 컨테이너 안에 넣을 수도 있다는 얘기겠지요."
   ]
  },
  {
   "cell_type": "markdown",
   "metadata": {},
   "source": [
    "[예제] 입력받은 문자열이 \"날짜\"이면 날짜를 출력하고 \"시간\"이면 시간을 출력하는 프로그램을 함수 객체를 사전에 넣어서 만들어보세요."
   ]
  },
  {
   "cell_type": "code",
   "execution_count": null,
   "metadata": {},
   "outputs": [],
   "source": [
    "from datetime import datetime\n",
    "\n",
    "\n",
    "def print_date():\n",
    "    today = datetime.today()\n",
    "    print(f\"오늘은 {today.year}년 {today.month}월 {today.day}일 입니다.\")\n",
    "\n",
    "\n",
    "def print_time():\n",
    "    current_time = datetime.now()\n",
    "    print(f\"지금은 {current_time.hour}시 {current_time.minute}분 입니다.\")\n",
    "\n"
   ]
  },
  {
   "cell_type": "markdown",
   "metadata": {},
   "source": [
    "- 함수를 다른 함수에 인수로 넣어줄 수 있습니다."
   ]
  },
  {
   "cell_type": "code",
   "execution_count": null,
   "metadata": {},
   "outputs": [],
   "source": [
    "from datetime import datetime\n",
    "\n",
    "\n",
    "def print_date():\n",
    "    today = datetime.today()\n",
    "    print(f\"오늘은 {today.year}년 {today.month}월 {today.day}일 입니다.\")\n",
    "\n",
    "\n",
    "def print_time():\n",
    "    current_time = datetime.now()\n",
    "    print(f\"지금은 {current_time.hour}시 {current_time.minute}분 입니다.\")\n",
    "\n"
   ]
  },
  {
   "cell_type": "markdown",
   "metadata": {},
   "source": [
    "- 함수가 함수를 반환할 수도 있습니다."
   ]
  },
  {
   "cell_type": "code",
   "execution_count": null,
   "metadata": {},
   "outputs": [],
   "source": []
  },
  {
   "cell_type": "markdown",
   "metadata": {},
   "source": [
    "### 이름이 없는 함수\n",
    "\n",
    "문장 하나로 이루어진 짧고 간단한 함수는 이름도 붙여주지 않고 간결하게 사용할 수 있습니다. 이름이 없는 함수를 [람다식(lambda expression)](https://docs.python.org/3/tutorial/controlflow.html#lambda-expressions) 또는 람다 함수(lambda function)이라고 부릅니다. 람다라는 이름은 [람다 대수(lambda calculus)](https://ko.wikipedia.org/wiki/%EB%9E%8C%EB%8B%A4_%EB%8C%80%EC%88%98)로부터 나왔습니다.\n",
    "\n",
    "람다식은 ```lambda``` 키워드를 사용합니다. 예를 들어서 x와 y를 입력받아서 합을 반환하는 함수는 아래와 같이 만들 수 있습니다.\n",
    "\n",
    "```\n",
    "lambda x, y: x + y\n",
    "```\n"
   ]
  },
  {
   "cell_type": "code",
   "execution_count": null,
   "metadata": {},
   "outputs": [],
   "source": [
    "# 함수 객체처럼 변수를 통해서 사용\n",
    "my_func = lambda x, y: x + y\n",
    "\n",
    "my_func(1, 2)"
   ]
  },
  {
   "cell_type": "code",
   "execution_count": null,
   "metadata": {},
   "outputs": [],
   "source": [
    "# 다른 함수에 인수로 넣어서 사용할 수도 있습니다.\n",
    "def do_something(my_func):\n",
    "    my_func()\n"
   ]
  },
  {
   "cell_type": "markdown",
   "metadata": {},
   "source": [
    "람다는 ```map()```, ```filter()``` 등의 내장함수들과 함께 사용하기에 편리합니다.\n",
    "\n",
    "```map()``` 함수는 주어진 함수에 이터러블의 각 아이템을 적용합니다. "
   ]
  },
  {
   "cell_type": "code",
   "execution_count": null,
   "metadata": {},
   "outputs": [],
   "source": [
    "add_100 = lambda x: x + 100\n",
    "\n",
    "# map의 첫 인수로 주어진 함수를\n",
    "# 두 번째 인수로 주어진 이터러블의 각 아이템에\n",
    "# 차례로 적용합니다.\n",
    "# map()의 결과를 어떤 컨테이너에 담을지 지정해줘야 합니다.\n"
   ]
  },
  {
   "cell_type": "code",
   "execution_count": null,
   "metadata": {},
   "outputs": [],
   "source": [
    "# 간단한 함수를 사용할 때는\n",
    "# 람다로 더 간결하게 사용합니다.\n"
   ]
  },
  {
   "cell_type": "code",
   "execution_count": null,
   "metadata": {},
   "outputs": [],
   "source": [
    "# 매개변수가 여러개인 함수를 적용할 때는 \n",
    "# 이터러블도 여러개를 넣어줘야 합니다.\n"
   ]
  },
  {
   "cell_type": "markdown",
   "metadata": {},
   "source": [
    "```filter()``` 함수는 주어진 조건에 따라 이터러블의 요소들을 걸러줍니다."
   ]
  },
  {
   "cell_type": "code",
   "execution_count": null,
   "metadata": {},
   "outputs": [],
   "source": []
  },
  {
   "cell_type": "markdown",
   "metadata": {},
   "source": [
    "```reduce()``` 함수는 주어진 함수를 시퀀스에 반복적으로 적용하여 하나의 값으로 만들어줍니다."
   ]
  },
  {
   "cell_type": "code",
   "execution_count": null,
   "metadata": {},
   "outputs": [],
   "source": [
    "from functools import reduce\n",
    "\n"
   ]
  },
  {
   "cell_type": "markdown",
   "metadata": {},
   "source": [
    "```sorted()``` 함수에 정렬 기준을 지정해줄 때도 람다를 사용할 수 있습니다."
   ]
  },
  {
   "cell_type": "code",
   "execution_count": null,
   "metadata": {},
   "outputs": [],
   "source": [
    "my_dict = {\"apple\": 3, \"Alpha\": 100, \"Drive\": 10, \"data\": 33, \"Billy\": 50}\n",
    "\n",
    "# 사전을 정렬할 때 키를 기준으로 정렬\n"
   ]
  },
  {
   "cell_type": "code",
   "execution_count": null,
   "metadata": {},
   "outputs": [],
   "source": [
    "my_dict = {\"apple\": 3, \"Alpha\": 100, \"Drive\": 10, \"data\": 33, \"Billy\": 50}\n",
    "\n",
    "# 정렬 기준(key)을 아이템의 값(item[1])을 사용하도록 변경\n",
    "# 용어 혼동 주의: 정렬 기준이란 의미의 key와 사전에서 키:값 쌍에서의 key\n"
   ]
  },
  {
   "cell_type": "markdown",
   "metadata": {},
   "source": [
    "##### [실습] 자리수 합치기\n",
    "\n",
    "앞에서 풀어봤던 문제입니다. 이번에는 ```reduce()```와 재귀함수를 사용해서 풀어보겠습니다. 이번 문제는 코드의 품질을 향상시킨다기 보다는 다양한 문법을 활용해보는 것입니다.\n",
    "\n",
    "주어진 자연수의 모든 자리수의 숫자들을 계속 합쳐서 마지막으로 숫자가 하나만 남을때까지 반복합니다.\n",
    "\n",
    "예를 들어서 입력받은 숫자가 1357 이라면 \n",
    "\n",
    "```\n",
    "1357\n",
    "16\n",
    "7\n",
    "```\n",
    "\n",
    "과정을 거쳐서 7이 됩니다. 이때 ```1 + 3 + 5 + 7 = 16``` 이고 ```1 + 6 = 7``` 입니다."
   ]
  },
  {
   "cell_type": "markdown",
   "metadata": {},
   "source": [
    "**스텝1** 앞에서 사용했더니 ```while```루프 대신에 재귀 호출을 사용해봅시다.\n",
    "\n",
    "[주의] 위에서 전역 ```sum()```을 정의했다면 커널을 Restart해서 built-in ```sum()```을 사용하세요."
   ]
  },
  {
   "cell_type": "code",
   "execution_count": null,
   "metadata": {},
   "outputs": [],
   "source": [
    "# while루프를 사용한 풀이\n",
    "num = 13567\n",
    "\n",
    "while len(str(num)) > 1:\n",
    "    print(num)\n",
    "    num = sum([int(x) for x in str(num)])\n",
    "else:\n",
    "    print(num)"
   ]
  },
  {
   "cell_type": "code",
   "execution_count": null,
   "metadata": {},
   "outputs": [],
   "source": [
    "# 재귀호출을 이용한 풀이\n",
    "def add_digits(num: int) -> int:\n",
    "\n",
    "    pass\n",
    "\n",
    "\n",
    "add_digits(13567)"
   ]
  },
  {
   "cell_type": "markdown",
   "metadata": {},
   "source": [
    "**스텝2** 각 자리수를 더하는 부분에 ```reduce()```를 사용해봅시다."
   ]
  },
  {
   "cell_type": "code",
   "execution_count": null,
   "metadata": {},
   "outputs": [],
   "source": []
  },
  {
   "cell_type": "markdown",
   "metadata": {},
   "source": [
    "### [문서화 문자열](https://docs.python.org/ko/3/glossary.html#term-docstring)(Docstring)\n",
    "\n",
    "함수나 클래스의 기능을 코드 안의 문서로 기록해둘 수 있습니다. 좋은 구조를 설계한다는 관점에서 접근하는 것이 좋겠지요. 초보때는 문서화보다 기능 구현이 중요하지만 판매용 제품이나 오픈소스 프로젝트 같이 여러 사람이 보고 장기적으로 사용될 코드에는 필수입니다."
   ]
  },
  {
   "cell_type": "markdown",
   "metadata": {},
   "source": [
    "* 구글 스타일\n"
   ]
  },
  {
   "cell_type": "code",
   "execution_count": null,
   "metadata": {},
   "outputs": [],
   "source": [
    "def talk_to_ai(user_input: str) -> str:\n",
    "    \"\"\"사용자의 대사를 인공지능에게 전달해주고 대답을 받는다.\n",
    "\n",
    "    Args:\n",
    "        user_input (str): 인공지능에게 하는 말\n",
    "\n",
    "    Returns:\n",
    "        str: 인공지능의 대답\n",
    "    \"\"\"\n",
    "    pass"
   ]
  },
  {
   "cell_type": "markdown",
   "metadata": {},
   "source": [
    "* NumPy/SciPy 스타일\n"
   ]
  },
  {
   "cell_type": "code",
   "execution_count": null,
   "metadata": {},
   "outputs": [],
   "source": [
    "def talk_to_ai(user_input: str) -> str:\n",
    "    \"\"\"사용자의 대사를 인공지능에게 전달해주고 대답을 받는다.\n",
    "\n",
    "    Parameters\n",
    "    ----------\n",
    "        user_input : str\n",
    "        인공지능에게 하는 말\n",
    "\n",
    "    Returns\n",
    "    -------\n",
    "    str\n",
    "        인공지능의 대답\n",
    "    \"\"\"\n",
    "    pass"
   ]
  },
  {
   "cell_type": "markdown",
   "metadata": {},
   "source": [
    "* ```help()``` 함수로 docstring을 볼 수 있습니다."
   ]
  },
  {
   "cell_type": "code",
   "execution_count": null,
   "metadata": {},
   "outputs": [],
   "source": [
    "def talk_to_ai(user_input: str) -> str:\n",
    "    \"\"\"사용자의 대사를 인공지능에게 전달해주고 대답을 받는다.\n",
    "\n",
    "    Args:\n",
    "        user_input (str): 인공지능에게 하는 말\n",
    "\n",
    "    Returns:\n",
    "        str: 인공지능의 대답\n",
    "    \"\"\"\n",
    "    pass\n",
    "\n",
    "\n"
   ]
  }
 ],
 "metadata": {
  "interpreter": {
   "hash": "6eab2e99157edd7ccf636734101af11643406bae0876cdb05b428fd62ceaf06f"
  },
  "kernelspec": {
   "display_name": "Python 3.9.7 64-bit ('py39': conda)",
   "language": "python",
   "name": "python3"
  },
  "language_info": {
   "codemirror_mode": {
    "name": "ipython",
    "version": 3
   },
   "file_extension": ".py",
   "mimetype": "text/x-python",
   "name": "python",
   "nbconvert_exporter": "python",
   "pygments_lexer": "ipython3",
   "version": "3.10.0"
  },
  "orig_nbformat": 4
 },
 "nbformat": 4,
 "nbformat_minor": 2
}
