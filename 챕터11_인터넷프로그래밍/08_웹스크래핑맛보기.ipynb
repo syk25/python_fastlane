{
 "cells": [
  {
   "cell_type": "markdown",
   "metadata": {},
   "source": [
    "___\n",
    "<a href='https://cafe.naver.com/jmhonglab'><p style=\"text-align:center;\"><img src='https://lh3.googleusercontent.com/lY3ySXooSmwsq5r-mRi7uiypbo0Vez6pmNoQxMFhl9fmZJkRHu5lO2vo7se_0YOzgmDyJif9fi4_z0o3ZFdwd8NVSWG6Ea80uWaf3pOHpR4GHGDV7kaFeuHR3yAjIJjDgfXMxsvw=w2400'  class=\"center\" width=\"50%\" height=\"50%\"/></p></a>\n",
    "___\n",
    "<center><em>Content Copyright by HongLab, Inc.</em></center>"
   ]
  },
  {
   "cell_type": "markdown",
   "metadata": {},
   "source": [
    "# 웹 스크래핑 맛보기"
   ]
  },
  {
   "cell_type": "code",
   "execution_count": null,
   "metadata": {},
   "outputs": [],
   "source": [
    "# pip install requests\n",
    "# pip install beautifulsoup4\n",
    "\n",
    "import requests\n",
    "from bs4 import BeautifulSoup\n",
    "from urllib.parse import urljoin, urlparse\n",
    "import os\n",
    "import time\n",
    "\n",
    "base_url = \"https://en.wikipedia.org/wiki/Python_(programming_language)\"\n",
    "response = requests.get(url=base_url)\n",
    "\n",
    "if response.status_code == 200:\n",
    "\n",
    "    soup = BeautifulSoup(response.content, 'html.parser')\n",
    "\n",
    "    for img in soup.find_all(\"img\"):\n",
    "\n",
    "        img_url = img.get(\"src\")\n",
    "\n",
    "        if not img_url.lower().endswith((\"png\", \"jpg\")):\n",
    "            continue\n",
    "\n",
    "        img_url = urljoin(base_url, img_url)\n",
    "        basename = os.path.basename(urlparse(img_url).path)\n",
    "        print(img_url, basename)\n",
    "\n",
    "        response = requests.get(str(img_url))\n",
    "        with open(os.path.join(\"images\", basename), \"wb\") as f:\n",
    "            f.write(response.content)\n",
    "        \n",
    "        time.sleep(0.1)"
   ]
  }
 ],
 "metadata": {
  "interpreter": {
   "hash": "9d020ba169b33221ab358611b87de83a49ae84c7ba35bfa72ae9e245c465f61e"
  },
  "kernelspec": {
   "display_name": "Python 3.10.0 ('py10')",
   "language": "python",
   "name": "python3"
  },
  "language_info": {
   "codemirror_mode": {
    "name": "ipython",
    "version": 3
   },
   "file_extension": ".py",
   "mimetype": "text/x-python",
   "name": "python",
   "nbconvert_exporter": "python",
   "pygments_lexer": "ipython3",
   "version": "3.10.0"
  },
  "orig_nbformat": 4
 },
 "nbformat": 4,
 "nbformat_minor": 2
}
