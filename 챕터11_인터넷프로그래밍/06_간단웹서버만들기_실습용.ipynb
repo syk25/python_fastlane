{
 "cells": [
  {
   "cell_type": "markdown",
   "metadata": {},
   "source": [
    "___\n",
    "<a href='https://cafe.naver.com/jmhonglab'><p style=\"text-align:center;\"><img src='https://lh3.googleusercontent.com/lY3ySXooSmwsq5r-mRi7uiypbo0Vez6pmNoQxMFhl9fmZJkRHu5lO2vo7se_0YOzgmDyJif9fi4_z0o3ZFdwd8NVSWG6Ea80uWaf3pOHpR4GHGDV7kaFeuHR3yAjIJjDgfXMxsvw=w2400'  class=\"center\" width=\"50%\" height=\"50%\"/></p></a>\n",
    "___\n",
    "<center><em>Content Copyright by HongLab, Inc.</em></center>"
   ]
  },
  {
   "cell_type": "markdown",
   "metadata": {},
   "source": [
    "# 간단한 웹 서버 만들기"
   ]
  },
  {
   "cell_type": "markdown",
   "metadata": {},
   "source": [
    "### HTTP (HypterText Transfer Protocol)"
   ]
  },
  {
   "cell_type": "markdown",
   "metadata": {},
   "source": [
    "웹브라우저로 소켓 서버에 접속해보기 (HTTP로 HTML만 보낼 수 있는 것은 아닙니다.)"
   ]
  },
  {
   "cell_type": "code",
   "execution_count": null,
   "metadata": {},
   "outputs": [],
   "source": [
    "import socket\n",
    "\n",
    "IP_ADDR = socket.gethostbyname(socket.gethostname())\n",
    "PORT = 80 #HTTP port\n",
    "\n",
    "# 서버 소켓 만들기\n",
    "my_socket = socket.socket(socket.AF_INET, socket.SOCK_STREAM)\n",
    "my_socket.setsockopt(socket.SOL_SOCKET, socket.SO_REUSEADDR, 1)\n",
    "my_socket.bind((IP_ADDR, PORT))\n",
    "my_socket.listen(0)\n",
    "print(f\"Started server at {my_socket.getsockname()}\")\n",
    "\n",
    "# 클라이언트 접속 기다리기\n",
    "conn, addr = my_socket.accept()\n",
    "\n",
    "# 클라이언트로부터 받은 요청\n",
    "request = conn.recv(1024).decode()\n",
    "print(request)\n",
    "\n",
    "# 간단한 응답 보내기\n",
    "response = \"HTTP/1.0 200 OK\\n\\nHello, HTTP!\"\n",
    "conn.sendall(response.encode())\n",
    "conn.close()\n",
    "\n",
    "# 접속 종료\n",
    "my_socket.close()"
   ]
  },
  {
   "cell_type": "markdown",
   "metadata": {},
   "source": [
    "##### [실습] 현재 시간을 알려주는 서버"
   ]
  },
  {
   "cell_type": "code",
   "execution_count": null,
   "metadata": {},
   "outputs": [],
   "source": [
    "import socket\n",
    "import datetime\n",
    "\n",
    "IP_ADDR = socket.gethostbyname(socket.gethostname())\n",
    "PORT = 80 #HTTP port\n",
    "\n"
   ]
  },
  {
   "cell_type": "markdown",
   "metadata": {},
   "source": [
    "### HTML (HyperText Markup Language)"
   ]
  },
  {
   "cell_type": "markdown",
   "metadata": {},
   "source": [
    "소켓 클라이언트에서 웹 서버로 접속해보기  \n",
    "[정리] 클라이언트 컴퓨터의 웹브라우저로 HTML로 작성된 문서를 보낼 때 내부적으로 HTTP 형식을 따릅니다."
   ]
  },
  {
   "cell_type": "code",
   "execution_count": null,
   "metadata": {},
   "outputs": [],
   "source": [
    "import socket\n",
    "\n",
    "client_socket = socket.socket(socket.AF_INET, socket.SOCK_STREAM)\n",
    "server_address = (\"www.example.com\", 80)\n",
    "client_socket.connect(server_address)\n",
    "\n",
    "# 웹 서버에 HTTP 요청 보내기\n",
    "request = 'GET / HTTP/1.0\\r\\nHost: www.example.com\\r\\n\\r\\n'\n",
    "client_socket.sendall(request.encode())\n",
    "\n",
    "# 응답 받기\n",
    "response = b''\n",
    "while True:\n",
    "    recv = client_socket.recv(1024)\n",
    "    if not recv:\n",
    "        break\n",
    "    response += recv \n",
    "\n",
    "client_socket.close()\n",
    "\n",
    "# 응답 출력\n",
    "# print(response)\n",
    "\n",
    "with open(\"example_response.txt\", \"w\") as f:\n",
    "    f.write(response.decode())"
   ]
  },
  {
   "cell_type": "markdown",
   "metadata": {},
   "source": [
    "##### [실습] 간단 웹서버"
   ]
  },
  {
   "cell_type": "code",
   "execution_count": null,
   "metadata": {},
   "outputs": [],
   "source": [
    "import socket\n",
    "\n",
    "IP_ADDR = socket.gethostbyname(socket.gethostname())\n",
    "PORT = 80 #HTTP port\n",
    "\n",
    "\n",
    "\n",
    "\n",
    "\n",
    "\n",
    "\n",
    "\n",
    "\n",
    "\n",
    "\n",
    "\n"
   ]
  }
 ],
 "metadata": {
  "interpreter": {
   "hash": "42a14d59eccc2cdc52c51d56ea294d65f97f1dfd3a73fcd38c54c12d09c244d3"
  },
  "kernelspec": {
   "display_name": "Python 3.10.2 ('py310')",
   "language": "python",
   "name": "python3"
  },
  "language_info": {
   "codemirror_mode": {
    "name": "ipython",
    "version": 3
   },
   "file_extension": ".py",
   "mimetype": "text/x-python",
   "name": "python",
   "nbconvert_exporter": "python",
   "pygments_lexer": "ipython3",
   "version": "3.10.2"
  },
  "orig_nbformat": 4
 },
 "nbformat": 4,
 "nbformat_minor": 2
}
