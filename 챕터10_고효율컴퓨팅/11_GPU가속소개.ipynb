{
 "cells": [
  {
   "cell_type": "markdown",
   "metadata": {},
   "source": [
    "___\n",
    "<a href='https://cafe.naver.com/jmhonglab'><p style=\"text-align:center;\"><img src='https://lh3.googleusercontent.com/lY3ySXooSmwsq5r-mRi7uiypbo0Vez6pmNoQxMFhl9fmZJkRHu5lO2vo7se_0YOzgmDyJif9fi4_z0o3ZFdwd8NVSWG6Ea80uWaf3pOHpR4GHGDV7kaFeuHR3yAjIJjDgfXMxsvw=w2400'  class=\"center\" width=\"50%\" height=\"50%\"/></p></a>\n",
    "___\n",
    "<center><em>Content Copyright by HongLab, Inc.</em></center>"
   ]
  },
  {
   "cell_type": "markdown",
   "metadata": {},
   "source": [
    "# GPU 가속 소개\n",
    "\n",
    "CPU 메모리 -> GPU 메모리 -> GPU로 연산 -> CPU 메모리\n",
    "\n",
    "### [CuPy](https://cupy.dev/)\n",
    "\n",
    "NVidia 그래픽스 카드 필요\n",
    "\n",
    "[CudaToolkit 설치](https://developer.nvidia.com/cuda-11.3.0-download-archive?target_os=Windows&target_arch=x86_64&target_version=10&target_type=exe_local) 후 버전을 맞춰서 설치  (여기서는 11.3)  \n",
    "```conda install -c conda-forge cupy cudatoolkit=11.3```\n",
    "\n"
   ]
  },
  {
   "cell_type": "code",
   "execution_count": 1,
   "metadata": {},
   "outputs": [],
   "source": [
    "import time\n",
    "\n",
    "\n",
    "class Timer:\n",
    "    def __init__(self):\n",
    "        self.start = time.perf_counter()\n",
    "\n",
    "    def __enter__(self):\n",
    "        return self  # as로 사용할 수 있도록 self 반환\n",
    "\n",
    "    def __exit__(self, *args):\n",
    "        print(\"Elapsed time = \", time.perf_counter() - self.start)"
   ]
  },
  {
   "cell_type": "code",
   "execution_count": 2,
   "metadata": {},
   "outputs": [
    {
     "name": "stdout",
     "output_type": "stream",
     "text": [
      "[0.5488135  0.71518937 0.60276338 ... 0.08870192 0.45256207 0.17769845]\n",
      "float64\n",
      "Elapsed time =  15.251978100044653\n",
      "111116795.31966303\n"
     ]
    }
   ],
   "source": [
    "import numpy as np\n",
    "\n",
    "np.random.seed(0)\n",
    "\n",
    "# 데이터 만드는 시간은 제외\n",
    "data_np = np.random.rand(100_000_000)\n",
    "\n",
    "print(data_np)\n",
    "print(data_np.dtype)\n",
    "\n",
    "with Timer():\n",
    "\n",
    "    for r in range(5):\n",
    "        data_np = np.sqrt(data_np)\n",
    "        data_np = np.exp(data_np)\n",
    "        data_np = np.power(data_np, 0.1)\n",
    "    result = data_np.sum()\n",
    "\n",
    "print(result)\n",
    "\n",
    "# Elapsed time =  14.9029647000134\n",
    "# 111116795.31966303"
   ]
  },
  {
   "cell_type": "code",
   "execution_count": 3,
   "metadata": {},
   "outputs": [
    {
     "name": "stdout",
     "output_type": "stream",
     "text": [
      "<class 'cupy._core.core.ndarray'>\n",
      "<CUDA Device 0>\n",
      "float64\n",
      "(100000000,)\n",
      "[0.5488135  0.71518937 0.60276338 ... 0.08870192 0.45256207 0.17769845]\n",
      "Elapsed time =  0.3724399001803249\n",
      "111116795.31966344\n"
     ]
    }
   ],
   "source": [
    "# Restart 후 측정\n",
    "import cupy as cp\n",
    "import numpy as np\n",
    "\n",
    "np.random.seed(0)\n",
    "data_np = np.random.rand(100_000_000)\n",
    "\n",
    "# 데이터 만드는 시간은 제외\n",
    "data_cp = cp.asarray(data_np)\n",
    "\n",
    "print(type(data_cp))\n",
    "print(data_cp.device)\n",
    "print(data_cp.dtype)\n",
    "print(data_cp.shape)\n",
    "print(data_cp)\n",
    "\n",
    "with Timer():\n",
    "\n",
    "    for r in range(5):\n",
    "        data_cp = cp.sqrt(data_cp)\n",
    "        data_cp = cp.exp(data_cp)\n",
    "        data_cp = cp.power(data_cp, 0.1)\n",
    "    result = data_cp.sum()\n",
    "\n",
    "print(result)\n",
    "\n",
    "# Elapsed time =  0.36881319992244244\n",
    "# 111116795.31966344"
   ]
  },
  {
   "cell_type": "markdown",
   "metadata": {},
   "source": [
    "### [PyTorch](https://pytorch.org/get-started/locally/)\n",
    "\n",
    "CUDA Toolkit과 cuDNN을 설치  \n",
    "NVidia GPU가 없어도 CPU로 사용 가능\n"
   ]
  },
  {
   "cell_type": "code",
   "execution_count": 4,
   "metadata": {},
   "outputs": [
    {
     "name": "stdout",
     "output_type": "stream",
     "text": [
      "cpu\n",
      "cuda:0\n",
      "Elapsed time =  1.0253177001141012\n",
      "111116795.31966342\n"
     ]
    }
   ],
   "source": [
    "import torch\n",
    "import numpy as np\n",
    "\n",
    "np.random.seed(0)\n",
    "data_np = np.random.rand(100_000_000)\n",
    "\n",
    "data_torch = torch.from_numpy(data_np)\n",
    "\n",
    "print(data_torch.device)\n",
    "\n",
    "data_cuda = data_torch.cuda()\n",
    "\n",
    "print(data_cuda.device)\n",
    "\n",
    "with Timer():\n",
    "    for r in range(5):\n",
    "        data_cuda = torch.sqrt(data_cuda)\n",
    "        data_cuda = torch.exp(data_cuda)\n",
    "        data_cuda = torch.pow(data_cuda, 0.1)\n",
    "    result = data_cuda.sum()\n",
    "\n",
    "print(result.cpu().numpy())\n",
    "\n",
    "# Elapsed time =  1.0253177001141012\n",
    "# 111116795.31966342"
   ]
  }
 ],
 "metadata": {
  "interpreter": {
   "hash": "7f4ae64fa93774b761abe7169aa55d764bd5bbce0cb14f3b524008117eba7c3a"
  },
  "kernelspec": {
   "display_name": "Python 3.10.4 ('py310cupy')",
   "language": "python",
   "name": "python3"
  },
  "language_info": {
   "codemirror_mode": {
    "name": "ipython",
    "version": 3
   },
   "file_extension": ".py",
   "mimetype": "text/x-python",
   "name": "python",
   "nbconvert_exporter": "python",
   "pygments_lexer": "ipython3",
   "version": "3.10.4"
  },
  "orig_nbformat": 4
 },
 "nbformat": 4,
 "nbformat_minor": 2
}
