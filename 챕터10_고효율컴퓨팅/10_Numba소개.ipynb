{
 "cells": [
  {
   "cell_type": "markdown",
   "metadata": {},
   "source": [
    "___\n",
    "<a href='https://cafe.naver.com/jmhonglab'><p style=\"text-align:center;\"><img src='https://lh3.googleusercontent.com/lY3ySXooSmwsq5r-mRi7uiypbo0Vez6pmNoQxMFhl9fmZJkRHu5lO2vo7se_0YOzgmDyJif9fi4_z0o3ZFdwd8NVSWG6Ea80uWaf3pOHpR4GHGDV7kaFeuHR3yAjIJjDgfXMxsvw=w2400'  class=\"center\" width=\"50%\" height=\"50%\"/></p></a>\n",
    "___\n",
    "<center><em>Content Copyright by HongLab, Inc.</em></center>"
   ]
  },
  {
   "cell_type": "markdown",
   "metadata": {},
   "source": [
    "\n",
    "# [Numba](https://numba.pydata.org/numba-doc/dev/user/5minguide.html)\n",
    "\n",
    "```pip install numba```\n",
    "\n",
    "Numpy 버전 충돌 주의 (env 새로 만들 것)\n"
   ]
  },
  {
   "cell_type": "code",
   "execution_count": 2,
   "metadata": {},
   "outputs": [],
   "source": [
    "import time\n",
    "\n",
    "\n",
    "class Timer:\n",
    "    def __init__(self):\n",
    "        self.start = time.perf_counter()\n",
    "\n",
    "    def __enter__(self):\n",
    "        return self  # as로 사용할 수 있도록 self 반환\n",
    "\n",
    "    def __exit__(self, *args):\n",
    "        print(\"Elapsed time = \", time.perf_counter() - self.start)"
   ]
  },
  {
   "cell_type": "code",
   "execution_count": 3,
   "metadata": {},
   "outputs": [
    {
     "name": "stdout",
     "output_type": "stream",
     "text": [
      "Elapsed time =  16.363551799997367\n",
      "111116795.31966303\n"
     ]
    }
   ],
   "source": [
    "import numpy as np\n",
    "\n",
    "def np_work(data):\n",
    "    for r in range(5):\n",
    "        data = np.sqrt(data)\n",
    "        data = np.exp(data)\n",
    "        data = np.power(data, 0.1)\n",
    "    return data.sum()\n",
    "\n",
    "\n",
    "if __name__ == \"__main__\":\n",
    "\n",
    "    np.random.seed(0)\n",
    "    data = np.random.rand(100_000_000)\n",
    "\n",
    "    with Timer():\n",
    "\n",
    "        result = np_work(data)\n",
    "\n",
    "    print(result)\n",
    "\n",
    "# Elapsed time =  15.542444300139323\n",
    "# 111116795.31966303"
   ]
  },
  {
   "cell_type": "code",
   "execution_count": 4,
   "metadata": {},
   "outputs": [
    {
     "name": "stdout",
     "output_type": "stream",
     "text": [
      "Elapsed time =  1.7407969999985653\n",
      "111116795.31966637\n"
     ]
    }
   ],
   "source": [
    "from numba import jit\n",
    "import numpy as np\n",
    "\n",
    "# 데코레이터 하나만 추가!\n",
    "@jit(nopython=True, parallel = True)\n",
    "def numba_work(data):\n",
    "    for r in range(5):\n",
    "        data = np.sqrt(data)\n",
    "        data = np.exp(data)\n",
    "        data = np.power(data, 0.1)\n",
    "    return data.sum()\n",
    "\n",
    "\n",
    "if __name__ == \"__main__\":\n",
    "\n",
    "    np.random.seed(0)\n",
    "    data = np.random.rand(100_000_000)\n",
    "\n",
    "    with Timer():\n",
    "\n",
    "        result = numba_work(data)\n",
    "\n",
    "    print(result)\n"
   ]
  }
 ],
 "metadata": {
  "interpreter": {
   "hash": "dce714713b0fe9bc39874fab319c30d19b9218ce36690c640b4b476f8edef051"
  },
  "kernelspec": {
   "display_name": "Python 3.10.4 ('py310numba')",
   "language": "python",
   "name": "python3"
  },
  "language_info": {
   "codemirror_mode": {
    "name": "ipython",
    "version": 3
   },
   "file_extension": ".py",
   "mimetype": "text/x-python",
   "name": "python",
   "nbconvert_exporter": "python",
   "pygments_lexer": "ipython3",
   "version": "3.10.4"
  },
  "orig_nbformat": 4
 },
 "nbformat": 4,
 "nbformat_minor": 2
}
