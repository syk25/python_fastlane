{
 "cells": [
  {
   "cell_type": "markdown",
   "metadata": {},
   "source": [
    "___\n",
    "<a href='https://cafe.naver.com/jmhonglab'><p style=\"text-align:center;\"><img src='https://lh3.googleusercontent.com/lY3ySXooSmwsq5r-mRi7uiypbo0Vez6pmNoQxMFhl9fmZJkRHu5lO2vo7se_0YOzgmDyJif9fi4_z0o3ZFdwd8NVSWG6Ea80uWaf3pOHpR4GHGDV7kaFeuHR3yAjIJjDgfXMxsvw=w2400'  class=\"center\" width=\"50%\" height=\"50%\"/></p></a>\n",
    "___\n",
    "<center><em>Content Copyright by HongLab, Inc.</em></center>"
   ]
  },
  {
   "cell_type": "markdown",
   "metadata": {},
   "source": [
    "# [멀티쓰레딩(Multithreading)](https://docs.python.org/3/library/threading.html)\n"
   ]
  },
  {
   "cell_type": "markdown",
   "metadata": {},
   "source": [
    "### 기본적인 사용 방법"
   ]
  },
  {
   "cell_type": "markdown",
   "metadata": {},
   "source": [
    "사용 가능한 코어 수 확인"
   ]
  },
  {
   "cell_type": "code",
   "execution_count": null,
   "metadata": {},
   "outputs": [],
   "source": [
    "import os\n",
    "\n",
    "os.cpu_count()"
   ]
  },
  {
   "cell_type": "markdown",
   "metadata": {},
   "source": [
    "쓰레드 생성, 시작, 대기"
   ]
  },
  {
   "cell_type": "code",
   "execution_count": null,
   "metadata": {},
   "outputs": [],
   "source": [
    "import threading\n",
    "import os\n",
    "\n",
    "def thread_work(message):\n",
    "    print(threading.current_thread().name) # 현재 이 함수를 실행하고 있는 쓰레드 이름\n",
    "    print(\"Process ID\", os.getpid()) # 프로세스 아이디\n",
    "    print(message)\n",
    "\n",
    "t1 = threading.Thread(target=thread_work, args=(\"First thread\",)) # 마지막 컴마로 튜플 넘겨주기\n",
    "t2 = threading.Thread(target=thread_work, args=(\"Second thread\",)) # 마지막 컴마로 튜플 넘겨주기\n",
    "\n",
    "t1.start()\n",
    "t2.start()\n",
    "\n",
    "t1.join()\n",
    "t2.join()\n"
   ]
  },
  {
   "cell_type": "markdown",
   "metadata": {},
   "source": [
    "### Race Condition\n",
    "\n",
    "- 여러 쓰레드들이 지역 변수는 따로따로 만들어 사용하지만 전역 변수는 같이 사용합니다. \n",
    "- 일반적으로 여러 쓰레드가 동시에 같은 메모리의 값을 바꾸려고 시도하면 문제가 생길 수 있습니다. \n",
    "- 문제가 항상 생기는 것이 아니기 때문에 디버깅이 어렵습니다.\n",
    "```\n",
    "첫 번째 쓰레드가 g의 현재 값(0)을 읽어옴\n",
    "두 번째 쓰레드가 g의 현재 값(0)을 읽어옴\n",
    "첫 번째 쓰레드가 0 + 10을 g에 저장해서 g가 10\n",
    "두 번째 쓰레드가 0 + 10을 g에 저장해서 g가 10\n",
    "결과적으로 g가 10 (우리가 기대한 값은 20)\n",
    "```\n",
    "- CPython은 GIL이 race condition을 막아주지만 절대로 GIL을 이용하는 방식으로 습관을 들이면 안됩니다.\n"
   ]
  },
  {
   "cell_type": "code",
   "execution_count": null,
   "metadata": {},
   "outputs": [],
   "source": [
    "import threading\n",
    "\n",
    "g = 0\n",
    "\n",
    "def thread_work(message):\n",
    "    global g\n",
    "\n",
    "    l = len(message) # 지역 변수\n",
    "    print(threading.current_thread().name, id(l), id(g))\n",
    "\n",
    "    g = g + 10 # Race condition! Bad!!!\n",
    "\n",
    "t1 = threading.Thread(target=thread_work, args=(\"First thread\",)) # 마지막 컴마로 튜플 넘겨주기\n",
    "t2 = threading.Thread(target=thread_work, args=(\"Second thread\",)) # 마지막 컴마로 튜플 넘겨주기\n",
    "\n",
    "t1.start()\n",
    "t2.start()\n",
    "\n",
    "t1.join()\n",
    "t2.join()\n",
    "\n",
    "print(g) # 20\n"
   ]
  },
  {
   "cell_type": "markdown",
   "metadata": {},
   "source": [
    "### Lock\n",
    "\n",
    "여러 쓰레드가 함께 사용하는 메모리에 쓰기 작업을 할 때는 잠금장치(Lock)를 걸어줄 수 있습니다. 그러나 Lock을 사용한다는 것은 알고리즘을 동기식(synchronous)으로 바꾸는 것이기 때문에 효율에 매우 안좋습니다."
   ]
  },
  {
   "cell_type": "code",
   "execution_count": null,
   "metadata": {},
   "outputs": [],
   "source": [
    "import threading\n",
    "import os\n",
    "\n",
    "g = 0\n",
    "\n",
    "lock = threading.Lock()\n",
    "\n",
    "def thread_work(message):\n",
    "    global g\n",
    "\n",
    "    l = len(message) # 지역 변수\n",
    "    print(threading.current_thread().name, id(l), id(g))\n",
    "\n",
    "    lock.acquire()\n",
    "    g = g + 10\n",
    "    lock.release()\n",
    "\n",
    "t1 = threading.Thread(target=thread_work, args=(\"First thread\",)) # 마지막 컴마로 튜플 넘겨주기\n",
    "t2 = threading.Thread(target=thread_work, args=(\"Second thread\",)) # 마지막 컴마로 튜플 넘겨주기\n",
    "\n",
    "t1.start()\n",
    "t2.start()\n",
    "\n",
    "t1.join()\n",
    "t2.join()\n",
    "\n",
    "print(g) # 20\n"
   ]
  },
  {
   "cell_type": "markdown",
   "metadata": {},
   "source": [
    "### IO-Bound  문제 예시"
   ]
  },
  {
   "cell_type": "markdown",
   "metadata": {},
   "source": [
    "앞에서 만들었던 타이머 사용 (사용 전 셀 실행)"
   ]
  },
  {
   "cell_type": "code",
   "execution_count": 2,
   "metadata": {},
   "outputs": [],
   "source": [
    "import time\n",
    "\n",
    "class Timer:\n",
    "    def __init__(self):\n",
    "        self.start = time.time()\n",
    "\n",
    "    def __enter__(self):\n",
    "        return self # as로 사용할 수 있도록 self 반환\n",
    "\n",
    "    def __exit__(self, *args):\n",
    "        print(\"Elapsed time = \", time.time() - self.start)"
   ]
  },
  {
   "cell_type": "markdown",
   "metadata": {},
   "source": [
    "한 번에 하나씩 직렬(Serial)로 실행할 경우"
   ]
  },
  {
   "cell_type": "code",
   "execution_count": 3,
   "metadata": {},
   "outputs": [
    {
     "name": "stdout",
     "output_type": "stream",
     "text": [
      "Elapsed time =  1.0711345672607422\n"
     ]
    }
   ],
   "source": [
    "import time\n",
    "\n",
    "def thread_work():\n",
    "    time.sleep(0.1) # IO 대기 시간이 0.1초라고 가정\n",
    "\n",
    "num_tasks = 10\n",
    "\n",
    "with Timer():\n",
    "    for i in range(num_tasks):\n",
    "        thread_work()"
   ]
  },
  {
   "cell_type": "markdown",
   "metadata": {},
   "source": [
    "멀티쓰레딩으로 동시성(Concurrency) 구현"
   ]
  },
  {
   "cell_type": "code",
   "execution_count": 6,
   "metadata": {},
   "outputs": [
    {
     "name": "stdout",
     "output_type": "stream",
     "text": [
      "Elapsed time =  0.11521577835083008\n"
     ]
    }
   ],
   "source": [
    "import time\n",
    "import threading\n",
    "\n",
    "def thread_work():\n",
    "    time.sleep(0.1) # IO 대기 시간이 0.1초라고 가정\n",
    "    #print(threading.current_thread().name)\n",
    "\n",
    "num_tasks = 10\n",
    "\n",
    "with Timer():\n",
    "    thread_list = []\n",
    "    for _ in range(num_tasks):\n",
    "        t = threading.Thread(target=thread_work, args=())\n",
    "        t.start()\n",
    "        thread_list.append(t)\n",
    "\n",
    "    for t in thread_list:\n",
    "        t.join()"
   ]
  },
  {
   "cell_type": "markdown",
   "metadata": {},
   "source": [
    "[주의] join 위치"
   ]
  },
  {
   "cell_type": "code",
   "execution_count": null,
   "metadata": {},
   "outputs": [],
   "source": [
    "\n",
    "import time\n",
    "import threading\n",
    "\n",
    "def thread_work():\n",
    "    time.sleep(0.1) # IO 대기 시간이 0.1초라고 가정\n",
    "\n",
    "num_tasks = 10\n",
    "\n",
    "with Timer():\n",
    "    for i in range(num_tasks):\n",
    "        t = threading.Thread(target=thread_work, args=())\n",
    "        t.start()\n",
    "        t.join() # 시리얼로 처리"
   ]
  },
  {
   "cell_type": "markdown",
   "metadata": {},
   "source": [
    "### [실습] 온도가 가장 높은 도시 찾기"
   ]
  },
  {
   "cell_type": "markdown",
   "metadata": {},
   "source": [
    "앞에서 사용했던 현재 날씨 데이터 받기"
   ]
  },
  {
   "cell_type": "code",
   "execution_count": null,
   "metadata": {},
   "outputs": [],
   "source": [
    "import requests\n",
    "\n",
    "API_KEY = \"YOUR_KEY_HERE\"\n",
    "BASE_URL = \"http://api.openweathermap.org/data/2.5/weather\"\n",
    "LANGUAGE = \"kr\" # 출력 중 Weather에 한국어로 받을 수 있음. 영어를 원하면 \"en\"이나 생략\n",
    "\n",
    "city = input(\"Enter a city name: \")\n",
    "request_url = f\"{BASE_URL}?appid={API_KEY}&q={city}&lang={LANGUAGE}\"\n",
    "\n",
    "print(request_url)\n",
    "\n",
    "response = requests.get(request_url) # 웹브라우저에 똑같이 사용\n",
    "\n",
    "if response.status_code == 200: # HTTP status 200은 성공을 의미합니다.\n",
    "\n",
    "    data = response.json()\n",
    "    city_name = data['name']\n",
    "    weather = data['weather'][0]['description']\n",
    "    temperature = round(data[\"main\"][\"temp\"] - 273.15, 2) # 켈빈 온도 사용\n",
    "\n",
    "    print(\"City:\", city_name)\n",
    "    print(\"Weather:\", weather)\n",
    "    print(\"Temperature:\", temperature, \"celsius\")\n",
    "\n",
    "else:\n",
    "    print(\"An error occurred.\", response.status_code)"
   ]
  },
  {
   "cell_type": "markdown",
   "metadata": {},
   "source": [
    "멀티쓰레딩을 이용해서 온도가 가장 높은 도시 이름을 출력해봅시다.\n",
    "\n",
    "```\n",
    "cities = [\"Seoul\", \"Pusan\", \"Paris\", \"London\", \"Cairo\", \"Lagos\", \"Giza\", \"Los Angeles\", \"San Francisco\", \"New York\"]\n",
    "```\n",
    "\n",
    "주의 사항\n",
    "- 인터넷 서비스를 남용할 경우 서버에서 막아버릴 수도 있습니다.\n",
    "- 인터넷 속도, 서버와의 통신 상태 등에 따라서 결과가 달라집니다."
   ]
  },
  {
   "cell_type": "code",
   "execution_count": null,
   "metadata": {},
   "outputs": [],
   "source": [
    "import time\n",
    "\n",
    "class Timer:\n",
    "    def __init__(self):\n",
    "        self.start = time.time()\n",
    "\n",
    "    def __enter__(self):\n",
    "        return self # as로 사용할 수 있도록 self 반환\n",
    "\n",
    "    def __exit__(self, *args):\n",
    "        print(\"Elapsed time = \", time.time() - self.start)"
   ]
  }
 ],
 "metadata": {
  "interpreter": {
   "hash": "8018e705143a54fe8977c076a25f32bbbfeba551799f40fa3d5ac4e2da245feb"
  },
  "kernelspec": {
   "display_name": "Python 3.10.2 ('py310')",
   "language": "python",
   "name": "python3"
  },
  "language_info": {
   "codemirror_mode": {
    "name": "ipython",
    "version": 3
   },
   "file_extension": ".py",
   "mimetype": "text/x-python",
   "name": "python",
   "nbconvert_exporter": "python",
   "pygments_lexer": "ipython3",
   "version": "3.10.2"
  },
  "orig_nbformat": 4
 },
 "nbformat": 4,
 "nbformat_minor": 2
}
