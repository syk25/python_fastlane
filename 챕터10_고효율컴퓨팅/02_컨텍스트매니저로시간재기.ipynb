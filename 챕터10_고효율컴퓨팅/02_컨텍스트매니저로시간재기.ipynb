{
 "cells": [
  {
   "cell_type": "markdown",
   "metadata": {},
   "source": [
    "___\n",
    "<a href='https://cafe.naver.com/jmhonglab'><p style=\"text-align:center;\"><img src='https://lh3.googleusercontent.com/lY3ySXooSmwsq5r-mRi7uiypbo0Vez6pmNoQxMFhl9fmZJkRHu5lO2vo7se_0YOzgmDyJif9fi4_z0o3ZFdwd8NVSWG6Ea80uWaf3pOHpR4GHGDV7kaFeuHR3yAjIJjDgfXMxsvw=w2400'  class=\"center\" width=\"50%\" height=\"50%\"/></p></a>\n",
    "___\n",
    "<center><em>Content Copyright by HongLab, Inc.</em></center>"
   ]
  },
  {
   "cell_type": "markdown",
   "metadata": {},
   "source": [
    "# [컨텍스트 매니저 만들기](https://docs.python.org/3/reference/datamodel.html#with-statement-context-managers)"
   ]
  },
  {
   "cell_type": "markdown",
   "metadata": {},
   "source": [
    "앞에서 사용했었던 컨텍스트 매니저 예시\n"
   ]
  },
  {
   "cell_type": "code",
   "execution_count": null,
   "metadata": {},
   "outputs": [],
   "source": [
    "with open(\"myfile.txt\", \"r\") as f:\n",
    "    read_data = f.read()\n",
    "    print(read_data)"
   ]
  },
  {
   "cell_type": "markdown",
   "metadata": {},
   "source": [
    "클래스 안에 ```__enter__()```와 ```__exit__()```를 만들어주면 컨텍스트 매니저(```with-as```)로 사용할 수 있습니다."
   ]
  },
  {
   "cell_type": "code",
   "execution_count": null,
   "metadata": {},
   "outputs": [],
   "source": [
    "# 예외 처리를 고려하지 않을 경우\n",
    "class MyCtx:\n",
    "    def __init__(self):\n",
    "        print(\"__init__ called\")\n",
    "\n",
    "    def __enter__(self):\n",
    "        print(\"__enter__ called\")\n",
    "        return self\n",
    "    \n",
    "    def __exit__(self, *args): # *args는 예외처리 관련 인수들\n",
    "        print(\"__exit__ called\")\n",
    "\n",
    "with MyCtx() as ctx:\n",
    "    print(\"Some work here\")"
   ]
  },
  {
   "cell_type": "markdown",
   "metadata": {},
   "source": [
    "[참고] ```__exit__()```에서 예외를 처리할 수도 있습니다."
   ]
  },
  {
   "cell_type": "code",
   "execution_count": null,
   "metadata": {},
   "outputs": [],
   "source": [
    "import traceback # traceback 출력용\n",
    "\n",
    "class MyCtx(object): # object 상속 생략 가능\n",
    "    def __init__(self):\n",
    "        print(\"__init__ called\")\n",
    "\n",
    "    def __enter__(self):\n",
    "        print(\"__enter__ called\")\n",
    "        return self # as로 받을 수 있도록 self 반환\n",
    "    \n",
    "    def __exit__(self, exc_type, exc_val, exc_tb):\n",
    "        print(\"__exit__ called\")\n",
    "        if exc_type: # 예외가 발생했을 경우\n",
    "            # 예외 처리\n",
    "            print(\"MyCtx Exception:\", exc_type, exc_val)\n",
    "            print(\"MyCtx Traceback:\", traceback.print_tb(exc_tb))\n",
    "            return True # 예외를 해결했음\n",
    "\n",
    "with MyCtx() as ctx:\n",
    "    a = 1.0 / 0.0 # 예외가 발생할 경우\n"
   ]
  },
  {
   "cell_type": "markdown",
   "metadata": {},
   "source": [
    "### [컨텍스트 매니저(Context Manager)](https://docs.python.org/3/reference/datamodel.html#with-statement-context-managers)로 시간 재기"
   ]
  },
  {
   "cell_type": "code",
   "execution_count": null,
   "metadata": {},
   "outputs": [],
   "source": [
    "# 시간 재기\n",
    "from math import exp, sin\n",
    "import time\n",
    "\n",
    "x = [0.1 * i for i in range(1000)]\n",
    "\n",
    "start_time = time.time()\n",
    "\n",
    "# 시간이 걸리는 계산\n",
    "for r in range(1000):\n",
    "    result = 0\n",
    "    for val in x:\n",
    "        result += exp(val) * sin(val)\n",
    "\n",
    "print(\"Elapsed time = \", time.time() - start_time)\n",
    "\n",
    "# 순수 계산 시간을 잴 때는 입출력은 포함시키지 않습니다.\n",
    "print(\"Result = \", result)\n",
    "    "
   ]
  },
  {
   "cell_type": "code",
   "execution_count": null,
   "metadata": {},
   "outputs": [],
   "source": [
    "# 실습용\n",
    "from math import exp, sin\n",
    "import time\n",
    "\n",
    "class Timer:\n",
    "    pass\n",
    "\n",
    "x = [0.1 * i for i in range(1000)]\n",
    "\n",
    "with Timer():\n",
    "    # 시간이 걸리는 계산\n",
    "    for r in range(1000):\n",
    "        result = 0\n",
    "        for val in x:\n",
    "            result += exp(val) * sin(val)\n",
    "\n",
    "# 순수 계산 시간을 잴 때는 입출력은 포함시키지 않습니다.\n",
    "print(\"Result = \", result)\n"
   ]
  },
  {
   "cell_type": "markdown",
   "metadata": {},
   "source": [
    "[컨텍스트 매니저의 더 다양한 용법들 참고](https://realpython.com/python-with-statement/)"
   ]
  },
  {
   "cell_type": "markdown",
   "metadata": {},
   "source": [
    "[보충] 성능 비교를 위해 시간을 잴 때는 ```time.time()``` 보다는 ```time.perf_counter()```를 사용하는 경우가 많습니다. ([time.time() or time.perf_counter()](https://stackoverflow.com/questions/66036844/time-time-or-time-perf-counter-which-is-faster))\n"
   ]
  },
  {
   "cell_type": "code",
   "execution_count": null,
   "metadata": {},
   "outputs": [
    {
     "name": "stdout",
     "output_type": "stream",
     "text": [
      "Elapsed time =  0.3280382000375539\n",
      "Result =  -1.7707372952429032e+44\n"
     ]
    }
   ],
   "source": [
    "from math import exp, sin\n",
    "import time\n",
    "\n",
    "class Timer:\n",
    "    def __init__(self):\n",
    "        self.start = time.perf_counter()\n",
    "\n",
    "    def __enter__(self):\n",
    "        return self # as로 사용할 수 있도록 self 반환\n",
    "\n",
    "    def __exit__(self, *args):\n",
    "        print(\"Elapsed time = \", time.perf_counter() - self.start)\n",
    "\n",
    "x = [0.1 * i for i in range(1000)]\n",
    "\n",
    "with Timer():\n",
    "    # 시간이 걸리는 계산\n",
    "    for r in range(1000):\n",
    "        result = 0\n",
    "        for val in x:\n",
    "            result += exp(val) * sin(val)\n",
    "\n",
    "# 순수 계산 시간을 잴 때는 입출력은 포함시키지 않습니다.\n",
    "print(\"Result = \", result)"
   ]
  }
 ],
 "metadata": {
  "interpreter": {
   "hash": "8018e705143a54fe8977c076a25f32bbbfeba551799f40fa3d5ac4e2da245feb"
  },
  "kernelspec": {
   "display_name": "Python 3.10.2 ('py310')",
   "language": "python",
   "name": "python3"
  },
  "language_info": {
   "codemirror_mode": {
    "name": "ipython",
    "version": 3
   },
   "file_extension": ".py",
   "mimetype": "text/x-python",
   "name": "python",
   "nbconvert_exporter": "python",
   "pygments_lexer": "ipython3",
   "version": "3.10.2"
  },
  "orig_nbformat": 4
 },
 "nbformat": 4,
 "nbformat_minor": 2
}
