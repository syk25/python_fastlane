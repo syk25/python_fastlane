{
 "cells": [
  {
   "cell_type": "markdown",
   "metadata": {},
   "source": [
    "___\n",
    "<a href='https://cafe.naver.com/jmhonglab'><p style=\"text-align:center;\"><img src='https://lh3.googleusercontent.com/lY3ySXooSmwsq5r-mRi7uiypbo0Vez6pmNoQxMFhl9fmZJkRHu5lO2vo7se_0YOzgmDyJif9fi4_z0o3ZFdwd8NVSWG6Ea80uWaf3pOHpR4GHGDV7kaFeuHR3yAjIJjDgfXMxsvw=w2400'  class=\"center\" width=\"50%\" height=\"50%\"/></p></a>\n",
    "___\n",
    "<center><em>Content Copyright by HongLab, Inc.</em></center>"
   ]
  },
  {
   "cell_type": "markdown",
   "metadata": {},
   "source": [
    "# [AsyncIO](https://docs.python.org/3/library/asyncio.html)\n",
    "\n",
    "Asynchronous IO라는 일반적인 개념을 파이썬 패키지로 구현  \n",
    "이름에서 볼 수 있듯이 동시성으로 여러 개의 비동기 IO-Bound 작업(task)들을 관리\n"
   ]
  },
  {
   "cell_type": "markdown",
   "metadata": {},
   "source": [
    "### Blocking vs Non-Blocking"
   ]
  },
  {
   "cell_type": "markdown",
   "metadata": {},
   "source": [
    "Blocking은 직렬(Serial)로 실행할 수 밖에 없음  \n",
    "사운드 카드에게 출력을 요청하는 경우: 대기할 수도 있고 바로 다른 출력을 요청할 수도 있다."
   ]
  },
  {
   "cell_type": "code",
   "execution_count": 2,
   "metadata": {},
   "outputs": [],
   "source": [
    "# Blocking\n",
    "import simpleaudio as sa\n",
    "\n",
    "# p1 시작\n",
    "p1 = sa.WaveObject.from_wave_file(\"sound_files/25.wav\").play()\n",
    "p1.wait_done() # p1이 끝날 때까지 반환하지 않음\n",
    "\n",
    "# p1이 끝나야 p2가 시작\n",
    "p2 = sa.WaveObject.from_wave_file(\"sound_files/29.wav\").play()\n",
    "p2.wait_done()\n",
    "\n",
    "# p2가 끝나야 p3가 시작\n",
    "p3 = sa.WaveObject.from_wave_file(\"sound_files/32.wav\").play()\n",
    "p3.wait_done()"
   ]
  },
  {
   "cell_type": "code",
   "execution_count": 3,
   "metadata": {},
   "outputs": [],
   "source": [
    "# Non-Blocking\n",
    "import simpleaudio as sa\n",
    "\n",
    "p1 = sa.WaveObject.from_wave_file(\"sound_files/25.wav\").play()\n",
    "p2 = sa.WaveObject.from_wave_file(\"sound_files/29.wav\").play()\n",
    "p3 = sa.WaveObject.from_wave_file(\"sound_files/32.wav\").play()\n",
    "\n",
    "# p1.wait_done()\n",
    "# p2.wait_done()\n",
    "# p3.wait_done()"
   ]
  },
  {
   "cell_type": "markdown",
   "metadata": {},
   "source": [
    "### AsyncIO의 기본적인 사용방법"
   ]
  },
  {
   "cell_type": "markdown",
   "metadata": {},
   "source": [
    "##### ```async```, ```await```"
   ]
  },
  {
   "cell_type": "code",
   "execution_count": 4,
   "metadata": {},
   "outputs": [
    {
     "name": "stdout",
     "output_type": "stream",
     "text": [
      "Hello\n",
      "World\n",
      "Hello\n",
      "World\n",
      "['OK', 'OK']\n"
     ]
    }
   ],
   "source": [
    "import asyncio\n",
    "import time\n",
    "\n",
    "async def my_task():\n",
    "    print(\"Hello\")\n",
    "    await asyncio.sleep(1) # Non-blocking sleep\n",
    "    #time.sleep(1) # Blocking sleep\n",
    "    print(\"World\")\n",
    "    return \"OK\"\n",
    "\n",
    "# print(type(my_task())) # <class 'coroutine'>\n",
    "\n",
    "async def main():\n",
    "    t1 = asyncio.create_task(my_task())\n",
    "    t2 = asyncio.create_task(my_task()) \n",
    "    # print(type(t1)) # <class '_asyncio.Task'>\n",
    "\n",
    "    result = await asyncio.gather(t1, t2)\n",
    "\n",
    "    print(result)\n",
    "\n",
    "if __name__ == \"__main__\":\n",
    "    # asyncio.run(main()) # 스크립트 모드\n",
    "    await main() # 주피터 노트북에서 실행시킬 경우"
   ]
  },
  {
   "cell_type": "markdown",
   "metadata": {},
   "source": [
    "Python 3.4 이하 제너레이터 코루틴 옛날 방식"
   ]
  },
  {
   "cell_type": "code",
   "execution_count": 26,
   "metadata": {},
   "outputs": [
    {
     "name": "stderr",
     "output_type": "stream",
     "text": [
      "C:\\Users\\jmhong\\AppData\\Local\\Temp\\ipykernel_6596\\3820692385.py:4: DeprecationWarning: \"@coroutine\" decorator is deprecated since Python 3.8, use \"async def\" instead\n",
      "  def my_task():\n"
     ]
    },
    {
     "name": "stdout",
     "output_type": "stream",
     "text": [
      "Hello\n",
      "Hello\n",
      "World\n",
      "World\n",
      "['OK', 'OK']\n"
     ]
    }
   ],
   "source": [
    "# DeprecationWarning: \"@coroutine\" decorator is deprecated since Python 3.8, use \"async def\" instead def count():\n",
    "@asyncio.coroutine\n",
    "def my_task():\n",
    "    print(\"Hello\")\n",
    "    yield from asyncio.sleep(1) # Asyc sleep\n",
    "    print(\"World\")\n",
    "    return \"OK\"\n",
    "\n",
    "async def main():\n",
    "    result = await asyncio.gather(my_task(), my_task())\n",
    "    print(result)\n",
    "\n",
    "if __name__ == \"__main__\":\n",
    "    # asyncio.run(main()) # 스크립트 모드\n",
    "    await main() # 주피터 노트북에서 실행시킬 경우"
   ]
  },
  {
   "cell_type": "markdown",
   "metadata": {},
   "source": [
    "##### 쓰레딩과 같이 사용하기"
   ]
  },
  {
   "cell_type": "code",
   "execution_count": 5,
   "metadata": {},
   "outputs": [
    {
     "name": "stdout",
     "output_type": "stream",
     "text": [
      "Task1 asyncio_0\n",
      "Task1 Hello\n",
      "Task2 asyncio_1\n",
      "Task2 Hello\n",
      "Task2 World\n",
      "Task1 World\n",
      "['OK', 'OK']\n"
     ]
    }
   ],
   "source": [
    "import asyncio\n",
    "import time\n",
    "import threading\n",
    "\n",
    "lock = threading.Lock()\n",
    "\n",
    "def blocked_task(task_name):\n",
    "    with lock:\n",
    "        print(task_name, str(threading.current_thread().name))\n",
    "        print(task_name, \"Hello\")\n",
    "\n",
    "    time.sleep(1) # Blocking sleep\n",
    "\n",
    "    with lock:\n",
    "        print(task_name, \"World\")\n",
    "    \n",
    "    return \"OK\"\n",
    "\n",
    "async def main():\n",
    "\n",
    "    loop = asyncio.get_running_loop()\n",
    "\n",
    "    f1 = loop.run_in_executor(None, blocked_task, \"Task1\")\n",
    "    f2 = loop.run_in_executor(None, blocked_task, \"Task2\")\n",
    "\n",
    "    #print(type(f1)) # <class '_asyncio.Future'>\n",
    "\n",
    "    result = await asyncio.gather(f1, f2)\n",
    "\n",
    "    print(result)\n",
    "\n",
    "if __name__ == \"__main__\":\n",
    "    # asyncio.run(main()) # 스크립트 모드\n",
    "    await main() # 주피터 노트북에서 실행시킬 경우"
   ]
  },
  {
   "cell_type": "markdown",
   "metadata": {},
   "source": [
    "##### [실습] 화음 재생\n",
    "\n",
    "스텝1. blocking, non-blocking 둘 다 해보기"
   ]
  },
  {
   "cell_type": "code",
   "execution_count": 7,
   "metadata": {},
   "outputs": [],
   "source": [
    "import simpleaudio as sa\n",
    "import asyncio\n",
    "import time\n",
    "\n",
    "async def play_wav(filename, block = False):\n",
    "    p1 = sa.WaveObject.from_wave_file(filename).play()\n",
    "    if block:\n",
    "        p1.wait_done() # p1이 끝날 때까지 반환하지 않음\n",
    "\n",
    "async def main():\n",
    "    pass\n",
    "\n",
    "if __name__ == \"__main__\":\n",
    "    # asyncio.run(main()) # 스크립트 모드\n",
    "    await main() # 주피터 노트북에서 실행시킬 경우"
   ]
  },
  {
   "cell_type": "markdown",
   "metadata": {},
   "source": [
    "스텝2. ```run_in_executor()```를 사용해서 blocking을 non-blocking으로 만들어서 화음 재생하기"
   ]
  },
  {
   "cell_type": "code",
   "execution_count": null,
   "metadata": {},
   "outputs": [],
   "source": [
    "import simpleaudio as sa\n",
    "import asyncio\n",
    "import time\n",
    "\n",
    "def play_wav(filename, block = True):\n",
    "    p1 = sa.WaveObject.from_wave_file(filename).play()\n",
    "    if block:\n",
    "        p1.wait_done() # p1이 끝날 때까지 반환하지 않음\n",
    "\n",
    "async def main():\n",
    "    pass\n",
    "\n",
    "if __name__ == \"__main__\":\n",
    "    # asyncio.run(main()) # 스크립트 모드\n",
    "    await main() # 주피터 노트북에서 실행시킬 경우"
   ]
  },
  {
   "cell_type": "markdown",
   "metadata": {},
   "source": [
    "##### [실습] AsyncIO로 온도가 가장 높은 도시 찾기\n",
    "\n",
    ".py 파일 사용"
   ]
  }
 ],
 "metadata": {
  "interpreter": {
   "hash": "8018e705143a54fe8977c076a25f32bbbfeba551799f40fa3d5ac4e2da245feb"
  },
  "kernelspec": {
   "display_name": "Python 3.10.2 ('py310')",
   "language": "python",
   "name": "python3"
  },
  "language_info": {
   "codemirror_mode": {
    "name": "ipython",
    "version": 3
   },
   "file_extension": ".py",
   "mimetype": "text/x-python",
   "name": "python",
   "nbconvert_exporter": "python",
   "pygments_lexer": "ipython3",
   "version": "3.10.2"
  },
  "orig_nbformat": 4
 },
 "nbformat": 4,
 "nbformat_minor": 2
}
