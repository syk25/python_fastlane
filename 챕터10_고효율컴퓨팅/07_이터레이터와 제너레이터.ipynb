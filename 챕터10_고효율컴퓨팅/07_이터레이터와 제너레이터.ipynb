{
 "cells": [
  {
   "cell_type": "markdown",
   "metadata": {},
   "source": [
    "___\n",
    "<a href='https://cafe.naver.com/jmhonglab'><p style=\"text-align:center;\"><img src='https://lh3.googleusercontent.com/lY3ySXooSmwsq5r-mRi7uiypbo0Vez6pmNoQxMFhl9fmZJkRHu5lO2vo7se_0YOzgmDyJif9fi4_z0o3ZFdwd8NVSWG6Ea80uWaf3pOHpR4GHGDV7kaFeuHR3yAjIJjDgfXMxsvw=w2400'  class=\"center\" width=\"50%\" height=\"50%\"/></p></a>\n",
    "___\n",
    "<center><em>Content Copyright by HongLab, Inc.</em></center>"
   ]
  },
  {
   "cell_type": "markdown",
   "metadata": {},
   "source": [
    "### 이터레이터(Iterator) 만들기"
   ]
  },
  {
   "cell_type": "markdown",
   "metadata": {},
   "source": [
    "이터레이터(Iterator)"
   ]
  },
  {
   "cell_type": "code",
   "execution_count": null,
   "metadata": {},
   "outputs": [],
   "source": [
    "my_list = [\"사과\", \"딸기\", \"바나나\"]\n",
    "\n",
    "for i in my_list:\n",
    "    print(i)"
   ]
  },
  {
   "cell_type": "markdown",
   "metadata": {},
   "source": [
    "1. for문이 시작할 때 my_list의 ```__iter__()```로 iterator를 생성\n",
    "2. 내부적으로 ```i = __next__()```\n",
    "3. StopIteration 예외가 발생하면 반복문 종료"
   ]
  },
  {
   "cell_type": "code",
   "execution_count": null,
   "metadata": {},
   "outputs": [],
   "source": [
    "my_list = [\"사과\", \"딸기\", \"바나나\"]\n",
    "\n",
    "# for문이 시작할 때 list로부터 iterator를 만든다.\n",
    "# iter(my_list) 함수는 내부적으로 my_list.__iter__()\n",
    "my_itr = iter(my_list) # my_itr = my_list.__iter__()\n",
    "print(type(my_itr)) # <class 'list_iterator'>\n",
    "\n",
    "# for문이 iterator에 아이템 요청\n",
    "# next()는 내부적으로 my_itr.__next__() 호출\n",
    "print(next(my_itr)) # 사과\n",
    "print(next(my_itr)) # 딸기\n",
    "print(next(my_itr)) # 바나나\n",
    "\n",
    "# iterator는 더 이상 제공할 아이템이 없으면 예외를 발생시킨다.\n",
    "print(next(my_itr)) # StopIteration"
   ]
  },
  {
   "cell_type": "code",
   "execution_count": null,
   "metadata": {},
   "outputs": [],
   "source": [
    "my_list = [\"사과\", \"딸기\", \"바나나\"]\n",
    "\n",
    "my_itr = iter(my_list) # iterator를 수동으로 만들어서 for문에 사용\n",
    "\n",
    "print(\"for루프 시작 전: \", next(my_itr)) # next로 한 아이템을 미리 진행\n",
    "\n",
    "for i in my_itr: # for문에 list가 아니라 iterator 넣기\n",
    "    print(i)"
   ]
  },
  {
   "cell_type": "markdown",
   "metadata": {},
   "source": [
    "클래스로 이터레이터를 만들고 싶다면\n",
    "\n",
    "1. ```__iter__()``` 구현\n",
    "1. ```__next()__``` 구현 (끝나면 StopIteration 예외 발생)"
   ]
  },
  {
   "cell_type": "markdown",
   "metadata": {},
   "source": [
    "##### [예시] 제곱 Range 만들기\n"
   ]
  },
  {
   "cell_type": "code",
   "execution_count": null,
   "metadata": {},
   "outputs": [],
   "source": [
    "for i in range(1, 5):\n",
    "    squared = i * i\n",
    "    print(squared, end = \" \")"
   ]
  },
  {
   "cell_type": "code",
   "execution_count": null,
   "metadata": {},
   "outputs": [],
   "source": [
    "class SquaredRange():\n",
    "    def __init__(self, begin, stop):\n",
    "        self.range = iter(range(begin, stop))\n",
    "    \n",
    "    def __iter__(self):\n",
    "        return self\n",
    "\n",
    "    def __next__(self):\n",
    "        try:\n",
    "            value = next(self.range)\n",
    "            # 주의: value = next(self.rage) * next(self.rage)를 사용한다면?\n",
    "            return value * value\n",
    "        except StopIteration:\n",
    "            raise StopIteration\n",
    "\n",
    "for i in SquaredRange(1, 5):\n",
    "    # i가 이미 제곱이기 때문에 squared = i * i 불필요!\n",
    "    print(i, end = \" \")"
   ]
  },
  {
   "cell_type": "code",
   "execution_count": null,
   "metadata": {},
   "outputs": [],
   "source": [
    "# print로 확인\n",
    "class SquaredRange():\n",
    "    def __init__(self, begin, stop):\n",
    "        print(\"__init__() called\")\n",
    "        self.range = iter(range(begin, stop))\n",
    "    \n",
    "    def __iter__(self):\n",
    "        print(\"__iter__() called\")\n",
    "        return self\n",
    "\n",
    "    def __next__(self):\n",
    "        try:\n",
    "            value = next(self.range)\n",
    "\n",
    "            print(\"__next__() called\", value)\n",
    "\n",
    "            # 주의: value = next(self.rage) * next(self.rage)를 사용한다면?\n",
    "            return value * value\n",
    "        except StopIteration:\n",
    "            print(\"__next__() StopIteration\")\n",
    "            raise StopIteration\n",
    "\n",
    "print(\"Start for-loop\")\n",
    "for i in SquaredRange(1, 5):\n",
    "    print(\"In for-loop\", i)"
   ]
  },
  {
   "cell_type": "markdown",
   "metadata": {},
   "source": [
    "##### [실습] 간단한 Range 만들어보기"
   ]
  },
  {
   "cell_type": "code",
   "execution_count": null,
   "metadata": {},
   "outputs": [],
   "source": [
    "class MyRange():\n",
    "    def __init__(self, begin, stop):\n",
    "        pass\n",
    "\n",
    "    def __iter__(self):\n",
    "        pass\n",
    "\n",
    "    def __next__(self):\n",
    "        pass\n",
    "\n",
    "for i in MyRange(1, 5):\n",
    "    print(i, end=\" \")"
   ]
  },
  {
   "cell_type": "markdown",
   "metadata": {},
   "source": [
    "### 제너레이터(Generator) 만들기\n",
    "\n",
    "제너레이터의 특징\n",
    "- 함수만으로 구현하기 때문에 이터레이터보다 구현이 간단  \n",
    "- 미리 만들어서 보관하고 있다가 하나씩 주는 것이 아니라 그때그때 생성해서 제공\n",
    "- 함수 안에서 ```yield``` 키워드를 사용하면 그 함수는 제너레이터 "
   ]
  },
  {
   "cell_type": "code",
   "execution_count": null,
   "metadata": {},
   "outputs": [],
   "source": [
    "# 일반적인 함수와 비교\n",
    "\n",
    "def word_generator():\n",
    "    # statement 1\n",
    "    # statement 2\n",
    "    return \"사과\"\n",
    "    # statement ... <- 여기서부터는 실행되지 않음\n",
    "    return \"딸기\"\n",
    "    return \"바나나\"\n",
    "\n",
    "item = word_generator()\n",
    "print(item) # 사과\n",
    "\n",
    "item = word_generator()\n",
    "print(item) # 사과 (딸기X,  바나나X)"
   ]
  },
  {
   "cell_type": "code",
   "execution_count": null,
   "metadata": {},
   "outputs": [],
   "source": [
    "# for문에서 제너레이터 사용\n",
    "def word_generator():\n",
    "    yield \"사과\"\n",
    "    yield \"딸기\"\n",
    "    yield \"바나나\"\n",
    "    #raise StopIteration # 불필요!\n",
    "\n",
    "print(type(word_generator)) # <class 'function'>\n",
    "print(type(word_generator())) # <class 'generator'>\n",
    "\n",
    "for word in word_generator():\n",
    "    print(word)"
   ]
  },
  {
   "cell_type": "code",
   "execution_count": null,
   "metadata": {},
   "outputs": [],
   "source": [
    "def word_generator():\n",
    "    print(\"Step 1\")\n",
    "    yield \"사과\"\n",
    "    print(\"Step 2\")\n",
    "    yield \"딸기\"\n",
    "    print(\"Step 3\")\n",
    "    yield \"바나나\"\n",
    "    print(\"Step 4\")\n",
    "    #raise StopIteration\n",
    "\n",
    "g = word_generator()\n",
    "\n",
    "print(\"START\")\n",
    "print(next(g)) # 사과\n",
    "print(\"A\")\n",
    "print(next(g)) # 딸기\n",
    "print(\"B\")\n",
    "print(next(g)) # 바나나\n",
    "print(\"C\")\n",
    "print(next(g)) # StopIteration\n",
    "print(\"D\")"
   ]
  },
  {
   "cell_type": "code",
   "execution_count": null,
   "metadata": {},
   "outputs": [],
   "source": [
    "def word_generator():\n",
    "    yield \"사과\"\n",
    "    yield \"딸기\"\n",
    "    yield \"바나나\"\n",
    "    #raise StopIteration # 함수가 끝나면 내부적으로 예외 발생\n",
    "\n",
    "g = word_generator()\n",
    "print(type(g), id(g)) # <class 'generator'>\n",
    "\n",
    "my_itr = iter(g) # 굳이 generator로부터 iterator를 다시 받아올 필요가 없음\n",
    "print(type(my_itr), id(my_itr)) # <class 'generator'>"
   ]
  },
  {
   "cell_type": "markdown",
   "metadata": {},
   "source": [
    "[제너레이터와 이터레이터의 차이](https://www.geeksforgeeks.org/difference-between-iterator-vs-generator/) "
   ]
  },
  {
   "cell_type": "code",
   "execution_count": null,
   "metadata": {},
   "outputs": [],
   "source": [
    "def my_range(start, stop):\n",
    "    while start < stop:\n",
    "        yield start\n",
    "        start += 1 # yield 후에 더할 수 있음\n",
    "\n",
    "for i in my_range(1, 5):\n",
    "    print(i, end=\" \")"
   ]
  },
  {
   "cell_type": "code",
   "execution_count": null,
   "metadata": {},
   "outputs": [],
   "source": [
    "def my_range(start, stop):\n",
    "    print(\"my_range() start\")\n",
    "    while start < stop:\n",
    "        print(\"before yield\")\n",
    "        yield start\n",
    "        print(\"after yield\")\n",
    "        start += 1\n",
    "    print(\"my_range() end\")\n",
    "\n",
    "for i in my_range(1, 5):\n",
    "    print(\"# In for-loop\", i)"
   ]
  },
  {
   "cell_type": "code",
   "execution_count": null,
   "metadata": {},
   "outputs": [],
   "source": [
    "# 제곱 생성\n",
    "def my_squared_range(start, stop):\n",
    "    while start < stop:\n",
    "        yield start * start # 자기 자신 안에서 계산해서 전달\n",
    "        start += 1 # yield 후에 더할 수 있음\n",
    "\n",
    "for i in my_squared_range(1, 5):\n",
    "    print(i, end=\" \")"
   ]
  },
  {
   "cell_type": "markdown",
   "metadata": {},
   "source": [
    "##### 제너레이터 표현식(Generator Expressions)\n",
    "\n",
    "리스트 컴프리헨션과 비슷하게 표현식만으로도 제너레이터를 만들 수 있습니다.  \n",
    "그렇다면 리스트와 제너레이터의 차이는?"
   ]
  },
  {
   "cell_type": "code",
   "execution_count": null,
   "metadata": {},
   "outputs": [],
   "source": [
    "a = (x*x for x in range(5))\n",
    "\n",
    "print(type(a))\n",
    "print(a) # 리스트와 달리 제너레이터 객체에 대한 정보가 출력"
   ]
  },
  {
   "cell_type": "markdown",
   "metadata": {},
   "source": [
    "리스트 만들 때\n"
   ]
  },
  {
   "cell_type": "code",
   "execution_count": null,
   "metadata": {},
   "outputs": [],
   "source": [
    "def square(x):\n",
    "    print(\"square() called\")\n",
    "    return x * x\n",
    "\n",
    "print(\"Check 1\")\n",
    "\n",
    "a = [square(x) for x in range(5)]\n",
    "\n",
    "print(\"Check 2\")\n",
    "\n",
    "a = list(a)\n",
    "\n",
    "print(\"Check 3\")\n",
    "\n",
    "print(a)"
   ]
  },
  {
   "cell_type": "markdown",
   "metadata": {},
   "source": [
    "제너레이터 만들 때"
   ]
  },
  {
   "cell_type": "code",
   "execution_count": null,
   "metadata": {},
   "outputs": [],
   "source": [
    "def square(x):\n",
    "    print(\"square() called\")\n",
    "    return x * x\n",
    "\n",
    "print(\"Check 1\")\n",
    "\n",
    "a = (square(x) for x in range(5))\n",
    "\n",
    "print(\"Check 2\")\n",
    "\n",
    "a = list(a)\n",
    "\n",
    "print(\"Check 3\")\n",
    "\n",
    "print(a)"
   ]
  },
  {
   "cell_type": "markdown",
   "metadata": {},
   "source": [
    "map() 주의 사항"
   ]
  },
  {
   "cell_type": "code",
   "execution_count": null,
   "metadata": {},
   "outputs": [],
   "source": [
    "def square(x):\n",
    "    print(\"square() called\")\n",
    "    return x * x\n",
    "\n",
    "print(\"Check 1\")\n",
    "\n",
    "a = map(square, [1, 2, 3])\n",
    "\n",
    "print(\"Check 2\")\n",
    "\n",
    "a = list(a)\n",
    "\n",
    "print(\"Check 3\")\n",
    "\n",
    "for i in map(square, [1, 2, 3]):\n",
    "    print(i)"
   ]
  },
  {
   "cell_type": "code",
   "execution_count": null,
   "metadata": {},
   "outputs": [],
   "source": [
    "def square(x):\n",
    "    print(\"square() called\")\n",
    "    return x * x\n",
    "    \n",
    "for i in map(square, [1, 2, 3]):\n",
    "    print(i)"
   ]
  },
  {
   "cell_type": "markdown",
   "metadata": {},
   "source": [
    "##### ```yield from```"
   ]
  },
  {
   "cell_type": "code",
   "execution_count": null,
   "metadata": {},
   "outputs": [],
   "source": [
    "def my_squared_range(start, stop):\n",
    "    # 다른 이터러블로부터 하나씩 받아서 전달\n",
    "    yield from [x*x for x in range(start, stop)] \n",
    "\n",
    "for i in my_squared_range(1, 5):\n",
    "    print(i, end=\" \")"
   ]
  },
  {
   "cell_type": "code",
   "execution_count": null,
   "metadata": {},
   "outputs": [],
   "source": [
    "def my_range(start, stop):\n",
    "    while start < stop:\n",
    "        yield start\n",
    "        start += 1\n",
    "\n",
    "def my_generator(start, stop):\n",
    "    yield from my_range(start, stop) # 다른 제너레이터\n",
    "\n",
    "for i in my_generator(1, 5):\n",
    "    print(i, end=\" \")"
   ]
  },
  {
   "cell_type": "code",
   "execution_count": null,
   "metadata": {},
   "outputs": [],
   "source": [
    "# yield from에 리스트 컴프리헨션 사용\n",
    "def my_range(start, stop):\n",
    "    while start < stop:\n",
    "        print(\"my_ranged() called\")\n",
    "        yield start\n",
    "        start += 1 # yield 후에 더할 수 있음\n",
    "\n",
    "def my_squared_range(start, stop):\n",
    "    print(\"my_squared_range() called\")\n",
    "    yield from [x*x for x in my_range(start, stop)]\n",
    "\n",
    "for i in my_squared_range(1, 5):\n",
    "    print(i)"
   ]
  },
  {
   "cell_type": "code",
   "execution_count": null,
   "metadata": {},
   "outputs": [],
   "source": [
    "# yield from에 제너레이터 표현식 사용\n",
    "\n",
    "def my_range(start, stop):\n",
    "    while start < stop:\n",
    "        print(\"my_ranged() called\")\n",
    "        yield start\n",
    "        start += 1 # yield 후에 더할 수 있음\n",
    "\n",
    "def my_squared_range(start, stop):\n",
    "    print(\"my_squared_range() called\")\n",
    "    # 제너레이터 표현식\n",
    "    yield from (x*x for x in my_range(start, stop))\n",
    "\n",
    "for i in my_squared_range(1, 5):\n",
    "    print(i)"
   ]
  },
  {
   "cell_type": "markdown",
   "metadata": {},
   "source": [
    "##### [실습] 파일 읽어오기\n",
    "\n",
    "모든 파일을 한 번에 미리 읽어오는 방식 대신에 그때그때 읽어올 것  \n",
    "myfile_00000.txt 부터 시작하고 파일 읽기에 실패하면 종료"
   ]
  },
  {
   "cell_type": "code",
   "execution_count": null,
   "metadata": {},
   "outputs": [],
   "source": [
    "i = 0\n",
    "while True:\n",
    "    try:\n",
    "        with open(\"myfile_\" + str(i).zfill(5) + \".txt\") as f:\n",
    "            text = f.read()\n",
    "            print(text)\n",
    "            i += 1\n",
    "    except:\n",
    "        break"
   ]
  },
  {
   "cell_type": "markdown",
   "metadata": {},
   "source": [
    "이터레이터 사용"
   ]
  },
  {
   "cell_type": "code",
   "execution_count": null,
   "metadata": {},
   "outputs": [],
   "source": [
    "class FileIterator:\n",
    "    pass\n",
    "\n",
    "for text in FileIterator():\n",
    "    print(text)\n",
    "    \n",
    "        "
   ]
  },
  {
   "cell_type": "markdown",
   "metadata": {},
   "source": [
    "제너레이터 사용"
   ]
  },
  {
   "cell_type": "code",
   "execution_count": null,
   "metadata": {},
   "outputs": [],
   "source": [
    "def text_generator():\n",
    "    pass\n",
    "\n",
    "for text in text_generator():\n",
    "    print(text)"
   ]
  },
  {
   "cell_type": "markdown",
   "metadata": {},
   "source": [
    "##### [실습] 시간에 대한 while문을 for문으로 바꾸기"
   ]
  },
  {
   "cell_type": "code",
   "execution_count": null,
   "metadata": {},
   "outputs": [],
   "source": [
    "import time\n",
    "import datetime\n",
    "\n",
    "start_time = time.time()  # 시작 조건\n",
    "\n",
    "while time.time() - start_time < 5:  # 시간이 흐름에 따라 조건이 변화\n",
    "    # 현재 시간을 문자열로 바꿔서 출력\n",
    "    print(datetime.datetime.now())\n",
    "    time.sleep(1)"
   ]
  },
  {
   "cell_type": "markdown",
   "metadata": {},
   "source": [
    "이터레이터 사용"
   ]
  },
  {
   "cell_type": "code",
   "execution_count": null,
   "metadata": {},
   "outputs": [],
   "source": [
    "import time\n",
    "import datetime\n",
    "\n",
    "class TimeIterator:\n",
    "    pass\n",
    "\n",
    "for _ in TimeIterator(5): # 5초 동안\n",
    "    time.sleep(1) # 1초 간격으로 시간 출력"
   ]
  },
  {
   "cell_type": "markdown",
   "metadata": {},
   "source": [
    "제너레이터 사용"
   ]
  },
  {
   "cell_type": "code",
   "execution_count": null,
   "metadata": {},
   "outputs": [],
   "source": [
    "import time\n",
    "import datetime\n",
    "\n",
    "def time_generator(duration):\n",
    "    pass\n",
    "\n",
    "for _ in time_generator(5):\n",
    "    time.sleep(1)"
   ]
  },
  {
   "cell_type": "markdown",
   "metadata": {},
   "source": [
    "##### [실습] 피보나치 수열 제너레이터 만들기"
   ]
  },
  {
   "cell_type": "code",
   "execution_count": null,
   "metadata": {},
   "outputs": [],
   "source": [
    "def fibonacci(n):\n",
    "    if n == 0:\n",
    "        return 0\n",
    "    elif n == 1:\n",
    "        return 1\n",
    "    else:\n",
    "        return fibonacci(n - 1) + fibonacci(n - 2)\n",
    "\n",
    "\n",
    "for n in range(0, 11):\n",
    "    print(fibonacci(n), end=\" \")"
   ]
  },
  {
   "cell_type": "markdown",
   "metadata": {},
   "source": [
    "**스텝1** fibonacci() 재귀호출 사용"
   ]
  },
  {
   "cell_type": "code",
   "execution_count": null,
   "metadata": {},
   "outputs": [],
   "source": [
    "def fibonacci(n):\n",
    "    if n == 0:\n",
    "        return 0\n",
    "    elif n == 1:\n",
    "        return 1\n",
    "    else:\n",
    "        return fibonacci(n - 1) + fibonacci(n - 2)\n",
    "\n",
    "def fibo_generator(start, stop):\n",
    "    pass\n",
    "\n",
    "for fibo in fibo_generator(0, 11):\n",
    "    print(fibo, end=\" \")"
   ]
  },
  {
   "cell_type": "markdown",
   "metadata": {},
   "source": [
    "**스텝2** 재귀호출을 사용하지 않는 경우"
   ]
  },
  {
   "cell_type": "code",
   "execution_count": null,
   "metadata": {},
   "outputs": [],
   "source": [
    "def fibo_generator(stop):\n",
    "    pass\n",
    "\n",
    "for fibo in fibo_generator(11):\n",
    "    print(fibo, end=\" \")"
   ]
  }
 ],
 "metadata": {
  "interpreter": {
   "hash": "f64e548cbf2ebb58caacc39a919b16809fbf0a70979c18e5ddba76aa9934d80e"
  },
  "kernelspec": {
   "display_name": "Python 3.9.5 64-bit ('base': conda)",
   "language": "python",
   "name": "python3"
  },
  "language_info": {
   "codemirror_mode": {
    "name": "ipython",
    "version": 3
   },
   "file_extension": ".py",
   "mimetype": "text/x-python",
   "name": "python",
   "nbconvert_exporter": "python",
   "pygments_lexer": "ipython3",
   "version": "3.10.2"
  },
  "orig_nbformat": 4
 },
 "nbformat": 4,
 "nbformat_minor": 2
}
