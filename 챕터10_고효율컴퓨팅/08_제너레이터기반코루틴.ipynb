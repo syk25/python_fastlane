{
 "cells": [
  {
   "cell_type": "markdown",
   "metadata": {},
   "source": [
    "___\n",
    "<a href='https://cafe.naver.com/jmhonglab'><p style=\"text-align:center;\"><img src='https://lh3.googleusercontent.com/lY3ySXooSmwsq5r-mRi7uiypbo0Vez6pmNoQxMFhl9fmZJkRHu5lO2vo7se_0YOzgmDyJif9fi4_z0o3ZFdwd8NVSWG6Ea80uWaf3pOHpR4GHGDV7kaFeuHR3yAjIJjDgfXMxsvw=w2400'  class=\"center\" width=\"50%\" height=\"50%\"/></p></a>\n",
    "___\n",
    "<center><em>Content Copyright by HongLab, Inc.</em></center>"
   ]
  },
  {
   "cell_type": "markdown",
   "metadata": {},
   "source": [
    "# 제너레이터 기반 코루틴\n",
    "\n",
    "### [PEP 342 – Coroutines via Enhanced Generators](https://peps.python.org/pep-0342/)\n",
    "\n",
    "비교) Native coroutine (AsyncIO)\n",
    "\n",
    "Co + Routine = (하나가 끝나면 번갈아가면서 일하는 것이 아니라) 동시에 함께 일하는 루틴  \n",
    "제너레이터와 프로그램의 흐름을 주고 받으면서 동시에 일하는 것 처럼 진행  \n",
    "```yield``` vs ```send()```"
   ]
  },
  {
   "cell_type": "code",
   "execution_count": 40,
   "metadata": {},
   "outputs": [
    {
     "name": "stdout",
     "output_type": "stream",
     "text": [
      "안녕?\n",
      "보노보노, 안녕?\n",
      "차차, 안녕?\n",
      "텔레토비, 안녕?\n"
     ]
    }
   ],
   "source": [
    "def what_to_say():\n",
    "    str = \"안녕?\"\n",
    "    while True:\n",
    "        name = (yield str)\n",
    "        str = name + \", 안녕?\"\n",
    "\n",
    "coro = what_to_say()\n",
    "\n",
    "# yield를 만나기 위해 처음에는 next() 필수 (send() 사용 X)\n",
    "print(next(coro)) # 안녕?\n",
    "\n",
    "# 제너레이터가 출력할 내용을 만들어 주면\n",
    "# 메인에서 실제로 출력\n",
    "print(coro.send(\"보노보노\")) # 보노보노, 안녕?\n",
    "print(coro.send(\"차차\")) # 차차, 안녕?\n",
    "print(coro.send(\"텔레토비\")) # 텔레토비, 안녕?\n",
    "# 계속 진행 ..."
   ]
  },
  {
   "cell_type": "markdown",
   "metadata": {},
   "source": [
    "send()대신 close()로 코루틴 종료"
   ]
  },
  {
   "cell_type": "code",
   "execution_count": 37,
   "metadata": {},
   "outputs": [
    {
     "name": "stdout",
     "output_type": "stream",
     "text": [
      "안녕?\n",
      "보노보노, 안녕?\n",
      "차차, 안녕?\n",
      "텔레토비, 안녕?\n",
      "종료: 이제 그만!\n"
     ]
    },
    {
     "ename": "StopIteration",
     "evalue": "",
     "output_type": "error",
     "traceback": [
      "\u001b[1;31m---------------------------------------------------------------------------\u001b[0m",
      "\u001b[1;31mStopIteration\u001b[0m                             Traceback (most recent call last)",
      "\u001b[1;32mc:\\Users\\jmhong\\HongLabPythonPrivate\\Ch10_고효율컴퓨팅\\08_제너레이터기반코루틴.ipynb Cell 3'\u001b[0m in \u001b[0;36m<module>\u001b[1;34m\u001b[0m\n\u001b[0;32m     <a href='vscode-notebook-cell:/c%3A/Users/jmhong/HongLabPythonPrivate/Ch10_%EA%B3%A0%ED%9A%A8%EC%9C%A8%EC%BB%B4%ED%93%A8%ED%8C%85/08_%EC%A0%9C%EB%84%88%EB%A0%88%EC%9D%B4%ED%84%B0%EA%B8%B0%EB%B0%98%EC%BD%94%EB%A3%A8%ED%8B%B4.ipynb#ch0000002?line=21'>22</a>\u001b[0m coro\u001b[39m.\u001b[39mclose()\n\u001b[0;32m     <a href='vscode-notebook-cell:/c%3A/Users/jmhong/HongLabPythonPrivate/Ch10_%EA%B3%A0%ED%9A%A8%EC%9C%A8%EC%BB%B4%ED%93%A8%ED%8C%85/08_%EC%A0%9C%EB%84%88%EB%A0%88%EC%9D%B4%ED%84%B0%EA%B8%B0%EB%B0%98%EC%BD%94%EB%A3%A8%ED%8B%B4.ipynb#ch0000002?line=23'>24</a>\u001b[0m \u001b[39m# 제너레이터 종료 후 send()는 StopIteration 발생\u001b[39;00m\n\u001b[1;32m---> <a href='vscode-notebook-cell:/c%3A/Users/jmhong/HongLabPythonPrivate/Ch10_%EA%B3%A0%ED%9A%A8%EC%9C%A8%EC%BB%B4%ED%93%A8%ED%8C%85/08_%EC%A0%9C%EB%84%88%EB%A0%88%EC%9D%B4%ED%84%B0%EA%B8%B0%EB%B0%98%EC%BD%94%EB%A3%A8%ED%8B%B4.ipynb#ch0000002?line=24'>25</a>\u001b[0m \u001b[39mprint\u001b[39m(coro\u001b[39m.\u001b[39;49msend(\u001b[39m\"\u001b[39;49m\u001b[39m텔레토비\u001b[39;49m\u001b[39m\"\u001b[39;49m))\n",
      "\u001b[1;31mStopIteration\u001b[0m: "
     ]
    }
   ],
   "source": [
    "def what_to_say():\n",
    "    str = \"안녕?\"\n",
    "    while True:\n",
    "        try:\n",
    "            name = (yield str)\n",
    "            str = name + \", 안녕?\"\n",
    "        except GeneratorExit:\n",
    "            print(\"종료: 이제 그만!\")\n",
    "            return # 제너레이터 종료\n",
    "\n",
    "coro = what_to_say()\n",
    "\n",
    "print(next(coro)) # yield를 만나기 위해 처음에는 next() 필수 (send() 사용 X)\n",
    "\n",
    "# 제너레이터가 출력할 내용을 만들어 주면\n",
    "# 메인에서 실제로 출력\n",
    "print(coro.send(\"보노보노\"))\n",
    "print(coro.send(\"차차\"))\n",
    "print(coro.send(\"텔레토비\"))\n",
    "# ... 여러 가지 일들 진행\n",
    "\n",
    "# 메인에서 종료시킬 수 있음\n",
    "coro.close()\n",
    "\n",
    "# 제너레이터 종료 후 send()는 StopIteration 발생\n",
    "print(coro.send(\"텔레토비\"))"
   ]
  },
  {
   "cell_type": "markdown",
   "metadata": {},
   "source": [
    "\n",
    "병렬성: 여러 사람들이 여러 컴퓨터로 각자 일하는 상황  \n",
    "동시성: 여러 사람들이 컴퓨터 하나로 번갈아가면서 일하는 상황  "
   ]
  },
  {
   "cell_type": "code",
   "execution_count": 35,
   "metadata": {},
   "outputs": [
    {
     "name": "stdout",
     "output_type": "stream",
     "text": [
      "Finished  TaskA\n",
      "Finished  TaskB\n"
     ]
    }
   ],
   "source": [
    "# 직렬 예제\n",
    "\n",
    "import time\n",
    "\n",
    "def my_task(task_name, duration):\n",
    "    start_time = time.time()\n",
    "    while time.time() - start_time < duration:\n",
    "        continue # IO-Bound task\n",
    "    print(\"Finished \", task_name)\n",
    "\n",
    "my_task(\"TaskA\", 1.0)\n",
    "my_task(\"TaskB\", 1.0)"
   ]
  },
  {
   "cell_type": "code",
   "execution_count": 42,
   "metadata": {},
   "outputs": [
    {
     "name": "stdout",
     "output_type": "stream",
     "text": [
      "1649902936.0145235 TaskA\n",
      "1649902936.0145235 TaskB\n",
      "1649902936.1198673 TaskA\n",
      "1649902936.1198673 TaskB\n",
      "1649902936.2305875 TaskA\n",
      "1649902936.2305875 TaskB\n",
      "1649902936.3409004 TaskA\n",
      "1649902936.3409004 TaskB\n",
      "1649902936.452897 TaskA\n",
      "1649902936.452897 TaskB\n",
      "1649902936.5648978 TaskA\n",
      "1649902936.5648978 TaskB\n",
      "Finished  TaskB\n",
      "1649902936.6761487 TaskA\n",
      "1649902936.786158 TaskA\n",
      "1649902936.8961349 TaskA\n",
      "1649902937.0074856 TaskA\n",
      "1649902937.1174226 TaskA\n",
      "Finished  TaskA\n"
     ]
    }
   ],
   "source": [
    "# 동시성 예제\n",
    "import time\n",
    "\n",
    "def my_task(task_name, start_time, duration):\n",
    "    current_time = start_time\n",
    "    while current_time - start_time < duration:\n",
    "        # IO-Bound task\n",
    "        current_time = (yield \"Working\")\n",
    "        print(current_time, task_name)\n",
    "\n",
    "    print(\"Finished \", task_name)\n",
    "    yield None\n",
    "\n",
    "start_time = time.time()\n",
    "\n",
    "coro1 = my_task(\"TaskA\", start_time, 1.0)\n",
    "coro2 = my_task(\"TaskB\", start_time, 0.5)\n",
    "\n",
    "next(coro1)\n",
    "next(coro2)\n",
    "\n",
    "task_list = [coro1, coro2]\n",
    "\n",
    "while task_list:\n",
    "    current_time = time.time() # 현재 시간을 한 번 측정해서 여러 코루틴들에게 배포\n",
    "    for t in task_list.copy():\n",
    "        if not t.send(current_time):\n",
    "            task_list.remove(t)\n",
    "\n",
    "    time.sleep(0.1)\n",
    "\n"
   ]
  }
 ],
 "metadata": {
  "interpreter": {
   "hash": "8018e705143a54fe8977c076a25f32bbbfeba551799f40fa3d5ac4e2da245feb"
  },
  "kernelspec": {
   "display_name": "Python 3.10.2 ('py310')",
   "language": "python",
   "name": "python3"
  },
  "language_info": {
   "codemirror_mode": {
    "name": "ipython",
    "version": 3
   },
   "file_extension": ".py",
   "mimetype": "text/x-python",
   "name": "python",
   "nbconvert_exporter": "python",
   "pygments_lexer": "ipython3",
   "version": "3.10.2"
  },
  "orig_nbformat": 4
 },
 "nbformat": 4,
 "nbformat_minor": 2
}
