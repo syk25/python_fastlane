{
 "cells": [
  {
   "cell_type": "markdown",
   "metadata": {},
   "source": [
    "___\n",
    "<a href='https://cafe.naver.com/jmhonglab'><p style=\"text-align:center;\"><img src='https://lh3.googleusercontent.com/lY3ySXooSmwsq5r-mRi7uiypbo0Vez6pmNoQxMFhl9fmZJkRHu5lO2vo7se_0YOzgmDyJif9fi4_z0o3ZFdwd8NVSWG6Ea80uWaf3pOHpR4GHGDV7kaFeuHR3yAjIJjDgfXMxsvw=w2400'  class=\"center\" width=\"50%\" height=\"50%\"/></p></a>\n",
    "___\n",
    "<center><em>Content Copyright by HongLab, Inc.</em></center>"
   ]
  },
  {
   "cell_type": "markdown",
   "metadata": {},
   "source": [
    "# 파이썬의 동시성과 병렬성\n",
    "\n",
    "### IO-Bound vs CPU-Bound\n",
    "\n",
    "IO-Bound\n",
    "- 인터넷 통신이나 하드디스크 입출력(InputOutput) 작업은 CPU/Memory 작업에 비해 매우 느리다. \n",
    "- 예를 들어서 인터넷에서 사진을 수집해서 저장하는 프로그램은 인터넷 속도가 전체 프로그램의 성능을 결정한다.\n",
    "\n",
    "CPU-Bound\n",
    "- CPU 계산이 전체 프로그램의 성능을 결정하는 경우.\n",
    "- 예를 들면 수학적으로 복잡하거나 양이 많은 계산을 한 컴퓨터 안에서 수행할 경우.\n",
    "\n",
    "참고: HPC 문제는 보통 CPU-Bound지만 경우에 따라서는 IO-Bound가 될 수도 있기때문에 항상 주의를 기울이셔야합니다. 예를 들어서 분산처리를 할 때는 여러 컴퓨터 사이의 통신량을 고려해야할 수도 있고 데이터 사이언스나 머신러닝에서 훈련 데이터를 하드디스크나 클라우드에서 읽어와야 하는 경우는 IO-Bound가 될 수도 있습니다.\n",
    "\n",
    "### 동시성(Concurrency) vs 병렬성(Parallelism)\n",
    "동시성\n",
    "- 여러 개의 일(task)들이 동시에 진행되는 것 처럼 처리. 대기 시간이 긴 경우(IO-Bound)에 사용\n",
    "\n",
    "병렬성\n",
    "- 하나의 일을 여러 코어가 나눠서 집중적으로 진행. CPU와 메모리를 강도 높게 사용(CPU-Bound)하는 경우\n",
    "\n",
    "### GIL(Global Interpreter Lock)\n",
    "- CPython에서 한 번에 하나의 쓰레드만 일을 하도록 만드는 잠금장치\n",
    "- 멀티쓰레딩을 사용하더라도 단일 쓰레드 성능\n",
    "- 다른 언어에서는 멀티쓰레딩을 동시성과 병렬성 모두 구현가능하지만 파이썬에서는 현실적으로 동시성에 더 적합\n",
    "- C++로 만든 모듈은 멀티쓰레딩 사용 가능\n",
    "- GPU 멀티쓰레딩에 영향을 주지 않음\n",
    "\n",
    "### Synchronous vs Asynchronous\n",
    "- 비동기식(Asynchronous): 완전히 독립적으로 진행한다. 대기할 필요가 없다.\n",
    "- 동기식(Synchronous): 중간에 모여서 정보를 교환하고 일관성을 유지하는 작업을 한다. 일을 빨리 끝낸 쓰레드나 프로세스가 기다리면서 낭비하는 시간이 발생할 수도 있다.\n",
    "\n",
    "동시성이나 병렬성을 구현할 때 당연히 비동기식이 효율이 높지만 알고리즘에 따라서는 동기식으로 구현해야할 수도 있습니다.\n",
    "\n",
    "### [멀티쓰레딩](https://docs.python.org/3/library/threading.html) vs [멀티프로세싱](https://docs.python.org/3/library/multiprocessing.html) vs [AsyncIO(코루틴)](https://docs.python.org/3/library/asyncio.html)\n",
    "\n",
    "두 가지 혹은 세 가지를 함께 사용하는 경우도 있습니다.\n",
    "\n",
    "|문제|예시|전략|멀티쓰레딩|멀티프로세싱|Asyncio|\n",
    "|:----:|:--:|:--:|:---:|:---:|:---:|\n",
    "|IO-Bound|웹 스크래핑|동시성|O|$\\triangle$|O|\n",
    "|CPU-Bound|수학 계산|병렬성|X (GIL)|O|X|\n",
    "\n",
    "##### [참고 자료 링크](https://realpython.com/python-concurrency/#how-to-speed-up-an-io-bound-program)"
   ]
  }
 ],
 "metadata": {
  "language_info": {
   "name": "python"
  },
  "orig_nbformat": 4
 },
 "nbformat": 4,
 "nbformat_minor": 2
}
