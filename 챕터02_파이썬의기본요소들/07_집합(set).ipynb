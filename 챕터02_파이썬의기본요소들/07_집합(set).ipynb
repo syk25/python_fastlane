{
 "cells": [
  {
   "cell_type": "markdown",
   "metadata": {},
   "source": [
    "___\n",
    "<a href='https://cafe.naver.com/jmhonglab'><p style=\"text-align:center;\"><img src='https://lh3.googleusercontent.com/lY3ySXooSmwsq5r-mRi7uiypbo0Vez6pmNoQxMFhl9fmZJkRHu5lO2vo7se_0YOzgmDyJif9fi4_z0o3ZFdwd8NVSWG6Ea80uWaf3pOHpR4GHGDV7kaFeuHR3yAjIJjDgfXMxsvw=w2400'  class=\"center\" width=\"50%\" height=\"50%\"/></p></a>\n",
    "___\n",
    "<center><em>Content Copyright by HongLab, Inc.</em></center>"
   ]
  },
  {
   "cell_type": "markdown",
   "metadata": {},
   "source": [
    "# [집합(set)](https://docs.python.org/ko/3/tutorial/datastructures.html#sets)\n",
    "\n",
    "|이름|type|예시|가변성|순서유지|중복허용|\n",
    "|---|---|---|---|---|---|\n",
    "|리스트|list|```[\"사과\", 123, 3.14]```|가변|O|O|\n",
    "|튜플|tuple|```(\"사과\", 123, 3.14)```|불변|O|O|\n",
    "|집합|set|```{\"사과\", 123, 3.14}```|가변|X|X|\n",
    "|사전|dict|```{\"원주율\":3.14, 123:\"일이삼\"}```|가변|3.6+|키X값O|\n"
   ]
  },
  {
   "cell_type": "markdown",
   "metadata": {},
   "source": [
    "집합(set)은 시퀀스 자료형들과 많이 다릅니다. 예를 들어서 리스트 같은 경우는 아이템을 넣은 순서를 그대로 유지해주고 같은 아이템을 여러개 넣을 수도 있습니다. 그러나 집합(set)은 순서를 유지해주지도 않고 같은 아이템을 여러개 넣을 수도 없습니다."
   ]
  },
  {
   "cell_type": "markdown",
   "metadata": {},
   "source": [
    "### 집합(set)을 만드는 방법\n",
    "중괄호(물결괄호```{}```)와 컴마(```.```)를 이용해서 집합을 만들 수 있습니다. 그러나 비어있는 물결괄호는 집합이 아니라 사전(dict)을 만드니 주의하세요.\n"
   ]
  },
  {
   "cell_type": "code",
   "execution_count": null,
   "metadata": {},
   "outputs": [],
   "source": [
    "#s = {} # 빈 셋을 만들려고 시도하면 dict가 만들어짐\n"
   ]
  },
  {
   "cell_type": "markdown",
   "metadata": {},
   "source": [
    "리스트나 튜플과 달리 아이템의 순서를 유지해주지 **않습니다**. 중복된 아이템들은 제거되고 하나만 남습니다. 인덱싱이나 슬라이싱을 사용할 수 없습니다."
   ]
  },
  {
   "cell_type": "code",
   "execution_count": null,
   "metadata": {},
   "outputs": [],
   "source": [
    "s = {100, 55, 1, 1, 1, 1, 2, 3}\n"
   ]
  },
  {
   "cell_type": "code",
   "execution_count": null,
   "metadata": {},
   "outputs": [],
   "source": [
    "fruits = {'apple', 'orange', 'apple', 'pear', 'orange', 'banana'}\n"
   ]
  },
  {
   "cell_type": "markdown",
   "metadata": {},
   "source": [
    "[보충] 집합은 순서가 없고(unordered) 중복이 없는 컨테이너입니다. 순서가 없다는 얘기는 순서가 달라도 아이템들이 같으면 같은 집합이라는 의미입니다. 예를 들어 ```{1, 2}```와 ```{2, 1}```은 동일한 집합입니다. 간단한 예제에서 집합을 출력해보면 오름차순으로 정렬된 것처럼 보임에도 불구하고 집합 내부에서 정렬을 해주는 것은 아니니 오해 없으시길 바랍니다."
   ]
  },
  {
   "cell_type": "code",
   "execution_count": 1,
   "metadata": {},
   "outputs": [
    {
     "data": {
      "text/plain": [
       "{-1923871928.2398238,\n",
       " 1.9283791823791236e+16,\n",
       " 382478374.3498733,\n",
       " 47834.34029834024,\n",
       " 'Hello'}"
      ]
     },
     "execution_count": 1,
     "metadata": {},
     "output_type": "execute_result"
    }
   ],
   "source": [
    "# 집합 객체를 출력할때 더 큰 숫자가 먼저 나오기도 합니다.\n",
    "s = {19283791823791237.1239081273, -1923871928.2398237, 'Hello', 382478374.34987329487239847, 47834.340298340239809234890}\n",
    "s"
   ]
  },
  {
   "cell_type": "code",
   "execution_count": null,
   "metadata": {},
   "outputs": [],
   "source": [
    "# 리스트를 셋으로 변경\n",
    "l = [1, 1, 2, 2, 3, 4, 5, 6, 1, 1]"
   ]
  },
  {
   "cell_type": "code",
   "execution_count": null,
   "metadata": {},
   "outputs": [],
   "source": [
    "# 셋을 다시 리스트로 변경 \n",
    "# [주의] 셋으로 바꾸면서 삭제됐던 아이템들이 다시 돌아오지는 않습니다."
   ]
  },
  {
   "cell_type": "markdown",
   "metadata": {},
   "source": [
    "### 집합의 연산들\n"
   ]
  },
  {
   "cell_type": "markdown",
   "metadata": {},
   "source": [
    "기본적인 아이템 추가, 멤버쉽 연산 외에 집합 연산을 사용할 수 있습니다."
   ]
  },
  {
   "cell_type": "code",
   "execution_count": null,
   "metadata": {},
   "outputs": [],
   "source": [
    "# 리스트는 순서를 유지해줍니다.\n",
    "l = [5, 6, 7]\n"
   ]
  },
  {
   "cell_type": "code",
   "execution_count": null,
   "metadata": {},
   "outputs": [],
   "source": [
    "# 집합은 순서를 유지해주지 않습니다.\n",
    "s = {5, 6, 7}\n"
   ]
  },
  {
   "cell_type": "code",
   "execution_count": null,
   "metadata": {},
   "outputs": [],
   "source": []
  },
  {
   "cell_type": "code",
   "execution_count": null,
   "metadata": {},
   "outputs": [],
   "source": [
    "A = {0, 2, 4, 6, 8}\n",
    "B = {1, 2, 3, 4, 5}\n",
    "\n"
   ]
  },
  {
   "cell_type": "markdown",
   "metadata": {},
   "source": [
    "코딩테스트를 준비할 계획이 있드시다면 기본 개념은 꼭 이해해놓으시기를 바랍니다."
   ]
  }
 ],
 "metadata": {
  "interpreter": {
   "hash": "d187a48a8a4b28f37103ceb7e85bceb2b63d70db7314890fe18e7e16ec425e3f"
  },
  "kernelspec": {
   "display_name": "Python 3.9.7 64-bit ('base': conda)",
   "language": "python",
   "name": "python3"
  },
  "language_info": {
   "codemirror_mode": {
    "name": "ipython",
    "version": 3
   },
   "file_extension": ".py",
   "mimetype": "text/x-python",
   "name": "python",
   "nbconvert_exporter": "python",
   "pygments_lexer": "ipython3",
   "version": "3.9.5"
  },
  "orig_nbformat": 4
 },
 "nbformat": 4,
 "nbformat_minor": 2
}
