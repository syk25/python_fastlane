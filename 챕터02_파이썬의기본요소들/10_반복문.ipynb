{
 "cells": [
  {
   "cell_type": "markdown",
   "metadata": {},
   "source": [
    "___\n",
    "<a href='https://cafe.naver.com/jmhonglab'><p style=\"text-align:center;\"><img src='https://lh3.googleusercontent.com/lY3ySXooSmwsq5r-mRi7uiypbo0Vez6pmNoQxMFhl9fmZJkRHu5lO2vo7se_0YOzgmDyJif9fi4_z0o3ZFdwd8NVSWG6Ea80uWaf3pOHpR4GHGDV7kaFeuHR3yAjIJjDgfXMxsvw=w2400'  class=\"center\" width=\"50%\" height=\"50%\"/></p></a>\n",
    "___\n",
    "<center><em>Content Copyright by HongLab, Inc.</em></center>"
   ]
  },
  {
   "cell_type": "markdown",
   "metadata": {},
   "source": [
    "# 반복문\n",
    "\n",
    "프로그램의 흐름제어(flow control) 중에서 반복하는 방법에 대해서 알아보겠습니다.\n",
    "반복을 의미하는 영어 단어로는 repeat과 iterate가 있는데 프로그래밍에서는 단순하게 그대로 반복만하는 것(repeat) 보다는 약간씩 변화를 주는 경우가 일반적이기 때문에 repeat보다는 **iterate**를 많이 사용합니다. 한 바퀴 돌아와서 다시 시작한다는 의미로 루프(loop)를 만든다고 표현하기도 합니다.\n",
    "\n",
    "먼저 반복(iteration)에 대해서 감을 잡아봅시다. 만약 우리가 \"안녕하세요?\"를 3번 출력하고 싶다면 가장 단순한 방법은 명령문을 3번 반복해서 적어주는 것입니다."
   ]
  },
  {
   "cell_type": "code",
   "execution_count": null,
   "metadata": {},
   "outputs": [],
   "source": [
    "# 명령문을 여러번 입력해서 반복하기\n",
    "print(\"안녕하세요?\")\n",
    "print(\"안녕하세요?\")\n",
    "print(\"안녕하세요?\")"
   ]
  },
  {
   "cell_type": "markdown",
   "metadata": {},
   "source": [
    "그런데 만약 3번이 아니라 천번이나 만번이라면? 컴퓨터 입장에서 같은 작업을 천번 만번 반복하는 것은 별 것 아니지만 프로그래머 입장에서 같은 코드를 천번 만번 반복해서 적어줘야 한다면 복사붙여넣기를 활용한다고 하더라도 \"내가 왜 이걸 하고 있지?\"라는 허무감이 들겁니다. 반복 입력이 비효율적인 또 다른 사례로는 반복 횟수가 미리 정해져 있지 않은 경우입니다. 예를 들어서 몇 번 반복할지를 사용자로부터 입력받는다면 어떻게 해야 할까요? 게다가 매번 다른 문구를 출력해야 한다면? 이런 다양한 흐름들을 효율적으로 구현하기 위해 반복문을 사용합니다.\n",
    "\n",
    "\n",
    "여러번 반복되는 루프(loop)를 만드는 방법은 ```for```과 ```while``` 두 가지가 있습니다. ```for```문과 ```while```문은 이론상으로는 서로 호환이 가능하지만 실제로는 용도가 약간 다릅니다.\n",
    "> ```for```문: 반복을 시작하기 전에 반복의 범위가 미리 결정되어있는 경우에 많이 사용합니다.  \n",
    "> ```while```문: 언제까지 반복을 해야하는 지에 대해 명확한 범위 대신 조건으로 주어진 경우에 많이 사용합니다.\n",
    "\n",
    "여러가지 컨테이너들과 함께 사용하기에는 ```for```문이 편리하지만 ```while```문은 그 특유의 용도가 있기 때문에 둘 다 알아두셔야 합니다."
   ]
  },
  {
   "cell_type": "markdown",
   "metadata": {},
   "source": [
    "### ```print()``` 출력 옵션 조절\n",
    "\n",
    "```print()``` 함수는 기본적으로 출력 후에 줄바꿈을 덧붙이게 되어 있습니다. ```end=\" \"```를 사용하면 줄바꿈을 빈 칸 하나로 바꿔주기 때문에 한 줄에 여러번 출력을 할 수 있습니다. 당연히 빈칸 대신에 원하는 문자열을 넣을 수도 있습니다. 반복문으로 여러가지를 출력할 때 가독성을 높여줍니다."
   ]
  },
  {
   "cell_type": "code",
   "execution_count": null,
   "metadata": {},
   "outputs": [],
   "source": [
    "# 기본\n",
    "print(\"줄바꿈이\")  # print(\"줄바꿈이\", end=\"\\n\")\n",
    "print(\"있어요\")  # print(\"있어요\", end=\"\\n\")\n",
    "\n",
    "# end=\" \" 사용\n",
    "print(\"아이템1\", end=\" \")\n",
    "print(\"아이템2\", end=\" \")\n",
    "print(\"아이템3\")\n",
    "\n",
    "# end=\"!\" 사용\n",
    "print(\"줄바꿈이\", end=\"!\")\n",
    "print(\"없어요\")"
   ]
  },
  {
   "cell_type": "markdown",
   "metadata": {},
   "source": [
    "여러 객체를 컴마로 구분해서 출력할 때는 사이에 빈칸이 자동으로 들어갑니다. 빈칸 대신에 ```sep = \"*!?\"```과 같이 원하는 문자열을 넣어줄 수 있습니다. ```sep```는 seperator의 약자입니다."
   ]
  },
  {
   "cell_type": "code",
   "execution_count": null,
   "metadata": {},
   "outputs": [],
   "source": [
    "print(\"안녕\", 123, \"하세요?\")\n",
    "print(\"안녕\", 123, \"하세요?\", sep=\"\")\n",
    "print(\"안녕\", 123, \"하세요?\", sep=\"*!?\")"
   ]
  },
  {
   "cell_type": "markdown",
   "metadata": {},
   "source": [
    "# [반복문 ```for```](https://docs.python.org/3/reference/compound_stmts.html#the-for-statement)\n",
    "\n"
   ]
  },
  {
   "cell_type": "markdown",
   "metadata": {},
   "source": [
    "### ```for```문의 일반적인 형태\n",
    "\n",
    "```for```문의 간단한 용법들은 앞에서 많이 봤기 때문에 여기서는 일반적인 형태를 먼저 살펴보겠습니다.\n",
    "\n",
    "```\n",
    "for 변수 in 이터러블-객체:\n",
    "    반복할 명령문들\n",
    "else:\n",
    "    반복이 (break없이) 끝나면 실행될 명령문들\n",
    "```\n",
    "\n",
    "여기서 ```in```과 ```:``` 사이에는 반복에 사용할 수 있는(**iterable, 이터러블**) 객체가 들어갈 수 있습니다. 예를 들어서 int나 float같은 숫자 자료형들의 객체는 들어갈 수 없고 list나 tuple같은 컨테이너형의 객체들은 들어갈 수 있습니다. 정수 범위에 대해 반복을 할 때는 범위(range)형의 객체를 만들어서 사용할 수 있습니다. ```변수```에는 이터러블이 제공해주는 아이템들이 차례대로 대입됩니다.\n",
    "\n",
    "교재에 따라서 이 변수를 루프 제어 변수(loop control variable)라고 부르기도 하고 아이템이 대입되는 대상이라는 의미에서 대상(target)이라고 부르기도 합니다."
   ]
  },
  {
   "cell_type": "code",
   "execution_count": null,
   "metadata": {},
   "outputs": [],
   "source": [
    "# 어떤 객체가 iterable 한지 확인하는 방법\n"
   ]
  },
  {
   "cell_type": "code",
   "execution_count": null,
   "metadata": {},
   "outputs": [],
   "source": []
  },
  {
   "cell_type": "code",
   "execution_count": null,
   "metadata": {},
   "outputs": [],
   "source": []
  },
  {
   "cell_type": "markdown",
   "metadata": {},
   "source": [
    "매 루프마다 루프 제어 변수에 이터러블(iterable)의 아이템들이 하나씩 대입됩니다. 다른 변수들과 동일한 방법으로 사용할 수 있으며 이름도 변수명 규칙에 따라 마음대로 지을 수 있습니다."
   ]
  },
  {
   "cell_type": "code",
   "execution_count": null,
   "metadata": {},
   "outputs": [],
   "source": [
    "# for 예시\n",
    "for i in [8, 3, 5]:  # i에는 8, 3, 5이 순서대로 대입됩니다.\n",
    "    j = i * 10\n",
    "    print(j)"
   ]
  },
  {
   "cell_type": "code",
   "execution_count": null,
   "metadata": {},
   "outputs": [],
   "source": [
    "# 위의 for-절(clause)을 풀어 쓰면 아래와 같습니다.\n",
    "i = 8\n",
    "j = i * 10\n",
    "print(j)\n",
    "\n",
    "i = 3\n",
    "j = i * 10\n",
    "print(j)\n",
    "\n",
    "i = 5\n",
    "j = i * 10\n",
    "print(j)"
   ]
  },
  {
   "cell_type": "markdown",
   "metadata": {},
   "source": [
    "\n",
    "```else```-절은 ```if```문에서도 그랬듯이 필수는 아니며 ```for``` 루프가 정상적으로 실행이 완료되었을 때만 실행됩니다. 만약 ```break``` 명령을 이용해서 ```for```루프가 일찍 종료되었을 때는 실행되지 않습니다. 이 경우는 ```break``` 사용법과 함께 다시 보겠습니다."
   ]
  },
  {
   "cell_type": "code",
   "execution_count": null,
   "metadata": {},
   "outputs": [],
   "source": []
  },
  {
   "cell_type": "markdown",
   "metadata": {},
   "source": [
    "### 범위(range) 사용법\n",
    "\n",
    "```range()``` 함수를 이용해서 정수 범위(range)를 만들어낼 수 있습니다. 보통 ```for```문과 함께 사용됩니다."
   ]
  },
  {
   "cell_type": "code",
   "execution_count": null,
   "metadata": {},
   "outputs": [],
   "source": [
    "type(range(5))"
   ]
  },
  {
   "cell_type": "markdown",
   "metadata": {},
   "source": [
    "괄호 안에 3가지의 인수(argument)를 넣어서 범위를 조절할 수 있습니다.\n",
    "\n",
    "```range(시작, 종료, 스텝)```\n",
    "\n",
    "시작, 종료, 스텝의 의미는 슬라이싱과 비슷하지만 함수 괄호 안에서는 컴마(```,```)로 구분합니다.\n",
    "\n",
    "[보충] 인수(argument)에 대해서는 함수에서 자세히 배웁니다."
   ]
  },
  {
   "cell_type": "code",
   "execution_count": null,
   "metadata": {},
   "outputs": [],
   "source": [
    "# 괄호 안에 숫자를 하나만 넣으면 종료입니다.\n",
    "# 이때 시작은 0, 스텝은 1로 간주합니다.\n"
   ]
  },
  {
   "cell_type": "code",
   "execution_count": null,
   "metadata": {},
   "outputs": [],
   "source": [
    "# 괄호 안에 숫자를 두 개 넣으면 시작과 종료입니다.\n",
    "# 스텝을 입력하지 않으면 1로 간주합니다.\n"
   ]
  },
  {
   "cell_type": "code",
   "execution_count": null,
   "metadata": {},
   "outputs": [],
   "source": [
    "# 스텝을 이용하여 건너뛸 수 있습니다.\n"
   ]
  },
  {
   "cell_type": "code",
   "execution_count": null,
   "metadata": {},
   "outputs": [],
   "source": [
    "# 음수 스텝을 사용할 수도 있습니다.\n"
   ]
  },
  {
   "cell_type": "code",
   "execution_count": null,
   "metadata": {},
   "outputs": [],
   "source": [
    "# range도 당연히 변수에 대입할 수 있어요\n"
   ]
  },
  {
   "cell_type": "markdown",
   "metadata": {},
   "source": [
    "### 컨테이너와 함께 사용하기\n",
    "\n",
    "```for```문은 다양한 컨테이너와 함께 사용하기가 편리합니다. \n"
   ]
  },
  {
   "cell_type": "code",
   "execution_count": null,
   "metadata": {},
   "outputs": [],
   "source": [
    "# int는 이터러블(iterable)이 아니에요\n"
   ]
  },
  {
   "cell_type": "code",
   "execution_count": null,
   "metadata": {},
   "outputs": [],
   "source": [
    "# 문자열과 함께 사용하기\n"
   ]
  },
  {
   "cell_type": "code",
   "execution_count": null,
   "metadata": {},
   "outputs": [],
   "source": [
    "# end가 빈 문자열일 경우\n"
   ]
  },
  {
   "cell_type": "code",
   "execution_count": null,
   "metadata": {},
   "outputs": [],
   "source": [
    "# 튜플과 함께 사용하기\n"
   ]
  },
  {
   "cell_type": "code",
   "execution_count": null,
   "metadata": {},
   "outputs": [],
   "source": [
    "# 사전\n"
   ]
  },
  {
   "cell_type": "code",
   "execution_count": null,
   "metadata": {},
   "outputs": [],
   "source": [
    "# 사전 keys()\n"
   ]
  },
  {
   "cell_type": "code",
   "execution_count": null,
   "metadata": {},
   "outputs": [],
   "source": [
    "# 사전 values()\n"
   ]
  },
  {
   "cell_type": "code",
   "execution_count": null,
   "metadata": {},
   "outputs": [],
   "source": [
    "# 아이템의 자료형을 확인해봅시다\n"
   ]
  },
  {
   "cell_type": "code",
   "execution_count": null,
   "metadata": {},
   "outputs": [],
   "source": [
    "# 언팩을 할 수 있습니다.\n"
   ]
  },
  {
   "cell_type": "code",
   "execution_count": null,
   "metadata": {},
   "outputs": [],
   "source": [
    "# 컨테이너에 들어있는 것이 뭔지 모르겠다 싶을 때는?\n",
    "\n",
    "\n",
    "# type을 출력해서 확인해봅시다."
   ]
  },
  {
   "cell_type": "markdown",
   "metadata": {},
   "source": [
    "### 반복문으로 리스트의 아이템 바꾸기\n",
    "\n",
    "```for```문 안에서 반복에 사용하는 리스트의 아이템을 바꾸려고 시도한다면 어떻게 될까요?"
   ]
  },
  {
   "cell_type": "code",
   "execution_count": null,
   "metadata": {},
   "outputs": [],
   "source": [
    "# 리스트의 아이템이 불변일 경우\n",
    "my_list = [1, 2, 3]\n",
    "\n",
    "\n",
    "\n",
    "# my_list의 아이템들은 바뀌었을까요?\n",
    "my_list"
   ]
  },
  {
   "cell_type": "code",
   "execution_count": null,
   "metadata": {},
   "outputs": [],
   "source": [
    "# 리스트의 아이템이 불변일 경우\n",
    "# 이유를 조사해봅시다\n",
    "my_list = [1, 2, 3]\n",
    "\n"
   ]
  },
  {
   "cell_type": "code",
   "execution_count": null,
   "metadata": {},
   "outputs": [],
   "source": [
    "\n",
    "\n",
    "\n"
   ]
  },
  {
   "cell_type": "code",
   "execution_count": null,
   "metadata": {},
   "outputs": [],
   "source": [
    "# 리스트의 아이템이 가변일 경우\n",
    "my_list = [[1], [2], [3]]\n",
    "\n",
    "\n",
    "# l의 아이템들은 바뀌었을까요?\n",
    "my_list\n",
    "\n",
    "# [[2], [4], [6]]으로 만들려면?"
   ]
  },
  {
   "cell_type": "markdown",
   "metadata": {},
   "source": [
    "그렇다면 리스트의 불변 아이템들은 바꿀 수가 없는 걸까요?"
   ]
  },
  {
   "cell_type": "code",
   "execution_count": null,
   "metadata": {},
   "outputs": [],
   "source": [
    "# 인덱싱으로 바꿀 수 있습니다.\n",
    "my_list = [100, 200, 300]\n",
    "\n",
    "# my_list[0] *= 2\n",
    "# my_list[1] *= 2\n",
    "# my_list[2] *= 2\n",
    "\n"
   ]
  },
  {
   "cell_type": "markdown",
   "metadata": {},
   "source": [
    "튜플의 아이템을 인덱싱으로 바꾸려고 시도해보면?"
   ]
  },
  {
   "cell_type": "code",
   "execution_count": null,
   "metadata": {},
   "outputs": [],
   "source": [
    "t = (100, 200, 300)\n",
    "\n"
   ]
  },
  {
   "cell_type": "markdown",
   "metadata": {},
   "source": [
    "[참고] 튜플의 아이템이 리스트일 경우는 ```for```문 안에서 변경할 수 있습니다."
   ]
  },
  {
   "cell_type": "code",
   "execution_count": null,
   "metadata": {},
   "outputs": [],
   "source": [
    "t = ([100], [200], [300])\n"
   ]
  },
  {
   "cell_type": "markdown",
   "metadata": {},
   "source": [
    "### ```if```문과 함께 사용\n",
    "\n",
    "반복문 안에서 ```if```문을 사용할 수 있습니다. "
   ]
  },
  {
   "cell_type": "code",
   "execution_count": null,
   "metadata": {},
   "outputs": [],
   "source": []
  },
  {
   "cell_type": "markdown",
   "metadata": {},
   "source": [
    "당연히 ```if```문 안에서 ```for```문을 사용할 수도 있겠지요.  \n",
    "\n",
    "[실습] 정수 하나를 입력받고 입력받은 숫자가 짝수이면 입력받은 숫자만큼 \"안녕?\"을 출력해봅시다."
   ]
  },
  {
   "cell_type": "code",
   "execution_count": 1,
   "metadata": {},
   "outputs": [],
   "source": [
    "user_input = int(input(\"짝수를 입력해주세요: \"))\n",
    "\n"
   ]
  },
  {
   "cell_type": "markdown",
   "metadata": {},
   "source": [
    "[보충] ```else```는 ```for```와도 사용될 수 있고 ```if```와도 사용될 수 있습니다. 가까운 줄이 아니라 **들여쓰기가 같은** ```for```나 ```if```와 짝을 이뤄서 사용됩니다. 아래 예시에서는 ```else```가 들여쓰기가 같은 ```for```와 짝을 이루기 때문에 \"홀수:\"는 ```for```루프가 끝난 후에 한 번만 출력됩니다."
   ]
  },
  {
   "cell_type": "code",
   "execution_count": null,
   "metadata": {},
   "outputs": [],
   "source": [
    "for num in range(6):\n",
    "    if num % 2 == 0:\n",
    "        print(\"짝수:\", num)\n",
    "else:\n",
    "    print(\"홀수:\", num) "
   ]
  },
  {
   "cell_type": "markdown",
   "metadata": {},
   "source": [
    "### [예제] for문으로 리스트의 합 구하기\n",
    "\n",
    "주어진 정수 리스트의 합을 구해봅시다."
   ]
  },
  {
   "cell_type": "code",
   "execution_count": null,
   "metadata": {},
   "outputs": [],
   "source": [
    "my_numbers = [3, 6, 1, 2]\n",
    "\n"
   ]
  },
  {
   "cell_type": "markdown",
   "metadata": {},
   "source": [
    "파이썬은 쉽다던데?"
   ]
  },
  {
   "cell_type": "code",
   "execution_count": null,
   "metadata": {},
   "outputs": [],
   "source": [
    "my_list = [3, 6, 1, 2]\n"
   ]
  },
  {
   "cell_type": "markdown",
   "metadata": {},
   "source": [
    "짝수의 합만 계산해봅시다."
   ]
  },
  {
   "cell_type": "code",
   "execution_count": null,
   "metadata": {},
   "outputs": [],
   "source": [
    "my_numbers = [3, 6, 1, 2]\n",
    "\n"
   ]
  },
  {
   "cell_type": "markdown",
   "metadata": {},
   "source": [
    "이번에는 곱을 구해봅시다. "
   ]
  },
  {
   "cell_type": "code",
   "execution_count": null,
   "metadata": {},
   "outputs": [],
   "source": [
    "my_numbers = [3, 6, 1, 2]\n",
    "\n"
   ]
  },
  {
   "cell_type": "markdown",
   "metadata": {},
   "source": [
    "홀수들끼리만 곱한 값을 계산해봅시다."
   ]
  },
  {
   "cell_type": "code",
   "execution_count": null,
   "metadata": {},
   "outputs": [],
   "source": [
    "my_numbers = [3, 6, 1, 2, 5]\n",
    "\n",
    "\n",
    "# 결과로 15이 나와야 합니다."
   ]
  },
  {
   "cell_type": "markdown",
   "metadata": {},
   "source": [
    "[조언] 개개인의 관심사와 지향점에 따라서 공부 방향이 다르겠지요. 파이썬을 C언어처럼 저수준의 용법 위주로 사용하는 것은 효율적이지 못하지만 그래도 프로그래밍의 기본은 알아두는 것을 권장합니다."
   ]
  },
  {
   "cell_type": "markdown",
   "metadata": {},
   "source": [
    "### 반복문 안에서 반복문 사용하기\n",
    "\n",
    "반복문 안에서도 반복문을 사용할 수 있습니다. "
   ]
  },
  {
   "cell_type": "code",
   "execution_count": null,
   "metadata": {},
   "outputs": [],
   "source": [
    "# i과 j가 어떻게 변하는지 디버거로 추적해봅시다.\n"
   ]
  },
  {
   "cell_type": "markdown",
   "metadata": {},
   "source": [
    "[예시] 주어진 중첩 리스트의 모든 정수의 합을 구해봅시다."
   ]
  },
  {
   "cell_type": "code",
   "execution_count": null,
   "metadata": {},
   "outputs": [],
   "source": [
    "my_list = [[1, 2, 3], [4, 5], [6]]\n",
    "\n"
   ]
  },
  {
   "cell_type": "code",
   "execution_count": null,
   "metadata": {},
   "outputs": [],
   "source": [
    "# 뒤에 리스트가 아닌 원소가 추가가 됐다면?\n",
    "# 오류 발생하는 경우\n",
    "my_list = [[1, 2, 3], [4, 5], [6], 7]\n",
    "\n"
   ]
  },
  {
   "cell_type": "code",
   "execution_count": null,
   "metadata": {},
   "outputs": [],
   "source": [
    "# 뒤에 리스트가 아닌 원소가 추가가 됐다면?\n",
    "# isinstance 아이템이 리스트인지 확인해서 해결\n",
    "my_list = [[1, 2, 3], [4, 5], [6], 7]\n",
    "\n"
   ]
  },
  {
   "cell_type": "markdown",
   "metadata": {},
   "source": [
    "### 열거(Enumerate) 함수 사용법\n",
    "\n",
    "```for```문에서 아이템과 아이템의 인덱스가 함께 필요한 경우에 사용할 수 있습니다."
   ]
  },
  {
   "cell_type": "code",
   "execution_count": null,
   "metadata": {},
   "outputs": [],
   "source": [
    "my_list = [\"사과\", \"바나나\", \"포도\"]\n",
    "\n",
    "# 직접 세는 방법\n",
    "\n",
    "# range() 사용\n"
   ]
  },
  {
   "cell_type": "code",
   "execution_count": null,
   "metadata": {},
   "outputs": [],
   "source": [
    "my_list = [\"사과\", \"바나나\", \"포도\"]\n",
    "\n",
    "# enumerate 사용\n"
   ]
  },
  {
   "cell_type": "markdown",
   "metadata": {},
   "source": [
    "[예시] 다음 리스트에서 정수값들을 두 배로 만들어보세요. 루프 변수 대신 리스트의 인덱싱을 사용해야 값을 바꿀 수 있습니다."
   ]
  },
  {
   "cell_type": "code",
   "execution_count": null,
   "metadata": {},
   "outputs": [],
   "source": [
    "my_list = [1, 2, 3]\n",
    "\n"
   ]
  },
  {
   "cell_type": "markdown",
   "metadata": {},
   "source": [
    "# 반복문 while"
   ]
  },
  {
   "cell_type": "markdown",
   "metadata": {},
   "source": [
    "### ```while```문의 일반적인 형태\n",
    "\n",
    "```while```문의 일반적인 형태를 살펴보겠습니다.\n",
    "\n",
    "```\n",
    "while 조건:\n",
    "    조건이 True일 때 실행될 명령문들\n",
    "else:\n",
    "    반복이 (break없이) 끝났을 때 실행될 명령문들\n",
    "```\n",
    "\n",
    "```while```과 ```:``` 사이에 반복을 계속할 ```조건```이 명시되어야한다는 점에서 ```for```문과 다릅니다. ```조건``` 자리에는 ```True```나 ```False```로 계산될 수 있는 표현식(expression)이 들어올 수 있으며 ```True```라면 반복을 계속하고 ```False```라면 종료합니다. ```조건```이 항상 ```True```라면 사용자가 강제로 종료할 때까지 무한히 반복됩니다."
   ]
  },
  {
   "cell_type": "code",
   "execution_count": null,
   "metadata": {},
   "outputs": [],
   "source": [
    "# 무한 루프\n"
   ]
  },
  {
   "cell_type": "markdown",
   "metadata": {},
   "source": [
    "```for```문에서 사용하는 이터러블(iterable) 객체들은 내부적으로 종료 조건을 가지고 있습니다. 예를 들어서 리스트 객체라면 가지고 있는 아이템 개수만큼 반복을 하면 끝납니다.\n",
    "```while```문을 사용할 때는 우리가 구체적으로 ```조건```을 정확하게 표현해줘야 합니다.\n",
    "\n",
    "```while```문에서 반복 횟수를 조절하는 기본적인 방법은 우리가 직접 횟수를 세는 것입니다."
   ]
  },
  {
   "cell_type": "code",
   "execution_count": null,
   "metadata": {},
   "outputs": [],
   "source": [
    "# 디버거로 추적해봅시다.\n",
    "repeat = 3\n",
    "\n",
    "counter = 0  # 카운터를 초기화합니다.\n",
    "\n"
   ]
  },
  {
   "cell_type": "markdown",
   "metadata": {},
   "source": [
    "카운터를 감소시켜나가면서 셀 수도 있습니다."
   ]
  },
  {
   "cell_type": "code",
   "execution_count": null,
   "metadata": {},
   "outputs": [],
   "source": [
    "# 디버거로 추적해봅시다.\n",
    "repeat = 3\n",
    "\n",
    "counter = repeat  # 카운터를 초기화합니다.\n",
    "\n"
   ]
  },
  {
   "cell_type": "markdown",
   "metadata": {},
   "source": [
    "### [실습] while문으로 리스트의 합 구하기\n",
    "\n",
    "주어진 정수 리스트의 합을 구해봅시다."
   ]
  },
  {
   "cell_type": "code",
   "execution_count": null,
   "metadata": {},
   "outputs": [],
   "source": [
    "my_list = [3, 6, 1, 2, 6, 9, 5]\n",
    "\n"
   ]
  },
  {
   "cell_type": "markdown",
   "metadata": {},
   "source": [
    "홀수들만의 곱을 구해봅시다."
   ]
  },
  {
   "cell_type": "code",
   "execution_count": null,
   "metadata": {},
   "outputs": [],
   "source": [
    "my_list = [3, 6, 1, 2, 6, 9, 5]\n",
    "\n"
   ]
  },
  {
   "cell_type": "markdown",
   "metadata": {},
   "source": [
    "사실 횟수를 세면서 종료 조건을 결정하는 경우에는 ```for```문과 ```range```를 사용하는 것이 더 편합니다. 그러나 ```while```문이 더 편한 경우도 많이 있습니다.  예를 들면 '시간'이 얼마나 지났는 지를 조건으로 사용하거나 어떤 값이 나올지 미리 알 수 없는 난수를 사용하는 경우 등이 있는데 나중에 실습 문제로 풀어보도록 하겠습니다.\n",
    "\n"
   ]
  },
  {
   "cell_type": "markdown",
   "metadata": {},
   "source": [
    "# 기타 흐름제어 도구들\n",
    "\n",
    "### ```break```문 사용법\n",
    "\n",
    "반복 루프 안에서 ```break```문을 만나면 즉시 반복을 종료합니다. 반복 루프를 깨고 나오는 것입니다. ```break``` 다음에는 ```:```이 필요 없습니다."
   ]
  },
  {
   "cell_type": "code",
   "execution_count": null,
   "metadata": {},
   "outputs": [],
   "source": [
    "\n",
    "\n",
    "print(\"종료하였습니다.\")"
   ]
  },
  {
   "cell_type": "code",
   "execution_count": null,
   "metadata": {},
   "outputs": [],
   "source": [
    "for j in range(0, 3):\n",
    "    print(\"Outer\", j)\n",
    "    for i in range(10, 1000):\n",
    "        print(\"Inner:\", i)\n",
    "        break"
   ]
  },
  {
   "cell_type": "code",
   "execution_count": null,
   "metadata": {},
   "outputs": [],
   "source": [
    "\n",
    "\n"
   ]
  },
  {
   "cell_type": "markdown",
   "metadata": {},
   "source": [
    "```break```는 대부분 ```if```와 함께 사용되는데 ```if```문을 깨고 나오는 것이 아니라 그 ```if```문을 가지고 있는 반복문을 깨고 나오는 것입니다."
   ]
  },
  {
   "cell_type": "code",
   "execution_count": null,
   "metadata": {},
   "outputs": [],
   "source": [
    "\n",
    "\n",
    "print(\"종료하였습니다.\")"
   ]
  },
  {
   "cell_type": "markdown",
   "metadata": {},
   "source": [
    " ```while```문에서는 조건을 True로 두고 루프를 깨고 나오는 탈출 조건을 별도로 설정해두는 용법도 많이 사용합니다. "
   ]
  },
  {
   "cell_type": "code",
   "execution_count": null,
   "metadata": {},
   "outputs": [],
   "source": []
  },
  {
   "cell_type": "markdown",
   "metadata": {},
   "source": [
    "```break```문은 ```for```문과도 함께 사용될 수 있습니다. 그러나 ```for```문에서는 가급적 루프를 억지로 깨고나올 일이 없도록 사전에 범위를 잘 설정해주는 것이 더 좋습니다. 아주 단순한 예를 들자면 5까지만 출력한다고 하면 6에서 ```break```로 깨고 나오기 보다는 미리 범위를 5까지 잡아주는게 좋겠지요."
   ]
  },
  {
   "cell_type": "code",
   "execution_count": null,
   "metadata": {},
   "outputs": [],
   "source": []
  },
  {
   "cell_type": "code",
   "execution_count": null,
   "metadata": {},
   "outputs": [],
   "source": []
  },
  {
   "cell_type": "markdown",
   "metadata": {},
   "source": [
    "반복 루프가 ```break```로 종료될 경우에는 ```else:```가 무시됩니다. 예를 들어서 리스트 안에서 3을 만나면 종료되는 프로그램을 생각해보겠습니다."
   ]
  },
  {
   "cell_type": "code",
   "execution_count": null,
   "metadata": {},
   "outputs": [],
   "source": [
    "my_list = [0, 5, 2, 8, 9, 11, 5, 2]\n",
    "\n"
   ]
  },
  {
   "cell_type": "code",
   "execution_count": null,
   "metadata": {},
   "outputs": [],
   "source": [
    "# 리스트 안에 3이 없어서 루프가 break를 만나지 못하고 자연스럽게 종료되는 경우\n"
   ]
  },
  {
   "cell_type": "markdown",
   "metadata": {},
   "source": [
    "### ```continue```문 사용법\n",
    "\n",
    "```continue```를 만나면 다시 루프의 시작으로 돌아갑니다. ```for```와 ```while``` 모두 사용할 수 있습니다."
   ]
  },
  {
   "cell_type": "code",
   "execution_count": null,
   "metadata": {},
   "outputs": [],
   "source": []
  },
  {
   "cell_type": "markdown",
   "metadata": {},
   "source": [
    "예를 들어서 리스트 안에서 \"딸기\"를 만날 때마다 \"딸기가 좋아~\"를 출력해보겠습니다. ```continue```도 ```break```와 마찬가지로 대부분 ```if```와 함께 사용됩니다."
   ]
  },
  {
   "cell_type": "code",
   "execution_count": null,
   "metadata": {},
   "outputs": [],
   "source": [
    "my_list = [\"사과\", \"바나나\", \"딸기\", \"수박\", \"오렌지\", \"딸기\"]\n",
    "\n"
   ]
  },
  {
   "cell_type": "code",
   "execution_count": null,
   "metadata": {},
   "outputs": [],
   "source": [
    "my_list = [\"사과\", \"바나나\", \"딸기\", \"수박\", \"오렌지\", \"딸기\"]\n",
    "\n",
    "# 당연히 이렇게 구현하는게 더 간결하지요.\n"
   ]
  },
  {
   "cell_type": "markdown",
   "metadata": {},
   "source": [
    "### ```pass``` 사용법"
   ]
  },
  {
   "cell_type": "markdown",
   "metadata": {},
   "source": [
    "```pass```는 말 그대로 아무것도 안하고 그냥 지나가는 것입니다. 주로 나중에 뭔가 구현할 계획이 있거나 주석을 달아야할 필요가 있을 때 사용합니다. 반복문이나 조건문 외에도 함수나 클래스 등 어디든 사용가능합니다."
   ]
  },
  {
   "cell_type": "code",
   "execution_count": null,
   "metadata": {},
   "outputs": [],
   "source": []
  },
  {
   "cell_type": "markdown",
   "metadata": {},
   "source": [
    "### 바다코끼리 연산자 (Walrus Operator)"
   ]
  },
  {
   "cell_type": "markdown",
   "metadata": {},
   "source": [
    "바다코끼리 연산자는 파이썬 3.8에 새로 추가되었습니다. 변수에 값을 대입함과 동시에 표현식으로도 사용될 수가 있다는 특징을 가지고 있습니다. 그래서 대입 표현식(assignment expression) 연산자라고 부릅니다. ```:=``` 연산자가 [바다코끼리(Walrus)](https://en.wikipedia.org/wiki/Walrus)를 닮았다고 합니다."
   ]
  },
  {
   "cell_type": "code",
   "execution_count": null,
   "metadata": {},
   "outputs": [],
   "source": [
    "# 대입만 하고 표현식으로 사용할 수가 없습니다.\n",
    "# 즉, 이 문장 자체로는 '값'이 없습니다.\n",
    "word = \"헬로우\""
   ]
  },
  {
   "cell_type": "code",
   "execution_count": null,
   "metadata": {},
   "outputs": [],
   "source": [
    "# 대입과 동시에 그 자체를 '값'으로 사용할 수 있습니다.\n",
    "(word := \"Hello\")"
   ]
  },
  {
   "cell_type": "markdown",
   "metadata": {},
   "source": [
    "먼저 바다코끼리 연산자를 사용하지 않는 경우부터 생각해봅시다.\n"
   ]
  },
  {
   "cell_type": "code",
   "execution_count": null,
   "metadata": {},
   "outputs": [],
   "source": [
    "while True:\n",
    "    word = input()\n",
    "    if word == \"종료\":\n",
    "        break\n",
    "    print(word)"
   ]
  },
  {
   "cell_type": "markdown",
   "metadata": {},
   "source": [
    "이때 바다코끼리 연산자를 사용하면 훨씬 간결하게 만들 수 있습니다. ```for```문의 ```대상```(target)과 비슷하게 입력받은 단어를 변수에 담을 수 있기 때문입니다.\n",
    "이때 ```:=``` 연산자의 우선순위가 낮기 때문에 괄호가 필요합니다."
   ]
  },
  {
   "cell_type": "code",
   "execution_count": null,
   "metadata": {},
   "outputs": [],
   "source": []
  }
 ],
 "metadata": {
  "interpreter": {
   "hash": "8018e705143a54fe8977c076a25f32bbbfeba551799f40fa3d5ac4e2da245feb"
  },
  "kernelspec": {
   "display_name": "Python 3 (ipykernel)",
   "language": "python",
   "name": "python3"
  },
  "language_info": {
   "codemirror_mode": {
    "name": "ipython",
    "version": 3
   },
   "file_extension": ".py",
   "mimetype": "text/x-python",
   "name": "python",
   "nbconvert_exporter": "python",
   "pygments_lexer": "ipython3",
   "version": "3.9.5"
  }
 },
 "nbformat": 4,
 "nbformat_minor": 2
}
