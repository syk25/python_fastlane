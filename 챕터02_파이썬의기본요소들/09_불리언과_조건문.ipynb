{
 "cells": [
  {
   "cell_type": "markdown",
   "metadata": {},
   "source": [
    "___\n",
    "<a href='https://cafe.naver.com/jmhonglab'><p style=\"text-align:center;\"><img src='https://lh3.googleusercontent.com/lY3ySXooSmwsq5r-mRi7uiypbo0Vez6pmNoQxMFhl9fmZJkRHu5lO2vo7se_0YOzgmDyJif9fi4_z0o3ZFdwd8NVSWG6Ea80uWaf3pOHpR4GHGDV7kaFeuHR3yAjIJjDgfXMxsvw=w2400'  class=\"center\" width=\"50%\" height=\"50%\"/></p></a>\n",
    "___\n",
    "<center><em>Content Copyright by HongLab, Inc.</em></center>"
   ]
  },
  {
   "cell_type": "markdown",
   "metadata": {},
   "source": [
    "# 표현식과 문장\n",
    "\n",
    "본격적으로 파이썬의 다양한 문장들을 공부하기에 앞서 용어를 간단히 정리해보겠습니다.\n",
    "\n",
    "### 표현식(Expression)\n",
    "\n",
    "하나의 값으로 계산될 수 있는 리터럴, 변수, 연산자, 함수 호출 등의 조합을 의미합니다.  \n",
    "> 예시) 1.0 + abs(a) * b  \n",
    "> 예시) a > 1\n",
    "\n",
    "### 문장(Statement)\n",
    "\n",
    "파이썬이 실행할 수 있는 명령을 의미합니다. 지금까지 많이 사용해온 대입문(assignment statement)과 앞으로 배울 조건문(conditional statement)과 반복문(iteration or loop statements) 등이 있습니다.\n",
    "```print()``` 같이 기능을 수행하는 함수 호출도 문장으로 볼 수 있습니다.\n",
    "흔히 얘기하는 if문, for문과 같이 뒤에 우리말 번역어 끝에 '문'이 붙는 것들이 여기에 포함됩니다.\n",
    "\n",
    "### 블럭(Block)\n",
    "\n",
    "파이썬에서는 들여쓰기(indentation) 레벨이 동일한 문장들을 여러 줄을 묶어서 부를때 '블럭'이라고 부릅니다. 아래 예시에서는 2번째 줄과 3번째 줄의 ```print()``` 문장들을 묶어서 한 블럭이라고 볼 수 있습니다. 들여쓰기 덕분에 직관적으로 이해할 수 있습니다. 빈 줄은 무시합니다.\n",
    "\n",
    "```\n",
    "1: if 1 < a < 3:\n",
    "2:     print(\"1보다 큽니다.\")\n",
    "3:     print(\"3보다 작습니다.\")\n",
    "```\n",
    "\n",
    "영어 문법과 비교해서 용어를 조금 더 소개해드리겠습니다.\n",
    "```if```문을 사용할 때는 1번째 줄에 의해서 2~3번 블럭이 실행될지 말지가 결정되기 때문에 1~3번줄을 모두 묶어서 ```if```-절(clause)이라고 부릅니다.\n",
    "파이썬에서는 1번줄 같은 ```if ~ :```, ```for ~:```, ```else:``` 등을 헤더(header)라고 부르고 2~3번 블럭을 스윗(Suite, [발음참고](https://www.google.com/search?q=meaning+of+suite&rlz=1C1RXQR_koUS982US982&sxsrf=AOaemvICwQCqCy_AHjchyhasNyoYKh1a-w%3A1640988880749&ei=0IDPYcqKLYWvqtsP1cGGiAQ&ved=0ahUKEwjKssT6h4_1AhWFl2oFHdWgAUEQ4dUDCA8&oq=meaing+of+suite&gs_lcp=Cgdnd3Mtd2l6EAwyBAgAEEcyBAgAEEcyBAgAEEcyBAgAEEcyBAgAEEcyBAgAEEcyBAgAEEcyBAgAEEcyBAgAEEcyBAgAEEdKBAhBGABKBAhGGABQAFgAYKMFaABwAngAgAEAiAEAkgEAmAEAyAEKwAEB&sclient=gws-wiz))라고 부릅니다. 혹시 더 자세한 내용이 궁금하시다면 [Compound statements](https://docs.python.org/3/reference/compound_stmts.html) 항목을 참고하세요.\n",
    "\n",
    "지금까지는 기본적인 자료형들의 사용 방법을 훑어봤습니다.\n",
    "이제부터는 본격적으로 자료형과 문장을 함께 사용해서 프로그램을 만들어 나가는 방법을 알아보겠습니다."
   ]
  },
  {
   "cell_type": "markdown",
   "metadata": {},
   "source": [
    "# 불리언(Boolean) 자료형\n",
    "\n",
    "불리언 자료형의 객체는 ```True```와 ```False``` 두 가지 값 만을 가질 수 있습니다. 문자열이 아니기 때문에 리터럴에 따옴표를 사용하지 않습니다. 주로 조건문 if과 함께 흐름 제어를 할 때 사용됩니다."
   ]
  },
  {
   "cell_type": "markdown",
   "metadata": {},
   "source": [
    "타입의 이름은 ```bool```입니다."
   ]
  },
  {
   "cell_type": "code",
   "execution_count": null,
   "metadata": {},
   "outputs": [],
   "source": []
  },
  {
   "cell_type": "markdown",
   "metadata": {},
   "source": [
    "### 비교 연산자 (Comparison Operators)\n",
    "\n",
    "아래 표의 예시는 ```x = 1```, ```y = 2```인 경우\n",
    "|연산자| 설명 | 예시|\n",
    "|---|---|---|\n",
    "|```==```|값이 같은가?|```(x == y)```는 ```False```|\n",
    "|```!=```|값이 다른가?|```(x != y)```는 ```True```|\n",
    "|```>```|왼쪽 더 큰가?|```(x > y)```는 ```False```|\n",
    "|```<```|오른쪽이 더 큰가?|```(x < y)```는 ```True```|\n",
    "|```>=```|왼쪽이 더 크거나 양쪽이 같은가?|```(x >= y)```는 ```False```|\n",
    "|```<=```|오른쪽이 더 크거나 양쪽이 같은가?|```(x <= y)```는 ```True```|\n",
    "\n",
    "[주의] 값이 같은지를 비교하는 연산자는 등호가 두 개 입니다. 초보때 많이 실수합니다."
   ]
  },
  {
   "cell_type": "markdown",
   "metadata": {},
   "source": [
    "[실습] 숫자와 연산자를 바꿔가면서 모든 비교 연산자들이 예상한대로 작동하는지 확인해보세요"
   ]
  },
  {
   "cell_type": "code",
   "execution_count": null,
   "metadata": {},
   "outputs": [],
   "source": [
    "# 실습 예시\n",
    "x, y = 1, 2\n",
    "x < y"
   ]
  },
  {
   "cell_type": "markdown",
   "metadata": {},
   "source": [
    "### 불리언 연산자 ```and```\n",
    "\n",
    "영어에서 \"A and B\"는 \"A와 B\"입니다. 불리언 연산에서는 \"A와 B가 둘 다 True이면 전체가 True다\"라고 해석할 수 있습니다.\n",
    "\n",
    "|표현식|결과값|예시|\n",
    "|---|---|---|\n",
    "|```True and True```|```True```|```(1 < 2 and 3 < 4)```는 ```True```|\n",
    "|```False and True```|```False```|```(1 > 2 and 3 < 4)```는 ```False```|\n",
    "|```True and False```|```False```|```(1 < 2 and 3 > 4)```는 ```False```|\n",
    "|```False and False```|```False```|```(1 > 2 and 3 > 4)```는 ```False```|\n",
    "\n",
    "[연산자 우선순위](https://docs.python.org/3/reference/expressions.html#operator-precedence)에 따르면 ```and```의 연산자 우선 순위는 비교 연산자(부등호)보다 낮기 때문에 비교 연산 전후에 괄호를 쳐줄 필요는 없습니다. 그러나 헷갈려서 예기치 못한 오류가 발생하는 것 보다는 괄호를 쳐주는게 좋습니다.\n",
    "> 예시) ```(1 > 2) and (3 > 4)```"
   ]
  },
  {
   "cell_type": "markdown",
   "metadata": {},
   "source": [
    "[실습] 숫자와 연산자를 바꿔가면서 모든 경우에 대해 예상한대로 작동하는지 확인해보세요"
   ]
  },
  {
   "cell_type": "code",
   "execution_count": null,
   "metadata": {},
   "outputs": [],
   "source": [
    "# 실습 예시\n",
    "1 < 2 and 3 < 4"
   ]
  },
  {
   "cell_type": "markdown",
   "metadata": {},
   "source": [
    "### 불리언 연산자 ```or```\n",
    "\n",
    "영어에서 or는 또는 입니다. 불리언 연산 \"A or B\"는 A 또는 B가 True이면 전체가 True라는 의미입니다.\n",
    "\n",
    "|표현식|결과값|예시|\n",
    "|---|---|---|\n",
    "|```True or True```|```True```|```(1 < 2 or 3 < 4)```는 ```True```|\n",
    "|```False or True```|```True```|```(1 > 2 or 3 < 4)```는 ```True```|\n",
    "|```True or False```|```True```|```(1 < 2 or 3 > 4)```는 ```True```|\n",
    "|```False or False```|```False```|```(1 > 2 or 3 > 4)```는 ```False```|\n"
   ]
  },
  {
   "cell_type": "markdown",
   "metadata": {},
   "source": [
    "[실습] 숫자와 연산자를 바꿔가면서 모든 경우에 대해 예상한대로 작동하는지 확인해보세요"
   ]
  },
  {
   "cell_type": "code",
   "execution_count": null,
   "metadata": {},
   "outputs": [],
   "source": [
    "# 실습 예시\n",
    "1 < 2 or 3 < 4"
   ]
  },
  {
   "cell_type": "markdown",
   "metadata": {},
   "source": [
    "### 불리언 연산자 ```not```\n",
    "|표현식|결과값|예시|\n",
    "|---|---|---|\n",
    "|```not True```|```False```|```not 1 < 2```는 ```False```|\n",
    "|```not False```|```True```|```not 1 > 2```는 ```True```|"
   ]
  },
  {
   "cell_type": "markdown",
   "metadata": {},
   "source": [
    "[실습] 숫자와 연산자를 바꿔가면서 모든 경우에 대해 예상한대로 작동하는지 확인해보세요"
   ]
  },
  {
   "cell_type": "code",
   "execution_count": null,
   "metadata": {},
   "outputs": [],
   "source": [
    "# 실습 예시\n",
    "not 1 > 2"
   ]
  },
  {
   "cell_type": "markdown",
   "metadata": {},
   "source": [
    "### 연쇄 비교 (Chained Comparison) 연산자\n",
    "\n",
    "```and```를 사용한 표현식을 더 간결하게 줄일 수 있습니다."
   ]
  },
  {
   "cell_type": "code",
   "execution_count": null,
   "metadata": {},
   "outputs": [],
   "source": [
    "# 예시) a가 1보다 크고 3보다 작은가?\n",
    "a = 3"
   ]
  },
  {
   "cell_type": "code",
   "execution_count": null,
   "metadata": {},
   "outputs": [],
   "source": [
    "a, b, c = 1, 2, 3\n",
    "\n",
    "# 예시) 임의의 a, b, c에 대해서 a가 b보다도 크고 c보다도 큰가?"
   ]
  },
  {
   "cell_type": "markdown",
   "metadata": {},
   "source": [
    "### 식별 연산자 (Identity Operator)\n",
    "\n",
    "```is```는 둘이 같은 객체인지를 비교합니다. ```id()```가 같으면 같은 객체입니다.  \n",
    "값이 같은지를 비교하는 ```==```와는 다르니 주의하세요."
   ]
  },
  {
   "cell_type": "code",
   "execution_count": null,
   "metadata": {},
   "outputs": [],
   "source": [
    "a = 123\n",
    "b = a\n",
    "c = 123.0\n",
    "\n",
    "# 같은 객체인지 확인\n",
    "\n",
    "\n",
    "# 다른 객체이지만 값이 같을 수는 있습니다."
   ]
  },
  {
   "cell_type": "markdown",
   "metadata": {},
   "source": [
    "### 불리언과 다른 자료형과의 관계"
   ]
  },
  {
   "cell_type": "markdown",
   "metadata": {},
   "source": [
    "불리언은 내부적으로 int의 일종으로 분류됩니다."
   ]
  },
  {
   "cell_type": "code",
   "execution_count": null,
   "metadata": {},
   "outputs": [],
   "source": [
    "# isinstance는 type이 맞는지를 확인할 때 사용합니다."
   ]
  },
  {
   "cell_type": "code",
   "execution_count": null,
   "metadata": {},
   "outputs": [],
   "source": []
  },
  {
   "cell_type": "markdown",
   "metadata": {},
   "source": [
    "```0```이 아닌 숫자들은 ```True```로 변환됩니다."
   ]
  },
  {
   "cell_type": "code",
   "execution_count": null,
   "metadata": {},
   "outputs": [],
   "source": []
  },
  {
   "cell_type": "markdown",
   "metadata": {},
   "source": [
    "비어있지 않은 컨테이너들은 ```True```로 변환됩니다."
   ]
  },
  {
   "cell_type": "code",
   "execution_count": null,
   "metadata": {},
   "outputs": [],
   "source": [
    "# str"
   ]
  },
  {
   "cell_type": "code",
   "execution_count": null,
   "metadata": {},
   "outputs": [],
   "source": [
    "# list"
   ]
  },
  {
   "cell_type": "code",
   "execution_count": null,
   "metadata": {},
   "outputs": [],
   "source": [
    "# dict"
   ]
  },
  {
   "cell_type": "markdown",
   "metadata": {},
   "source": [
    "```None```은 ```False```로 변환됩니다. "
   ]
  },
  {
   "cell_type": "code",
   "execution_count": null,
   "metadata": {},
   "outputs": [],
   "source": []
  },
  {
   "cell_type": "markdown",
   "metadata": {},
   "source": [
    "[참고] ```None```을 ```True```인지 ```False```인지 아직 결정되지 않은 변수에 임시로 넣어두는 경우도 있습니다."
   ]
  },
  {
   "cell_type": "code",
   "execution_count": null,
   "metadata": {},
   "outputs": [],
   "source": [
    "flag = None\n",
    "# 이후 다른 조건에 따라서 flag에 True 또는 False를 대입할 수 있습니다.\n",
    "# 그러나 파이썬의 변수는 동적 자료형이기 때문에 문법적인 강제성은 없습니다."
   ]
  },
  {
   "cell_type": "markdown",
   "metadata": {},
   "source": [
    "# 조건문 ```if```"
   ]
  },
  {
   "cell_type": "markdown",
   "metadata": {},
   "source": [
    "영어에서 if는 \"만일 ~하다면\"입니다.\n",
    "파이썬에서 ```if```문은 주어진 조건에 따라서 프로그램의 흐름이 다르게 흘러가도록 조절해줍니다.\n",
    "그런 의미에서 조건문(conditional statement) 또는 분기문(branching statement)라고 부릅니다.\n",
    "\n",
    "```if```는 단독으로 사용될 수도 있고 ```else```나 ```elif```와 함께 사용될 수도 있습니다.\n",
    "```if```문은 ```if```와 콜론 사이의 표현식이 ```True```로 계산되면 블럭(block)을 실행을 하고 ```False```로 계산되면 실행을 하지 않습니다.\n",
    "\n",
    "```\n",
    "if 조건:\n",
    "    조건이 True이면 실행될 명령문들\n",
    "else:\n",
    "    조건이 False이면 실행될 명령문들\n",
    "```\n",
    "\n",
    "파이썬에서는 들여쓰기(indentation)로 인한 여백 수가 같은 줄들이 나열되어 있으면 묶어서 한 블럭으로 생각합니다. 블럭 안에는 당연히 다양한 종류의 명령문들이 들어갈 수 있습니다.\n"
   ]
  },
  {
   "cell_type": "markdown",
   "metadata": {},
   "source": [
    "### ```if```문의 기본적인 사용법\n",
    "```if```와 콜론 사이에 ```True```나 ```False```로 계산될 수 있는 표현식을 적어줍니다."
   ]
  },
  {
   "cell_type": "code",
   "execution_count": null,
   "metadata": {},
   "outputs": [],
   "source": [
    "if True:\n",
    "    print(\"항상 출력됩니다.\")"
   ]
  },
  {
   "cell_type": "code",
   "execution_count": null,
   "metadata": {},
   "outputs": [],
   "source": [
    "if False:\n",
    "    print(\"출력되지 않습니다.\")"
   ]
  },
  {
   "cell_type": "code",
   "execution_count": null,
   "metadata": {},
   "outputs": [],
   "source": [
    "if 100 > 10:\n",
    "    print(\"항상 출력됩니다.\")"
   ]
  },
  {
   "cell_type": "code",
   "execution_count": null,
   "metadata": {},
   "outputs": [],
   "source": [
    "if 100 <= 10:\n",
    "    print(\"출력되지 않습니다.\")"
   ]
  },
  {
   "cell_type": "code",
   "execution_count": null,
   "metadata": {},
   "outputs": [],
   "source": [
    "# 조건에 변수가 포함되는 경우\n",
    "\n",
    "num = -1\n",
    "\n",
    "# num을 사용자로 부터 입력받는다면?"
   ]
  },
  {
   "cell_type": "markdown",
   "metadata": {},
   "source": [
    "[실습] 입력받은 문자열이 \"딸기\"이면 \"딸기가 좋아!\"를 출력합니다. 그렇지 않다면 아무것도 하지 않습니다.\n",
    "\n",
    "동등 연산자(```==```)로 두 문자열이 같은지 비교할 수 있습니다."
   ]
  },
  {
   "cell_type": "code",
   "execution_count": null,
   "metadata": {},
   "outputs": [],
   "source": [
    "user_input = input(\"문자열을 입력해주세요: \")\n",
    "\n",
    "# 그 외에는 아무것도 하지 않습니다."
   ]
  },
  {
   "cell_type": "markdown",
   "metadata": {},
   "source": [
    "### ```else```문의 사용법\n",
    "\n",
    "영어에서 else는 \"그렇지 않으면\"의 의미로 사용됩니다. 파이썬에서는 ```else```를 사용하면 ```if```에서 조건을 만족하지 않았을 때 할 일을 추가할 수 있습니다.\n"
   ]
  },
  {
   "cell_type": "code",
   "execution_count": null,
   "metadata": {},
   "outputs": [],
   "source": [
    "if True:\n",
    "    print(\"True!\")\n",
    "else:\n",
    "    print(\"False!\")"
   ]
  },
  {
   "cell_type": "code",
   "execution_count": null,
   "metadata": {},
   "outputs": [],
   "source": [
    "if False:\n",
    "    print(\"True!\")\n",
    "else:\n",
    "    print(\"False!\")"
   ]
  },
  {
   "cell_type": "markdown",
   "metadata": {},
   "source": [
    "[예시] 입력받은 숫자가 10보다 크면 \"10보다 큽니다\"를 출력하고 그렇지 않으면 \"10보다 크지 않습니다\"를 출력하는 프로그램을 만들어보세요.\n",
    "> 주의: 모든 경우에 대해 제대로 작동하는지 확인해야 합니다."
   ]
  },
  {
   "cell_type": "markdown",
   "metadata": {},
   "source": [
    "흐름 제어 없이 ```print()```만 추가해서는 모든 경우를 구현할 수 없어요."
   ]
  },
  {
   "cell_type": "code",
   "execution_count": null,
   "metadata": {},
   "outputs": [],
   "source": [
    "num = int(input(\"정수를 입력해주세요:\"))\n",
    "\n"
   ]
  },
  {
   "cell_type": "markdown",
   "metadata": {},
   "source": [
    "  \n",
    "  \n",
    "  \n",
    "```if```문을 하나 더 사용하는 방법"
   ]
  },
  {
   "cell_type": "code",
   "execution_count": null,
   "metadata": {},
   "outputs": [],
   "source": [
    "num = int(input(\"정수를 입력해주세요:\"))\n",
    "\n"
   ]
  },
  {
   "cell_type": "code",
   "execution_count": null,
   "metadata": {},
   "outputs": [],
   "source": [
    "num = int(input(\"정수를 입력해주세요:\"))\n"
   ]
  },
  {
   "cell_type": "markdown",
   "metadata": {},
   "source": [
    "```if-else```를 사용하면 코드도 간결해지고 비교 연산도 줄일 수 있어요."
   ]
  },
  {
   "cell_type": "code",
   "execution_count": null,
   "metadata": {},
   "outputs": [],
   "source": [
    "num = int(input(\"정수를 입력해주세요:\"))\n",
    "\n"
   ]
  },
  {
   "cell_type": "markdown",
   "metadata": {},
   "source": [
    "### [실습] 홀수 짝수 구분하기  \n",
    "사용자로부터 정수 하나를 입력 받고 그 수가 홀수라면 \"홀수\" 짝수라면 \"짝수\"라고 출력해봅시다.  \n",
    "> 힌트: 정수를 2로 나눠서 나머지가 0이면 짝수이고 1이면 홀수입니다.\n"
   ]
  },
  {
   "cell_type": "code",
   "execution_count": null,
   "metadata": {},
   "outputs": [],
   "source": [
    "num = int(input())\n"
   ]
  },
  {
   "cell_type": "markdown",
   "metadata": {},
   "source": [
    "### ```elif```의 사용법\n",
    "\n",
    "```if```와 ```else```를 이용하면 한 가지 조건을 만족하거나 만족하지 못하는 두 가지 경우에 대해 흐름을 제어할 수 있었습니다.\n",
    "```elif```를 이용해서 더 다양한 조건을 추가할 수 있습니다.\n",
    "\n",
    "```elif```는 ```else``` + ```if```입니다. 한 조건을 만족시키지 못했을 경우에 새로운 조건을 추가로 따져볼 수 있습니다.\n",
    "\n",
    "```\n",
    "if 조건1:\n",
    "    조건1이 True일때 실행될 명령문(들)\n",
    "elif 조건2:\n",
    "    조건1이 False이고 조건2가 True일때 실행될 명령문(들)\n",
    "elif 조건3:\n",
    "    조건1과 조건2가 모두 False이고 조건3이 True일때 실행될 명령문(들)\n",
    "else:\n",
    "    위의 모든 조건들이 False일때 실행될 명령문(들)\n",
    "```\n",
    "\n",
    "```elif:``` 개수에는 제한이 없습니다. 필요한 만큼 추가할 수 있으나 가독성과 유지보수를 고려하면 아무래도 적을 수록 좋겠지요.\n",
    "마지막의 ```else:```는 필수는 아니지만 추가할 경우 어떤 조건도 만족시키지 못했을 경우에 대해서도 대비할 수 있습니다."
   ]
  },
  {
   "cell_type": "markdown",
   "metadata": {},
   "source": [
    "[예시] 정수를 입력받아서 1이면 \"숫자 1입니다.\", 2이면 \"숫자 2입니다.\", 그 외에는 \"모르는 숫자입니다.\"를 출력해보세요."
   ]
  },
  {
   "cell_type": "code",
   "execution_count": null,
   "metadata": {},
   "outputs": [],
   "source": [
    "# elif 없이 if-else로 구현한 경우\n",
    "\n",
    "num = int(input())"
   ]
  },
  {
   "cell_type": "code",
   "execution_count": null,
   "metadata": {},
   "outputs": [],
   "source": [
    "num = int(input())\n",
    "\n",
    "\n",
    "# 숫자 3에 대해서 경우를 추가한다면?"
   ]
  },
  {
   "cell_type": "markdown",
   "metadata": {},
   "source": [
    "### [실습] 입력에 따라서 서로 다른 문장 출력하기\n",
    "\n",
    "어떤 입력에 어떤 문장을 출력할지는 아래 표를 참고하세요. 아래 표에 없는 입력이 들어왔을 경우에는 \"알 수 없습니다.\"를 출력합니다.\n",
    "문자열이 같은지는 비교 연산자 ```==```를 사용하시면 됩니다.\n",
    "\n",
    "|입력|출력|\n",
    "|---|---|\n",
    "|사과|사과는 맛있어|\n",
    "|기차|기차는 빨라|\n",
    "|바나나|바나나는 길어|"
   ]
  },
  {
   "cell_type": "code",
   "execution_count": null,
   "metadata": {},
   "outputs": [],
   "source": [
    "msg = input()"
   ]
  },
  {
   "cell_type": "markdown",
   "metadata": {},
   "source": [
    "# 구조적인 패턴 매칭 (match-case문)\n",
    "\n",
    "파이썬 3.10+에서 새로 추가된 문법입니다. 여기서는 기본적인 사용법만 살펴보겠습니다.  \n",
    "3.10버전 이상의 파이썬이 필요합니다."
   ]
  },
  {
   "cell_type": "markdown",
   "metadata": {},
   "source": [
    "[보충] 가상환경은 터미널에서 ```conda create -n py310 python=3.10```으로 만드실 수 있습니다. 이때 ```py310```대신 원하는 이름을 사용하셔도 됩니다. VSCode를 껐다 켠 다음에 주피터 노트북 우측 상단의 Python 3.X를 클릭하시면 새로 만든 환경으로 바꾸실 수 있습니다. 영상으로 된 설명은 챕터1에 있습니다.\n"
   ]
  },
  {
   "cell_type": "code",
   "execution_count": null,
   "metadata": {},
   "outputs": [],
   "source": []
  },
  {
   "cell_type": "markdown",
   "metadata": {},
   "source": [
    "사전(dict)을 이용한 풀이"
   ]
  },
  {
   "cell_type": "code",
   "execution_count": null,
   "metadata": {},
   "outputs": [],
   "source": [
    "my_dict = {\"기차\": \"기차는 길어\", \"바나나\": \"바나나는 맛있어\"}\n",
    "\n",
    "# get() 메써드의 기본값이 else: 역할을 합니다."
   ]
  }
 ],
 "metadata": {
  "interpreter": {
   "hash": "f64e548cbf2ebb58caacc39a919b16809fbf0a70979c18e5ddba76aa9934d80e"
  },
  "kernelspec": {
   "display_name": "Python 3.9.5 64-bit ('base': conda)",
   "language": "python",
   "name": "python3"
  },
  "language_info": {
   "codemirror_mode": {
    "name": "ipython",
    "version": 3
   },
   "file_extension": ".py",
   "mimetype": "text/x-python",
   "name": "python",
   "nbconvert_exporter": "python",
   "pygments_lexer": "ipython3",
   "version": "3.9.5"
  },
  "orig_nbformat": 4
 },
 "nbformat": 4,
 "nbformat_minor": 2
}
