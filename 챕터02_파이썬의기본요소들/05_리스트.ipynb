{
 "cells": [
  {
   "cell_type": "markdown",
   "metadata": {},
   "source": [
    "___\n",
    "<a href='https://cafe.naver.com/jmhonglab'><p style=\"text-align:center;\"><img src='https://lh3.googleusercontent.com/lY3ySXooSmwsq5r-mRi7uiypbo0Vez6pmNoQxMFhl9fmZJkRHu5lO2vo7se_0YOzgmDyJif9fi4_z0o3ZFdwd8NVSWG6Ea80uWaf3pOHpR4GHGDV7kaFeuHR3yAjIJjDgfXMxsvw=w2400'  class=\"center\" width=\"50%\" height=\"50%\"/></p></a>\n",
    "___\n",
    "<center><em>Content Copyright by HongLab, Inc.</em></center>"
   ]
  },
  {
   "cell_type": "markdown",
   "metadata": {},
   "source": [
    "# 파이썬 컨테이너(Containers)\n",
    "\n",
    "파이썬에서는 다른 객체들을 여러 개 담을 수 있는 자료형들도 제공합니다. 기본적으로는 리스트(list), 사전(dict), 집합(set), 튜플(tuple) 등이 제공됩니다. [collections 모듈](https://docs.python.org/ko/3/library/collections.html)을 통해서 더 많은 종류의 컨테이너 자료형들을 사용할 수 있습니다.\n",
    "\n",
    "### 기본 컨테이터 자료형들 정리\n",
    "\n",
    "|이름|type|예시|가변성|순서유지|중복허용|\n",
    "|---|---|---|---|---|---|\n",
    "|리스트|list|```[\"사과\", 123, 3.14]```|가변|O|O|\n",
    "|튜플|tuple|```(\"사과\", 123, 3.14)```|불변|O|O|\n",
    "|집합|set|```{\"사과\", 123, 3.14}```|가변|X|X|\n",
    "|사전|dict|```{\"원주율\":3.14, 123:\"일이삼\"}```|가변|3.6+|키X값O|"
   ]
  },
  {
   "cell_type": "markdown",
   "metadata": {},
   "source": [
    "# [리스트](https://docs.python.org/ko/3/tutorial/introduction.html#lists) 사용법 ([List](https://docs.python.org/3/tutorial/introduction.html#lists))\n",
    "\n",
    "리스트는 파이썬에서 가장 유연하게 사용할 수 있고 많이 사용되는 컨테이너입니다.\n",
    "\n",
    "### 리스트를 만드는 방법\n",
    "리스트는 대괄호(square brackets [])으로 만들어지고 컴마(comma ,) 기호를 이용해서 아이템(item)을 구분합니다."
   ]
  },
  {
   "cell_type": "code",
   "execution_count": null,
   "metadata": {},
   "outputs": [],
   "source": [
    "my_list = []  # 비어있는 리스트\n",
    "my_list = [1, 2, 3, 4, 5]  # 아이템 나열\n",
    "my_list = [\"A string\", 23, 100.232, \"o\"]  # 다양한 자료형의 객체들을 담을 수 있어요\n",
    "my_list = [x + 100 for x in range(1, 11)]  # 아이템들의 조건을 기술"
   ]
  },
  {
   "cell_type": "code",
   "execution_count": null,
   "metadata": {},
   "outputs": [],
   "source": [
    "# 아이템 개수"
   ]
  },
  {
   "cell_type": "markdown",
   "metadata": {},
   "source": [
    "### 리스트는 가변(Mutable)\n",
    "\n",
    "리스트는 문자열과 달리 가변(mutable) 자료형입니다."
   ]
  },
  {
   "cell_type": "code",
   "execution_count": null,
   "metadata": {},
   "outputs": [],
   "source": [
    "# 리스트에서도 인덱싱을 사용할 수 있습니다."
   ]
  },
  {
   "cell_type": "code",
   "execution_count": null,
   "metadata": {},
   "outputs": [],
   "source": [
    "# 슬라이싱 규칙은 문자열과 같아요"
   ]
  },
  {
   "cell_type": "code",
   "execution_count": null,
   "metadata": {},
   "outputs": [],
   "source": [
    "# 리스트는 가변(mutable) 자료형"
   ]
  },
  {
   "cell_type": "code",
   "execution_count": null,
   "metadata": {},
   "outputs": [],
   "source": [
    "# 슬라이싱으로도 대입이 가능해요"
   ]
  },
  {
   "cell_type": "code",
   "execution_count": null,
   "metadata": {},
   "outputs": [],
   "source": [
    "# 더하기 연산자로 아이템 추가 (주의: 리스트 끼리만 연산)"
   ]
  },
  {
   "cell_type": "code",
   "execution_count": null,
   "metadata": {},
   "outputs": [],
   "source": [
    "# 원래 리스트에는 변화가 없음"
   ]
  },
  {
   "cell_type": "code",
   "execution_count": null,
   "metadata": {},
   "outputs": [],
   "source": [
    "# 리스트간의 더하기 후 대입"
   ]
  },
  {
   "cell_type": "code",
   "execution_count": null,
   "metadata": {},
   "outputs": [],
   "source": [
    "# += 연산자 사용"
   ]
  },
  {
   "cell_type": "code",
   "execution_count": null,
   "metadata": {},
   "outputs": [],
   "source": [
    "# 리스트와 정수의 곱하기"
   ]
  },
  {
   "cell_type": "code",
   "execution_count": null,
   "metadata": {},
   "outputs": [],
   "source": [
    "# *= 연산자 사용"
   ]
  },
  {
   "cell_type": "markdown",
   "metadata": {},
   "source": [
    "### 기본적인 메써드\n",
    "문자열은 변경을 하려면 새로운 객체를 만들어야 했습니다.  \n",
    "리스트는 가변 자료형이기 때문에 객체를 유지한 채로 내용을 바꿀 수 있어요."
   ]
  },
  {
   "cell_type": "code",
   "execution_count": null,
   "metadata": {},
   "outputs": [],
   "source": [
    "# append() 메써드를 이용하면 새로운 아이템을 추가할 수 있어요\n",
    "\n",
    "\n",
    "# id가 변할까요?"
   ]
  },
  {
   "cell_type": "code",
   "execution_count": null,
   "metadata": {},
   "outputs": [],
   "source": [
    "# 이렇게 하면 새로운 객체를 만들어줄까?"
   ]
  },
  {
   "cell_type": "code",
   "execution_count": null,
   "metadata": {},
   "outputs": [],
   "source": [
    "# pop() 메써드를 사용하면 원하는 위치에서 아이템 하나를 가져오면서 삭제합니다."
   ]
  },
  {
   "cell_type": "code",
   "execution_count": null,
   "metadata": {},
   "outputs": [],
   "source": [
    "# reverse() 메써드 사용"
   ]
  },
  {
   "cell_type": "code",
   "execution_count": null,
   "metadata": {},
   "outputs": [],
   "source": [
    "# 만약 reverse() 함수의 결과를 다른 변수로 받는다면?\n",
    "\n",
    "\n",
    "# 확인해봅시다."
   ]
  },
  {
   "cell_type": "code",
   "execution_count": null,
   "metadata": {},
   "outputs": [],
   "source": [
    "# 만약 reverse 된 새로운 리스트를 만들고 싶다면?\n",
    "\n",
    "# 슬라이싱을 이용해보세요."
   ]
  },
  {
   "cell_type": "code",
   "execution_count": null,
   "metadata": {},
   "outputs": [],
   "source": [
    "# 정렬 sort() 메써드 사용"
   ]
  },
  {
   "cell_type": "code",
   "execution_count": null,
   "metadata": {},
   "outputs": [],
   "source": [
    "# 문자열을 정렬한다면?"
   ]
  },
  {
   "cell_type": "markdown",
   "metadata": {},
   "source": [
    "이 외에도 다양한 메써드들이 제공됩니다. 어떤 기능을 하는지 추측해보세요."
   ]
  },
  {
   "cell_type": "code",
   "execution_count": null,
   "metadata": {},
   "outputs": [],
   "source": [
    "my_list = [3, 1, 4, 1, 5, 9, 2]\n",
    "\n",
    "my_list.clear()\n",
    "\n",
    "my_list"
   ]
  },
  {
   "cell_type": "code",
   "execution_count": null,
   "metadata": {},
   "outputs": [],
   "source": [
    "my_list = [\"내가\", \"몇개\", \"몇개\", \"몇개\", \"몇개\", \"있을까?\"]\n",
    "\n",
    "my_list.count(\"몇개\")"
   ]
  },
  {
   "cell_type": "code",
   "execution_count": null,
   "metadata": {},
   "outputs": [],
   "source": [
    "my_list = [1, 2, 3]\n",
    "list_to_add = [4, 5, 6]\n",
    "\n",
    "my_list.extend(list_to_add)"
   ]
  },
  {
   "cell_type": "code",
   "execution_count": null,
   "metadata": {},
   "outputs": [],
   "source": [
    "my_list = [\"내가\", \"몇개\", \"몇개\", \"몇개\", \"몇개\", \"있을까?\"]\n",
    "\n",
    "my_list.index(\"있을까?\")"
   ]
  },
  {
   "cell_type": "code",
   "execution_count": null,
   "metadata": {},
   "outputs": [],
   "source": [
    "my_list = [\"내가\", \"몇개\", \"몇개\", \"몇개\", \"몇개\", \"있을까?\"]\n",
    "\n",
    "my_list.remove(\"몇개\")"
   ]
  },
  {
   "cell_type": "code",
   "execution_count": null,
   "metadata": {},
   "outputs": [],
   "source": [
    "my_list = [\"A\", \"B\", \"D\", \"E\"]\n",
    "\n",
    "my_list.insert(2, \"C\")"
   ]
  },
  {
   "cell_type": "markdown",
   "metadata": {},
   "source": [
    "정답은 [여기](https://www.w3schools.com/python/python_ref_list.asp)를 참고하시거나 검색해보세요. 파이썬 자체 도움말은 ```help(list.remove)```와 같이 사용하시면 됩니다."
   ]
  },
  {
   "cell_type": "markdown",
   "metadata": {},
   "source": [
    "### 중첩 리스트 (Nested List)"
   ]
  },
  {
   "cell_type": "markdown",
   "metadata": {},
   "source": [
    "리스트 안에 리스트를 넣을 수도 있습니다."
   ]
  },
  {
   "cell_type": "code",
   "execution_count": null,
   "metadata": {},
   "outputs": [],
   "source": [
    "my_list = [[\"Hello\", 1, 2], 3, 4, [5, \"Apple\"]]"
   ]
  },
  {
   "cell_type": "code",
   "execution_count": null,
   "metadata": {},
   "outputs": [],
   "source": [
    "# 중첩 리스트의 인덱싱"
   ]
  },
  {
   "cell_type": "code",
   "execution_count": null,
   "metadata": {},
   "outputs": [],
   "source": [
    "# 리스트를 인덱싱한 결과가 리스트인 경우 인덱싱을 한 번 더 할 수 있어요.\n",
    "my_list[0][0]"
   ]
  },
  {
   "cell_type": "code",
   "execution_count": null,
   "metadata": {},
   "outputs": [],
   "source": [
    "# 세 개의 리스트를 만들어 봅시다.\n",
    "\n",
    "# 리스트의 리스트를 만들어 봅시다."
   ]
  },
  {
   "cell_type": "code",
   "execution_count": null,
   "metadata": {},
   "outputs": [],
   "source": []
  },
  {
   "cell_type": "code",
   "execution_count": null,
   "metadata": {},
   "outputs": [],
   "source": []
  },
  {
   "cell_type": "markdown",
   "metadata": {},
   "source": [
    "가변 컨테이너에 가변 객체를 넣을 때는 주의해야 합니다."
   ]
  },
  {
   "cell_type": "code",
   "execution_count": null,
   "metadata": {},
   "outputs": [],
   "source": [
    "my_list = [\"Hello\", 2, 3, 4, 5]\n",
    "\n",
    "# copy() 메써드를 이용해서 내용이 동일한 리스트 객체를 새로 만들어줍니다.\n",
    "\n",
    "# 리스트 자체는 새로 만들어졌어요"
   ]
  },
  {
   "cell_type": "code",
   "execution_count": null,
   "metadata": {},
   "outputs": [],
   "source": [
    "# 그러나 원소들은?"
   ]
  },
  {
   "cell_type": "code",
   "execution_count": null,
   "metadata": {},
   "outputs": [],
   "source": [
    "# 불변 객체를 바꿔줄 경우"
   ]
  },
  {
   "cell_type": "code",
   "execution_count": null,
   "metadata": {},
   "outputs": [],
   "source": [
    "# 리스트 안에 가변 객체를 넣었습니다.\n",
    "\n",
    "# 동일하지만 새로운 리스트 객체를 만들어줍니다."
   ]
  },
  {
   "cell_type": "code",
   "execution_count": null,
   "metadata": {},
   "outputs": [],
   "source": [
    "# 새로운 리스트의 아이템만 수정하려고 시도\n",
    "\n",
    "# 그러나?"
   ]
  },
  {
   "cell_type": "markdown",
   "metadata": {},
   "source": [
    "이런 일이 발생하는 원인은 리스트가 가지고 있는 아이템들이 객체 자체가 아니라 객체의 이름표 뿐이기 때문입니다.  \n",
    "copy 모듈의 deepcopy()를 이용하면 리스트에 들어있는 객체들을 통째로 복사해서 이런 현상을 방지할 수도 있는데 이 개념은 기초 문법 연습을 조금 더 한 후에 다시 공부하도록 하겠습니다.  "
   ]
  },
  {
   "cell_type": "markdown",
   "metadata": {},
   "source": [
    "### 리스트와 for 루프"
   ]
  },
  {
   "cell_type": "code",
   "execution_count": null,
   "metadata": {},
   "outputs": [],
   "source": [
    "my_list = [\"Hello\", 2, 3, 4, 5]\n",
    "\n",
    "# for문과 리스트"
   ]
  }
 ],
 "metadata": {
  "interpreter": {
   "hash": "d187a48a8a4b28f37103ceb7e85bceb2b63d70db7314890fe18e7e16ec425e3f"
  },
  "kernelspec": {
   "display_name": "Python 3.9.7 64-bit ('base': conda)",
   "language": "python",
   "name": "python3"
  },
  "language_info": {
   "codemirror_mode": {
    "name": "ipython",
    "version": 3
   },
   "file_extension": ".py",
   "mimetype": "text/x-python",
   "name": "python",
   "nbconvert_exporter": "python",
   "pygments_lexer": "ipython3",
   "version": "3.9.5"
  },
  "orig_nbformat": 4
 },
 "nbformat": 4,
 "nbformat_minor": 2
}
