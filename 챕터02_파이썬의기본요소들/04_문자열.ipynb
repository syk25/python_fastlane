{
 "cells": [
  {
   "cell_type": "markdown",
   "metadata": {},
   "source": [
    "___\n",
    "<a href='https://cafe.naver.com/jmhonglab'><p style=\"text-align:center;\"><img src='https://lh3.googleusercontent.com/lY3ySXooSmwsq5r-mRi7uiypbo0Vez6pmNoQxMFhl9fmZJkRHu5lO2vo7se_0YOzgmDyJif9fi4_z0o3ZFdwd8NVSWG6Ea80uWaf3pOHpR4GHGDV7kaFeuHR3yAjIJjDgfXMxsvw=w2400'  class=\"center\" width=\"50%\" height=\"50%\"/></p></a>\n",
    "___\n",
    "<center><em>Content Copyright by HongLab, Inc.</em></center>"
   ]
  },
  {
   "cell_type": "markdown",
   "metadata": {},
   "source": [
    "**[공부 방법 안내]** 여기서부터 세세한 문법과 사용법들이 많이 나오는데 모두 외우거나 이해하려고 **억지로 노력하실 필요가 없습니다**. 강의 노트를 활용해서 예시의 문구를 바꿔본다든가 숫자를 바꿔본다든가 앞에서 배운 것들과 섞어본다든가 등의 작고 간단한 실험을 **잠깐씩만** 해보시면 충분합니다. **아주 작은 호기심이 나중에는 놀랍도록 커다란 창의력으로 돌아옵니다**. 수동적으로 영상만 보실 경우에는 실력을 쌓는 데에 오히려 더 많은 시간이 걸립니다. 다만, 타자가 너무 느려서 생각한 대로 입력하는 것 자체에 불편함이 느껴지신다면 별도로 타자연습을 조금 해보세요."
   ]
  },
  {
   "cell_type": "markdown",
   "metadata": {},
   "source": [
    "# [문자열](https://docs.python.org/ko/3/tutorial/introduction.html#strings) 사용법 ([Strings](https://docs.python.org/3/tutorial/introduction.html#strings))\n",
    "\n",
    "문자열(string)은 순서대로 나열되어 있는 문자들을 다루기에 편리한 자료형입니다.  \n",
    "글자를 여러 개 담을 수 있다는 점에서 넓은 의미로 **컨테이너(container)** 자료형 중의 하나로 분류가 됩니다.  \n",
    "컨테이너 자료형들 중에서도 원소(element)들이 순서대로 나열되어 있다는 점에서 **시퀀스(sequence)** 로 다시 분류가 됩니다.  \n",
    "시퀀스로 분류되는 자료형에는 문자열(string) 외에도 리스트(list)와 튜플(tuple)이 더 있습니다.  \n",
    "시퀀스에서는 **인덱싱(indexing)** 과 **슬라이싱(slicing)** 을 사용할 수 있습니다.\n",
    "\n",
    "1. 문자열 리터럴 만들기\n",
    "1. 문자열 출력하기\n",
    "1. 인덱싱(indexing)과 슬라이싱(slicing)\n",
    "1. 문자열의 불변성\n",
    "1. 문자열의 메써드\n",
    "1. 문자열의 포매팅\n",
    "\n",
    "**[참고]** 한국에서는 Method를 '메소드'라고 적는 경우가 많은데 요즘은 원어에 보다 가까운 표기를 원하시는 분들이 많아서 여기서는 '메써드'라고 표기하겠습니다.  \n",
    "[정확한 발음은 여기를 참고하세요.](https://www.google.com/search?q=meaning+of+method&rlz=1C1RXQR_koUS982US982&oq=meaning+of+method&aqs=chrome..69i57j0i512l9.1999j0j7&sourceid=chrome&ie=UTF-8) 스피커 버튼 클릭해서 발음 확인해보세요."
   ]
  },
  {
   "cell_type": "markdown",
   "metadata": {},
   "source": [
    "### 문자열(string) 리터럴 만들기\n",
    "\n",
    "*Black은 문자열에 큰따옴표를 선호하기 때문에 여기서는 포매터를 끄고 진행하겠습니다.*\n",
    "\n",
    "한 글자 또는 여러 글자의 시작과 끝을 작은따옴표(') 또는 큰따옴표(\")로 둘러싸서 만듭니다.  \n",
    "[참고] 영어에서는 single quote(홑따옴표), double quote(겹따옴표)라고 부릅니다."
   ]
  },
  {
   "cell_type": "code",
   "execution_count": 3,
   "metadata": {},
   "outputs": [
    {
     "data": {
      "text/plain": [
       "\"I'm a programmer\""
      ]
     },
     "execution_count": 3,
     "metadata": {},
     "output_type": "execute_result"
    }
   ],
   "source": [
    "# 큰따옴표 사용\n",
    "\"I'm a programmer\""
   ]
  },
  {
   "cell_type": "code",
   "execution_count": 4,
   "metadata": {},
   "outputs": [
    {
     "data": {
      "text/plain": [
       "\"I'm a programmer\""
      ]
     },
     "execution_count": 4,
     "metadata": {},
     "output_type": "execute_result"
    }
   ],
   "source": [
    "# 작은따옴표 사용\n",
    "'I\\'m a programmer'"
   ]
  },
  {
   "cell_type": "markdown",
   "metadata": {},
   "source": [
    "**[참고]** 문자열 리터럴에 큰따옴표(\")만을 사용하는 프로그래밍 언어들이 많습니다. 특히 C, C++, 자바에서는 작은따옴표는 글자 하나에, 큰따옴표는 여러 글자에 사용하기 때문에 아예 용도가 다릅니다. 입력하기에는 작은따옴표가 편하지만 다른 프로그래밍 언어도 공부하실 계획이라면 큰따옴표로 습관들이시는 것을 추천합니다."
   ]
  },
  {
   "cell_type": "code",
   "execution_count": 2,
   "metadata": {},
   "outputs": [
    {
     "data": {
      "text/plain": [
       "\"He's a programmer\""
      ]
     },
     "execution_count": 2,
     "metadata": {},
     "output_type": "execute_result"
    }
   ],
   "source": [
    "# 큰따옴표 안에서 작은따옴표 사용 ok\n",
    "\"He's a programmer.\""
   ]
  },
  {
   "cell_type": "code",
   "execution_count": 3,
   "metadata": {},
   "outputs": [
    {
     "ename": "SyntaxError",
     "evalue": "unterminated string literal (detected at line 2) (1513924950.py, line 2)",
     "output_type": "error",
     "traceback": [
      "\u001b[0;36m  Cell \u001b[0;32mIn[3], line 2\u001b[0;36m\u001b[0m\n\u001b[0;31m    'He's a programmer'\u001b[0m\n\u001b[0m                      ^\u001b[0m\n\u001b[0;31mSyntaxError\u001b[0m\u001b[0;31m:\u001b[0m unterminated string literal (detected at line 2)\n"
     ]
    }
   ],
   "source": [
    "# 작은따옴표 안에서 작은따옴표 사용 NOT ok\n",
    "'He's a programmer'"
   ]
  },
  {
   "cell_type": "markdown",
   "metadata": {},
   "source": [
    "[참고] **백슬래쉬(backslash)** 키는 엔터키 위에 있습니다. 한국어 키보드나 윈도우에서는 원화기호(₩)와 혼용되는 경우도 있습니다. 나누기 기호가 슬래쉬(slash)이고 백슬래쉬는 나누기가 좌우반전된 형태입니다. 초보때는 기호 입력이 불편합니다. 그러나 프로그래밍에서는 일상에서는 잘 쓰지 않는 키도 모두 활용해야만 합니다. 제가 제공해드리는 예시들을 조금씩 바꿔가면서 갖고 놀다 보면 자연스럽게 익숙해집니다."
   ]
  },
  {
   "cell_type": "code",
   "execution_count": null,
   "metadata": {},
   "outputs": [],
   "source": [
    "# 작은따옴표 안에서 큰따옴표 사용"
   ]
  },
  {
   "cell_type": "code",
   "execution_count": null,
   "metadata": {},
   "outputs": [],
   "source": [
    "# 큰따옴표 안에서 큰따옴표 사용"
   ]
  },
  {
   "cell_type": "code",
   "execution_count": 5,
   "metadata": {},
   "outputs": [
    {
     "data": {
      "text/plain": [
       "'나는 \"재밌어\" 라고 외쳤다.'"
      ]
     },
     "execution_count": 5,
     "metadata": {},
     "output_type": "execute_result"
    }
   ],
   "source": [
    "# 큰따옴표 안에서 큰따옴표 사용\n",
    "\"나는 \\\"재밌어\\\" 라고 외쳤다.\""
   ]
  },
  {
   "cell_type": "markdown",
   "metadata": {},
   "source": [
    "같은 원리로 큰따옴표 안에서 작은따옴표를 기호로 사용하는 것은 문제가 없고 작은따옴표안에서 작은따옴표를 사용할 때는 백슬래쉬를 사용하시면 됩니다. 직접 확인해보세요!  \n",
    "위에 사용된 \\\\', \\\\\"와 같이 앞에 백슬래쉬(\\)를 붙여서 다른 의미를 갖게 된 문자들을 확장문자(**escape character**)라고 부릅니다. 아래에 더 나와요."
   ]
  },
  {
   "cell_type": "markdown",
   "metadata": {},
   "source": [
    "### 문자열 출력하기"
   ]
  },
  {
   "cell_type": "code",
   "execution_count": 4,
   "metadata": {},
   "outputs": [
    {
     "data": {
      "text/plain": [
       "'안녕하세요? 반갑습니다.'"
      ]
     },
     "execution_count": 4,
     "metadata": {},
     "output_type": "execute_result"
    }
   ],
   "source": [
    "\"안녕하세요? 반갑습니다.\""
   ]
  },
  {
   "cell_type": "code",
   "execution_count": 5,
   "metadata": {},
   "outputs": [
    {
     "name": "stdout",
     "output_type": "stream",
     "text": [
      "안녕하세요? 반갑습니다.\n"
     ]
    }
   ],
   "source": [
    "# print()를 사용하면 따옴표가 출력되지 않습니다.\n",
    "print(\"안녕하세요? 반갑습니다.\")"
   ]
  },
  {
   "cell_type": "code",
   "execution_count": 6,
   "metadata": {},
   "outputs": [
    {
     "name": "stdout",
     "output_type": "stream",
     "text": [
      "첫번째 줄입니다.\n",
      "두번째 줄입니다.\n"
     ]
    }
   ],
   "source": [
    "# 두 줄 출력하기\n",
    "print(\"첫번째 줄입니다.\")\n",
    "print(\"두번째 줄입니다.\")"
   ]
  },
  {
   "cell_type": "code",
   "execution_count": 7,
   "metadata": {},
   "outputs": [
    {
     "name": "stdout",
     "output_type": "stream",
     "text": [
      "첫번째 줄입입니다.\n",
      "두번째 줄입니다.\n"
     ]
    }
   ],
   "source": [
    "# 줄바꿈 \\n\n",
    "print(\"첫번째 줄입입니다.\\n두번째 줄입니다.\")"
   ]
  },
  {
   "cell_type": "code",
   "execution_count": null,
   "metadata": {},
   "outputs": [],
   "source": [
    "# Escape character 사용할 때는 빈칸에 주의해야 합니다."
   ]
  },
  {
   "cell_type": "code",
   "execution_count": null,
   "metadata": {},
   "outputs": [],
   "source": [
    "# 탭(tab) 사용 \\t - 여러 줄을 출력할 때 줄 맞추기용으로 사용: 8칸 기준"
   ]
  },
  {
   "cell_type": "code",
   "execution_count": 1,
   "metadata": {},
   "outputs": [
    {
     "name": "stdout",
     "output_type": "stream",
     "text": [
      "\t12345678\n",
      "1\t12345678\n",
      "12\t12345678\n",
      "123\t12345678\n",
      "1234\t12345678\n",
      "12345\t12345678\n",
      "123456\t12345678\n",
      "1234567\t12345678\n",
      "12345678\t12345678\n"
     ]
    }
   ],
   "source": [
    "# 탭 규칙\n",
    "print(\"\\t12345678\")\n",
    "print(\"1\\t12345678\")\n",
    "print(\"12\\t12345678\")\n",
    "print(\"123\\t12345678\")\n",
    "print(\"1234\\t12345678\")\n",
    "print(\"12345\\t12345678\")\n",
    "print(\"123456\\t12345678\")\n",
    "print(\"1234567\\t12345678\")\n",
    "print(\"12345678\\t12345678\")"
   ]
  },
  {
   "cell_type": "code",
   "execution_count": 2,
   "metadata": {},
   "outputs": [
    {
     "name": "stdout",
     "output_type": "stream",
     "text": [
      "\t12345678\n",
      "1\t12345678\n",
      "12\t12345678\n",
      "123\t12345678\n",
      "1234\t12345678\n",
      "12345\t12345678\n",
      "123456\t12345678\n",
      "1234567\t12345678\n",
      "12345678\t12345678\n",
      "123456781\t12345678\n",
      "1234567812\t12345678\n",
      "12345678123\t12345678\n",
      "123456781234\t12345678\n",
      "1234567812345\t12345678\n",
      "12345678123456\t12345678\n",
      "123456781234567\t12345678\n",
      "1234567812345678\t12345678\n",
      "12345678123456781\t12345678\n",
      "123456781234567812\t12345678\n",
      "1234567812345678123\t12345678\n",
      "12345678123456781234\t12345678\n",
      "123456781234567812345\t12345678\n",
      "1234567812345678123456\t12345678\n",
      "12345678123456781234567\t12345678\n",
      "123456781234567812345678\t12345678\n"
     ]
    }
   ],
   "source": [
    "# 탭 규칙 (참고: 반복문 이용)\n",
    "a = \"\"\n",
    "for i in range(0, 25):\n",
    "    print(a + \"\\t12345678\")\n",
    "    a += str(i % 8 + 1)"
   ]
  },
  {
   "cell_type": "code",
   "execution_count": 8,
   "metadata": {},
   "outputs": [
    {
     "name": "stdout",
     "output_type": "stream",
     "text": [
      "안녕하세요?\n",
      "안녕하세요\n"
     ]
    }
   ],
   "source": [
    "# 백스페이스(backspace)\n",
    "print(\"안녕하세요?\")\n",
    "print(\"안녕하세요?\\b\")"
   ]
  },
  {
   "cell_type": "code",
   "execution_count": 9,
   "metadata": {},
   "outputs": [
    {
     "name": "stdout",
     "output_type": "stream",
     "text": [
      "\\\n"
     ]
    }
   ],
   "source": [
    "# 백슬래쉬(backslash)\n",
    "print(\"\\\\\")"
   ]
  },
  {
   "cell_type": "code",
   "execution_count": 12,
   "metadata": {},
   "outputs": [
    {
     "ename": "SyntaxError",
     "evalue": "(unicode error) 'unicodeescape' codec can't decode bytes in position 0-1: truncated \\UXXXXXXXX escape (3474953101.py, line 2)",
     "output_type": "error",
     "traceback": [
      "\u001b[0;36m  Cell \u001b[0;32mIn[12], line 2\u001b[0;36m\u001b[0m\n\u001b[0;31m    print(\"\\Users\\syk25\")\u001b[0m\n\u001b[0m          ^\u001b[0m\n\u001b[0;31mSyntaxError\u001b[0m\u001b[0;31m:\u001b[0m (unicode error) 'unicodeescape' codec can't decode bytes in position 0-1: truncated \\UXXXXXXXX escape\n"
     ]
    }
   ],
   "source": [
    "# 의도치 않는 결과 (윈도우에서는 파일 경로 표시에 백슬래쉬를 사용합니다.)\n",
    "print(\"\\Users\\syk25\")"
   ]
  },
  {
   "cell_type": "code",
   "execution_count": 13,
   "metadata": {},
   "outputs": [
    {
     "name": "stdout",
     "output_type": "stream",
     "text": [
      "\\Users\\syk25\n"
     ]
    }
   ],
   "source": [
    "# Raw strings: 앞에 r을 붙이며 백슬래쉬를 일반적인 문자로 처리합니다.\n",
    "print(r\"\\Users\\syk25\")"
   ]
  },
  {
   "cell_type": "code",
   "execution_count": null,
   "metadata": {},
   "outputs": [],
   "source": [
    "# 여러 줄로 리터럴을 만들고 싶은 경우\n",
    "m = \"안녕하세요?\n",
    "반갑습니다.\n",
    "저는 꼭 여러 줄을 사용하고 싶네요.\n",
    "\""
   ]
  },
  {
   "cell_type": "code",
   "execution_count": 15,
   "metadata": {},
   "outputs": [
    {
     "data": {
      "text/plain": [
       "'안녕하세요.\\n    나는 개발자입니다.'"
      ]
     },
     "execution_count": 15,
     "metadata": {},
     "output_type": "execute_result"
    }
   ],
   "source": [
    "# 큰따옴표 또는 작은따옴표를 3개씩 사용\n",
    "\"\"\"안녕하세요.\n",
    "    나는 개발자입니다.\"\"\""
   ]
  },
  {
   "cell_type": "code",
   "execution_count": 17,
   "metadata": {},
   "outputs": [
    {
     "data": {
      "text/plain": [
       "'안녕하세요.나는 개발자입니다.'"
      ]
     },
     "execution_count": 17,
     "metadata": {},
     "output_type": "execute_result"
    }
   ],
   "source": [
    "# 줄 마지막에 백슬래쉬를 넣으면 줄바꿈을 없애줍니다.\n",
    "\"\"\"안녕하세요.\\\n",
    "나는 개발자입니다.\"\"\""
   ]
  },
  {
   "cell_type": "code",
   "execution_count": 18,
   "metadata": {},
   "outputs": [
    {
     "data": {
      "text/plain": [
       "'나는나비'"
      ]
     },
     "execution_count": 18,
     "metadata": {},
     "output_type": "execute_result"
    }
   ],
   "source": [
    "# 문자열 2개는 자동으로 합쳐짐\n",
    "\"나는\" \"나비\""
   ]
  },
  {
   "cell_type": "code",
   "execution_count": 19,
   "metadata": {},
   "outputs": [],
   "source": [
    "#  자동으로 합쳐지는 건 변수명이나 표현식과는 함께 되지 않음\n",
    "h = '나는'\n",
    "b = '나비'\n"
   ]
  },
  {
   "cell_type": "code",
   "execution_count": 20,
   "metadata": {},
   "outputs": [
    {
     "data": {
      "text/plain": [
       "'나는나비'"
      ]
     },
     "execution_count": 20,
     "metadata": {},
     "output_type": "execute_result"
    }
   ],
   "source": [
    "# 더하기 연산자 +\n",
    "h + b"
   ]
  },
  {
   "cell_type": "code",
   "execution_count": 21,
   "metadata": {},
   "outputs": [
    {
     "data": {
      "text/plain": [
       "'일이삼일이삼일이삼'"
      ]
     },
     "execution_count": 21,
     "metadata": {},
     "output_type": "execute_result"
    }
   ],
   "source": [
    "# 곱하기 연산자는 반복\n",
    "\"일이삼\" * 3"
   ]
  },
  {
   "cell_type": "markdown",
   "metadata": {},
   "source": [
    "[참고] **표현식(expression)** 은 계산해서 어떤 값이 나오는 식을 의미합니다. 예를 들어서 3 * 4 와 같이 연산자와 피연산자로 이루어집니다. 피연산자에는 리터럴 외에도 변수나 함수 호출 등이 포함됩니다."
   ]
  },
  {
   "cell_type": "markdown",
   "metadata": {},
   "source": [
    "### 인덱싱(indexing)과 슬라이싱(slicing)"
   ]
  },
  {
   "cell_type": "code",
   "execution_count": 22,
   "metadata": {},
   "outputs": [
    {
     "data": {
      "text/plain": [
       "6"
      ]
     },
     "execution_count": 22,
     "metadata": {},
     "output_type": "execute_result"
    }
   ],
   "source": [
    "# 길이 재기\n",
    "len(\"ABC DE\")"
   ]
  },
  {
   "cell_type": "code",
   "execution_count": 23,
   "metadata": {},
   "outputs": [
    {
     "data": {
      "text/plain": [
       "5"
      ]
     },
     "execution_count": 23,
     "metadata": {},
     "output_type": "execute_result"
    }
   ],
   "source": [
    "# 한글 길이 재기\n",
    "len(\"안녕하세요\")"
   ]
  },
  {
   "cell_type": "markdown",
   "metadata": {},
   "source": [
    "여러 글자로 이루어진 문자열에서 글자 하나를 가져오기 위해서는 대괄호 [] 안에 위치를 의미하는 숫자(**인덱스**)를 넣어줍니다.  \n",
    "이것을 **인덱싱**이라고 부릅니다. 문자열 외의 리스트나 튜플 같은 시퀀스(sequence)에도 사용이 가능합니다.\n"
   ]
  },
  {
   "cell_type": "code",
   "execution_count": 27,
   "metadata": {},
   "outputs": [
    {
     "data": {
      "text/plain": [
       "'A'"
      ]
     },
     "execution_count": 27,
     "metadata": {},
     "output_type": "execute_result"
    }
   ],
   "source": [
    "# ABCDEF\n",
    "# 012345\n",
    "a = \"ABCDEF\"\n",
    "a[0]"
   ]
  },
  {
   "cell_type": "code",
   "execution_count": 8,
   "metadata": {},
   "outputs": [
    {
     "data": {
      "text/plain": [
       "'F'"
      ]
     },
     "execution_count": 8,
     "metadata": {},
     "output_type": "execute_result"
    }
   ],
   "source": [
    "# ABCDEF\n",
    "# 012345\n",
    "# 인덱스 -1은 마지막\n",
    "a[-1]"
   ]
  },
  {
   "cell_type": "code",
   "execution_count": 9,
   "metadata": {},
   "outputs": [
    {
     "data": {
      "text/plain": [
       "'E'"
      ]
     },
     "execution_count": 9,
     "metadata": {},
     "output_type": "execute_result"
    }
   ],
   "source": [
    "# ABCDEF\n",
    "# 012345\n",
    "# 음의 인덱스는 역순으로 가져옵니다.\n",
    "a[-2]"
   ]
  },
  {
   "cell_type": "code",
   "execution_count": 11,
   "metadata": {},
   "outputs": [
    {
     "ename": "IndexError",
     "evalue": "string index out of range",
     "output_type": "error",
     "traceback": [
      "\u001b[0;31m---------------------------------------------------------------------------\u001b[0m",
      "\u001b[0;31mIndexError\u001b[0m                                Traceback (most recent call last)",
      "Cell \u001b[0;32mIn[11], line 4\u001b[0m\n\u001b[1;32m      1\u001b[0m \u001b[38;5;66;03m# ABCDEF\u001b[39;00m\n\u001b[1;32m      2\u001b[0m \u001b[38;5;66;03m# 012345\u001b[39;00m\n\u001b[1;32m      3\u001b[0m \u001b[38;5;66;03m# 글자 수 이상의 인덱스를 사용할 경우\u001b[39;00m\n\u001b[0;32m----> 4\u001b[0m a[\u001b[38;5;241m6\u001b[39m]\n",
      "\u001b[0;31mIndexError\u001b[0m: string index out of range"
     ]
    }
   ],
   "source": [
    "# ABCDEF\n",
    "# 012345\n",
    "# 글자 수 이상의 인덱스를 사용할 경우\n",
    "a[6]"
   ]
  },
  {
   "cell_type": "markdown",
   "metadata": {},
   "source": [
    "인덱싱의 기능을 확장해서 일부를 잘라서 가져오는 것을 **슬라이싱**이라고 부릅니다."
   ]
  },
  {
   "cell_type": "code",
   "execution_count": 12,
   "metadata": {},
   "outputs": [
    {
     "data": {
      "text/plain": [
       "'ABC'"
      ]
     },
     "execution_count": 12,
     "metadata": {},
     "output_type": "execute_result"
    }
   ],
   "source": [
    "# 콜론 앞의 숫자는 잘라내기 시작하는 위치입니다.\n",
    "# ABCDEF\n",
    "# 012345\n",
    "a[0:3]"
   ]
  },
  {
   "cell_type": "code",
   "execution_count": null,
   "metadata": {},
   "outputs": [],
   "source": [
    "# 첫 번째 콜론 오른쪽의 숫자는 '포함되지 않는' 마지막 위치입니다.\n",
    "# 마지막 위치의 하나 전까지 포함됩니다.\n",
    "# ABCDEF\n",
    "# 012345"
   ]
  },
  {
   "cell_type": "code",
   "execution_count": null,
   "metadata": {},
   "outputs": [],
   "source": [
    "# a[:i] + a[i:]는 a와 동일"
   ]
  },
  {
   "cell_type": "code",
   "execution_count": 18,
   "metadata": {},
   "outputs": [
    {
     "data": {
      "text/plain": [
       "'ED'"
      ]
     },
     "execution_count": 18,
     "metadata": {},
     "output_type": "execute_result"
    }
   ],
   "source": [
    "# 마지막 위치에 음의 인덱스를 사용할 수도 있습니다.\n",
    "# ABCDEF\n",
    "# 012345\n",
    "a[-2:2:-1]"
   ]
  },
  {
   "cell_type": "code",
   "execution_count": null,
   "metadata": {},
   "outputs": [],
   "source": [
    "# 시작과 끝을 모두 사용할 수 있습니다.\n",
    "# ABCDEF\n",
    "# 012345"
   ]
  },
  {
   "cell_type": "code",
   "execution_count": null,
   "metadata": {},
   "outputs": [],
   "source": [
    "# 시작에 len(a) 이상의 인덱스 사용시"
   ]
  },
  {
   "cell_type": "code",
   "execution_count": 19,
   "metadata": {},
   "outputs": [
    {
     "data": {
      "text/plain": [
       "'ACE'"
      ]
     },
     "execution_count": 19,
     "metadata": {},
     "output_type": "execute_result"
    }
   ],
   "source": [
    "# 건너 뛰면서 가져오고 싶을 때는 두번째 콜론 오른쪽에 1외의 숫자를 사용\n",
    "# 한걸음 두걸음 할 때와 같은 의미의 step이라고 부릅니다.\n",
    "# ABCDEF\n",
    "# 012345\n",
    "a[0:5:2]"
   ]
  },
  {
   "cell_type": "code",
   "execution_count": 23,
   "metadata": {},
   "outputs": [
    {
     "data": {
      "text/plain": [
       "'FEDCBA'"
      ]
     },
     "execution_count": 23,
     "metadata": {},
     "output_type": "execute_result"
    }
   ],
   "source": [
    "# 스텝(step)에 음수를 사용하면 역순으로 가져옵니다.\n",
    "# ABCDEF\n",
    "# 012345\n",
    "a[::-1]"
   ]
  },
  {
   "cell_type": "code",
   "execution_count": null,
   "metadata": {},
   "outputs": [],
   "source": [
    "# 시작, 종료, 스텝 세 가지를 모두 사용할 수 있습니다.\n",
    "# ABCDEF\n",
    "# 012345"
   ]
  },
  {
   "cell_type": "code",
   "execution_count": null,
   "metadata": {},
   "outputs": [],
   "source": [
    "# 음의 스텝을 사용할 때는 시작과 종료도 순서가 역순이어야 합니다.\n",
    "# ABCDEF\n",
    "# 012345"
   ]
  },
  {
   "cell_type": "code",
   "execution_count": 24,
   "metadata": {},
   "outputs": [
    {
     "data": {
      "text/plain": [
       "'FEDCBA'"
      ]
     },
     "execution_count": 24,
     "metadata": {},
     "output_type": "execute_result"
    }
   ],
   "source": [
    "# 종료를 생략하면 마지막까지 포함\n",
    "a[-1::-1]"
   ]
  },
  {
   "cell_type": "markdown",
   "metadata": {},
   "source": [
    "### 문자열의 불변성\n",
    "파이썬의 문자열(str)은 불변(immutable) 자료형입니다. 일부를 수정할 수 없고 대신에 수정된 객체를 새로 만들어야 합니다."
   ]
  },
  {
   "cell_type": "code",
   "execution_count": 28,
   "metadata": {},
   "outputs": [
    {
     "data": {
      "text/plain": [
       "'ABCDEF'"
      ]
     },
     "execution_count": 28,
     "metadata": {},
     "output_type": "execute_result"
    }
   ],
   "source": [
    "# 슬라이싱을 해도 원래 객체는 변하지 않는다.\n",
    "a"
   ]
  },
  {
   "cell_type": "code",
   "execution_count": 29,
   "metadata": {},
   "outputs": [
    {
     "name": "stdout",
     "output_type": "stream",
     "text": [
      "4394215312\n",
      "4509453984\n"
     ]
    }
   ],
   "source": [
    "# 슬라이싱으로 새로운 객체 생성\n",
    "b = a[1:]\n",
    "print(id(a))\n",
    "print(id(b))"
   ]
  },
  {
   "cell_type": "code",
   "execution_count": 30,
   "metadata": {},
   "outputs": [
    {
     "data": {
      "text/plain": [
       "'ABCDEF'"
      ]
     },
     "execution_count": 30,
     "metadata": {},
     "output_type": "execute_result"
    }
   ],
   "source": [
    "# 그냥 콜론만 넣으면 전체\n",
    "a[:]"
   ]
  },
  {
   "cell_type": "code",
   "execution_count": 31,
   "metadata": {},
   "outputs": [
    {
     "name": "stdout",
     "output_type": "stream",
     "text": [
      "4394215312\n",
      "4394215312\n"
     ]
    }
   ],
   "source": [
    "# 주소가 동일\n",
    "b = a[:]\n",
    "print(id(a))\n",
    "print(id(b))"
   ]
  },
  {
   "cell_type": "code",
   "execution_count": 32,
   "metadata": {},
   "outputs": [
    {
     "ename": "TypeError",
     "evalue": "'str' object does not support item assignment",
     "output_type": "error",
     "traceback": [
      "\u001b[0;31m---------------------------------------------------------------------------\u001b[0m",
      "\u001b[0;31mTypeError\u001b[0m                                 Traceback (most recent call last)",
      "Cell \u001b[0;32mIn[32], line 5\u001b[0m\n\u001b[1;32m      1\u001b[0m \u001b[38;5;66;03m# 불변 객체의 일부를 바꿀 수 없습니다.\u001b[39;00m\n\u001b[1;32m      2\u001b[0m \u001b[38;5;66;03m# ABCDEF\u001b[39;00m\n\u001b[1;32m      3\u001b[0m \u001b[38;5;66;03m# 012345\u001b[39;00m\n\u001b[1;32m      4\u001b[0m a \u001b[38;5;241m=\u001b[39m \u001b[38;5;124m\"\u001b[39m\u001b[38;5;124mABCDEF\u001b[39m\u001b[38;5;124m\"\u001b[39m\n\u001b[0;32m----> 5\u001b[0m a[\u001b[38;5;241m2\u001b[39m] \u001b[38;5;241m=\u001b[39m \u001b[38;5;124m\"\u001b[39m\u001b[38;5;124mX\u001b[39m\u001b[38;5;124m\"\u001b[39m\n",
      "\u001b[0;31mTypeError\u001b[0m: 'str' object does not support item assignment"
     ]
    }
   ],
   "source": [
    "# 불변 객체의 일부를 바꿀 수 없습니다.\n",
    "# ABCDEF\n",
    "# 012345\n",
    "a = \"ABCDEF\"\n",
    "a[2] = \"X\""
   ]
  },
  {
   "cell_type": "code",
   "execution_count": 34,
   "metadata": {},
   "outputs": [
    {
     "data": {
      "text/plain": [
       "'ABxDEF'"
      ]
     },
     "execution_count": 34,
     "metadata": {},
     "output_type": "execute_result"
    }
   ],
   "source": [
    "# 특정 위치의 한 글자만 바꾸고 싶다면?\n",
    "# ABCDEF\n",
    "# 012345\n",
    "a[:2] +  'x' + a[3:]"
   ]
  },
  {
   "cell_type": "code",
   "execution_count": null,
   "metadata": {},
   "outputs": [],
   "source": [
    "# 축약형 대입 연산자를 사용할 수 있습니다."
   ]
  },
  {
   "cell_type": "code",
   "execution_count": null,
   "metadata": {},
   "outputs": [],
   "source": []
  },
  {
   "cell_type": "markdown",
   "metadata": {},
   "source": [
    "### 문자열의 매써드\n",
    "문자열 객체는 다양한 메써드들을 이용해서 문자열을 다룰 수 있습니다."
   ]
  },
  {
   "cell_type": "code",
   "execution_count": 35,
   "metadata": {},
   "outputs": [
    {
     "data": {
      "text/plain": [
       "'HELLO, WORLD'"
      ]
     },
     "execution_count": 35,
     "metadata": {},
     "output_type": "execute_result"
    }
   ],
   "source": [
    "# 대문자로 바꾸기\n",
    "s = \"Hello, World\"\n",
    "s.upper()"
   ]
  },
  {
   "cell_type": "code",
   "execution_count": 37,
   "metadata": {},
   "outputs": [
    {
     "data": {
      "text/plain": [
       "'안녕하세요?'"
      ]
     },
     "execution_count": 37,
     "metadata": {},
     "output_type": "execute_result"
    }
   ],
   "source": [
    "# 소문자로 바꾸기\n",
    "s.lower()"
   ]
  },
  {
   "cell_type": "code",
   "execution_count": 36,
   "metadata": {},
   "outputs": [],
   "source": [
    "# 한글에는 대소문자 변경이 적용되지 않아요\n",
    "s = \"안녕하세요?\""
   ]
  },
  {
   "cell_type": "code",
   "execution_count": 40,
   "metadata": {},
   "outputs": [
    {
     "data": {
      "text/plain": [
       "['Hello,', 'World!', 'I', 'love', 'you!']"
      ]
     },
     "execution_count": 40,
     "metadata": {},
     "output_type": "execute_result"
    }
   ],
   "source": [
    "# 공백을 기준으로 문자열을 나누기\n",
    "s = \"Hello, World! I love you!\"\n",
    "s.split()"
   ]
  },
  {
   "cell_type": "code",
   "execution_count": 41,
   "metadata": {},
   "outputs": [
    {
     "data": {
      "text/plain": [
       "'Hello'"
      ]
     },
     "execution_count": 41,
     "metadata": {},
     "output_type": "execute_result"
    }
   ],
   "source": [
    "l = s.split(\",\")\n",
    "l[0]  # 리스트의 인덱싱"
   ]
  },
  {
   "cell_type": "code",
   "execution_count": null,
   "metadata": {},
   "outputs": [],
   "source": [
    "s = \"Hello, World! I love you!\""
   ]
  },
  {
   "cell_type": "code",
   "execution_count": null,
   "metadata": {},
   "outputs": [],
   "source": [
    "# 멤버쉽 연산자 in\n",
    "s = \"Hello\""
   ]
  },
  {
   "cell_type": "code",
   "execution_count": null,
   "metadata": {},
   "outputs": [],
   "source": [
    "# 멤버쉽 연산자 in\n",
    "s = \"Hello\""
   ]
  },
  {
   "cell_type": "code",
   "execution_count": 42,
   "metadata": {},
   "outputs": [
    {
     "name": "stdout",
     "output_type": "stream",
     "text": [
      "H\n",
      "e\n",
      "l\n",
      "l\n",
      "o\n",
      "!\n"
     ]
    }
   ],
   "source": [
    "# 반복문과 함께 사용\n",
    "s = \"Hello!\"\n",
    "for c in s:\n",
    "    print(c)"
   ]
  },
  {
   "cell_type": "markdown",
   "metadata": {},
   "source": [
    "더 다양한 메써드들의 사용법은 [공식 문서](https://docs.python.org/3/library/stdtypes.html#string-methods)와 아래 예제들을 참고하세요.  \n",
    "특히 [여기](https://www.w3schools.com/python/python_ref_string.asp)에서는 온라인 파이썬으로 빠르게 테스트해볼 수도 있습니다. 메써드 이름을 클릭해보세요."
   ]
  },
  {
   "cell_type": "code",
   "execution_count": 43,
   "metadata": {},
   "outputs": [
    {
     "data": {
      "text/plain": [
       "'Abc def'"
      ]
     },
     "execution_count": 43,
     "metadata": {},
     "output_type": "execute_result"
    }
   ],
   "source": [
    "\"abc def\".capitalize()  # 첫 글자를 대문자로"
   ]
  },
  {
   "cell_type": "code",
   "execution_count": 44,
   "metadata": {},
   "outputs": [
    {
     "data": {
      "text/plain": [
       "'Abc Def'"
      ]
     },
     "execution_count": 44,
     "metadata": {},
     "output_type": "execute_result"
    }
   ],
   "source": [
    "\"abc def\".title()  # 각 단어의 첫 글자를 대문자로"
   ]
  },
  {
   "cell_type": "code",
   "execution_count": 45,
   "metadata": {},
   "outputs": [
    {
     "data": {
      "text/plain": [
       "2"
      ]
     },
     "execution_count": 45,
     "metadata": {},
     "output_type": "execute_result"
    }
   ],
   "source": [
    "txt = \"I love apples, apple are my favorite fruit\"\n",
    "txt.count(\"apple\")  # \"apple\"이 txt에 몇 번 나오는지를 세줍니다."
   ]
  },
  {
   "cell_type": "code",
   "execution_count": 46,
   "metadata": {},
   "outputs": [
    {
     "data": {
      "text/plain": [
       "True"
      ]
     },
     "execution_count": 46,
     "metadata": {},
     "output_type": "execute_result"
    }
   ],
   "source": [
    "filename = \"blakpink.png\"\n",
    "filename.endswith(\"png\")  # filename의 마지막이 \"png\"로 끝나는지 확인합니다."
   ]
  },
  {
   "cell_type": "code",
   "execution_count": 47,
   "metadata": {},
   "outputs": [
    {
     "data": {
      "text/plain": [
       "2"
      ]
     },
     "execution_count": 47,
     "metadata": {},
     "output_type": "execute_result"
    }
   ],
   "source": [
    "txt = \"ABCDEF\"\n",
    "txt.find(\"CD\")  # \"CD\"의 위치를 찾아서 인덱스를 알려줍니다."
   ]
  },
  {
   "cell_type": "code",
   "execution_count": 48,
   "metadata": {},
   "outputs": [
    {
     "data": {
      "text/plain": [
       "True"
      ]
     },
     "execution_count": 48,
     "metadata": {},
     "output_type": "execute_result"
    }
   ],
   "source": [
    "txt = \"1234\"\n",
    "txt.isdigit()  # 모든 글자가 숫자인지를 확인합니다. input()과 함께 많이 사용됩니다."
   ]
  },
  {
   "cell_type": "code",
   "execution_count": 50,
   "metadata": {},
   "outputs": [
    {
     "data": {
      "text/plain": [
       "'OOOOABC'"
      ]
     },
     "execution_count": 50,
     "metadata": {},
     "output_type": "execute_result"
    }
   ],
   "source": [
    "txt = \"ABABCBAOOOOABC\"\n",
    "txt.lstrip(\"ABC\")  # 왼쪽에서부터 A 또는 B 또는 C를 모두 제거"
   ]
  },
  {
   "cell_type": "code",
   "execution_count": 51,
   "metadata": {},
   "outputs": [
    {
     "data": {
      "text/plain": [
       "'OOOOHELLOOOOOHELLO'"
      ]
     },
     "execution_count": 51,
     "metadata": {},
     "output_type": "execute_result"
    }
   ],
   "source": [
    "txt = \"OOOOABCOOOOABC\"\n",
    "txt.replace(\"ABC\", \"HELLO\")  # \"ABC\"를 \"HELLO\"로 교체"
   ]
  },
  {
   "cell_type": "code",
   "execution_count": 52,
   "metadata": {},
   "outputs": [
    {
     "data": {
      "text/plain": [
       "'00123.jpg'"
      ]
     },
     "execution_count": 52,
     "metadata": {},
     "output_type": "execute_result"
    }
   ],
   "source": [
    "# z는 zero의 약자입니다. 최소 5글자가 되도록 왼쪽에서부터 0으로 채워줍니다.\n",
    "# 연속되는 파일들을 저장할때 많이 사용합니다.\n",
    "txt = \"123\"\n",
    "txt.zfill(5) + \".jpg\""
   ]
  },
  {
   "cell_type": "markdown",
   "metadata": {},
   "source": [
    "### 문자열 포매팅(formatting)\n",
    "문자열을 원하는 형식에 맞출 수 있습니다. 보통 화면에 출력할 때 많이 사용합니다.\n",
    "\n",
    "1. 수동으로 문자열을 만들어서 맞춰주기\n",
    "1. [% 연산자를 사용하는 옛날 방식](https://docs.python.org/3/library/stdtypes.html#old-string-formatting)\n",
    "1. [문자열의 format() 메써드](https://docs.python.org/3/tutorial/inputoutput.html#the-string-format-method)\n",
    "1. [형식을 맞춘 문자열 리터럴(파이썬 3.6 이상 F-String)](https://docs.python.org/3/tutorial/inputoutput.html#formatted-string-literals)\n",
    "1. 한글 줄맞춤\n"
   ]
  },
  {
   "cell_type": "markdown",
   "metadata": {},
   "source": [
    "수동으로 문자열을 만들어서 맞춰주기"
   ]
  },
  {
   "cell_type": "code",
   "execution_count": null,
   "metadata": {},
   "outputs": [],
   "source": [
    "# 문자열을 모두 더해서 원하는 형식을 만드는 것은 번거롭습니다.\n",
    "fruit = \"사과\"\n",
    "count = 10"
   ]
  },
  {
   "cell_type": "code",
   "execution_count": 2,
   "metadata": {},
   "outputs": [
    {
     "data": {
      "text/plain": [
       "'ABCDEFG   '"
      ]
     },
     "execution_count": 2,
     "metadata": {},
     "output_type": "execute_result"
    }
   ],
   "source": [
    "# .ljust() 메써드는 모자르는 글자수 만큼 빈칸을 넣어줍니다.\n",
    "\"ABCDEFG\".ljust(10)"
   ]
  },
  {
   "cell_type": "code",
   "execution_count": 1,
   "metadata": {},
   "outputs": [
    {
     "name": "stdout",
     "output_type": "stream",
     "text": [
      "ABCDEFG    HIJKLMN   \n"
     ]
    }
   ],
   "source": [
    "# 줄을 맞춰주기 위해서 .ljust()를 이용해서 빈칸을 넣어줍니다.\n",
    "print(\"ABCDEFG\".ljust(10), \"HIJKLMN\".ljust(10))\n",
    "\n",
    "# 한글에서는 이 방식이 제대로 작동하지 않습니다."
   ]
  },
  {
   "cell_type": "markdown",
   "metadata": {},
   "source": [
    "[% 연산자를 사용하는 옛날 방식](https://docs.python.org/3/library/stdtypes.html#old-string-formatting)"
   ]
  },
  {
   "cell_type": "code",
   "execution_count": 4,
   "metadata": {},
   "outputs": [
    {
     "name": "stdout",
     "output_type": "stream",
     "text": [
      "나는 피자를 좋아합니다.\n"
     ]
    }
   ],
   "source": [
    "# 문자열 삽입: % 활용\n",
    "print(\"나는 %s를 좋아합니다.\" % \"피자\")"
   ]
  },
  {
   "cell_type": "code",
   "execution_count": 5,
   "metadata": {},
   "outputs": [
    {
     "name": "stdout",
     "output_type": "stream",
     "text": [
      "원쥬율은 3.141592 입니다.\n",
      "원쥬율은 3 입니다.\n",
      "원쥬율은 3.14 입니다.\n"
     ]
    }
   ],
   "source": [
    "# 문자열 뿐만 아니라 정수, 실수도 가능\n",
    "print(\"원쥬율은 %s 입니다.\" % 3.141592)\n",
    "print(\"원쥬율은 %d 입니다.\" % 3.141592)\n",
    "print(\"원쥬율은 %.2f 입니다.\" % 3.141592) # 실수의 경우 정밀도까지 설정 가능"
   ]
  },
  {
   "cell_type": "markdown",
   "metadata": {},
   "source": [
    "[문자열의 format() 메써드](https://docs.python.org/3/tutorial/inputoutput.html#the-string-format-method)"
   ]
  },
  {
   "cell_type": "code",
   "execution_count": null,
   "metadata": {},
   "outputs": [],
   "source": []
  },
  {
   "cell_type": "code",
   "execution_count": null,
   "metadata": {},
   "outputs": [],
   "source": [
    "# 여러 개를 삽입할때는 인덱스를 사용할 수 있습니다."
   ]
  },
  {
   "cell_type": "code",
   "execution_count": null,
   "metadata": {},
   "outputs": [],
   "source": [
    "# 인덱스 대신에 이름을 사용할 수도 있습니다.\n",
    "\n",
    "# 이름을 반복해서 사용할 수도 있습니다."
   ]
  },
  {
   "cell_type": "code",
   "execution_count": null,
   "metadata": {},
   "outputs": [],
   "source": []
  },
  {
   "cell_type": "code",
   "execution_count": null,
   "metadata": {},
   "outputs": [],
   "source": [
    "# <, ^, > : left, center, right"
   ]
  },
  {
   "cell_type": "code",
   "execution_count": null,
   "metadata": {},
   "outputs": [],
   "source": [
    "# padding character"
   ]
  },
  {
   "cell_type": "code",
   "execution_count": null,
   "metadata": {},
   "outputs": [],
   "source": [
    "# float precision\n",
    "# 총 10글자가 되도록 빈칸 추가, 소수점 아래 자리가 4개가 되도록 절삭"
   ]
  },
  {
   "cell_type": "markdown",
   "metadata": {},
   "source": [
    "[형식을 맞춘 문자열 리터럴(파이썬 3.6 이상 F-String)](https://docs.python.org/3/tutorial/inputoutput.html#formatted-string-literals)"
   ]
  },
  {
   "cell_type": "code",
   "execution_count": null,
   "metadata": {},
   "outputs": [],
   "source": [
    "name = \"아이언맨\"\n",
    "\n",
    "# 리터럴 앞에 f 또는 F를 붙여주고 물결 괄호 안에 표현식(expression)을 넣습니다."
   ]
  },
  {
   "cell_type": "code",
   "execution_count": null,
   "metadata": {},
   "outputs": [],
   "source": [
    "# 리터럴 연산"
   ]
  },
  {
   "cell_type": "code",
   "execution_count": null,
   "metadata": {},
   "outputs": [],
   "source": [
    "# 변수와 연산자\n",
    "a, b = 1, 2"
   ]
  },
  {
   "cell_type": "code",
   "execution_count": null,
   "metadata": {},
   "outputs": [],
   "source": [
    "# 함수도 사용 가능"
   ]
  },
  {
   "cell_type": "code",
   "execution_count": null,
   "metadata": {},
   "outputs": [],
   "source": [
    "name = \"아이언맨\"\n",
    "\n",
    "# 물결괄호 자체를 출력하고 싶은 경우"
   ]
  },
  {
   "cell_type": "code",
   "execution_count": null,
   "metadata": {},
   "outputs": [],
   "source": [
    "# 백슬래쉬를 직접 사용할 수 없음\n",
    "f\"Newline is {\\n}\""
   ]
  },
  {
   "cell_type": "code",
   "execution_count": null,
   "metadata": {},
   "outputs": [],
   "source": [
    "# 간접적으로는 사용 가능"
   ]
  },
  {
   "cell_type": "code",
   "execution_count": null,
   "metadata": {},
   "outputs": [],
   "source": [
    "# float 정밀도 조절에서 .format()과 f-string의 사용법이 약간 달라요\n",
    "\n",
    "num = 123.56789\n",
    "print(str(num))\n",
    "print(\"계산 결과:{0:10.4f}\".format(num))  # 4는소수점 이하\n",
    "print(f\"계산 결과:{num:{10}.{6}}\")  # 10은 빈칸 포함 총 글자수, 6은 출력되는 숫자수\n",
    "# 요약: f-string에서는 {width}.{precision} 형식으로 float 출력을 조절할 수 있습니다."
   ]
  },
  {
   "cell_type": "code",
   "execution_count": null,
   "metadata": {},
   "outputs": [],
   "source": [
    "num = 1.23456789\n",
    "print(str(num))"
   ]
  },
  {
   "cell_type": "code",
   "execution_count": null,
   "metadata": {},
   "outputs": [],
   "source": [
    "num = 1.23\n",
    "print(str(num))"
   ]
  },
  {
   "cell_type": "code",
   "execution_count": null,
   "metadata": {},
   "outputs": [],
   "source": [
    "num = 1.23"
   ]
  },
  {
   "cell_type": "code",
   "execution_count": null,
   "metadata": {},
   "outputs": [],
   "source": [
    "# f-string에서는 width와 precision에도 변수를 사용할 수 있습니다.\n",
    "# 사용하기에 따라서는 큰 장점이 될 수도 있습니다.\n",
    "num = 1.23\n",
    "width = 10\n",
    "precision = 6\n",
    "print(f\"계산 결과:{num:{width}.{precision}}\")"
   ]
  },
  {
   "cell_type": "markdown",
   "metadata": {},
   "source": [
    "[정리] float 출력 정밀도 조절\n",
    "> format() : 10.4f와 같은 형식 지정자(format specifier)만 사용 가능. 10이나 4 자리에 변수 사용 불가  \n",
    "> f-string : 10.4f 같은 형식 지정자와 {10}.{6} 방식 **둘 다 사용 가능**. 물결괄호 안에 **변수 사용 가능**"
   ]
  },
  {
   "cell_type": "markdown",
   "metadata": {},
   "source": [
    "[보충] f-string에서 ```{name}```과 같이 나중에 다른 데이터로 치환(교체) 될 부분을 ```{}```로 표시해놓은 것을 [치환 필드(replacement field)](https://docs.python.org/ko/3/reference/lexical_analysis.html#formatted-string-literals)라고 부릅니다.\n",
    "```{num:{width}.{precision}}```와 같이 치환 필드 안에 다시 치환 필드가 들어있는 것을 [중첩된 필드(nested field)](https://docs.python.org/ko/3/reference/lexical_analysis.html#formatted-string-literals)라고 부릅니다. \n",
    "'필드(field)'는 단순하게 설명하면 데이터의 일부를 의미하는 용어인데 보통 '데이터베이스(database)'에서 자세히 배웁니다. \n",
    "유사한 기능을 하는 ```{}``` 문법을 [format()의 공식 문서](https://docs.python.org/ko/3/tutorial/inputoutput.html#the-string-format-method)에서는 '포맷 필드(format field)'라고 부르고 있습니다.  \n",
    "파이썬은 발전 속도가 빨라서 공식문서도 아직 애매한 부분들이 있기 때문에 용어 자체에 너무 신경쓰지 마시고 개념만 이해해두시면 됩니다."
   ]
  },
  {
   "cell_type": "markdown",
   "metadata": {},
   "source": [
    "[선택] 한글 줄맞춤"
   ]
  },
  {
   "cell_type": "code",
   "execution_count": null,
   "metadata": {},
   "outputs": [],
   "source": [
    "print(\"{0:12} | {1:12}\".format(\"첫 번째 단어\", \"두 번째 단어\"))\n",
    "print(\"{0:12} | {1:12}\".format(\"셋째\", \"넷째\"))"
   ]
  },
  {
   "cell_type": "code",
   "execution_count": null,
   "metadata": {},
   "outputs": [],
   "source": [
    "# 앞에 느낌표를 붙여서 주피터 노트북에서도 패키지 설치를 할 수 있습니다.\n",
    "#!pip install wcwidth\n",
    "\n",
    "from wcwidth import wcswidth\n",
    "\n",
    "print(wcswidth(\"안녕AB\"), len(\"안녕AB\"))\n",
    "\n",
    "\n",
    "def wcpadding(s, l):\n",
    "    return s + \" \" * (l - wcswidth(s))\n",
    "\n",
    "\n",
    "print(wcswidth(\"첫 번째 단어\"))\n",
    "\n",
    "# 스크립트 모드의 터미널 출력에서는 정확하게 줄맞춤 가능\n",
    "print(\"{0}|{1}\".format(wcpadding(\"첫 번째 단어\", 12), wcpadding(\"두 번째 단어\", 12)))\n",
    "print(\"{0}|{1}\".format(wcpadding(\"셋째\", 12), wcpadding(\"넷째\", 12)))\n",
    "\n",
    "# 정확하게 줄맞춤이 가능하지만 불필요한 공백이 삽입\n",
    "print(\"{0}\\t|{1}\".format(wcpadding(\"첫 번째 단어\", 12), wcpadding(\"두 번째 단어\", 12)))\n",
    "print(\"{0}\\t|{1}\".format(wcpadding(\"셋째\", 12), wcpadding(\"넷째\", 12)))"
   ]
  }
 ],
 "metadata": {
  "interpreter": {
   "hash": "d187a48a8a4b28f37103ceb7e85bceb2b63d70db7314890fe18e7e16ec425e3f"
  },
  "kernelspec": {
   "display_name": "Python 3 (ipykernel)",
   "language": "python",
   "name": "python3"
  },
  "language_info": {
   "codemirror_mode": {
    "name": "ipython",
    "version": 3
   },
   "file_extension": ".py",
   "mimetype": "text/x-python",
   "name": "python",
   "nbconvert_exporter": "python",
   "pygments_lexer": "ipython3",
   "version": "3.12.2"
  }
 },
 "nbformat": 4,
 "nbformat_minor": 2
}
