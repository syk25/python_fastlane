{
 "cells": [
  {
   "cell_type": "markdown",
   "metadata": {},
   "source": [
    "---\n",
    "\n",
    "<a href='https://cafe.naver.com/jmhonglab'><p style=\"text-align:center;\"><img src='https://lh3.googleusercontent.com/lY3ySXooSmwsq5r-mRi7uiypbo0Vez6pmNoQxMFhl9fmZJkRHu5lO2vo7se_0YOzgmDyJif9fi4_z0o3ZFdwd8NVSWG6Ea80uWaf3pOHpR4GHGDV7kaFeuHR3yAjIJjDgfXMxsvw=w2400'  class=\"center\" width=\"50%\" height=\"50%\"/></p></a>\n",
    "\n",
    "---\n",
    "\n",
    "<center><em>Content Copyright by HongLab, Inc.</em></center>\n"
   ]
  },
  {
   "cell_type": "markdown",
   "metadata": {},
   "source": [
    "# 시작하기 전에\n",
    "\n",
    "### 문법 공부 전략\n",
    "\n",
    "이 강의의 목표는 파이썬 문법에 대한 단편적인 지식을 쌓는 것이 아니라 실제로 프로그램을 만들 수 있는 능력을 갖추는 것입니다. 영어 공부에 비유하자면 \"나는 명사는 잘하는데 동사는 잘 못해\" 같이 공부만 많이 하고 의사 소통을 못하는 상황을 피해야 합니다. 문법의 여러 요소들을 따로따로 공부하면 합치는 방법을 터득하는 데에 더 많은 시간과 노력이 필요합니다. 반대로 온전히 작동하는 프로그램을 만들면서 감을 잡고 재미를 붙이다 보면 실력이 붙는 것은 순식간입니다. 최소한의 문법 실력을 갖추게 되면 전문 지식을 직관적으로 흡수해나갈 수 있고 어느 순간 뛰어난 소프트웨어 엔지니어로 발전할 수 있는 문이 활짝 열립니다.\n",
    "\n",
    "### 포매터 사용법 (formatter)\n",
    "\n",
    "포매터를 사용하면 빈칸 띄우기와 같은 사소한 규칙들은 신경쓰지 않아도 되기 때문에 편합니다. 물론, 포매터가 오류를 알아서 수정해주지는 않습니다.  \n",
    "여기서는 [Black](https://black.readthedocs.io/en/stable/) 이라는 포매터를 사용합니다. 다른 포매터를 사용하는 그룹에서 일을 하시게 된다면 거기에 맞춰서 쓰시면 됩니다.\n",
    "\n",
    "확장자가 .py인 파일들을 사용하는 **스크립트 모드**에서는 pip install black 으로 설치한 후에\n",
    "\n",
    "1. 터미널에서 `pip install black`으로 설치\n",
    "1. VSCode의 좌측 하단 관리(톱니모양) -> 설정\n",
    "1. 위의 '설정 검색'에서 python formatting provider 검색 후 black으로 설정 (다른 포매터도 선택 가능)\n",
    "1. 위의 '설정 검색'에서 format on save 검색 후 체크\n",
    "\n",
    "를 하시면 .py 파일을 저장할 때마다 포매팅을 해줍니다.\n",
    "\n",
    "**[선택]** 2022년 4월 기준으로 **주피터 노트북**에서는 VSCode의 포매팅 옵션이 작동하지 않습니다.\n",
    "\n",
    "1. 터미널 새로 열고 `pip install black[jupyter]` 설치  \n",
    "   (맥에서는 `pip install 'black[jupyter]'` 와 같이 따옴표 필요)\n",
    "2. 터미널에서 `black 파일명.jpynb`로 포매팅\n",
    "\n",
    "Black을 오래 전에 설치하신 분들은 `pip install -U black[jupyter]`로 업데이트를 하셔야 문제가 없습니다.\n",
    "\n",
    "**[보충]** 파이썬 코드에서는 # 기호가 나타나면 그 줄의 끝까지 무시합니다. **주석(comment)** 이라고 부르며 주로 코드 안에 메모를 남길때 사용합니다.\n"
   ]
  },
  {
   "cell_type": "code",
   "execution_count": 1,
   "metadata": {},
   "outputs": [
    {
     "data": {
      "text/plain": [
       "2"
      ]
     },
     "execution_count": 1,
     "metadata": {},
     "output_type": "execute_result"
    }
   ],
   "source": [
    "# Formatting example\n",
    "1 + 1"
   ]
  },
  {
   "cell_type": "markdown",
   "metadata": {},
   "source": [
    "### 강의 노트 사용 안내\n",
    "\n",
    "노트정리에 시간 쓰는 학생들을 많이 보아왔고 안타깝게 생각합니다. 지금 보시는 이 주피터 노트북이 여러분의 교재이자 강의 노트입니다. 이해가 끝난 부분은 지우고 추가로 알게된 내용은 더해가면서 빠르게 정리하고 나중에 기억을 되살리는 용도로 활용하세요. 주피터 노트북의 장점을 최대한 살려서 '이렇게 하면 어떨까?'하는 호기심을 그때그때 확인하세요. 노트정리 보다는 여러분의 꿈을 키우는 데에 더 많은 에너지를 쓰시기 바랍니다.\n",
    "\n",
    "여러분이 공부해서 얻은 지식은 여러분의 것이고 여러분의 강의 노트는 여러분의 것입니다. 제가 제공하는 강의노트들을 **그대로** 인터넷에 배포하는 일은 삼가하여 주시기 바랍니다. 맨 위의 홍랩 배너는 개인 강의노트에 넣어두셔도 됩니다.\n"
   ]
  },
  {
   "cell_type": "markdown",
   "metadata": {},
   "source": [
    "# 파이썬 문법의 핵심 요소들을 훑어봅시다\n",
    "\n",
    "파이썬을 영화에 비유한다면 모든 등장 인물들은 **객체(object)** 입니다.  \n",
    "객체와 객체를 정의하는 자료형(data type)이 바로 파이썬을 고급 문법까지 빠르게 풀어나갈 수 있는 실마리입니다.\n",
    "\n",
    "### 객체(object)와 자료형(data type)\n",
    "\n",
    "파이썬에서는 모든 것이 **객체(object)** 입니다. 메모리에 저장된 모든 데이터를 객체라는 개념을 통해서 처리합니다.  \n",
    "파이썬에서는 다양한 객체들을 사용하는데 어떤 **값(value)** 을 가질 수 있느냐와 **무엇을 할 수 있느냐**로 분류됩니다.\n",
    "\n",
    "> 예) 숫자 객체는 숫자 값을 갖고 있으며 더하기, 빼기, 곱하기, 나누기 등의 사칙연산을 할 수 있다.  \n",
    "> 예) 인공지능의 모델(Model) 객체는 뉴럴 네트워크를 갖고 있으며 추론(inference)을 할 수 있다.\n",
    "\n",
    "객체가 어떤 데이터 값으로 이루어져 있으며 어떤 행위를 할 수 있는 지 정해놓은 것을 **자료형(data type)** 이라고 부릅니다.  \n",
    "파이썬에서는 다양한 자료형들을 기본적으로 제공해줍니다. 필요한 자료형들을 직접 만들어서 사용할 수도 있습니다.\n",
    "\n",
    "> 예) 정수형 int, 실수형 float, 문자열 str 등\n"
   ]
  },
  {
   "cell_type": "markdown",
   "metadata": {},
   "source": [
    "type() 함수를 이용해서 자료형을 확인해봅시다.\n",
    "\n",
    "**[보충]** 파이썬 코드에서는 # 기호가 나타나면 그 줄의 끝까지 무시합니다. **주석(comment)** 이라고 부르며 주로 코드 안에 메모를 남길때 사용합니다. VSCode에서는 Ctrl-'/' 키조합을 이용해서 원하는 줄을 주석으로 바꾸거나 되돌릴 수 있습니다.\n"
   ]
  },
  {
   "cell_type": "code",
   "execution_count": 2,
   "metadata": {},
   "outputs": [
    {
     "data": {
      "text/plain": [
       "int"
      ]
     },
     "execution_count": 2,
     "metadata": {},
     "output_type": "execute_result"
    }
   ],
   "source": [
    "# int\n",
    "a = 10\n",
    "type(a)"
   ]
  },
  {
   "cell_type": "code",
   "execution_count": 3,
   "metadata": {},
   "outputs": [
    {
     "data": {
      "text/plain": [
       "float"
      ]
     },
     "execution_count": 3,
     "metadata": {},
     "output_type": "execute_result"
    }
   ],
   "source": [
    "# float\n",
    "a = 10.3\n",
    "type(a)"
   ]
  },
  {
   "cell_type": "code",
   "execution_count": 4,
   "metadata": {},
   "outputs": [
    {
     "data": {
      "text/plain": [
       "str"
      ]
     },
     "execution_count": 4,
     "metadata": {},
     "output_type": "execute_result"
    }
   ],
   "source": [
    "# str\n",
    "a= \"my_str\"\n",
    "type(a)"
   ]
  },
  {
   "cell_type": "markdown",
   "metadata": {},
   "source": [
    "**[보충]** 파이썬에서는 문자열을 만들 때 겹따옴표(\")로 감쌀 수도 있고 홑따옴표(')로 감쌀 수도 있습니다. 그러나 Black은 겹따옴표(\") 사용을 권장합니다.\n",
    "\n",
    "> 예) 'Hello, World' 처럼 홑따옴표로 문자열을 만들어도 파이썬 문법에는 문제가 없으나 Black이 강제로 \"Hello, World\"로 바꿔버립니다. 참고로 다른 프로그래밍 언어에서는 겹따옴표 사용이 일반적입니다.\n",
    "\n",
    "문자열에 대해서는 뒤에서 아주 자세히 다룹니다.\n"
   ]
  },
  {
   "cell_type": "markdown",
   "metadata": {},
   "source": [
    "### 객체들의 상호 작용\n",
    "\n",
    "파이썬 프로그래밍은 객체들이 배우로 등장하는 대본(script)을 작성하는 것과 비슷합니다.  \n",
    "언제 어떤 객체들을 만들고 그들이 어떤 일을 하며 어떻게 서로 영향을 주고 받을지에 대해 파이썬 문법에 맞게 적어주는 것입니다.\n"
   ]
  },
  {
   "cell_type": "code",
   "execution_count": 6,
   "metadata": {},
   "outputs": [
    {
     "data": {
      "text/plain": [
       "3"
      ]
     },
     "execution_count": 6,
     "metadata": {},
     "output_type": "execute_result"
    }
   ],
   "source": [
    "1 + 2"
   ]
  },
  {
   "cell_type": "markdown",
   "metadata": {},
   "source": [
    "우리가 입력한 숫자 1과 2는 각각 정수 1과 2의 값을 갖는 정수 객체를 만들라는 의미입니다.  \n",
    "더하기(+) 기호는 1과 2로부터 만들어진 두 객체가 가지고 있는 값들을 더해서 3이라는 값을 갖는 객체를 새로 만들어달라는 의미가 됩니다.\n",
    "\n",
    "> 1과 2와 같이 우리가 데이터의 값을 직접 입력해놓은 기호들을 '글자 그대로'라는 의미로 **리터럴(literal)** 이라고 부릅니다.  \n",
    "> 더하기(+), 빼기(-) 등과 같은 **연산(operation\\)** 을 명령하는 기호들을 **연산자(operator)** 라고 부릅니다.\n"
   ]
  },
  {
   "cell_type": "markdown",
   "metadata": {},
   "source": [
    "### 객체의 이름\n",
    "\n",
    "앞의 예제에서 우리는 3의 값을 갖는 정수형 객체가 만들어졌다는 것은 알고 있지만 이후의 행방은 알 수가 없습니다.  \n",
    "객체에 이름을 붙여주면 이름을 이용해서 객체를 계속 사용할 수 있습니다.  \n",
    "파이썬에서는 객체의 이름을 **변수(variable)** 라고 부릅니다.  \n",
    "수학의 변수와 비슷한 점도 있고 차이점도 있습니다.\n"
   ]
  },
  {
   "cell_type": "code",
   "execution_count": 5,
   "metadata": {},
   "outputs": [],
   "source": [
    "# 1 + 2\n",
    "a = 1 + 2\n",
    "\n",
    "# 1 + 2의 결과로 새로운 3 객체를 만들고 거기에 a라는 이름을 붙인다.\n",
    "# 등호(=)가 수학의 '같다'는 의미와는 완전히 다르다.\n",
    "# 파이썬에서는 대입 연산자(assignment operator)라고 부르며 전산학에서는 화살표(<-)를 사용하기도 한다. ex) a <- 1 + 2\n",
    "# 계산 결과가 셀 아래에 출력되지 않는다."
   ]
  },
  {
   "cell_type": "code",
   "execution_count": 7,
   "metadata": {},
   "outputs": [
    {
     "name": "stdout",
     "output_type": "stream",
     "text": [
      "3\n"
     ]
    }
   ],
   "source": [
    "# 변수 a를 화면에 출력\n",
    "print(a)"
   ]
  },
  {
   "cell_type": "code",
   "execution_count": 8,
   "metadata": {},
   "outputs": [
    {
     "data": {
      "text/plain": [
       "int"
      ]
     },
     "execution_count": 8,
     "metadata": {},
     "output_type": "execute_result"
    }
   ],
   "source": [
    "# 객체의 type 확인\n",
    "type(a)"
   ]
  },
  {
   "cell_type": "code",
   "execution_count": 9,
   "metadata": {},
   "outputs": [
    {
     "data": {
      "text/plain": [
       "4333918048"
      ]
     },
     "execution_count": 9,
     "metadata": {},
     "output_type": "execute_result"
    }
   ],
   "source": [
    "# 객체의 정체성(identity) 확인\n",
    "id(a)"
   ]
  },
  {
   "cell_type": "code",
   "execution_count": 10,
   "metadata": {},
   "outputs": [
    {
     "data": {
      "text/plain": [
       "4333918176"
      ]
     },
     "execution_count": 10,
     "metadata": {},
     "output_type": "execute_result"
    }
   ],
   "source": [
    "# 수학의 변수처럼 계산식에 사용할 수도 있습니다.\n",
    "a += 4\n",
    "id(a)"
   ]
  },
  {
   "cell_type": "code",
   "execution_count": 11,
   "metadata": {},
   "outputs": [
    {
     "name": "stdout",
     "output_type": "stream",
     "text": [
      "8\n"
     ]
    }
   ],
   "source": [
    "print(a + 1)"
   ]
  },
  {
   "cell_type": "code",
   "execution_count": 12,
   "metadata": {},
   "outputs": [
    {
     "name": "stdout",
     "output_type": "stream",
     "text": [
      "8\n"
     ]
    }
   ],
   "source": [
    "# a에 어떤 값이 들어있든지 상관 없이 1을 더해서 새로운 객체를 만들고 그 객체에 이름을 b로 붙여준다.\n",
    "b = a + 1\n",
    "print(b)"
   ]
  },
  {
   "cell_type": "code",
   "execution_count": 13,
   "metadata": {},
   "outputs": [
    {
     "name": "stdout",
     "output_type": "stream",
     "text": [
      "7\n",
      "4333918176\n",
      "8\n",
      "4333918208\n"
     ]
    }
   ],
   "source": [
    "# 여러 객체에 같은 이름을 쓸 수 없기 때문에 a는 a + 1을 통해서 새로 만들어진 객체만을 가리킬 수 있다.\n",
    "print(a)\n",
    "print(id(a))\n",
    "\n",
    "a = a + 1\n",
    "\n",
    "print(a)\n",
    "print(id(a))"
   ]
  },
  {
   "cell_type": "markdown",
   "metadata": {},
   "source": [
    "**[참고]** 다른 프로그래밍 언어를 공부한 적이 있으시다면 오히려 객체를 매번 새로 만드는 상황이 이해가 가지 않으실 수도 있습니다.  \n",
    "예를 들면 C언어에서는 한 번 선언된 변수의 값을 바꿀 때는 메모리에서 해당 위치를 찾아서 값만 바꾸기 때문에 메모리 주소가 바뀐다거나 변수를 새로 만든다거나 하지 않습니다.\n",
    "그러나 파이썬에서 int, float, str 등의 일부 자료형들은 값을 바꾸려면 객체를 새로 만들어야 합니다.\n"
   ]
  },
  {
   "cell_type": "markdown",
   "metadata": {},
   "source": [
    "### 함수(function)의 기본적인 사용법\n",
    "\n",
    "함수는 필요할 때만 불러서(call) 사용할 수 있도록 코드를 묶어놓은 것입니다.  \n",
    "코드를 재사용하기 편리하도록 '기능' 별로 묶어서 분류해놓는 경우가 많습니다.  \n",
    "수학의 함수와 비슷한 점은 함수에 들어가는 입력과 나오는 출력을 항상 생각해봐야한다는 점입니다.\n",
    "\n",
    "파이썬이 기본으로 제공해주는 입출력 함수를 사용해봅시다.\n"
   ]
  },
  {
   "cell_type": "code",
   "execution_count": 3,
   "metadata": {},
   "outputs": [
    {
     "name": "stdout",
     "output_type": "stream",
     "text": [
      "kim\n"
     ]
    }
   ],
   "source": [
    "# 입출력 함수의 기본적인 사용법\n",
    "name = input()\n",
    "print(name)"
   ]
  },
  {
   "cell_type": "code",
   "execution_count": 4,
   "metadata": {},
   "outputs": [
    {
     "name": "stdout",
     "output_type": "stream",
     "text": [
      "반갑습니다. kim 님\n"
     ]
    }
   ],
   "source": [
    "# 원하는 문구와 함께 사용\n",
    "name = input(\"이름을 알려주세요.\")\n",
    "print(\"반갑습니다.\", name, \"님\")"
   ]
  },
  {
   "cell_type": "code",
   "execution_count": 6,
   "metadata": {},
   "outputs": [
    {
     "name": "stdout",
     "output_type": "stream",
     "text": [
      "반갑습니다. kim 님\n",
      "반갑습니다. lee 님\n"
     ]
    }
   ],
   "source": [
    "# 함수를 만들어서 사용할 수도 있습니다.\n",
    "def in_and_out():\n",
    "    name = input(\"이름을 알려주세요.\")\n",
    "    print(\"반갑습니다.\", name, \"님\")\n",
    "\n",
    "in_and_out()\n",
    "in_and_out()"
   ]
  },
  {
   "cell_type": "markdown",
   "metadata": {},
   "source": [
    "**[보충]** 여러 줄을 블럭으로 묶기 위해 앞에 4칸씩 띄우는 것을 인덴팅(indenting)이라고 부릅니다. 스페이스 키를 4번 눌러서 입력하시는 분들도 계시지만 탭(Tab)키 한 번 누르는 것이 효율적입니다. 요즘은 VSCode를 포함한 대부분의 편집기들이 자동으로 탭을 빈칸 4개로 바꿔주는 기능을 제공합니다.\n"
   ]
  },
  {
   "cell_type": "markdown",
   "metadata": {},
   "source": [
    "### 흐름 제어(flow control)의 기본 개념\n",
    "\n",
    "조건에 따라 실행 결과가 달라지도록 흐름을 제어할 수 있습니다. 열차의 [선로 전환기](https://en.wikipedia.org/wiki/Railroad_switch)와 비슷합니다.  \n",
    "어떤 일이 벌어지는지 디버거로 확인해봅시다.\n"
   ]
  },
  {
   "cell_type": "code",
   "execution_count": 8,
   "metadata": {},
   "outputs": [
    {
     "name": "stdout",
     "output_type": "stream",
     "text": [
      "1보다 작거나 같다\n"
     ]
    }
   ],
   "source": [
    "i = 0\n",
    "if i > 1:\n",
    "    print(\"1보다 크다\")\n",
    "else:\n",
    "    print(\"1보다 작거나 같다\")"
   ]
  },
  {
   "cell_type": "markdown",
   "metadata": {},
   "source": [
    "원하는 부분을 원하는 횟수만큼 반복 할 수 있습니다. 단순 반복 뿐 아니라 매번 변화를 줄 수 있습니다.\n"
   ]
  },
  {
   "cell_type": "code",
   "execution_count": 9,
   "metadata": {},
   "outputs": [
    {
     "name": "stdout",
     "output_type": "stream",
     "text": [
      "0\n",
      "1\n",
      "2\n",
      "3\n"
     ]
    }
   ],
   "source": [
    "for i in range(4):\n",
    "    print(i)"
   ]
  },
  {
   "cell_type": "markdown",
   "metadata": {},
   "source": [
    "### 객체 사용법\n",
    "\n",
    "객체 이름 뒤에 점(.)을 찍어 보세요. 객체의 **속성(attribute)** 과 **메써드(method)** 를 사용할 수 있습니다.  \n",
    "자동 완성 앞에 나타나는 여러가지 아이콘의 의미는 [여기](https://code.visualstudio.com/docs/editor/intellisense#_types-of-completions)를 보세요.\n"
   ]
  },
  {
   "cell_type": "code",
   "execution_count": 10,
   "metadata": {},
   "outputs": [
    {
     "name": "stdout",
     "output_type": "stream",
     "text": [
      "b:  2\n",
      "c:  3\n"
     ]
    }
   ],
   "source": [
    "a = int(1)  # a = 1\n",
    "b = a + 1\n",
    "c = b.__add__(1)\n",
    "print(\"b: \", b)\n",
    "print(\"c: \", c)"
   ]
  },
  {
   "cell_type": "markdown",
   "metadata": {},
   "source": [
    "**[참고]** 한국에서는 Method를 메소드라고 적는 경우가 많은데 요즘은 원어에 보다 가까운 표기를 원하시는 분들이 많아서 여기서는 메써드를 사용하겠습니다.  \n",
    "[정확한 발음은 여기를 참고하세요.](https://www.google.com/search?q=meaning+of+method&rlz=1C1RXQR_koUS982US982&oq=meaning+of+method&aqs=chrome..69i57j0i512l9.1999j0j7&sourceid=chrome&ie=UTF-8) 스피커 버튼 클릭해서 발음 확인해보세요.\n"
   ]
  },
  {
   "cell_type": "markdown",
   "metadata": {},
   "source": [
    "### 사용자 정의 자료형 (user defined data type)\n",
    "\n",
    "class 키워드(keyword)를 이용해서 새로운 자료형을 만들 수 있습니다.\n"
   ]
  },
  {
   "cell_type": "code",
   "execution_count": 12,
   "metadata": {},
   "outputs": [
    {
     "name": "stdout",
     "output_type": "stream",
     "text": [
      "내가 만든 정수형 3\n"
     ]
    }
   ],
   "source": [
    "class MyInt:\n",
    "    def __init__(self, value):\n",
    "        self.value = value  # instance variable\n",
    "\n",
    "    def print(self):  # method\n",
    "        print(\"내가 만든 정수형\", self.value)\n",
    "\n",
    "my_int = MyInt(3)\n",
    "my_int.print()"
   ]
  },
  {
   "cell_type": "markdown",
   "metadata": {},
   "source": [
    "### 모듈(Module)\n",
    "\n",
    "import 키워드(keyword)를 이용해서 외부의 모듈을 가져와서 편리하게 사용할 수 있습니다.  \n",
    "여러 모듈을 사용하기 편리하도록 묶어놓은 것을 패키지(package)라고 부릅니다.\n"
   ]
  },
  {
   "cell_type": "code",
   "execution_count": 13,
   "metadata": {},
   "outputs": [
    {
     "data": {
      "text/plain": [
       "module"
      ]
     },
     "execution_count": 13,
     "metadata": {},
     "output_type": "execute_result"
    }
   ],
   "source": [
    "import os\n",
    "\n",
    "type(os)"
   ]
  },
  {
   "cell_type": "code",
   "execution_count": 14,
   "metadata": {},
   "outputs": [
    {
     "data": {
      "text/plain": [
       "'/Users/syk25/Desktop/python_fastlane_practice/챕터02_파이썬의기본요소들'"
      ]
     },
     "execution_count": 14,
     "metadata": {},
     "output_type": "execute_result"
    }
   ],
   "source": [
    "os.getcwd()  # os module의 getcwd()라는 메써드(method)를 호출해서 사용"
   ]
  },
  {
   "cell_type": "markdown",
   "metadata": {},
   "source": [
    "### 주요 참고 자료들\n",
    "\n",
    "1. 파이썬 공식 홈페이지의 [The Python Tutorial](https://docs.python.org/3/tutorial/index.html)\n",
    "1. [Introduction to Programming in Python: An Interdisciplinary Approach](https://www.amazon.com/Introduction-Programming-Python-Interdisciplinary-Approach/dp/0134076435/ref=sr_1_3?keywords=introduction+to+programming+by+python+sedgewick&qid=1639381995&sr=8-3)\n",
    "1. [Learning Python](https://www.amazon.com/Learning-Python-5th-Mark-Lutz/dp/1449355730/ref=sr_1_1?keywords=learning+python&qid=1639382062&sr=8-1)\n"
   ]
  }
 ],
 "metadata": {
  "interpreter": {
   "hash": "d187a48a8a4b28f37103ceb7e85bceb2b63d70db7314890fe18e7e16ec425e3f"
  },
  "kernelspec": {
   "display_name": "Python 3 (ipykernel)",
   "language": "python",
   "name": "python3"
  },
  "language_info": {
   "codemirror_mode": {
    "name": "ipython",
    "version": 3
   },
   "file_extension": ".py",
   "mimetype": "text/x-python",
   "name": "python",
   "nbconvert_exporter": "python",
   "pygments_lexer": "ipython3",
   "version": "3.12.2"
  }
 },
 "nbformat": 4,
 "nbformat_minor": 2
}
