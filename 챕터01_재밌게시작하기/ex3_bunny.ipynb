{
 "cells": [
  {
   "cell_type": "markdown",
   "metadata": {},
   "source": [
    "___\n",
    "<a href='https://cafe.naver.com/jmhonglab'><p style=\"text-align:center;\"><img src='https://lh3.googleusercontent.com/lY3ySXooSmwsq5r-mRi7uiypbo0Vez6pmNoQxMFhl9fmZJkRHu5lO2vo7se_0YOzgmDyJif9fi4_z0o3ZFdwd8NVSWG6Ea80uWaf3pOHpR4GHGDV7kaFeuHR3yAjIJjDgfXMxsvw=w2400'  class=\"center\" width=\"50%\" height=\"50%\"/></p></a>\n",
    "___\n",
    "<center><em>Content Copyright by HongLab, Inc.</em></center>"
   ]
  },
  {
   "cell_type": "markdown",
   "metadata": {},
   "source": [
    "# 3차원 물체를 그려봅시다\n",
    "\n",
    "[LibIGL](https://libigl.github.io/libigl-python-bindings/tut-chapter0/)의 예제를 그대로 사용합니다."
   ]
  },
  {
   "cell_type": "markdown",
   "metadata": {},
   "source": [
    "### igl, meshplot 설치\n",
    "\n",
    "필요한 패키지들을 먼저 설치해줍시다.\n",
    "\n",
    ">`conda install -c conda-forge igl`  \n",
    ">`conda install -c conda-forge meshplot `  \n",
    "\n",
    "### 삼각형 두 개\n",
    "\n",
    "삼각형을 딱 두 개만 그려봅시다. 삼차원이기 때문에 마우스로 회전시켜볼 수 있어요."
   ]
  },
  {
   "cell_type": "code",
   "execution_count": 1,
   "metadata": {},
   "outputs": [
    {
     "ename": "ModuleNotFoundError",
     "evalue": "No module named 'igl'",
     "output_type": "error",
     "traceback": [
      "\u001b[0;31m---------------------------------------------------------------------------\u001b[0m",
      "\u001b[0;31mModuleNotFoundError\u001b[0m                       Traceback (most recent call last)",
      "Cell \u001b[0;32mIn[1], line 1\u001b[0m\n\u001b[0;32m----> 1\u001b[0m \u001b[38;5;28;01mimport\u001b[39;00m \u001b[38;5;21;01migl\u001b[39;00m\n\u001b[1;32m      2\u001b[0m \u001b[38;5;28;01mimport\u001b[39;00m \u001b[38;5;21;01mscipy\u001b[39;00m \u001b[38;5;28;01mas\u001b[39;00m \u001b[38;5;21;01msp\u001b[39;00m\n\u001b[1;32m      3\u001b[0m \u001b[38;5;28;01mimport\u001b[39;00m \u001b[38;5;21;01mnumpy\u001b[39;00m \u001b[38;5;28;01mas\u001b[39;00m \u001b[38;5;21;01mnp\u001b[39;00m\n",
      "\u001b[0;31mModuleNotFoundError\u001b[0m: No module named 'igl'"
     ]
    }
   ],
   "source": [
    "import igl\n",
    "import scipy as sp\n",
    "import numpy as np\n",
    "from meshplot import plot, subplot, interact\n",
    "\n",
    "import os\n",
    "\n",
    "root_folder = os.getcwd()\n",
    "\n",
    "v: np.array\n",
    "f: np.array\n",
    "\n",
    "V = np.array([[0, 0, 0], [1, 0, 0], [1, 1, 1], [2, 1, 0]])\n",
    "\n",
    "F = np.array([[0, 1, 2], [1, 3, 2]])\n",
    "\n",
    "plot(V, F)"
   ]
  },
  {
   "cell_type": "markdown",
   "metadata": {},
   "source": [
    "### 스탠포드 버니(Stanford Bunny) 그리기\n",
    "\n",
    "3차원 모델이 저장된 bunny.off 파일을 읽어서 그려줍니다. 사랑스러운 버니를 만나보세요.\n",
    "\n",
    "[주의] 위의 셀을 먼저 실행시킨 후에 아래 셀을 실행시켜야 합니다. 주피터 노트북의 특징입니다."
   ]
  },
  {
   "cell_type": "code",
   "execution_count": null,
   "metadata": {},
   "outputs": [],
   "source": [
    "## Load a mesh in OFF format\n",
    "v, f = igl.read_triangle_mesh(\"bunny.off\")\n",
    "\n",
    "## Print the vertices and faces matrices\n",
    "print(\"Vertices: \", len(v))\n",
    "print(\"Faces: \", len(f))\n",
    "\n",
    "plot(v, f)"
   ]
  }
 ],
 "metadata": {
  "interpreter": {
   "hash": "f64e548cbf2ebb58caacc39a919b16809fbf0a70979c18e5ddba76aa9934d80e"
  },
  "kernelspec": {
   "display_name": "Python 3.9.5 64-bit ('base': conda)",
   "language": "python",
   "name": "python3"
  },
  "language_info": {
   "codemirror_mode": {
    "name": "ipython",
    "version": 3
   },
   "file_extension": ".py",
   "mimetype": "text/x-python",
   "name": "python",
   "nbconvert_exporter": "python",
   "pygments_lexer": "ipython3",
   "version": "3.9.6"
  },
  "orig_nbformat": 4
 },
 "nbformat": 4,
 "nbformat_minor": 2
}
