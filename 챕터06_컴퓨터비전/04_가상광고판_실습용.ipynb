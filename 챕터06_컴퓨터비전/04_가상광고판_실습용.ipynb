{
 "cells": [
  {
   "attachments": {},
   "cell_type": "markdown",
   "metadata": {},
   "source": [
    "___\n",
    "<a href='https://cafe.naver.com/jmhonglab'><p style=\"text-align:center;\"><img src='https://lh3.googleusercontent.com/lY3ySXooSmwsq5r-mRi7uiypbo0Vez6pmNoQxMFhl9fmZJkRHu5lO2vo7se_0YOzgmDyJif9fi4_z0o3ZFdwd8NVSWG6Ea80uWaf3pOHpR4GHGDV7kaFeuHR3yAjIJjDgfXMxsvw=w2400'  class=\"center\" width=\"50%\" height=\"50%\"/></p></a>\n",
    "___\n",
    "<center><em>Content Copyright by HongLab, Inc.</em></center>"
   ]
  },
  {
   "attachments": {},
   "cell_type": "markdown",
   "metadata": {},
   "source": [
    "# 가상 광고판 만들기"
   ]
  },
  {
   "attachments": {},
   "cell_type": "markdown",
   "metadata": {},
   "source": [
    "[Pub Crowd Reaction meme](https://www.youtube.com/watch?v=755i2tTgexo)  \n",
    "\n",
    "- Dest 영상은 [유튜브 영상(STL Ballpark Village reaction)](https://www.youtube.com/watch?v=IOC-MoJwxTU)에서 일부를 잘라낸 후 안정화(stabilization)\n",
    "- AR에도 비슷한 원리가 적용됩니다.\n",
    "\n",
    "절차 (이미지 파일 단위로 작업해봅시다)\n",
    "1. 원본(source) 영상과 대상(destination) 영상을 프레임 단위의 이미지 시퀀스로 저장\n",
    "2. 합성된 이미지 시퀀스 생성\n",
    "3. 이미지 시퀀스를 다시 동영상으로 묶기\n",
    "4. 오디오 합성"
   ]
  },
  {
   "attachments": {},
   "cell_type": "markdown",
   "metadata": {},
   "source": [
    "### FFMpeg\n",
    "\n",
    "[ffmpeg-python](https://github.com/kkroening/ffmpeg-python)\n",
    "\n",
    "```\n",
    "pip install ffmpeg-python\n",
    "```"
   ]
  },
  {
   "attachments": {},
   "cell_type": "markdown",
   "metadata": {},
   "source": [
    "이미지 프레임을 추출해서 파일로 저장 (참고: OpenCV로도 할 수 있습니다.)"
   ]
  },
  {
   "cell_type": "code",
   "execution_count": null,
   "metadata": {},
   "outputs": [],
   "source": [
    "import os\n",
    "import ffmpeg\n",
    "\n",
    "if not os.path.isdir(\"images\"):\n",
    "    os.mkdir(\"images\")\n",
    "\n",
    "# try:\n",
    "#     ffmpeg.input(\"NO_FILE.mp4\").output(\"images/dest%05d.jpg\", start_number=0).run(capture_stdout=True, capture_stderr=True)\n",
    "# except ffmpeg.Error as e:\n",
    "#     print('stdout:', e.stdout.decode('utf8'))\n",
    "#     print('stderr:', e.stderr.decode('utf8'))\n",
    "\n"
   ]
  },
  {
   "attachments": {},
   "cell_type": "markdown",
   "metadata": {},
   "source": [
    "### Homography 적용\n",
    "\n",
    "먼저 원본 이미지를 대상 이미지의 어디에 붙일지 픽셀 좌표를 찾습니다."
   ]
  },
  {
   "cell_type": "code",
   "execution_count": null,
   "metadata": {},
   "outputs": [],
   "source": [
    "# 좌표 찾기\n",
    "import numpy as np\n",
    "import cv2 as cv\n",
    "\n",
    "\n",
    "def check_xy(event, x, y, flags, param):\n",
    "\n",
    "    if event == cv.EVENT_LBUTTONDOWN:\n",
    "        print(f\"[{x},{y}],\", end=\"\")\n",
    "\n",
    "\n",
    "img = cv.imread(\"images/dest00000.jpg\")\n",
    "\n",
    "cv.namedWindow(\"Image\")  # 창(Window)의 이름 주의\n",
    "cv.setMouseCallback(\"Image\", check_xy)\n",
    "\n",
    "while True:\n",
    "\n",
    "    cv.imshow(\"Image\", img)\n",
    "\n",
    "    if cv.waitKey(20) == ord(\"q\"):\n",
    "        break\n",
    "\n",
    "cv.destroyAllWindows()"
   ]
  },
  {
   "attachments": {},
   "cell_type": "markdown",
   "metadata": {},
   "source": [
    "[cv::findHomograph()](https://docs.opencv.org/3.4/d9/d0c/group__calib3d.html#ga4abc2ece9fab9398f2e560d53c8c9780)로 원본 이미지를 대상 이미지의 원하는 위치에 붙입니다."
   ]
  },
  {
   "cell_type": "code",
   "execution_count": null,
   "metadata": {},
   "outputs": [],
   "source": [
    "import cv2\n",
    "import numpy as np\n",
    "\n",
    "\n",
    "def virtual_billboard(im_src, im_dst):\n",
    "\n",
    "    pts_src = np.array([[0, 0], [853, 0], [863, 479], [0, 479]])\n",
    "    pts_dst = np.array([[232, 100], [606, 92], [602, 352], [236, 316]])\n",
    "\n",
    "    #return im_warp + im_dst\n",
    "\n",
    "\n",
    "im_src = cv2.imread(\"images/src00000.jpg\")\n",
    "im_dst = cv2.imread(\"images/dest00000.jpg\")\n",
    "\n",
    "im_comp = virtual_billboard(im_src, im_dst)\n",
    "\n",
    "cv2.imshow(\"Warped Source Image\", im_comp)\n",
    "\n",
    "cv2.waitKey(0)\n",
    "cv2.destroyAllWindows()"
   ]
  },
  {
   "attachments": {},
   "cell_type": "markdown",
   "metadata": {},
   "source": [
    "### 여러 파일 다루기\n",
    "\n",
    "폴더 안의 파일 목록 보기"
   ]
  },
  {
   "cell_type": "code",
   "execution_count": null,
   "metadata": {},
   "outputs": [],
   "source": [
    "import os\n",
    "\n",
    "# 지정해준 폴더 안의 모든 파일의 이름을 리스트로\n",
    "print(os.listdir(\"images\"))\n",
    "\n",
    "# for루프에서 사용 가능\n",
    "# for filename in os.listdir(\"images\"):\n",
    "#     print(filename, end=\" \")"
   ]
  },
  {
   "cell_type": "code",
   "execution_count": null,
   "metadata": {},
   "outputs": [],
   "source": [
    "import glob\n",
    "\n",
    "# 이름이 조건을 만족하는 파일들\n",
    "print(len(glob.glob(\"images/src*.jpg\")))\n",
    "print(len(glob.glob(\"images/dest*.jpg\")))"
   ]
  },
  {
   "attachments": {},
   "cell_type": "markdown",
   "metadata": {},
   "source": [
    "### 여러 이미지 파일 변환하기"
   ]
  },
  {
   "cell_type": "code",
   "execution_count": null,
   "metadata": {},
   "outputs": [],
   "source": [
    "import glob\n",
    "\n"
   ]
  },
  {
   "attachments": {},
   "cell_type": "markdown",
   "metadata": {},
   "source": [
    "### 이미지 시퀀스를 동영상으로 묶기"
   ]
  },
  {
   "cell_type": "code",
   "execution_count": null,
   "metadata": {},
   "outputs": [],
   "source": [
    "import ffmpeg\n",
    "\n",
    "# 이미지 시퀀스를 동영상으로 묶기\n"
   ]
  },
  {
   "attachments": {},
   "cell_type": "markdown",
   "metadata": {},
   "source": [
    "### 동영상 파일에 오디오 추가"
   ]
  },
  {
   "attachments": {},
   "cell_type": "markdown",
   "metadata": {},
   "source": [
    "동영상에서 오디오 추출"
   ]
  },
  {
   "cell_type": "code",
   "execution_count": null,
   "metadata": {},
   "outputs": [],
   "source": [
    "import ffmpeg\n",
    "\n"
   ]
  },
  {
   "attachments": {},
   "cell_type": "markdown",
   "metadata": {},
   "source": [
    "비디오에 오디오 합치기"
   ]
  },
  {
   "cell_type": "code",
   "execution_count": null,
   "metadata": {},
   "outputs": [],
   "source": [
    "import ffmpeg\n",
    "\n"
   ]
  },
  {
   "cell_type": "code",
   "execution_count": null,
   "metadata": {},
   "outputs": [],
   "source": []
  }
 ],
 "metadata": {
  "interpreter": {
   "hash": "8018e705143a54fe8977c076a25f32bbbfeba551799f40fa3d5ac4e2da245feb"
  },
  "kernelspec": {
   "display_name": "Python 3.10.2 ('py310')",
   "language": "python",
   "name": "python3"
  },
  "language_info": {
   "codemirror_mode": {
    "name": "ipython",
    "version": 3
   },
   "file_extension": ".py",
   "mimetype": "text/x-python",
   "name": "python",
   "nbconvert_exporter": "python",
   "pygments_lexer": "ipython3",
   "version": "3.10.2"
  },
  "orig_nbformat": 4
 },
 "nbformat": 4,
 "nbformat_minor": 2
}
