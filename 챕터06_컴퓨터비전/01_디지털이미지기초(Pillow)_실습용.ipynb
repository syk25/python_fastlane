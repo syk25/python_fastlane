{
 "cells": [
  {
   "cell_type": "markdown",
   "metadata": {},
   "source": [
    "___\n",
    "<a href='https://cafe.naver.com/jmhonglab'><p style=\"text-align:center;\"><img src='https://lh3.googleusercontent.com/lY3ySXooSmwsq5r-mRi7uiypbo0Vez6pmNoQxMFhl9fmZJkRHu5lO2vo7se_0YOzgmDyJif9fi4_z0o3ZFdwd8NVSWG6Ea80uWaf3pOHpR4GHGDV7kaFeuHR3yAjIJjDgfXMxsvw=w2400'  class=\"center\" width=\"50%\" height=\"50%\"/></p></a>\n",
    "___\n",
    "<center><em>Content Copyright by HongLab, Inc.</em></center>"
   ]
  },
  {
   "cell_type": "markdown",
   "metadata": {},
   "source": [
    "# 디지털 이미지 다루기\n",
    "\n",
    "스마트폰의 내장 카메라, 웹캠 등의 디지털 영상 장치의 발달로 인해서 디지털 이미지는 우리에게 매우 친숙합니다. 결과를 쉽게 눈으로 볼 수 있기 때문에 직관적으로 프로그래밍 연습을 할 수 있는 좋은 기회입니다.\n"
   ]
  },
  {
   "cell_type": "markdown",
   "metadata": {},
   "source": [
    "### 디지털 이미지의 형식\n",
    "\n",
    "몇 가지 기본적인 용어를 정리해보겠습니다.\n",
    "- RGB 컬러: Red, Gree, Blue의 조합으로 색을 표현합니다. [색상 팔레트](https://search.naver.com/search.naver?where=nexearch&sm=top_hty&fbm=1&ie=utf8&query=rgb+%EC%83%89%EC%83%81%ED%91%9C\n",
    ")를 참고하세요.\n",
    "- RGBA 컬러: RGB 컬러에 불투명도(opaque)를 의미하는 Alpha를 추가한 것입니다.\n",
    "- 픽셀(Pixel): PICture ELement의 줄임말로써 디지털 이미지에서 색을 표현하는 작은 면적을 의미합니다.\n"
   ]
  },
  {
   "cell_type": "markdown",
   "metadata": {},
   "source": [
    "### [Pillow](https://pillow.readthedocs.io/en/stable/handbook/tutorial.html)를 이용한 이미지 조작\n",
    "\n",
    "여기서는 기본적인 이미지 조작 방법을 몇 가지 사용해보겠습니다. 더 많은 기능들은 [Handbook](https://pillow.readthedocs.io/en/stable/handbook/index.html)을 참고하세요.\n",
    "\n",
    "```\n",
    "pip install pillow\n",
    "```\n"
   ]
  },
  {
   "cell_type": "markdown",
   "metadata": {},
   "source": [
    "다양한 포맷의 이미지들을 쉽게 읽어들일 수 있습니다."
   ]
  },
  {
   "cell_type": "code",
   "execution_count": null,
   "metadata": {},
   "outputs": [],
   "source": [
    "# 예외처리 예시\n",
    "from PIL import Image\n"
   ]
  },
  {
   "cell_type": "code",
   "execution_count": null,
   "metadata": {},
   "outputs": [],
   "source": [
    "# 정상적으로 읽어들인 후 이미지 정보 출력\n",
    "from PIL import Image\n",
    "\n",
    "im = Image.open(\"baldwin_hills.jpg\")\n",
    "\n",
    "\n",
    "\n",
    "im\n",
    "\n",
    "# im.show() # 운영체제를 통해서 이미지를 보여줍니다."
   ]
  },
  {
   "cell_type": "code",
   "execution_count": null,
   "metadata": {},
   "outputs": [],
   "source": [
    "from matplotlib.pyplot import imshow\n",
    "\n",
    "import numpy as np\n",
    "from PIL import Image\n",
    "\n",
    "im = Image.open(\"baldwin_hills.jpg\")\n",
    "\n"
   ]
  },
  {
   "cell_type": "markdown",
   "metadata": {},
   "source": [
    "이미지의 해상도를 바꿀 수 있습니다."
   ]
  },
  {
   "cell_type": "code",
   "execution_count": null,
   "metadata": {},
   "outputs": [],
   "source": [
    "# 해상도 줄이기\n",
    "from PIL import Image\n",
    "\n"
   ]
  },
  {
   "cell_type": "code",
   "execution_count": null,
   "metadata": {},
   "outputs": [],
   "source": [
    "# BILINEAR 필터로 해상도를 다시 키우기\n"
   ]
  },
  {
   "cell_type": "code",
   "execution_count": null,
   "metadata": {},
   "outputs": [],
   "source": [
    "# NEAREST 필터로 해상도를 다시 키우기\n"
   ]
  },
  {
   "cell_type": "markdown",
   "metadata": {},
   "source": [
    "이미지의 일부만 잘라낼(crop) 수도 있습니다."
   ]
  },
  {
   "cell_type": "code",
   "execution_count": null,
   "metadata": {},
   "outputs": [],
   "source": [
    "from PIL import Image\n",
    "\n"
   ]
  },
  {
   "cell_type": "markdown",
   "metadata": {},
   "source": [
    "잘라낸 부분을 다른 곳에 덮어쓸 수도 있습니다."
   ]
  },
  {
   "cell_type": "code",
   "execution_count": null,
   "metadata": {},
   "outputs": [],
   "source": [
    "from PIL import Image\n",
    "\n",
    "im = Image.open(\"baldwin_hills.jpg\")\n"
   ]
  },
  {
   "cell_type": "markdown",
   "metadata": {},
   "source": [
    "이미지를 격자 형태로 배치해봅시다."
   ]
  },
  {
   "cell_type": "code",
   "execution_count": null,
   "metadata": {},
   "outputs": [],
   "source": [
    "from PIL import Image\n",
    "\n",
    "src = Image.open(\"baldwin_hills.jpg\").resize((480, 270))\n",
    "\n",
    "w, h = src.size\n",
    "\n",
    "dst = Image.new(\"RGB\", (w * 2, h * 2))\n",
    "\n",
    "\n",
    "dst"
   ]
  },
  {
   "cell_type": "markdown",
   "metadata": {},
   "source": [
    "이미지를 회전시킬 수도 있습니다."
   ]
  },
  {
   "cell_type": "code",
   "execution_count": null,
   "metadata": {},
   "outputs": [],
   "source": [
    "from PIL import Image\n",
    "\n",
    "# 반시계방향으로 45도 회전\n"
   ]
  },
  {
   "cell_type": "code",
   "execution_count": null,
   "metadata": {},
   "outputs": [],
   "source": [
    "from PIL import Image\n",
    "\n",
    "# 반시계방향으로 45도 회전\n"
   ]
  },
  {
   "cell_type": "markdown",
   "metadata": {},
   "source": [
    "다양한 기하학적 변환을 할 수 있습니다."
   ]
  },
  {
   "cell_type": "code",
   "execution_count": null,
   "metadata": {},
   "outputs": [],
   "source": [
    "from PIL import Image\n",
    "\n",
    "im = Image.open(\"baldwin_hills.jpg\")\n"
   ]
  },
  {
   "cell_type": "markdown",
   "metadata": {},
   "source": [
    "이미지 위에 글을 쓸 수도 있습니다."
   ]
  },
  {
   "cell_type": "code",
   "execution_count": null,
   "metadata": {},
   "outputs": [],
   "source": [
    "from PIL import Image, ImageDraw, ImageFont\n",
    "\n",
    "im = Image.open(\"baldwin_hills.jpg\")\n",
    "\n"
   ]
  },
  {
   "cell_type": "markdown",
   "metadata": {},
   "source": [
    "[화질 개선(image enhancement) 기능들](https://pillow.readthedocs.io/en/stable/reference/ImageEnhance.html#module-PIL.ImageEnhance)도 사용할 수 있습니다."
   ]
  },
  {
   "cell_type": "code",
   "execution_count": null,
   "metadata": {},
   "outputs": [],
   "source": [
    "from PIL import Image, ImageEnhance\n",
    "\n",
    "im = Image.open(\"baldwin_hills.jpg\")\n",
    "\n"
   ]
  },
  {
   "cell_type": "markdown",
   "metadata": {},
   "source": [
    "간단한 도형을 그릴 수도 있습니다. 더 다양한 기능들은 [여기](https://pillow.readthedocs.io/en/stable/reference/ImageDraw.html)를 참고하세요."
   ]
  },
  {
   "cell_type": "code",
   "execution_count": null,
   "metadata": {},
   "outputs": [],
   "source": [
    "from PIL import Image, ImageDraw\n",
    "\n",
    "with Image.open(\"baldwin_hills.jpg\") as im:\n",
    "\n",
    "    draw = ImageDraw.Draw(im)\n",
    "\n",
    "    x, y, w, h = 520, 180, 120, 290\n",
    "    draw.line((x, y, x + w, y + h), fill=(0, 0, 255)) # sample\n",
    "\n",
    "    # 직선 4개로 사각형 그리기 연습\n",
    "\n",
    "\n",
    "im"
   ]
  },
  {
   "cell_type": "code",
   "execution_count": null,
   "metadata": {},
   "outputs": [],
   "source": [
    "from PIL import Image, ImageDraw\n",
    "\n",
    "with Image.open(\"baldwin_hills.jpg\") as im:\n",
    "\n",
    "    draw = ImageDraw.Draw(im)\n",
    "\n",
    "    x, y, w, h = 520, 180, 120, 290\n",
    "\n",
    "\n",
    "im"
   ]
  },
  {
   "cell_type": "markdown",
   "metadata": {},
   "source": [
    "투명도를 사용해봅시다."
   ]
  },
  {
   "cell_type": "code",
   "execution_count": null,
   "metadata": {},
   "outputs": [],
   "source": [
    "with Image.open(\"baldwin_hills.jpg\").convert(\"RGBA\") as base:\n",
    "\n",
    "    # 완전히 투명한 이미지 생성\n",
    " \n",
    "\n",
    "    # 투명 이미지 위에 그리기\n",
    "\n",
    "\n",
    "    # 투명도를 이용하여 합성\n",
    " \n"
   ]
  }
 ],
 "metadata": {
  "interpreter": {
   "hash": "8018e705143a54fe8977c076a25f32bbbfeba551799f40fa3d5ac4e2da245feb"
  },
  "kernelspec": {
   "display_name": "Python 3.10.2 ('py310')",
   "language": "python",
   "name": "python3"
  },
  "language_info": {
   "codemirror_mode": {
    "name": "ipython",
    "version": 3
   },
   "file_extension": ".py",
   "mimetype": "text/x-python",
   "name": "python",
   "nbconvert_exporter": "python",
   "pygments_lexer": "ipython3",
   "version": "3.10.2"
  },
  "orig_nbformat": 4
 },
 "nbformat": 4,
 "nbformat_minor": 2
}
