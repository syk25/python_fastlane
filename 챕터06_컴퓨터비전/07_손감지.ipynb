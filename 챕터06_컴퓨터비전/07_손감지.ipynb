{
 "cells": [
  {
   "cell_type": "markdown",
   "metadata": {},
   "source": [
    "___\n",
    "<a href='https://cafe.naver.com/jmhonglab'><p style=\"text-align:center;\"><img src='https://lh3.googleusercontent.com/lY3ySXooSmwsq5r-mRi7uiypbo0Vez6pmNoQxMFhl9fmZJkRHu5lO2vo7se_0YOzgmDyJif9fi4_z0o3ZFdwd8NVSWG6Ea80uWaf3pOHpR4GHGDV7kaFeuHR3yAjIJjDgfXMxsvw=w2400'  class=\"center\" width=\"50%\" height=\"50%\"/></p></a>\n",
    "___\n",
    "<center><em>Content Copyright by HongLab, Inc.</em></center>"
   ]
  },
  {
   "cell_type": "markdown",
   "metadata": {},
   "source": [
    "# [MediaPipe Hands](https://google.github.io/mediapipe/solutions/hands.html)"
   ]
  },
  {
   "cell_type": "code",
   "execution_count": null,
   "metadata": {},
   "outputs": [],
   "source": [
    "import cv2\n",
    "import numpy as np\n",
    "import mediapipe as mp\n",
    "\n",
    "\n",
    "def find_landmarks(img_bgr, hands):\n",
    "    \"\"\"Normalized image space to pixel space\"\"\"\n",
    "\n",
    "    img_rgb = cv2.cvtColor(img_bgr, cv2.COLOR_BGR2RGB)\n",
    "    results = hands.process(img_rgb)\n",
    "    landmarks = []\n",
    "    if results.multi_hand_landmarks:\n",
    "        for person in results.multi_hand_landmarks:\n",
    "            hand = []\n",
    "            for id, lm in enumerate(person.landmark):\n",
    "                ih, iw, _ = img_bgr.shape\n",
    "                x, y = int(lm.x * iw), int(lm.y * ih)\n",
    "                hand.append([x, y])\n",
    "            landmarks.append(hand)\n",
    "    return landmarks\n",
    "\n",
    "#cap = cv2.VideoCapture(\"handdrawing_input_sample.mp4\")\n",
    "cap = cv2.VideoCapture(0)\n",
    "\n",
    "with mp.solutions.hands.Hands(\n",
    "    model_complexity=0, min_detection_confidence=0.5, min_tracking_confidence=0.5\n",
    ") as hands:\n",
    "\n",
    "    while cap.isOpened():\n",
    "        success, image = cap.read()\n",
    "        if not success:\n",
    "            print(\"Ignoring empty camera frame.\")\n",
    "            break\n",
    "\n",
    "        landmarks = find_landmarks(image, hands)\n",
    "\n",
    "        if landmarks:\n",
    "            \n",
    "            for xy in landmarks[0]:\n",
    "                cv2.circle(image, xy, 5, (255,255,255), cv2.FILLED)\n",
    "\n",
    "        cv2.imshow(\"MediaPipe Hands\", cv2.flip(image, 1)) # 좌우 반전\n",
    "\n",
    "        if cv2.waitKey(5) == ord(\"q\"):\n",
    "            break\n",
    "\n",
    "cap.release()\n",
    "cv2.destroyAllWindows()"
   ]
  },
  {
   "cell_type": "markdown",
   "metadata": {},
   "source": [
    "### 가상 그림판을 만들어보세요."
   ]
  },
  {
   "cell_type": "code",
   "execution_count": null,
   "metadata": {},
   "outputs": [],
   "source": []
  }
 ],
 "metadata": {
  "interpreter": {
   "hash": "8018e705143a54fe8977c076a25f32bbbfeba551799f40fa3d5ac4e2da245feb"
  },
  "kernelspec": {
   "display_name": "Python 3.10.2 ('py310')",
   "language": "python",
   "name": "python3"
  },
  "language_info": {
   "codemirror_mode": {
    "name": "ipython",
    "version": 3
   },
   "file_extension": ".py",
   "mimetype": "text/x-python",
   "name": "python",
   "nbconvert_exporter": "python",
   "pygments_lexer": "ipython3",
   "version": "3.10.2"
  },
  "orig_nbformat": 4
 },
 "nbformat": 4,
 "nbformat_minor": 2
}
