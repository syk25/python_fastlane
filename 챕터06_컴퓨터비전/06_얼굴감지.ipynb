{
 "cells": [
  {
   "cell_type": "markdown",
   "metadata": {},
   "source": [
    "___\n",
    "<a href='https://cafe.naver.com/jmhonglab'><p style=\"text-align:center;\"><img src='https://lh3.googleusercontent.com/lY3ySXooSmwsq5r-mRi7uiypbo0Vez6pmNoQxMFhl9fmZJkRHu5lO2vo7se_0YOzgmDyJif9fi4_z0o3ZFdwd8NVSWG6Ea80uWaf3pOHpR4GHGDV7kaFeuHR3yAjIJjDgfXMxsvw=w2400'  class=\"center\" width=\"50%\" height=\"50%\"/></p></a>\n",
    "___\n",
    "<center><em>Content Copyright by HongLab, Inc.</em></center>"
   ]
  },
  {
   "cell_type": "markdown",
   "metadata": {},
   "source": [
    "# 얼굴 감지(Face Detection)\n",
    "\n",
    "[MediaPipe](https://google.github.io/mediapipe/)의 [Face Mesh](https://google.github.io/mediapipe/solutions/face_mesh) 사용  \n",
    "\n",
    "활용 사례: [Flappybird](https://www.youtube.com/shorts/3ywKjfO24J0), [SparkAR Gallery](https://www.facebook.com/sparkarhub/gallery?ref=spark_website), [운전자 졸음 감지](https://www.youtube.com/watch?v=Q23K7G1gJgY) 등\n"
   ]
  },
  {
   "cell_type": "markdown",
   "metadata": {},
   "source": [
    "[Landmark index map](https://github.com/google/mediapipe/blob/a908d668c730da128dfa8d9f6bd25d519d006692/mediapipe/modules/face_geometry/data/canonical_face_model_uv_visualization.png)"
   ]
  },
  {
   "cell_type": "code",
   "execution_count": null,
   "metadata": {},
   "outputs": [],
   "source": [
    "import cv2\n",
    "import mediapipe as mp\n",
    "\n",
    "def find_landmarks(img_bgr, face_mesh):\n",
    "    \"\"\"Normalized image space to pixel space\"\"\"\n",
    "\n",
    "    img_rgb = cv2.cvtColor(img_bgr, cv2.COLOR_BGR2RGB)\n",
    "    results = face_mesh.process(img_rgb)\n",
    "    landmarks = []\n",
    "    if results.multi_face_landmarks:\n",
    "        for person in results.multi_face_landmarks:\n",
    "            face = []\n",
    "            for id, lm in enumerate(person.landmark):\n",
    "                ih, iw, _ = img_bgr.shape\n",
    "                x, y = int(lm.x * iw), int(lm.y * ih)\n",
    "                face.append([x, y])\n",
    "            landmarks.append(face)\n",
    "    return landmarks\n",
    "\n",
    "cap = cv2.VideoCapture(\"jmhong_face.mp4\")\n",
    "#cap = cv2.VideoCapture(0)\n",
    "\n",
    "with mp.solutions.face_mesh.FaceMesh(\n",
    "    max_num_faces=1,\n",
    "    refine_landmarks=True,\n",
    "    min_detection_confidence=0.5,\n",
    "    min_tracking_confidence=0.5,\n",
    ") as face_mesh:\n",
    "\n",
    "    while cap.isOpened():\n",
    "\n",
    "        success, image = cap.read()\n",
    "        if not success:            \n",
    "            break\n",
    "\n",
    "        landmarks = find_landmarks(image, face_mesh)\n",
    "\n",
    "        if not landmarks:\n",
    "            print(\"No person detected\")\n",
    "            continue\n",
    "\n",
    "        # 모든 랜드마크 그리기\n",
    "        # for xy in landmarks[0]: # [0] is for the first person\n",
    "        #     cv2.circle(image, xy, 2, (255, 255, 255), cv2.FILLED)\n",
    "\n",
    "        # 특정 랜드마크만 그리기\n",
    "        cv2.circle(image, landmarks[0][159], 2, (255, 255, 255), cv2.FILLED)\n",
    "        cv2.circle(image, landmarks[0][145], 2, (255, 255, 255), cv2.FILLED)\n",
    "\n",
    "        cv2.imshow(\"MediaPipe Face Mesh\", image)\n",
    "        if cv2.waitKey(5) == ord('q'):\n",
    "            break\n",
    "\n",
    "cap.release()\n",
    "cv2.destroyAllWindows()"
   ]
  },
  {
   "cell_type": "markdown",
   "metadata": {},
   "source": [
    "### [실습] 윙크 감지\n",
    "\n",
    "힌트: 두 점 사이의 거리(Euclidean distance) 구하는 방법은 수학 시간에 배운 그대로 적용하면 됩니다. 검색해도 많이 나옵니다."
   ]
  },
  {
   "cell_type": "code",
   "execution_count": null,
   "metadata": {},
   "outputs": [],
   "source": []
  }
 ],
 "metadata": {
  "interpreter": {
   "hash": "8018e705143a54fe8977c076a25f32bbbfeba551799f40fa3d5ac4e2da245feb"
  },
  "kernelspec": {
   "display_name": "Python 3.10.2 ('py310')",
   "language": "python",
   "name": "python3"
  },
  "language_info": {
   "codemirror_mode": {
    "name": "ipython",
    "version": 3
   },
   "file_extension": ".py",
   "mimetype": "text/x-python",
   "name": "python",
   "nbconvert_exporter": "python",
   "pygments_lexer": "ipython3",
   "version": "3.10.2"
  },
  "orig_nbformat": 4
 },
 "nbformat": 4,
 "nbformat_minor": 2
}
