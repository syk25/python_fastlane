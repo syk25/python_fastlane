{
 "cells": [
  {
   "cell_type": "markdown",
   "metadata": {},
   "source": [
    "___\n",
    "<a href='https://cafe.naver.com/jmhonglab'><p style=\"text-align:center;\"><img src='https://lh3.googleusercontent.com/lY3ySXooSmwsq5r-mRi7uiypbo0Vez6pmNoQxMFhl9fmZJkRHu5lO2vo7se_0YOzgmDyJif9fi4_z0o3ZFdwd8NVSWG6Ea80uWaf3pOHpR4GHGDV7kaFeuHR3yAjIJjDgfXMxsvw=w2400'  class=\"center\" width=\"50%\" height=\"50%\"/></p></a>\n",
    "___\n",
    "<center><em>Content Copyright by HongLab, Inc.</em></center>"
   ]
  },
  {
   "cell_type": "markdown",
   "metadata": {},
   "source": [
    "# 컴퓨터 비전 맛보기"
   ]
  },
  {
   "cell_type": "markdown",
   "metadata": {},
   "source": [
    "인간에게 시각(vision)은 매우 중요한 감각입니다. [컴퓨터 비전](https://en.wikipedia.org/wiki/Computer_vision)은 컴퓨터도 마치 인간처럼 시각 정보를 이해할 수 있는 만들어주는 기술들을 연구하는 분야입니다. 이미지 처리(image processing)나 계산 사진학(computational photography) 등과 같이 이미지와 관련된 거의 모든 기술들과 깊은 관련이 있습니다. 최근에는 딥러닝(deep learning)으로 대표되는 인공지능의 발전으로 기술 수준이 빠르게 높아지고 있으며 다양한 응용 분야와 높은 시장성도 함께 자라나고 있습니다.\n",
    "\n",
    "여기서는 컴퓨터 비전 분야에서 가장 많이 사용되는 [OpenCV](https://opencv.org/)를 통해서 몇 가지 재미있는 응용 사례들을 체험해보겠습니다.\n",
    "\n"
   ]
  },
  {
   "cell_type": "markdown",
   "metadata": {},
   "source": [
    "### OpenCV의 기본적인 사용 방법\n",
    "\n",
    "OpenCV는 오픈소스 컴퓨터 비전 라이브러리(OPENsource Computer Vision library)입니다. 빠른 속도를 얻기 위해서 [C++로 작성](https://github.com/opencv/opencv)되어 있으나 파이썬 바인딩(binding)을 통해서 파이썬에서도 사용할 수 있습니다.\n",
    "전통적인 컴퓨터 비전 기술들이 거의 다 구현되어 있을 뿐 아니라 최근에 발전하고 있는 기계 학습 기술들도 빠르게 추가되고 있습니다.\n",
    "\n",
    "대중성보다는 기술적 전문성이 중요한 분야이지만 몇 가지 특이한 사항들만 미리 알아두면 OpenCV를 통해서 어려운 기술들을 간편하게 사용할 수 있습니다.\n",
    "\n",
    "```\n",
    "pip install opencv-python\n",
    "```\n",
    "\n",
    "주의 사항\n",
    "- 디버깅이 단순하지 않습니다. 오류가 발생하면 메시지를 침착하게 읽어보고 원인을 잘 찾아야 합니다.\n",
    "- 모든 기능들을 사용하기 위해서는 C++을 권장합니다.\n",
    "- GUI 같은 편의 기능들은 제품화가 아니라 알고리즘이 제대로 작동하는지 확인하는 용도입니다."
   ]
  },
  {
   "cell_type": "markdown",
   "metadata": {},
   "source": [
    "##### 이미지 다루기\n",
    "\n",
    "- OpenCV는 이미지 자료형으로 Numpy 배열을 사용합니다.\n",
    "- RGB가 아니라 BGR 순서를 기본으로 사용하기 때문에 주의가 필요합니다.\n",
    "- 주피터 노트북에서 창(window)을 띄울 때는 마지막에 반드시 destroyAllWindows()를 호출해줘야 합니다.\n",
    "- 맥에서는 스크립트모드 사용 또는 Restart Kernel, 파일 경로 주의"
   ]
  },
  {
   "cell_type": "code",
   "execution_count": null,
   "metadata": {},
   "outputs": [],
   "source": [
    "import cv2\n",
    "import numpy as np\n",
    "\n",
    "# OpenCV 버전 출력\n",
    "print(cv2.__version__)  # 4.5.5\n",
    "\n",
    "# 이미지 읽어들이기 (흑백 조절 가능)\n",
    "img = cv2.imread(\"baldwin_hills.jpg\")\n",
    "# img = cv2.imread('baldwin_hills.jpg', cv2.IMREAD_COLOR)\n",
    "# img = cv2.imread('baldwin_hills.jpg', cv2.IMREAD_GRAYSCALE)\n",
    "\n",
    "# Numpy 사용, HWC order\n",
    "print(type(img), img.shape, img.dtype)  # <class 'numpy.ndarray'> (540, 960, 3) uint8\n",
    "\n",
    "# 이미지 창 띄우기\n",
    "cv2.imshow(\"Image\", img)  # img는 BGR\n",
    "cv2.waitKey(0)  # 0은 무한히 기다린다는 의미\n",
    "cv2.destroyAllWindows()\n",
    "\n",
    "# 이미지 파일 저장\n",
    "# cv2.imwrite(\"save_file.png\", img)"
   ]
  },
  {
   "cell_type": "markdown",
   "metadata": {},
   "source": [
    "별도의 창을 띄우지 않고 PyPlot으로 그려볼 수도 있습니다. BGR을 RGB로 바꿔줘야 합니다."
   ]
  },
  {
   "cell_type": "code",
   "execution_count": null,
   "metadata": {},
   "outputs": [],
   "source": [
    "import cv2\n",
    "import matplotlib.pyplot as plt\n",
    "\n",
    "img = cv2.imread(\"baldwin_hills.jpg\", cv2.IMREAD_COLOR)\n",
    "\n",
    "#img = cv2.cvtColor(img, cv2.COLOR_BGR2RGB)\n",
    "# img = img[:,:,::-1]\n",
    "\n",
    "plt.xticks([]), plt.yticks([]), plt.axis(\"off\")\n",
    "plt.imshow(img)\n",
    "plt.show()"
   ]
  },
  {
   "cell_type": "markdown",
   "metadata": {},
   "source": [
    "반투명한 상자를 덧그리는 예제입니다. 더 다양한 도형 그리는 방법은 [공식 문서](https://docs.opencv.org/4.x/dc/da5/tutorial_py_drawing_functions.html)를 참고하세요."
   ]
  },
  {
   "cell_type": "code",
   "execution_count": null,
   "metadata": {},
   "outputs": [],
   "source": [
    "import cv2\n",
    "import numpy as np\n",
    "\n",
    "img = cv2.imread(\"baldwin_hills.jpg\", cv2.IMREAD_COLOR)\n",
    "\n",
    "# 반투명 상자 그리기\n",
    "overlay = np.zeros(img.shape, dtype=np.uint8)\n",
    "alpha = np.zeros(\n",
    "    (*img.shape[:2], 1), dtype=np.float64\n",
    ")  # (img.shape[0], img.shape[1], 1)\n",
    "\n",
    "# BGR 사용, thickiness=-1은 채우기\n",
    "overlay = cv2.rectangle(\n",
    "    overlay, pt1=(520, 180), pt2=(640, 480), color=(255, 0, 0), thickness=-1\n",
    ")\n",
    "overlay = cv2.rectangle(\n",
    "    overlay, pt1=(520, 180), pt2=(640, 480), color=(255, 0, 0), thickness=1\n",
    ")\n",
    "# Color에 원하는 alpha 설정\n",
    "alpha = cv2.rectangle(alpha, pt1=(520, 180), pt2=(640, 480), color=(0.1), thickness=-1)\n",
    "alpha = cv2.rectangle(alpha, pt1=(520, 180), pt2=(640, 480), color=(0.5), thickness=1)\n",
    "\n",
    "# Alpha blending\n",
    "img = img * (1.0 - alpha) + overlay * alpha\n",
    "img = img.clip(0, 255).astype(np.uint8)\n",
    "\n",
    "cv2.imshow(\"Image\", img)\n",
    "cv2.waitKey(0)\n",
    "cv2.destroyAllWindows()"
   ]
  },
  {
   "cell_type": "markdown",
   "metadata": {},
   "source": [
    "### 동영상 다루기\n",
    "\n"
   ]
  },
  {
   "cell_type": "markdown",
   "metadata": {},
   "source": [
    "[동영상 읽어서 재생하기](https://docs.opencv.org/4.x/dd/d43/tutorial_py_video_display.html)"
   ]
  },
  {
   "cell_type": "code",
   "execution_count": null,
   "metadata": {},
   "outputs": [],
   "source": [
    "# 기본적인 동영상 재생\n",
    "import cv2\n",
    "\n",
    "cap = cv2.VideoCapture(\"firework.mp4\")\n",
    "# cap = cv2.VideoCapture(0) # 웹캠 사용\n",
    "\n",
    "if not cap.isOpened():\n",
    "    print(\"Error opening video  file\")\n",
    "\n",
    "fps = cap.get(cv2.CAP_PROP_FPS)\n",
    "\n",
    "print(\"FPS\", fps)\n",
    "\n",
    "while cap.isOpened():\n",
    "\n",
    "    ret, frame = cap.read()\n",
    "\n",
    "    # if frame is read correctly ret is True\n",
    "    if not ret:\n",
    "        print(\"Can't receive frame.\")\n",
    "        break\n",
    "\n",
    "        # 동영상을 반복하고 싶다면 break 대신에\n",
    "        # 첫 프레임으로 이동해서 다시 읽어들이기\n",
    "        # cap.set(cv2.CAP_PROP_POS_FRAMES, 0)\n",
    "        # ret, frame = cap.read()\n",
    "\n",
    "    cv2.imshow(\"Frame\", frame)\n",
    "\n",
    "    # fps로부터 대기 시간 계산\n",
    "    # 'q' 키를 눌렀다면 종료\n",
    "    # 주의: 실제 재생 속도의 정확도를 보장하지 않음\n",
    "    if cv2.waitKey(int(1000.0 / fps)) == ord(\"q\"):\n",
    "        break\n",
    "\n",
    "cap.release()\n",
    "cv2.destroyAllWindows()"
   ]
  },
  {
   "cell_type": "markdown",
   "metadata": {},
   "source": [
    "동영상 쓰기"
   ]
  },
  {
   "cell_type": "code",
   "execution_count": null,
   "metadata": {},
   "outputs": [],
   "source": [
    "# 동영상 저장\n",
    "import cv2\n",
    "\n",
    "cap = cv2.VideoCapture(\"firework.mp4\")\n",
    "\n",
    "if not cap.isOpened():\n",
    "    print(\"Error opening video  file\")\n",
    "else:\n",
    "    # 비디오 파일의 해상도 확인\n",
    "    fps = cap.get(cv2.CAP_PROP_FPS)\n",
    "    width = cap.get(cv2.CAP_PROP_FRAME_WIDTH)\n",
    "    height = cap.get(cv2.CAP_PROP_FRAME_HEIGHT)\n",
    "\n",
    "# 출력 파일 설정\n",
    "# 비디오 코덱 설정\n",
    "fourcc = cv2.VideoWriter_fourcc(*\"X264\")\n",
    "# 주의: 해상도에 정수 사용\n",
    "out = cv2.VideoWriter(\"output.mp4\", fourcc, fps, (int(width), int(height)))\n",
    "\n",
    "while cap.isOpened():\n",
    "\n",
    "    ret, frame = cap.read()\n",
    "\n",
    "    # if frame is read correctly ret is True\n",
    "    if not ret:\n",
    "        print(\"Can't receive frame.\")\n",
    "        break\n",
    "\n",
    "    out.write(frame)\n",
    "    cv2.imshow(\"Frame\", frame)\n",
    "\n",
    "    if cv2.waitKey(int(1000.0 / fps)) == ord(\"q\"):\n",
    "        break\n",
    "\n",
    "cap.release()\n",
    "out.release()  # 닫아주기\n",
    "cv2.destroyAllWindows()"
   ]
  },
  {
   "cell_type": "markdown",
   "metadata": {},
   "source": [
    "##### [실습] [putText()](https://docs.opencv.org/4.x/d6/d6e/group__imgproc__draw.html#ga5126f47f883d730f633d74f07456c576)로 텍스트 추가하기"
   ]
  },
  {
   "cell_type": "code",
   "execution_count": null,
   "metadata": {},
   "outputs": [],
   "source": [
    "# 동영상 저장\n",
    "import cv2\n",
    "\n",
    "cap = cv2.VideoCapture(\"firework.mp4\")"
   ]
  },
  {
   "cell_type": "markdown",
   "metadata": {},
   "source": [
    "웹캠도 비슷한 방식으로 다룰 수 있습니다."
   ]
  },
  {
   "cell_type": "markdown",
   "metadata": {},
   "source": [
    "### GUI\n"
   ]
  },
  {
   "cell_type": "markdown",
   "metadata": {},
   "source": [
    "[마우스 클릭 이벤트](https://docs.opencv.org/3.4/db/d5b/tutorial_py_mouse_handling.html)"
   ]
  },
  {
   "cell_type": "code",
   "execution_count": null,
   "metadata": {},
   "outputs": [],
   "source": [
    "import numpy as np\n",
    "from random import randint\n",
    "import cv2 as cv  # cv로 줄여서 쓰는 경우도 많습니다.\n",
    "\n",
    "# Mouse callback function\n",
    "def draw_circle(event, x, y, flags, param):\n",
    "\n",
    "    # flags 예시: if event == cv2.EVENT_LBUTTONDOWN and flags != cv2.EVENT_FLAG_SHIFTKEY:\n",
    "    if event == cv.EVENT_LBUTTONDOWN:\n",
    "        # 전역 변수 img 사용\n",
    "        # Numpy is mutable\n",
    "        cv.circle(\n",
    "            img,\n",
    "            (x, y),\n",
    "            randint(5, 30),\n",
    "            (randint(0, 255), randint(0, 255), randint(0, 255)),\n",
    "            -1,\n",
    "        )\n",
    "\n",
    "        # param 사용 예시\n",
    "        param[0] += 1\n",
    "        print(\"Num of clicks = \", param[0])\n",
    "\n",
    "        # global 변수를 사용하는 경우가 더 많습니다.\n",
    "        # click_number[0] += 1\n",
    "        # print(\"Num of clicks = \", click_number[0])\n",
    "\n",
    "\n",
    "# 하얀 바탕 화면\n",
    "img = np.full((512, 512, 3), (255, 255, 255), dtype=np.uint8)\n",
    "\n",
    "cv.namedWindow(\"Image\")  # 창(Window)의 이름 주의\n",
    "\n",
    "# param 사용 예시 (가변 자료형 사용)\n",
    "click_number = [0]\n",
    "\n",
    "# 마우스 이벤트 콜백 연결\n",
    "cv.setMouseCallback(\"Image\", draw_circle, click_number)\n",
    "\n",
    "while True:\n",
    "\n",
    "    cv.imshow(\"Image\", img)\n",
    "\n",
    "    if cv.waitKey(20) == ord(\"q\"):\n",
    "        break\n",
    "\n",
    "cv.destroyAllWindows()"
   ]
  },
  {
   "cell_type": "markdown",
   "metadata": {},
   "source": [
    "##### [실습] 마우스로 선 그리기"
   ]
  },
  {
   "cell_type": "code",
   "execution_count": null,
   "metadata": {},
   "outputs": [],
   "source": [
    "import numpy as np\n",
    "from random import randint\n",
    "import cv2 as cv  # cv로 줄여서 쓰는 경우도 많습니다."
   ]
  },
  {
   "cell_type": "markdown",
   "metadata": {},
   "source": [
    "[트랙바(Trackbar)](https://docs.opencv.org/3.4/d9/dc8/tutorial_py_trackbar.html)"
   ]
  },
  {
   "cell_type": "code",
   "execution_count": null,
   "metadata": {},
   "outputs": [],
   "source": [
    "import numpy as np\n",
    "import cv2 as cv\n",
    "\n",
    "\n",
    "def update_blue(x):\n",
    "    color[0] = x\n",
    "    img[:] = color\n",
    "\n",
    "def update_green(x):\n",
    "    color[1] = x\n",
    "    img[:] = color\n",
    "    \n",
    "def update_red(x):\n",
    "    color[2] = x\n",
    "    img[:] = color\n",
    "\n",
    "color = [0, 0, 0] # 시작할 때의 색, 가변형 사용\n",
    "img = np.full((300, 512, 3), color, np.uint8)\n",
    "\n",
    "cv.namedWindow(\"Image\")\n",
    "\n",
    "# create trackbars for color change\n",
    "cv.createTrackbar(\"Red\", \"Image\", 0, 255, update_red)\n",
    "cv.createTrackbar(\"Green\", \"Image\", 0, 255, update_green)\n",
    "cv.createTrackbar(\"Blue\", \"Image\", 0, 255, update_blue)\n",
    "\n",
    "while True:\n",
    "\n",
    "    cv.imshow(\"Image\", img)\n",
    "\n",
    "    if cv.waitKey(1) == ord('q'):\n",
    "        break\n",
    "\n",
    "    # getTrackbarPro() 사용 예시\n",
    "    #r = cv.getTrackbarPos(\"R\", \"image\")\n",
    "\n",
    "cv.destroyAllWindows()"
   ]
  },
  {
   "cell_type": "markdown",
   "metadata": {},
   "source": [
    "##### [실습] 이미지 흐리게 만들기 ([Gaussian Blur](https://docs.opencv.org/3.4/d4/d13/tutorial_py_filtering.html))\n",
    "\n",
    "[Convolution](https://towardsdatascience.com/intuitively-understanding-convolutions-for-deep-learning-1f6f42faee1)의 직관적인 이해\n",
    "\n"
   ]
  },
  {
   "cell_type": "code",
   "execution_count": null,
   "metadata": {},
   "outputs": [],
   "source": [
    "import cv2\n",
    "import numpy as np\n",
    "\n",
    "img = cv2.imread(\"baldwin_hills.jpg\")\n",
    "# 주의: 1이상 홀수\n",
    "img = cv2.GaussianBlur(img, (25, 25), 0) \n",
    "\n",
    "# 이미지 창 띄우기\n",
    "cv2.imshow(\"Image\", img)  # img는 BGR\n",
    "cv2.waitKey(0)  # 0은 무한히 기다린다는 의미\n",
    "cv2.destroyAllWindows()"
   ]
  },
  {
   "cell_type": "code",
   "execution_count": null,
   "metadata": {},
   "outputs": [],
   "source": [
    "import numpy as np\n",
    "import cv2\n"
   ]
  },
  {
   "cell_type": "code",
   "execution_count": null,
   "metadata": {},
   "outputs": [],
   "source": []
  }
 ],
 "metadata": {
  "interpreter": {
   "hash": "8018e705143a54fe8977c076a25f32bbbfeba551799f40fa3d5ac4e2da245feb"
  },
  "kernelspec": {
   "display_name": "Python 3.10.2 ('py310')",
   "language": "python",
   "name": "python3"
  },
  "language_info": {
   "codemirror_mode": {
    "name": "ipython",
    "version": 3
   },
   "file_extension": ".py",
   "mimetype": "text/x-python",
   "name": "python",
   "nbconvert_exporter": "python",
   "pygments_lexer": "ipython3",
   "version": "3.10.2"
  },
  "orig_nbformat": 4
 },
 "nbformat": 4,
 "nbformat_minor": 2
}
