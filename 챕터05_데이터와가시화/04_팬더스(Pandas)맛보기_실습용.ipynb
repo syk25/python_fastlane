{
 "cells": [
  {
   "cell_type": "markdown",
   "metadata": {},
   "source": [
    "___\n",
    "<a href='https://cafe.naver.com/jmhonglab'><p style=\"text-align:center;\"><img src='https://lh3.googleusercontent.com/lY3ySXooSmwsq5r-mRi7uiypbo0Vez6pmNoQxMFhl9fmZJkRHu5lO2vo7se_0YOzgmDyJif9fi4_z0o3ZFdwd8NVSWG6Ea80uWaf3pOHpR4GHGDV7kaFeuHR3yAjIJjDgfXMxsvw=w2400'  class=\"center\" width=\"50%\" height=\"50%\"/></p></a>\n",
    "___\n",
    "<center><em>Content Copyright by HongLab, Inc.</em></center>"
   ]
  },
  {
   "cell_type": "markdown",
   "metadata": {},
   "source": [
    "# [팬더스(Pandas)](https://pandas.pydata.org/pandas-docs/stable/index.html#)\n"
   ]
  },
  {
   "cell_type": "markdown",
   "metadata": {},
   "source": [
    "팬더스(Pandas)라는 이름은 계량경제학의 [PANel DAta](https://en.wikipedia.org/wiki/Panel_data)에서 유래한 이름입니다. 표 형태로 표현될 수 있는 데이터(예: 엑셀, 구글 스프레드시트 등)를 다루기에 편리합니다. 데이터 분석과 조작에 필요한 기능들을 가지고 있고 다양한 형식의 파일 입출력, 데이터베이스 연동, 그래프 그리기 등의 편의 기능들도 다양하게 발달해 있습니다. 엑셀이나 구글 스프레드시트보다 훨씬 빠릅니다. 여기서는 업무 자동화 보다는 프로그래머 관점에서 데이터 사이언스를 살짝 엿보는 수준으로 간단한 사용법들을 알아보겠습니다. \n",
    "\n",
    "```conda install pandas``` 또는 ```pip install pandas```로 간단히 설치할 수 있습니다."
   ]
  },
  {
   "cell_type": "markdown",
   "metadata": {},
   "source": [
    "### 데이터 프레임(Data Frame)\n",
    "\n",
    "데이터 사이언스 관점에서 시작하실 때는 [공식 튜토리얼](https://pandas.pydata.org/pandas-docs/stable/getting_started/index.html#getting-started)이 데이터 분석 방법 위주로 잘 만들어져 있습니다. 여기서는 더 이해하기 쉬운 방법으로 개념을 정리해보겠습니다.\n",
    "\n",
    "팬더스에서는 행(row)과 열(column)로 이루어진 구조를 데이터 프레임이라고 부릅니다. 예를 들어서 어떤 모임의 주소록(또는 전화번호부나 회원 목록)을 생각해봅시다.\n",
    "\n",
    "|이름|전화번호|이메일|생일|\n",
    "|---|---|---|---|\n",
    "|성기훈|8734-2398|gh@squid.kr|1974-10-31|\n",
    "|아이언맨|1234-5678|tony@avengers.com|1970-5-29|\n",
    "|Robin|2754-8384|red@dc.net|1996-3-15|\n",
    "\n",
    "일반적으로 주소록을 만들때는 인원이 추가되거나 삭제 되더라도 어떤 항목들을 기록하는 지는 잘 변하지 않기 때문에 이름, 전화번호, 이메일 같은 특징(feature)들을 하나의 기둥(열, column) 형태로 모아서 기록합니다. 이때 \"이름\", \"전화번호\" 등이 각각의 기둥의 이름 역할을 하는 레이블(label)입니다. 새로운 인원이 추가가될 때는 새로운 가로줄(행, row)을 만들어서 기록해주고 반대로 누군가를 삭제할 때는 가로줄 하나를 지웁니다. 기둥의 이름들을 모아놓은 첫 번째 가로줄은 헤더(header row)라고 부릅니다.\n",
    "\n",
    "만약, 이 모임의 연령대가 대강 어떻게 되는지 분포를 보고 싶다면 생일 기둥에 들어있는 값들을 쭉 훑어보겠지요. 그런 의미에서 하나의 기둥을 여러 값들이 나열되어 있는 시리즈(series)라고 부릅니다. 다시 나오겠지만, 시간에 따른 비트코인 가격 변동 같이 시간에 대한 변화를 볼 때는 시계열(time series)라고 부릅니다.\n",
    "\n",
    "[참고] 여기서는 '행', '열' 같은 한자 대신 오해를 줄이기 위해 '가로줄(row)', '기둥(column)' 같이 직관적으로 이해가 가능한 용어를 사용하겠습니다. \n"
   ]
  },
  {
   "cell_type": "markdown",
   "metadata": {},
   "source": [
    "### 데이터프레임 만들기"
   ]
  },
  {
   "cell_type": "markdown",
   "metadata": {},
   "source": [
    "비어있는 데이터프레임을 만들고 기둥을 추가해봅시다."
   ]
  },
  {
   "cell_type": "code",
   "execution_count": null,
   "metadata": {},
   "outputs": [],
   "source": [
    "import pandas as pd\n",
    "\n",
    "# 비어 있는 데이터프레임 만들기\n",
    "\n",
    "\n",
    "# 비어있는 기둥(column)들 추가\n",
    "# dict처럼 key를 이용한 indexing\n",
    "\n",
    "# df 객체가 dict인 것은 아니고\n",
    "# 일부 기능이 dict와 유사하게 작동하는 자료형(class ~.DataFrame)을 만든 것\n",
    "\n",
    "\n",
    "# 표를 배열로 생각했을 때 shape\n",
    "\n"
   ]
  },
  {
   "cell_type": "code",
   "execution_count": null,
   "metadata": {},
   "outputs": [],
   "source": [
    "import pandas as pd\n",
    "\n",
    "\n",
    "\n",
    "# 가로줄(row) 추가\n",
    "\n",
    "\n",
    "# df.index\n",
    "# df.shape"
   ]
  },
  {
   "cell_type": "code",
   "execution_count": null,
   "metadata": {},
   "outputs": [],
   "source": [
    "import pandas as pd\n",
    "\n",
    "\n",
    "\n",
    "# 기둥 단위로 추가\n",
    "# dict처럼 key를 이용한 indexing\n",
    "\n"
   ]
  },
  {
   "cell_type": "markdown",
   "metadata": {},
   "source": [
    "데이터프레임을 초기화할 때 비어있는 기둥들을 추가할 수도 있습니다.\n"
   ]
  },
  {
   "cell_type": "code",
   "execution_count": null,
   "metadata": {},
   "outputs": [],
   "source": [
    "import pandas as pd\n",
    "\n",
    "# 처음부터 비어있는 기둥들 추가\n"
   ]
  },
  {
   "cell_type": "markdown",
   "metadata": {},
   "source": [
    "데이터로 초기화할 수 있습니다."
   ]
  },
  {
   "cell_type": "code",
   "execution_count": null,
   "metadata": {},
   "outputs": [],
   "source": [
    "import pandas as pd\n",
    "\n",
    "# Dict로부터 생성\n"
   ]
  },
  {
   "cell_type": "markdown",
   "metadata": {},
   "source": [
    "파일로부터 데이터프레임을 만들 수 있습니다."
   ]
  },
  {
   "cell_type": "code",
   "execution_count": null,
   "metadata": {},
   "outputs": [],
   "source": [
    "import pandas as pd\n",
    "\n",
    "# CSV 파일을 읽어들여서 만들기\n",
    "\n",
    "\n",
    "# CSV 파일로 저장\n",
    "# index를 True로 하면 0, 1, 2, ... 로 된 인덱스의 기둥이 하나 더 저장됩니다.\n",
    "\n",
    "\n",
    "# Numpy 배열로 변환\n",
    "\n",
    "\n",
    "# Birthday 기둥을 문자열이 아니라 datetime으로 변환\n"
   ]
  },
  {
   "cell_type": "markdown",
   "metadata": {},
   "source": [
    "### 기초적인 사용법들\n",
    "\n",
    "많이 사용하는 사용법들을 몇 가지 알아보겠습니다.\n",
    "\n",
    "[참고] 설명의 편의를 위해 먼저 실행한 셀의 결과를 계속 활용합니다.  "
   ]
  },
  {
   "cell_type": "code",
   "execution_count": null,
   "metadata": {},
   "outputs": [],
   "source": [
    "import pandas as pd\n",
    "\n",
    "\n",
    "\n",
    "# 데이터가 많은 경우에는 매번 전부를 확인할 수 없습니다.\n",
    "# 처음 몇 개를 볼 때 사용\n"
   ]
  },
  {
   "cell_type": "code",
   "execution_count": null,
   "metadata": {},
   "outputs": [],
   "source": [
    "# 마지막 몇 개만 보고 싶을 때 사용\n"
   ]
  },
  {
   "cell_type": "code",
   "execution_count": null,
   "metadata": {},
   "outputs": [],
   "source": []
  },
  {
   "cell_type": "code",
   "execution_count": null,
   "metadata": {},
   "outputs": [],
   "source": [
    "# 데이터프레임의 정보를 보고 싶을 때\n"
   ]
  },
  {
   "cell_type": "code",
   "execution_count": null,
   "metadata": {},
   "outputs": [],
   "source": [
    "# 각 기둥의 자료형만 보고 싶을 때\n"
   ]
  },
  {
   "cell_type": "code",
   "execution_count": null,
   "metadata": {},
   "outputs": [],
   "source": [
    "# 기둥의 이름으로 한 기둥만 골라서 시리즈(series) 생성\n",
    "# 즉, 기둥 하나만 선택\n",
    "\n"
   ]
  },
  {
   "cell_type": "code",
   "execution_count": null,
   "metadata": {},
   "outputs": [],
   "source": [
    "# 날짜를 datetime으로 바꾸기\n",
    "\n",
    "\n",
    "# 읽어들이면서 datetime을 분석(parse)할 수도 있습니다.\n",
    "\n",
    "\n",
    "# dtype이 datetime64\n"
   ]
  },
  {
   "cell_type": "code",
   "execution_count": null,
   "metadata": {},
   "outputs": [],
   "source": [
    "# 생일을 나이로 바꾸기\n",
    "\n",
    "from datetime import date\n",
    "\n"
   ]
  },
  {
   "cell_type": "code",
   "execution_count": null,
   "metadata": {},
   "outputs": [],
   "source": [
    "# Age는 int64\n"
   ]
  },
  {
   "cell_type": "code",
   "execution_count": null,
   "metadata": {},
   "outputs": [],
   "source": [
    "# 기초적인 통계자료 출력\n"
   ]
  },
  {
   "cell_type": "code",
   "execution_count": null,
   "metadata": {},
   "outputs": [],
   "source": [
    "# 문자열 데이터도 str처럼 조작 가능\n"
   ]
  },
  {
   "cell_type": "code",
   "execution_count": null,
   "metadata": {},
   "outputs": [],
   "source": [
    "# 가로줄(row)들의 index 범위\n"
   ]
  },
  {
   "cell_type": "code",
   "execution_count": null,
   "metadata": {},
   "outputs": [],
   "source": [
    "# Select a subset of a DataFrame by position.\n",
    "# 가로줄을 시리즈로 반환\n",
    "\n",
    "\n",
    "# [주의]\n"
   ]
  },
  {
   "cell_type": "code",
   "execution_count": null,
   "metadata": {},
   "outputs": [],
   "source": [
    "# 가로줄과 기둥을 모두 지정해주면 개별 값(value)을 반환\n",
    "\n"
   ]
  },
  {
   "cell_type": "code",
   "execution_count": null,
   "metadata": {},
   "outputs": [],
   "source": [
    "# 슬라이싱 가능\n"
   ]
  },
  {
   "cell_type": "code",
   "execution_count": null,
   "metadata": {},
   "outputs": [],
   "source": []
  },
  {
   "cell_type": "code",
   "execution_count": null,
   "metadata": {},
   "outputs": [],
   "source": [
    "# Select a subset of a DataFrame by label.\n",
    "\n"
   ]
  },
  {
   "cell_type": "code",
   "execution_count": null,
   "metadata": {},
   "outputs": [],
   "source": [
    "# 조건으로 표의 일부를 선택 가능\n"
   ]
  },
  {
   "cell_type": "code",
   "execution_count": null,
   "metadata": {},
   "outputs": [],
   "source": []
  },
  {
   "cell_type": "markdown",
   "metadata": {},
   "source": [
    "### 가로줄 추가/삭제\n",
    "\n"
   ]
  },
  {
   "cell_type": "code",
   "execution_count": null,
   "metadata": {},
   "outputs": [],
   "source": [
    "# 새로운 가로줄 추가\n",
    "\n"
   ]
  },
  {
   "cell_type": "code",
   "execution_count": null,
   "metadata": {},
   "outputs": [],
   "source": [
    "# 조건으로 가로줄 삭제\n",
    "# [주의] \n",
    "\n"
   ]
  },
  {
   "cell_type": "code",
   "execution_count": null,
   "metadata": {},
   "outputs": [],
   "source": [
    "# 인덱스로 가로줄 삭제\n",
    "\n",
    "\n"
   ]
  },
  {
   "cell_type": "code",
   "execution_count": null,
   "metadata": {},
   "outputs": [],
   "source": [
    "# 가로줄들의 인덱스를 다시 정리하고 싶다면\n"
   ]
  },
  {
   "cell_type": "code",
   "execution_count": null,
   "metadata": {},
   "outputs": [],
   "source": [
    "# 세로줄(기둥) 삭제\n"
   ]
  },
  {
   "cell_type": "markdown",
   "metadata": {},
   "source": [
    "### 그래프 그리기"
   ]
  },
  {
   "cell_type": "code",
   "execution_count": null,
   "metadata": {},
   "outputs": [],
   "source": [
    "# 데이터 프레임의 plot() 사용\n",
    "\n",
    "import pandas as pd\n",
    "\n"
   ]
  },
  {
   "cell_type": "code",
   "execution_count": null,
   "metadata": {},
   "outputs": [],
   "source": [
    "# matplotlib 사용\n",
    "\n"
   ]
  },
  {
   "cell_type": "markdown",
   "metadata": {},
   "source": [
    "### [실습] 타이태닉(Titanic) 데이터셋(dataset)\n",
    "\n",
    "타이태닉 데이터셋은 [여기](https://github.com/pandas-dev/pandas/blob/main/doc/data/titanic.csv)에서 받으실 수 있습니다.\n",
    "\n",
    "1. 탑승자 중 [로테스 백작부인](https://en.wikipedia.org/wiki/No%C3%ABl_Leslie,_Countess_of_Rothes#:~:text=Lucy%20No%C3%ABl%20Martha%20Leslie%2C%20Countess,of%20the%20rescue%20ship%20Carpathia.)을 찾아서 그 당시 나이(\"Age\")를 확인해보세요. 이름에 \"Countess\"가 포함(contains)되어 있는지를 보면 됩니다.\n",
    "2. 생존자와 사망자의 수를 각각 확인해보세요.\n",
    "3. 생존자들의 나이로 히스토그램을 그려보세요."
   ]
  },
  {
   "cell_type": "code",
   "execution_count": null,
   "metadata": {},
   "outputs": [],
   "source": [
    "import pandas as pd\n"
   ]
  },
  {
   "cell_type": "code",
   "execution_count": null,
   "metadata": {},
   "outputs": [],
   "source": []
  },
  {
   "cell_type": "code",
   "execution_count": null,
   "metadata": {},
   "outputs": [],
   "source": []
  },
  {
   "cell_type": "markdown",
   "metadata": {},
   "source": [
    "### 데이터의 넓은 형식과 긴 형식\n",
    "\n",
    "[Wide and narrow data](https://en.wikipedia.org/wiki/Wide_and_narrow_data)\n",
    "\n",
    "멜트(melt): 넓은 형식 -> 긴 형식\n",
    "\n",
    "피벗(pivot): 긴 형식 -> 넓은 형식"
   ]
  },
  {
   "cell_type": "code",
   "execution_count": null,
   "metadata": {},
   "outputs": [],
   "source": [
    "import pandas as pd\n",
    "\n"
   ]
  },
  {
   "cell_type": "code",
   "execution_count": null,
   "metadata": {},
   "outputs": [],
   "source": []
  },
  {
   "cell_type": "code",
   "execution_count": null,
   "metadata": {},
   "outputs": [],
   "source": []
  },
  {
   "cell_type": "code",
   "execution_count": null,
   "metadata": {},
   "outputs": [],
   "source": []
  },
  {
   "cell_type": "code",
   "execution_count": null,
   "metadata": {},
   "outputs": [],
   "source": []
  },
  {
   "cell_type": "markdown",
   "metadata": {},
   "source": [
    "### [실습] 공기 오염 데이터셋\n",
    "\n",
    "[파리(Paris), 런던(London), 앤트워프(Antwerpen)의 대기중 이산화질소($NO_2$)의 농도 데이터](https://github.com/pandas-dev/pandas/blob/main/doc/data/air_quality_no2_long.csv)를 가시화해봅시다.\n"
   ]
  },
  {
   "cell_type": "code",
   "execution_count": null,
   "metadata": {},
   "outputs": [],
   "source": [
    "import pandas as pd\n",
    "\n"
   ]
  },
  {
   "cell_type": "code",
   "execution_count": null,
   "metadata": {},
   "outputs": [],
   "source": []
  },
  {
   "cell_type": "code",
   "execution_count": null,
   "metadata": {},
   "outputs": [],
   "source": []
  },
  {
   "cell_type": "code",
   "execution_count": null,
   "metadata": {},
   "outputs": [],
   "source": []
  }
 ],
 "metadata": {
  "interpreter": {
   "hash": "5c16c27ce297e09fdfa5bf27d0bdd6274dd180355d44d412e70d0a9b6c723271"
  },
  "kernelspec": {
   "display_name": "Python 3.8.12 ('py38')",
   "language": "python",
   "name": "python3"
  },
  "language_info": {
   "codemirror_mode": {
    "name": "ipython",
    "version": 3
   },
   "file_extension": ".py",
   "mimetype": "text/x-python",
   "name": "python",
   "nbconvert_exporter": "python",
   "pygments_lexer": "ipython3",
   "version": "3.10.0"
  },
  "orig_nbformat": 4
 },
 "nbformat": 4,
 "nbformat_minor": 2
}
