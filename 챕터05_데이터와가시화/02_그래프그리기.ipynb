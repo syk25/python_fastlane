{
 "cells": [
  {
   "cell_type": "markdown",
   "metadata": {},
   "source": [
    "___\n",
    "<a href='https://cafe.naver.com/jmhonglab'><p style=\"text-align:center;\"><img src='https://lh3.googleusercontent.com/lY3ySXooSmwsq5r-mRi7uiypbo0Vez6pmNoQxMFhl9fmZJkRHu5lO2vo7se_0YOzgmDyJif9fi4_z0o3ZFdwd8NVSWG6Ea80uWaf3pOHpR4GHGDV7kaFeuHR3yAjIJjDgfXMxsvw=w2400'  class=\"center\" width=\"50%\" height=\"50%\"/></p></a>\n",
    "___\n",
    "<center><em>Content Copyright by HongLab, Inc.</em></center>"
   ]
  },
  {
   "cell_type": "markdown",
   "metadata": {},
   "source": [
    "# 그래프 그리기\n",
    "\n",
    "### [Matplotlib의 기본적인 사용 방법](https://matplotlib.org/stable/tutorials/introductory/usage.html#sphx-glr-tutorials-introductory-usage-py)\n",
    "\n",
    "파이썬에서 그래프를 그릴때 가장 흔하게 사용되는 Matplotlib의 기본적인 사용 방법을 알아보겠습니다. 설치는 ```pip install matplotlib```로 간단히 할 수 있습니다."
   ]
  },
  {
   "cell_type": "markdown",
   "metadata": {},
   "source": [
    "MatplotLib을 사용할 때는 두 가지 스타일 중 하나를 선택할 수 있습니다. \n",
    "\n",
    "1. PyPlot 스타일: 모든 것을 다 plt를 통해서 합니다. 아주 간단한 그래프를 빠르게 그려볼 때 사용할 수 있습니다."
   ]
  },
  {
   "cell_type": "code",
   "execution_count": null,
   "metadata": {},
   "outputs": [],
   "source": [
    "import matplotlib.pyplot as plt\n",
    "\n",
    "x = [1, 2, 3, 4]\n",
    "y = [1, 4, 2, 3]\n",
    "\n",
    "plt.figure()\n",
    "plt.plot(x, y, label=\"data\")\n",
    "plt.xlabel(\"x label\")\n",
    "plt.ylabel(\"y label\")\n",
    "plt.title(\"Simple Plot\")\n",
    "plt.legend()\n",
    "plt.show()"
   ]
  },
  {
   "cell_type": "markdown",
   "metadata": {},
   "source": [
    "2. OO(Object-Oriented) 스타일: figure와 axes의 객체를 만들고 메써드를 호출해서 어떻게 그려질 지를 조절"
   ]
  },
  {
   "cell_type": "code",
   "execution_count": null,
   "metadata": {},
   "outputs": [],
   "source": [
    "import matplotlib.pyplot as plt\n",
    "\n",
    "x = [1, 2, 3, 4]\n",
    "y = [1, 4, 2, 3]\n",
    "\n",
    "fig, ax = plt.subplots()\n",
    "ax.plot(x, y, label=\"data\")\n",
    "ax.set_xlabel(\"x label\")\n",
    "ax.set_ylabel(\"y label\")\n",
    "ax.set_title(\"Simple Plot\")\n",
    "ax.legend()\n",
    "\n",
    "plt.show()  # 스크립트 모드에서는 필수"
   ]
  },
  {
   "cell_type": "markdown",
   "metadata": {},
   "source": [
    "대부분의 경우 자동으로 보기 좋은 설정을 만들어줍니다. 그러나 논문 같은 전문 출판물에 넣을 그래프를 그릴 때는 데이터의 특징에 맞도록 세세하게 조절을 해줘야겠지요. 공식 문서의 [Parts of a Figure](https://matplotlib.org/stable/tutorials/introductory/usage.html#parts-of-a-figure)는 그래프 안에서 어떤 것들을 조절할 수 있는지 보여줍니다. 예시) [Spines](https://matplotlib.org/stable/api/_as_gen/matplotlib.patches.Patch.html#matplotlib.patches.Patch.set_linestyle), [grid](https://matplotlib.org/stable/api/_as_gen/matplotlib.pyplot.grid.html), [ticks](https://predictablynoisy.com/matplotlib/gallery/ticks_and_spines/major_minor_demo.html), 등"
   ]
  },
  {
   "cell_type": "code",
   "execution_count": null,
   "metadata": {},
   "outputs": [],
   "source": [
    "import matplotlib.pyplot as plt\n",
    "\n",
    "x = [1, 2, 3, 4]\n",
    "y1 = [1, 3.8, 2, 2.5]\n",
    "y2 = [1, 2, 3, 4]\n",
    "\n",
    "fig, ax = plt.subplots()\n",
    "\n",
    "ax.plot(x, y1, label=\"data1\")\n",
    "ax.plot(x, y2, label=\"data2\")\n",
    "\n",
    "ax.set_xlabel(\"x label\")\n",
    "ax.set_ylabel(\"y label\")\n",
    "\n",
    "ax.set_title(\"Simple Plot\")\n",
    "\n",
    "ax.legend()\n",
    "\n",
    "ax.grid(color=\"red\", alpha=0.2)  # ax.grid()\n",
    "\n",
    "ax.spines[\"right\"].set_color(\"blue\")\n",
    "ax.spines[\"right\"].set_linestyle(\"-.\")\n",
    "\n",
    "# Major/minor ticks\n",
    "from matplotlib.ticker import MultipleLocator, FormatStrFormatter\n",
    "\n",
    "ax.xaxis.set_major_locator(MultipleLocator(0.5))\n",
    "ax.xaxis.set_major_formatter(FormatStrFormatter(\"%1.1f\"))\n",
    "ax.xaxis.set_minor_locator(MultipleLocator(0.1))\n",
    "\n",
    "plt.show()  # 스크립트 모드에서는 필수"
   ]
  },
  {
   "cell_type": "markdown",
   "metadata": {},
   "source": [
    "한 Figure 안에 여러개의 그래프(subplot)을 그릴 수 있습니다."
   ]
  },
  {
   "cell_type": "code",
   "execution_count": null,
   "metadata": {},
   "outputs": [],
   "source": [
    "import matplotlib.pyplot as plt\n",
    "\n",
    "data = {\"apple\": 10, \"orange\": 15, \"lemon\": 5, \"lime\": 20}\n",
    "names = list(data.keys())\n",
    "values = list(data.values())\n",
    "\n",
    "fig, axs = plt.subplots(nrows=2, ncols=3, figsize=(9, 5), sharey=True)\n",
    "\n",
    "axs[0, 0].bar(names, values, color=['black', 'red', 'green', 'blue', 'cyan'])\n",
    "axs[0, 1].scatter(names, values)\n",
    "axs[0, 2].plot(names, values)\n",
    "fig.suptitle(\"Categorical Plotting\")\n",
    "\n",
    "plt.show()"
   ]
  },
  {
   "cell_type": "markdown",
   "metadata": {},
   "source": [
    "Subplot들을 더 자유롭게 배치할 수도 있습니다."
   ]
  },
  {
   "cell_type": "code",
   "execution_count": null,
   "metadata": {},
   "outputs": [],
   "source": [
    "import matplotlib.pyplot as plt\n",
    "\n",
    "fig, axd = plt.subplot_mosaic(\n",
    "    [[\"upleft\", \"right\"], [\"lowleft\", \"right\"]], \n",
    "    layout=\"constrained\",\n",
    "    #constrained_layout=True # 3.4 이하\n",
    ")\n",
    "\n",
    "axd[\"upleft\"].set_title(\"upleft\")\n",
    "axd[\"lowleft\"].set_title(\"lowleft\")\n",
    "axd[\"right\"].set_title(\"right\")\n",
    "\n",
    "# axd[\"upleft\"].scatter(names, values)\n",
    "# axd[\"lowleft\"].plot(names, values)\n",
    "# axd[\"right\"].bar(names, values)\n",
    "\n",
    "plt.show()"
   ]
  },
  {
   "cell_type": "markdown",
   "metadata": {},
   "source": [
    "[파이 차트](https://matplotlib.org/stable/gallery/pie_and_polar_charts/pie_features.html#sphx-glr-gallery-pie-and-polar-charts-pie-features-py)도 간단히 그릴 수 있습니다."
   ]
  },
  {
   "cell_type": "code",
   "execution_count": null,
   "metadata": {},
   "outputs": [],
   "source": [
    "import matplotlib.pyplot as plt\n",
    "\n",
    "# Pie chart, where the slices will be ordered and plotted counter-clockwise:\n",
    "labels = [\"Oranges\", \"Bananas\", \"Apples\"]\n",
    "sizes = [25, 30, 45]\n",
    "explode = (0, 0.1, 0) \n",
    "\n",
    "fig, ax = plt.subplots()\n",
    "ax.pie(\n",
    "    sizes, explode=explode, labels=labels, autopct=\"%1.1f%%\", shadow=True, startangle=90\n",
    ")\n",
    "ax.axis(\"equal\")  # Equal aspect ratio ensures that pie is drawn as a circle.\n",
    "\n",
    "plt.show()"
   ]
  },
  {
   "cell_type": "markdown",
   "metadata": {},
   "source": [
    "그 외의 다양한 그래프들은 [갤러리](https://matplotlib.org/stable/gallery/index.html)를 참고하세요."
   ]
  },
  {
   "cell_type": "markdown",
   "metadata": {},
   "source": [
    "##### [실습] CSV 파일에서 읽어온 데이터 그려보기\n",
    "\n",
    "[비트코인 가격 데이터](https://finance.yahoo.com/quote/BTC-USD/history?period1=1410825600&period2=1645142400&interval=1mo&filter=history&frequency=1mo&includeAdjustedClose=true)를 빈도(Frequency)는 월별(Monthly), 기간(Time Period)은 최대(Max)로 적용(Apply) 후 다운로드(Download) 합니다.\n",
    "- 첫 줄은 그래프 그릴 때 사용하지 않습니다.\n",
    "- 날짜(Date)에서 2014-01와 같이 일(day)를 삭제해서 길이를 줄였습니다.\n",
    "- 수치 데이터는 읽어들인 후 자료형을 바꿔줘야 그릴 수 있습니다.\n",
    "- ```MultipleLocator(20)```를 사용했습니다."
   ]
  },
  {
   "cell_type": "code",
   "execution_count": null,
   "metadata": {},
   "outputs": [],
   "source": [
    "import matplotlib.pyplot as plt\n",
    "from matplotlib.ticker import MultipleLocator, FormatStrFormatter\n"
   ]
  },
  {
   "cell_type": "markdown",
   "metadata": {},
   "source": [
    "##### [실습] 몬테 카를로 시뮬레이션으로 원주율 구하기\n",
    "\n",
    "난수를 이용해서 원주율의 근사값을 계산해봅시다.\n",
    "\n",
    "**스텝1** ```random.uniform()```을 이용해서 그림과 같은 범위의 상자를 채우는 2차원 산포도(scatter plot)를 그려봅시다. 이때 중심이 원점에 있고 반지름이 1.0인 원 안에 들어가는 점들은 빨간색으로 그렇지 않은 점들은 파란색으로 그려봅시다. 어떤 점의 좌표가 $(x, y)$라고 할 때 $x^2 + y^2 <= 1.0$을 만족하면 원 안에 들어간 것입니다. 점의 개수는 변수 ```num_points```를 이용하여 바꿀 수 있게 합시다.\n",
    "\n",
    "**스텝2** 4.0 x (원 안에 들어간 점들의 개수)/```num_points```가 원주율의 근사치입니다.\n",
    "\n",
    "num_points를 키울 수록 실제 원주율 3.141592에 가까워집니다.\n",
    "\n",
    "**힌트** 예를 들어서 (1, 3), (5, 2) 같은 두 개의 점을 ```ax.scatter()```로 그릴 때는 ```ax.scatter([1, 5], [3, 2])``` 와 같이 x좌표는 x좌표끼리 모으고 y좌표는 y좌표끼리 모아야 점을 찍으실 수 있습니다."
   ]
  },
  {
   "cell_type": "code",
   "execution_count": null,
   "metadata": {},
   "outputs": [],
   "source": [
    "import random\n",
    "import matplotlib.pyplot as plt\n",
    "\n",
    "random.seed(0) # 결과 비교를 위해 시드 고정\n",
    "\n",
    "num_points = 100000\n",
    "\n",
    "# 3.12884\n",
    "\n",
    "fig, ax = plt.subplots(figsize=(8, 8))\n",
    "ax.set_aspect(\"equal\")\n",
    "\n",
    "ax.set_xlabel(\"x\")\n",
    "ax.set_ylabel(\"y\")\n",
    "ax.set_title(\"Monte Carlo Pi\")\n",
    "\n",
    "plt.show()"
   ]
  },
  {
   "cell_type": "markdown",
   "metadata": {},
   "source": [
    "### [Seaborn](https://seaborn.pydata.org/) 소개\n",
    "\n",
    "Seaborn은 Matplotlib을 적은 코드로 더 보기 좋게 사용할 수 있도록 도와줍니다. \n",
    "\n",
    "```pip install seaborn```"
   ]
  },
  {
   "cell_type": "code",
   "execution_count": null,
   "metadata": {},
   "outputs": [],
   "source": [
    "import seaborn as sns\n",
    "\n",
    "sns.set_theme(style=\"ticks\")\n",
    "\n",
    "df = sns.load_dataset(\"penguins\")\n",
    "sns.pairplot(df, hue=\"species\")"
   ]
  },
  {
   "cell_type": "markdown",
   "metadata": {},
   "source": [
    "##### [Bokeh](https://bokeh.org/) 소개\n",
    "\n",
    "그래프와 상호작용을 할 수 있습니다. 웹브라우저가 기본이며 [주피터 노트북용 예제](https://docs.bokeh.org/en/2.4.0/docs/gallery.html#notebook-examples)는 여기를 참고하세요.\n"
   ]
  },
  {
   "cell_type": "markdown",
   "metadata": {},
   "source": [
    "##### [Folium](https://python-visualization.github.io/folium/) 소개\n",
    "\n",
    "지도 위에 정보를 표시할 때 사용합니다. 위도와 경도는 구글맵에서 찾을 수 있습니다.\n",
    "\n",
    "```pip install folium```"
   ]
  },
  {
   "cell_type": "code",
   "execution_count": null,
   "metadata": {},
   "outputs": [],
   "source": [
    "import folium\n",
    "\n",
    "f = folium.Figure(width=500, height=500)\n",
    "m = folium.Map(location=[37.5453957, 126.9650642], zoom_start=8).add_to(f)\n",
    "folium.Circle(\n",
    "    radius = 10000,\n",
    "    location = [37.5453957, 126.9650642],\n",
    "    popup=\"Hello\",\n",
    "    color=\"crimson\",\n",
    "    fill=True\n",
    ").add_to(m)\n",
    "f"
   ]
  }
 ],
 "metadata": {
  "interpreter": {
   "hash": "d187a48a8a4b28f37103ceb7e85bceb2b63d70db7314890fe18e7e16ec425e3f"
  },
  "kernelspec": {
   "display_name": "Python 3.9.7 64-bit ('base': conda)",
   "language": "python",
   "name": "python3"
  },
  "language_info": {
   "codemirror_mode": {
    "name": "ipython",
    "version": 3
   },
   "file_extension": ".py",
   "mimetype": "text/x-python",
   "name": "python",
   "nbconvert_exporter": "python",
   "pygments_lexer": "ipython3",
   "version": "3.10.0"
  },
  "orig_nbformat": 4
 },
 "nbformat": 4,
 "nbformat_minor": 2
}
