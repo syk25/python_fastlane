{
 "cells": [
  {
   "attachments": {},
   "cell_type": "markdown",
   "metadata": {},
   "source": [
    "___\n",
    "<a href='https://cafe.naver.com/jmhonglab'><p style=\"text-align:center;\"><img src='https://lh3.googleusercontent.com/lY3ySXooSmwsq5r-mRi7uiypbo0Vez6pmNoQxMFhl9fmZJkRHu5lO2vo7se_0YOzgmDyJif9fi4_z0o3ZFdwd8NVSWG6Ea80uWaf3pOHpR4GHGDV7kaFeuHR3yAjIJjDgfXMxsvw=w2400'  class=\"center\" width=\"50%\" height=\"50%\"/></p></a>\n",
    "___\n",
    "<center><em>Content Copyright by HongLab, Inc.</em></center>"
   ]
  },
  {
   "attachments": {},
   "cell_type": "markdown",
   "metadata": {},
   "source": [
    "# [파일(File) 입출력](https://docs.python.org/3/tutorial/inputoutput.html#reading-and-writing-files)\n",
    "\n",
    "CPU에게 필요한 데이터를 제공하고 계산 결과를 보관해주는 것은 기본적으로 주기억장치(memory)입니다.\n",
    "주기억장치는 속도를 높이기 위해서 용량을 줄이고 전기가 공급될 때만 데이터를 저장할 수 있는 구조를 사용합니다.\n",
    "메모리를 보완하기 위해서 큰 데이터를 저장하고 전원을 꺼도 데이터를 계속 보관할 수 있는 보조기억장치를 함께 사용합니다.\n",
    "우리가 흔히 하드디스크라고 부르는 [HDD](https://en.wikipedia.org/wiki/Hard_disk_drive)가 가장 보편적인 보조기억장치로 사용되고 있고 최근에는 속도가 더 빠른 [SSD](https://en.wikipedia.org/wiki/Solid-state_drive)를 함께 사용하는 경우가 많습니다.\n",
    "\n",
    "보조기억장치는 운영체제가 관리합니다. 파일(file)은 보조기억장치에 데이터를 저장하는 기본 단위입니다. 운영체제마다 파일을 다루는 방식에 차이가 있지만 파이썬은 우리가 세세한 부분까지 신경쓸 필요가 없도록 도와줍니다. 여기서는 파이썬에서 파일에 데이터를 저장하고 파일로부터 데이터를 읽어오는 기본적인 방법을 알아보겠습니다.\n",
    "\n",
    "[참고] 메모리가 데이터를 다루는 속도에 비해서 HDD나 SSD의 속도는 매우 느립니다. 기본 예제정도에서는 차이를 느낄 수 없겠지만 빅데이터를 다루거나 딥러닝을 할 때는 속도 차이가 크게 다가옵니다."
   ]
  },
  {
   "attachments": {},
   "cell_type": "markdown",
   "metadata": {},
   "source": [
    "### 텍스트 파일 입출력\n",
    "\n",
    "모든 파일은 내부적으로 데이터를 이진수가 나열되어 있는 형태로 저장합니다. 여기서 얘기하는 '텍스트' 파일은 우리가 직접 읽고 이해할 수 있도록 운영체제가 도와주는 형식을 의미합니다. 예를 들어서 윈도우에서는 메모장(notepad)을 이용해서 텍스트 파일을 사용할 수 있습니다. 텍스트 파일은 관습적으로 파일 이름에서 ```.txt``` 확장자를 사용합니다. 확장자를 보고 파일이 어떤 데이터를 담고 있는지 구분하는 것은 운영체제의 기능입니다. 파이썬이 파일의 종류를 알아서 구분해주지는 않기 때문에 파일을 열 때 텍스트 파일인지 이진 파일인지를 지정해줘야 합니다. \n",
    "\n",
    "파일을 사용하는 절차는 다음과 같습니다.\n",
    "\n",
    "1. 파일 열기(open): 운영체제에게 파일을 사용할 권한을 요청합니다.\n",
    "1. 데이터를 파일에 쓰거나(write) 파일로부터 읽어오기(read)\n",
    "1. 파일 닫기(close): 운영체제에게 파일 사용이 끝났음을 알립니다.\n",
    "\n",
    "\n",
    "[내장 ```Open()``` 함수](https://docs.python.org/3/library/functions.html#open)를 이용해서 운영체제에게 파일을 사용할 수 있도록 열어줄 것을 요청합니다. 운영체제는 사용중인 파일이 삭제되지 않도록 보호해줍니다. \n",
    "\n",
    "```\n",
    "myfile = open(\"myfile.txt\", \"rt\")\n",
    "```\n",
    "여기서 ```\"myfile.txt\"```는 파일 이름이고 ```\"rt\"```는 읽기(read) 전용 텍스트(text) 모드(mode)를 의미합니다. 모드는 읽기(```r```)/쓰기(```w```), 텍스트(```t```)/이진(```b```) 등 다양한 방식으로 설정을 해줄 수 있습니다.\n",
    "\n",
    "파일 사용이 끝난 후에는 ```close()``` 메써드를 이용해서 운영체제에게 권한을 반납할 수 있습니다.\n",
    "\n",
    "[주의] 한글 사용은 '인코딩'에서 다루도록하겠습니다.\n"
   ]
  },
  {
   "cell_type": "code",
   "execution_count": null,
   "metadata": {},
   "outputs": [],
   "source": [
    "myfile = open(\"myfile.txt\", \"wt\")\n",
    "\n",
    "myfile.write(\"Hello!\")\n",
    "\n",
    "myfile.close()"
   ]
  },
  {
   "cell_type": "code",
   "execution_count": null,
   "metadata": {},
   "outputs": [],
   "source": [
    "# 파일 이름을 사용해서 파일을 엽니다.\n",
    "# 파이썬에게 확장자는 파일 이름의 일부일 뿐\n",
    "# 의미를 부여하지 않습니다.\n",
    "# 'rt'은 reading text, 생략 가능\n",
    "myfile = open(\"myfile.txt\", \"rt\")\n",
    "\n",
    "# 파일의 내용을 모두 읽습니다.\n",
    "text = myfile.read()\n",
    "\n",
    "myfile.close()\n",
    "\n",
    "# 텍스트 모드로 파일을 열였다면 str\n",
    "print(type(text))\n",
    "print(text)"
   ]
  },
  {
   "attachments": {},
   "cell_type": "markdown",
   "metadata": {},
   "source": [
    "지정된 이름을 가진 파일이 없다면 오류가 발생합니다.\n"
   ]
  },
  {
   "cell_type": "code",
   "execution_count": null,
   "metadata": {},
   "outputs": [],
   "source": [
    "myfile = open(\"no_file\")\n",
    "\n",
    "# \"rt\"는 생략 가능\n",
    "# myfile = open(\"no_file\", \"rt\")"
   ]
  },
  {
   "attachments": {},
   "cell_type": "markdown",
   "metadata": {},
   "source": [
    "오류 발생으로 프로그램이 강제종료되는 것을 원치 않는다면 예외처리로 대응할 수 있습니다. 참고로 파이썬의 [내장 예외 목록](https://docs.python.org/3/library/exceptions.html)에서 ```FileNotFoundError```에 대한 설명을 볼 수 있습니다.  "
   ]
  },
  {
   "cell_type": "code",
   "execution_count": null,
   "metadata": {},
   "outputs": [],
   "source": [
    "try:\n",
    "    myfile = open(\"no_file\")\n",
    "except FileNotFoundError as e:\n",
    "    print(\"예외가 발생하였습니다.\", e)"
   ]
  },
  {
   "attachments": {},
   "cell_type": "markdown",
   "metadata": {},
   "source": [
    "운영체제에게 이런 이름의 파일이 이미 존재하는 지를 미리 물어볼 수도 있습니다. 없는 파일을 읽기 모드로 열려고 시도하는 것도 방지할 수 있지만 이미 있는 파일에 덮어쓰는 것도 방지할 수 있습니다."
   ]
  },
  {
   "cell_type": "code",
   "execution_count": null,
   "metadata": {},
   "outputs": [],
   "source": [
    "import os\n",
    "\n",
    "os.path.isfile(\"no_file\")\n",
    "\n",
    "# if를 이용해서 파일 존재 유무에 따라 흐름 제어"
   ]
  },
  {
   "attachments": {},
   "cell_type": "markdown",
   "metadata": {},
   "source": [
    "실제로 사용될 소프트웨어를 개발할 때는 파일과 관련하여 발생할 수 있는 모든 오류를 대비 하는 것이 좋겠지만 여기서는 기본적인 파일 사용에 집중하기 위해 정상적인 파일 사용을 가정하고 오류나 예외 처리는 생략하겠습니다."
   ]
  },
  {
   "attachments": {},
   "cell_type": "markdown",
   "metadata": {},
   "source": [
    "파이썬이 파일을 찾을 때는 현재 작업중인 디렉토리(current working directory)에서 찾기 시작합니다.  CWD는 ```getcwd()```로 확인할 수 있습니다."
   ]
  },
  {
   "cell_type": "code",
   "execution_count": null,
   "metadata": {},
   "outputs": [],
   "source": [
    "import os\n",
    "\n",
    "print(os.getcwd())\n",
    "\n",
    "# 출력 예시\n",
    "# 윈도우: 'c:\\\\Users\\\\jmhong\\\\HongLabPythonPrivate\\\\Ch05_데이터와 가시화'\n",
    "# 맥OS나 리눅스: '/Users/jmhong/HongLabPythonPrivate/Ch05_데이터와 가시화'\n",
    "\n",
    "myfile = open(\"myfile.txt\", \"rt\")\n",
    "\n",
    "# 아래와 같이 경로를 모두 적어준 것과 동일\n",
    "# 경로 사이에 \\\\ 추가\n",
    "# myfile = open(\"c:\\\\Users\\\\jmhong\\\\HongLabPythonPrivate\\\\Ch05_데이터와 가시화\\\\myfile.txt\", \"rt\")"
   ]
  },
  {
   "attachments": {},
   "cell_type": "markdown",
   "metadata": {},
   "source": [
    "참고로 경로를 합칠 때 문자열 더하기 보다는 ```join()``` 사용을 권장합니다. 운영체제에 따라서 \"\\\\\\\\\" 또는 \"/\"를 적절히 삽입해줍니다."
   ]
  },
  {
   "cell_type": "code",
   "execution_count": null,
   "metadata": {},
   "outputs": [],
   "source": [
    "os.path.join(os.getcwd(), \"myfile.txt\")\n",
    "\n",
    "# 출력 예시\n",
    "# 윈도우: 'c:\\\\Users\\\\jmhong\\\\HongLabPythonPrivate\\\\Ch05_데이터와 가시화\\\\myfile.txt'\n",
    "# 맥OS나 리눅스: '/Users/jmhong/HongLabPythonPrivate/Ch05_데이터와 가시화/myfile.txt'"
   ]
  },
  {
   "attachments": {},
   "cell_type": "markdown",
   "metadata": {},
   "source": [
    "```with-as```를 이용해서 ```close()```를 생략할 수 있습니다. 대부분의 경우 ```with-as```를 사용하는 것이 편리합니다."
   ]
  },
  {
   "cell_type": "code",
   "execution_count": null,
   "metadata": {},
   "outputs": [],
   "source": [
    "with open(\"myfile.txt\") as f:\n",
    "    read_data = f.read()\n",
    "\n",
    "    print(\"File closed?\", f.closed)  # 파일이 닫힌 상태인지 확인\n",
    "\n",
    "    print(read_data)\n",
    "\n",
    "# with 블럭 밖으로 나오면 내부적으로 f.close()가 실행됩니다.\n",
    "\n",
    "print(\"File closed?\", f.closed)  # 파일이 닫힌 상태인지 확인"
   ]
  },
  {
   "attachments": {},
   "cell_type": "markdown",
   "metadata": {},
   "source": [
    "텍스트 파일에서는 글자를 숫자로 바꿔서 저장합니다. 이때 어떤 글자를 어떤 숫자에 대응시킬지에 대해서 표가 존재하고 어떤 표를 사용하느냐에 따라서 글자를 숫자로 **인코딩(encoding)** 하는 방식이 달라집니다. 텍스트 파일을 열 때 인코딩/디코딩 방식을 지정해줄 수 있습니다. 텍스트 파일의 내용을 읽을 때는 그 파일이 만들어질 때의 인코딩 방식과 같은 방식으로 디코딩을 해줘야 정상적으로 읽을 수 있습니다. 국제적으로 사용되는 소프트웨어를 개발할 때는 신경을 많이 써줘야 하는 부분입니다."
   ]
  },
  {
   "cell_type": "code",
   "execution_count": null,
   "metadata": {},
   "outputs": [],
   "source": [
    "import locale\n",
    "\n",
    "locale.getpreferredencoding(False)"
   ]
  },
  {
   "cell_type": "code",
   "execution_count": null,
   "metadata": {},
   "outputs": [],
   "source": [
    "with open(\"내파일.txt\", \"r\", encoding=\"utf-8\") as f:\n",
    "    s = f.read()\n",
    "\n",
    "print(s)"
   ]
  },
  {
   "attachments": {},
   "cell_type": "markdown",
   "metadata": {},
   "source": [
    "파일을 글자 단위로 읽어올 수도 있습니다."
   ]
  },
  {
   "cell_type": "code",
   "execution_count": null,
   "metadata": {},
   "outputs": [],
   "source": [
    "# 글자 단위로 읽기\n",
    "with open(\"내파일.txt\", \"r\") as f:\n",
    "\n",
    "    s = f.read(2)\n",
    "    print(s)\n",
    "\n",
    "    s = f.read(5)\n",
    "    print(s)"
   ]
  },
  {
   "attachments": {},
   "cell_type": "markdown",
   "metadata": {},
   "source": [
    "파일을 줄 단위로 읽어올 수도 있습니다. 줄 끝에 줄바꿈 기호를 같이 읽어온다는 점을 주의하세요. "
   ]
  },
  {
   "cell_type": "code",
   "execution_count": null,
   "metadata": {},
   "outputs": [],
   "source": [
    "# readline()은 한 줄 씩 읽기\n",
    "with open(\"내파일.txt\", \"r\") as f:\n",
    "    while line := f.readline().rstrip():\n",
    "        print(line, end=\"\")"
   ]
  },
  {
   "attachments": {},
   "cell_type": "markdown",
   "metadata": {},
   "source": [
    "여러 줄을 문자열의 리스트로 읽어올 수도 있습니다."
   ]
  },
  {
   "cell_type": "code",
   "execution_count": null,
   "metadata": {},
   "outputs": [],
   "source": [
    "# readlines()는 여러 줄을 리스트로\n",
    "with open(\"내파일.txt\", \"r\") as f:\n",
    "    lines = f.readlines()\n",
    "\n",
    "print(type(lines))\n",
    "print(lines)"
   ]
  },
  {
   "attachments": {},
   "cell_type": "markdown",
   "metadata": {},
   "source": [
    "### [실습] 이상한 나라의 엘리스\n",
    "\n",
    "[구텐베르크 프로젝트](https://www.gutenberg.org/browse/scores/top)에서 이상한 나라의 엘리스(Alice's Adventures in Wonderland by Lewis Carroll)를 다운받을 수 있습니다.\n",
    "\n",
    "**스텝1** \"Alice\"가 몇 번 나오는지 세어봅시다. 대소문자는 구분하지 않습니다."
   ]
  },
  {
   "cell_type": "code",
   "execution_count": null,
   "metadata": {},
   "outputs": [],
   "source": []
  },
  {
   "cell_type": "code",
   "execution_count": null,
   "metadata": {},
   "outputs": [],
   "source": [
    "# 정규식(regex)을 이용한 더 간단한 방법\n",
    "import re\n",
    "\n"
   ]
  },
  {
   "attachments": {},
   "cell_type": "markdown",
   "metadata": {},
   "source": [
    "**스텝2** 어떤 알파벳이 가장 많이 사용되었는지 세어봅시다. 대소문자를 구분하지 않습니다."
   ]
  },
  {
   "cell_type": "code",
   "execution_count": null,
   "metadata": {},
   "outputs": [],
   "source": []
  },
  {
   "cell_type": "code",
   "execution_count": null,
   "metadata": {},
   "outputs": [],
   "source": [
    "from collections import Counter\n"
   ]
  },
  {
   "cell_type": "code",
   "execution_count": null,
   "metadata": {},
   "outputs": [],
   "source": [
    "from collections import Counter\n"
   ]
  },
  {
   "attachments": {},
   "cell_type": "markdown",
   "metadata": {},
   "source": [
    "### [JSON](https://docs.python.org/3/tutorial/inputoutput.html#saving-structured-data-with-json) 형식\n",
    "\n",
    "[JSON(JavaScript Object Notation)](https://docs.python.org/3/library/json.html#module-json) 형식은 인터넷으로 데이터 주고 받을때 많이 사용합니다. 데이터를 보관할 때도 많이 사용합니다. 파이썬의 기본자료형과 잘 대응되기 때문에 파이썬에서도 편하게 사용할 수 있습니다."
   ]
  },
  {
   "attachments": {},
   "cell_type": "markdown",
   "metadata": {},
   "source": [
    "먼저 리스트를 문자열로 바꿔서 저장을 하면 다시 읽어들였을 때 원래 형태로 복원하기가 어렵습니다."
   ]
  },
  {
   "cell_type": "code",
   "execution_count": null,
   "metadata": {},
   "outputs": [],
   "source": [
    "value = [\"the answer\", 42]\n",
    "\n",
    "with open(\"my_list.txt\", \"wt\") as f:\n",
    "    s = str(value)\n",
    "    f.write(s)\n",
    "\n",
    "with open(\"my_list.txt\", \"rt\") as f:\n",
    "    read_data = f.read()\n",
    "\n",
    "value = list(read_data)\n",
    "\n",
    "print(value)"
   ]
  },
  {
   "attachments": {},
   "cell_type": "markdown",
   "metadata": {},
   "source": [
    "JSON을 활용하면 저장과 복원 모두 편리합니다."
   ]
  },
  {
   "cell_type": "code",
   "execution_count": null,
   "metadata": {},
   "outputs": [],
   "source": [
    "import json\n",
    "\n",
    "value = [\"the answer\", 42.1, {\"a\": 1}]\n",
    "\n",
    "# dumps를 이용해서 문자열로 표현\n",
    "print(json.dumps(value, indent=2))\n",
    "\n",
    "with open(\"my_data.json\", \"wt\") as f:\n",
    "    # dump()를 이용해서 파일에 저장\n",
    "    json.dump(value, f, indent=2)\n",
    "\n",
    "with open(\"my_data.json\", \"rt\") as f:\n",
    "    # load()로 읽어오기\n",
    "    value = json.load(f)\n",
    "\n",
    "print(type(value))\n",
    "print(type(value[0]), type(value[1]), type(value[2]))\n",
    "print(value)"
   ]
  },
  {
   "attachments": {},
   "cell_type": "markdown",
   "metadata": {},
   "source": [
    "### 이진(Binary) 파일"
   ]
  },
  {
   "attachments": {},
   "cell_type": "markdown",
   "metadata": {},
   "source": [
    "컴퓨터 내부에서 데이터는 이진수가 나열되어 있는 형태입니다. 이것을 그대로 파일에 저장할 수 있습니다. \n",
    "텍스트 파일과 달리 사람이 직접 읽고 이해하는 용도로 사용되지는 않습니다. 파일을 이진 모드로 열 때는 binary의 'b'를 사용합니다.\n",
    "\n",
    "[참고] 이진수 하나는 0 또는 1의 값을 가질 수 있습니다. 이진수 1개로 표현할 수 있는 정보의 양을 1 bit라고 부르고 8 bit를 1 byte라고 묶어서 부릅니다. "
   ]
  },
  {
   "cell_type": "code",
   "execution_count": null,
   "metadata": {},
   "outputs": [],
   "source": [
    "# 이진수가 바이트 단위로 나열되어 있는 형태(bytes)로 변환\n",
    "my_data = \"Hello, World!\".encode()\n",
    "# my_data = b\"Hello, World!\"\n",
    "\n",
    "print(type(my_data))\n",
    "\n",
    "with open(\"my_data.bin\", \"wb\") as f:\n",
    "    f.write(my_data)\n",
    "\n",
    "with open(\"my_data.bin\", \"rb\") as f:\n",
    "    read_data = f.read()\n",
    "\n",
    "print(type(read_data))\n",
    "print(read_data)\n",
    "\n",
    "# bytes를 문자열로 변환\n",
    "read_data.decode()"
   ]
  },
  {
   "attachments": {},
   "cell_type": "markdown",
   "metadata": {},
   "source": [
    "### [피클(Pickle)](https://docs.python.org/3/library/pickle.html#module-pickle)과 직렬화(Serialization)\n",
    "\n",
    "객체를 파일에 저장하거나 네트워크로 전송하기 편리한 형태로 바꿔주는 과정을 직렬화(serialization)라고 부릅니다. 컴퓨터의 메모리 자체는 1차원적으로 나열되어 있는 구조(serial)이지만 객체를 이루고 있는 데이터는 여기저기 흩어져 있습니다. 예를 들면 value라는 컨테이너에 담겨 있는 'the answer'라는 문자열 객체와 42.1이라는 실수 객체는 메모리 안에 나란히 저장되어 있지 않습니다. (왜 이런 구조를 사용하는지를 공부하는 과목이 자료구조입니다.) 메모리에 여기저기 흩어져 있는 데이터들을 모아서 나란히 나열된 형태로 정리하기 때문에 직렬화(serialization)라고 부릅니다. 그 반대 과정은 역직렬화(deserialization)라고 부릅니다. 마치 객체를 메모리에 있는 그대로 저장했다가 다시 그대로 복원해주는 것 처럼 편하게 사용할 수 있습니다. 객체나 데이터를 네트워크로 전송할 때도 많이 사용합니다. 파이썬에서는 피클(pickle)을 이용해서 쉽게 직렬화와 역직렬화를 할 수 있고 각각 피클링(pickling)과 언피클링(unpickling)이라고 부릅니다. 객체를 간편하게 저장하거나 저장된 피클 파일을 읽어들여서 다시 객체를 복원할 수 있습니다. 파일을 열 때 이진 파일로 열어줘야 합니다."
   ]
  },
  {
   "cell_type": "code",
   "execution_count": null,
   "metadata": {},
   "outputs": [],
   "source": [
    "value = (\"the answer\", 42.1, [{\"a\": 1}])\n",
    "\n",
    "import pickle\n",
    "\n",
    "with open(\"my_data.pkl\", \"wb\") as f:\n",
    "    pickle.dump(value, f)\n",
    "\n",
    "with open(\"my_data.pkl\", \"rb\") as f:\n",
    "    value = pickle.load(f)\n",
    "\n",
    "print(value)\n",
    "print(type(value[0]), type(value[1]), type(value[2][0]))"
   ]
  },
  {
   "attachments": {},
   "cell_type": "markdown",
   "metadata": {},
   "source": [
    "### 다양한 입출력 모드\n",
    "\n",
    "```open()``` 함수로 파일을 열 때는 다양한 모드(mode)를 설정할 수 있습니다. [모드 설정에 사용되는 문자 목록은 여기서](https://docs.python.org/3/library/functions.html#open) 볼 수 있습니다. 이 문자들을 조합해서 사용할 수 있습니다. 조합이 다양한데 외울 필요는 없고 파일을 열 때 이런 것들이 가능하다 정도만 봐둡시다.\n",
    "\n",
    "- 'rt'는 텍스트 파일을 읽기 전용으로 열어줍니다. 지정된 이름을 가진 파일이 없다면 읽을 것이 없기 때문에 오류가 발생합니다. 't'는 생략할 수 있기 때문에 'rt'는 'r'과 동일합니다. 모드를 생략하면 'r'이 기본값입니다.\n",
    "- 'wt'는 텍스트 파일을 쓰기 전용으로 열어줍니다. 파일이 없다면 새로 만들어주고 있다면 그 파일의 내용을 모두 지워줍니다.\n",
    "- 'rb'와 'wb'는 이진 파일이라는 점 외에는 'rt'와 'wt'와 동일합니다.\n",
    "- w 대신에 a를 사용하면 파일의 내용을 지우지 않고 덧붙입니다(append)."
   ]
  },
  {
   "cell_type": "code",
   "execution_count": null,
   "metadata": {},
   "outputs": [],
   "source": [
    "with open(\"내파일.txt\", \"a\") as f:\n",
    "    f.write(\"덧붙여보겠습니다.\\n\")"
   ]
  },
  {
   "attachments": {},
   "cell_type": "markdown",
   "metadata": {},
   "source": [
    "- 'xt'나 'xb'는 지정된 이름의 파일이 이미 존재하면 오류가 발생합니다. 당연히 쓰기 전용이겠지요.\n"
   ]
  },
  {
   "cell_type": "code",
   "execution_count": null,
   "metadata": {},
   "outputs": [],
   "source": [
    "with open(\"내파일.txt\", \"x\") as f:\n",
    "    f.write(\"새로운 파일만 열 수 있습니다.\")"
   ]
  },
  {
   "attachments": {},
   "cell_type": "markdown",
   "metadata": {},
   "source": [
    "- '+'를 사용하면 읽기와 쓰기를 둘 다 할 수 있습니다. 'w+'나 'w+b'는 파일을 열면서 내용을 지우고 'r+'나 'r+b'는 지우지 않습니다."
   ]
  },
  {
   "cell_type": "code",
   "execution_count": null,
   "metadata": {},
   "outputs": [],
   "source": [
    "with open(\"내파일.txt\", \"r+\") as f:\n",
    "    read_data = f.read()\n",
    "    print(read_data)\n",
    "\n",
    "    f.write(\"내용 추가\\n\")\n",
    "\n"
   ]
  },
  {
   "attachments": {},
   "cell_type": "markdown",
   "metadata": {},
   "source": [
    "### 임의 접근\n",
    "\n",
    "파일로부터 내용물을 읽어오거나 우리가 원하는 내용을 파일에 쓸 때 처음부터 순차적으로 할 수도 있고 파일의 중간 임의의 위치에서 할 수도 있습니다.\n",
    "\n",
    "```tell()``` 메써드는 다음에 할 작업이 어디서부터 진행될지를 알려줍니다. 우리가 문서 편집할 때 커서가 깜빡거리는 위치를 생각하시면 됩니다.\n",
    "\n",
    "```seek()``` 메써드를 이용해서 우리가 원하는 위치로 이동할 수 있습니다.\n",
    "\n",
    "```\n",
    "f.seek(offset, whence) # whence: 0 파일의 시작, 1 현재 위치, 2 파일의 끝\n",
    "```"
   ]
  },
  {
   "attachments": {},
   "cell_type": "markdown",
   "metadata": {},
   "source": [
    "예를 들어서 ```f.seek(3, 0)```은 파일의 시작으로부터 3바이트 떨어진 곳으로 이동한다는 의미입니다. ```whence```의 기본값은 0입니다."
   ]
  },
  {
   "cell_type": "code",
   "execution_count": null,
   "metadata": {},
   "outputs": [],
   "source": [
    "with open(\"내파일.txt\") as f:\n",
    "\n",
    "    print(f.tell())\n",
    "\n",
    "    f.seek(3)\n",
    "    print(f.tell())\n",
    "\n",
    "    c = f.read(1)\n",
    "    print(f.tell())\n",
    "    print(c)"
   ]
  },
  {
   "cell_type": "code",
   "execution_count": null,
   "metadata": {},
   "outputs": [],
   "source": [
    "with open(\"내파일.txt\") as f:\n",
    "    f.seek(2)\n",
    "    l = f.readline()\n",
    "    print(l)"
   ]
  },
  {
   "cell_type": "code",
   "execution_count": null,
   "metadata": {},
   "outputs": [],
   "source": [
    "with open(\"내파일.txt\", \"r+t\") as f:\n",
    "    f.seek(3)\n",
    "    f.write(\"X\")"
   ]
  },
  {
   "cell_type": "code",
   "execution_count": null,
   "metadata": {},
   "outputs": [],
   "source": [
    "\n",
    "\n",
    "\n",
    "\n",
    "\n",
    "\n",
    "\n",
    "\n"
   ]
  }
 ],
 "metadata": {
  "interpreter": {
   "hash": "c9e3598667a9b4826dc0715db37fec6d4eb7b4cb364ec4d7624ecbefebdc40f5"
  },
  "kernelspec": {
   "display_name": "Python 3.10.0 ('py10')",
   "language": "python",
   "name": "python3"
  },
  "language_info": {
   "codemirror_mode": {
    "name": "ipython",
    "version": 3
   },
   "file_extension": ".py",
   "mimetype": "text/x-python",
   "name": "python",
   "nbconvert_exporter": "python",
   "pygments_lexer": "ipython3",
   "version": "3.9.5"
  },
  "orig_nbformat": 4
 },
 "nbformat": 4,
 "nbformat_minor": 2
}
