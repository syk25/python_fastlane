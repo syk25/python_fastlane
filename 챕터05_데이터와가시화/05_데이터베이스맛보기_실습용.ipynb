{
 "cells": [
  {
   "cell_type": "markdown",
   "metadata": {},
   "source": [
    "___\n",
    "<a href='https://cafe.naver.com/jmhonglab'><p style=\"text-align:center;\"><img src='https://lh3.googleusercontent.com/lY3ySXooSmwsq5r-mRi7uiypbo0Vez6pmNoQxMFhl9fmZJkRHu5lO2vo7se_0YOzgmDyJif9fi4_z0o3ZFdwd8NVSWG6Ea80uWaf3pOHpR4GHGDV7kaFeuHR3yAjIJjDgfXMxsvw=w2400'  class=\"center\" width=\"50%\" height=\"50%\"/></p></a>\n",
    "___\n",
    "<center><em>Content Copyright by HongLab, Inc.</em></center>"
   ]
  },
  {
   "cell_type": "markdown",
   "metadata": {},
   "source": [
    "# 데이터베이스(Database) 맛보기\n",
    "\n",
    "카카오톡이나 인스타그램 같이 많은 사용자들이 많은 데이터를 주고받는 시스템에서는 데이터를 저장하고 처리하는 일만 전문적으로 담당하는 별도의 데이터 베이스 관리 시스템을 사용합니다.\n",
    "\n",
    "팬더스의 데이터프레임 같이 표(table) 형태의 데이터를 다룰 때 사용하는 데이터베이스를 관계형(relational) 데이터베이스라고 부릅니다. 여기에 사용하는 특별한 프로그래밍 언어가 SQL(structured query language)인데 여기서는 파이썬에서 쉽게 사용할 수 있는 [sqlite3](https://docs.python.org/3/library/sqlite3.html)를 통하여 간단히 사용해보겠습니다."
   ]
  },
  {
   "cell_type": "markdown",
   "metadata": {},
   "source": [
    "### [sqlite3](https://docs.python.org/3/library/sqlite3.html)의 기본적인 사용 방법\n",
    "\n",
    "[DB Browser for sqlite](https://sqlitebrowser.org/) 설치를 권장합니다."
   ]
  },
  {
   "cell_type": "code",
   "execution_count": null,
   "metadata": {},
   "outputs": [],
   "source": [
    "import sqlite3\n",
    "\n"
   ]
  },
  {
   "cell_type": "code",
   "execution_count": null,
   "metadata": {},
   "outputs": [],
   "source": [
    "import sqlite3\n",
    "\n"
   ]
  },
  {
   "cell_type": "code",
   "execution_count": null,
   "metadata": {},
   "outputs": [],
   "source": [
    "import sqlite3\n",
    "\n"
   ]
  },
  {
   "cell_type": "markdown",
   "metadata": {},
   "source": [
    "### 팬더스와 sqlite3 같이 사용하기"
   ]
  },
  {
   "cell_type": "code",
   "execution_count": null,
   "metadata": {},
   "outputs": [],
   "source": [
    "# 팬더스의 데이터프레임을 sqlite3를 이용해서 DB에 저장\n",
    "\n",
    "import sqlite3\n",
    "import pandas as pd\n",
    "\n",
    "df = pd.DataFrame(\n",
    "    {\n",
    "        \"Name\": [\"성기훈\", \"아이언맨\", \"Robin\"],\n",
    "        \"Phone\": [\"8734-2398\", \"1234-5678\", \"2754-8384\"],\n",
    "        \"Email\": [\"gh@squid.kr\", \"tony@avengers.com\", \"red@dc.net\"],\n",
    "        \"Birthday\": [\"1974-10-31\", \"1970-5-29\", \"1996-3-15\"],\n",
    "    }\n",
    ")\n",
    "\n"
   ]
  },
  {
   "cell_type": "code",
   "execution_count": null,
   "metadata": {},
   "outputs": [],
   "source": [
    "# DB로부터 읽어오기\n",
    "import sqlite3\n",
    "import pandas as pd\n",
    "\n"
   ]
  }
 ],
 "metadata": {
  "interpreter": {
   "hash": "c9e3598667a9b4826dc0715db37fec6d4eb7b4cb364ec4d7624ecbefebdc40f5"
  },
  "kernelspec": {
   "display_name": "Python 3.10.0 ('py10')",
   "language": "python",
   "name": "python3"
  },
  "language_info": {
   "codemirror_mode": {
    "name": "ipython",
    "version": 3
   },
   "file_extension": ".py",
   "mimetype": "text/x-python",
   "name": "python",
   "nbconvert_exporter": "python",
   "pygments_lexer": "ipython3",
   "version": "3.10.0"
  },
  "orig_nbformat": 4
 },
 "nbformat": 4,
 "nbformat_minor": 2
}
