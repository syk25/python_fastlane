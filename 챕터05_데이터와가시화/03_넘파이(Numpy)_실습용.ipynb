{
 "cells": [
  {
   "cell_type": "markdown",
   "metadata": {},
   "source": [
    "___\n",
    "<a href='https://cafe.naver.com/jmhonglab'><p style=\"text-align:center;\"><img src='https://lh3.googleusercontent.com/lY3ySXooSmwsq5r-mRi7uiypbo0Vez6pmNoQxMFhl9fmZJkRHu5lO2vo7se_0YOzgmDyJif9fi4_z0o3ZFdwd8NVSWG6Ea80uWaf3pOHpR4GHGDV7kaFeuHR3yAjIJjDgfXMxsvw=w2400'  class=\"center\" width=\"50%\" height=\"50%\"/></p></a>\n",
    "___\n",
    "<center><em>Content Copyright by HongLab, Inc.</em></center>"
   ]
  },
  {
   "cell_type": "markdown",
   "metadata": {},
   "source": [
    "# [NumPy](https://numpy.org/)\n",
    "\n",
    "넘파이(NumPy)는 다차원 배열 계산에서 독보적인 장점을 갖고 있는 과학 계산 패키지입니다. NumPy라는 이름은 Numerical Python에서 나왔습니다. 데이터 과학이나 딥러닝 등 파이썬에서 수치 데이터를 다룰 때 필수적입니다. 아이템 객체들이 메모리 안에서 여기저기 흩어져 있는 리스트와 달리 동일한 자료형의 값들이 나란히 나열되어 있는 배열(array)이기 때문에 속도가 빠르며 다양한 연산들을 한꺼번에 처리할 수 있기 때문에 더 편리합니다. 특히 다차원 배열을 다루는 기능들이 잘 발달해 있습니다."
   ]
  },
  {
   "cell_type": "markdown",
   "metadata": {},
   "source": [
    "### 기본적인 개념들\n",
    "\n",
    "\n"
   ]
  },
  {
   "cell_type": "markdown",
   "metadata": {},
   "source": [
    "파이썬 리스트로부터 배열을 만들 수 있습니다. 이때 ```ndim```은 배열이 몇 차원(number of dimension)인지를 의미하고 ```shape```은 각 차원(dimension)의 길이(원소의 개수)를 의미합니다."
   ]
  },
  {
   "cell_type": "code",
   "execution_count": 1,
   "metadata": {},
   "outputs": [
    {
     "name": "stdout",
     "output_type": "stream",
     "text": [
      "1 (4,) 4\n",
      "2 (2, 4) 8\n",
      "3 (2, 2, 3) 12\n"
     ]
    }
   ],
   "source": [
    "import numpy as np  # 보통 np로 줄여서 사용\n",
    "\n",
    "# 리스트로부터 1차원 배열 생성\n",
    "a = np.array([1, 2, 3, 4])\n",
    "\n",
    "print(a.ndim, a.shape, a.size)  # 차원수, 리스트의 모양, 크기\n",
    "\n",
    "# 2차원 배열 생성\n",
    "b = np.array([[1, 2, 3, 4], [5, 6, 7, 8]])  # 새로 추가 된 축이 작은 기수를 가진다\n",
    "\n",
    "print(b.ndim, b.shape, b.size)\n",
    "\n",
    "\n",
    "# 3차원 배열 생성\n",
    "c = np.array([[[1, 2, 3], [4, 5, 6]], [[7, 8, 9], [10, 11, 12]]])\n",
    "\n",
    "# 새로 추가된 축이 0번째 축이 된다\n",
    "print(c.ndim, c.shape, c.size)\n"
   ]
  },
  {
   "cell_type": "markdown",
   "metadata": {},
   "source": [
    "우리가 수학에서 공간 좌표계를 다룰 때는 x-축(axis), y-축 등으로 각 방향에 이름을 붙여서 부르지만 다차원 배열에서는 축(axis)을 지칭할 때 문자 대신에 인덱스를 이용합니다."
   ]
  },
  {
   "cell_type": "code",
   "execution_count": 5,
   "metadata": {},
   "outputs": [
    {
     "name": "stdout",
     "output_type": "stream",
     "text": [
      "21\n",
      "[5 7 9]\n",
      "[ 6 15]\n"
     ]
    }
   ],
   "source": [
    "import numpy as np\n",
    "\n",
    "b = np.array([[1, 2, 3], [4, 5, 6]])\n",
    "\n",
    "# axis 이용 사례 sum()\n",
    "print(np.sum(b))\n",
    "print(np.sum(b, axis=0))  # 축따라 계산\n",
    "print(np.sum(b, axis=1))\n",
    "# print(np.sum(b, axis=2)) # 2D 배열에는 2번 축이 없기 때문에 오류 발생\n",
    "\n",
    "# sum()외에 min(), max(), mean() 등도 비슷하게 사용할 수 있습니다.\n"
   ]
  },
  {
   "cell_type": "markdown",
   "metadata": {},
   "source": [
    "기능을 사용할 때는 ```np.sum(a)```과 같이 패키지의 함수를 호출하는 방법과 ```a.sum()```과 같이 객체의 메써드를 호출하는 방법 두 가지가 있습니다."
   ]
  },
  {
   "cell_type": "code",
   "execution_count": 9,
   "metadata": {},
   "outputs": [
    {
     "name": "stdout",
     "output_type": "stream",
     "text": [
      "10 10\n"
     ]
    }
   ],
   "source": [
    "a = np.array([1, 2, 3, 4])\n",
    "\n",
    "print(np.sum(a), a.sum())  # 패키지 함수 호출, 객체의 메서드 호출\n"
   ]
  },
  {
   "cell_type": "markdown",
   "metadata": {},
   "source": [
    "```dtype```은 각 원소의 자료형입니다. \n",
    "- Numpy에서는 하나의 배열은 모두 동일한 자료형이어야 합니다. 예를 들어 리스트에서는 ```[3.14, 1]```같이 ```float```와 ```int```를 하나의 리스트로 묶어두는 것이 가능했지만 배열에서 불가능합니다.  \n",
    "- 많이 사용되는 ```dtype```에는 ```int32```, ```float64```, ```bool``` 등이 있습니다. ```int32```는 ```int``` 하나에 32비트(4바이트)의 메모리를 사용하는 자료형이라는 의미입니다.  \n",
    "- 더 많은 메모리를 사용할 수록 더 넓은 범위의 숫자를 표현할 수 있지만 큰 데이터를 다룰 때는 저장 공간과 계산 속도도 고려해야 하기 때문에 최신 기술에 오히려 크기가 작은 자료형(예: ```float16```)을 사용하는 경우도 있습니다.  \n",
    "- 자료형은 ```astype()``` 메써드로 바꿀 수 있습니다."
   ]
  },
  {
   "cell_type": "code",
   "execution_count": 10,
   "metadata": {},
   "outputs": [
    {
     "name": "stdout",
     "output_type": "stream",
     "text": [
      "int64 8\n",
      "float64 8\n",
      "float16 2\n"
     ]
    }
   ],
   "source": [
    "# int64, 8\n",
    "a = np.array([1, 2, 3])\n",
    "print(a.dtype, a.itemsize)\n",
    "\n",
    "# float64, 8\n",
    "b = np.array([1, 0, 2.0, 3.0])\n",
    "print(b.dtype, b.itemsize)\n",
    "\n",
    "# float16, 2\n",
    "c = a.astype(np.float16)\n",
    "print(c.dtype, c.itemsize)\n"
   ]
  },
  {
   "cell_type": "markdown",
   "metadata": {},
   "source": [
    "다양한 방식으로 배열을 만들 수 있습니다."
   ]
  },
  {
   "cell_type": "code",
   "execution_count": 7,
   "metadata": {},
   "outputs": [
    {
     "name": "stdout",
     "output_type": "stream",
     "text": [
      "[[0.]\n",
      " [0.]]\n",
      "[[1. 1.]]\n",
      "[[7 7]\n",
      " [7 7]]\n",
      "[[1. 0. 0.]\n",
      " [0. 1. 0.]\n",
      " [0. 0. 1.]]\n",
      "[[0.53221988 0.28518887]\n",
      " [0.2015304  0.53006626]]\n",
      "[2 4 6 8]\n",
      "[ 0.   2.5  5.   7.5 10. ]\n"
     ]
    }
   ],
   "source": [
    "\"\"\" 표현법을 보면 행렬처럼 보면 된다. \"\"\"\n",
    "\n",
    "# shape이 (2,1)이고 원소가 전부 0인 배열\n",
    "a = np.zeros((2, 1))\n",
    "print(a)\n",
    "\n",
    "# shape이 (1,2)이고 원소가 전부 1.0인 배열\n",
    "b = np.ones((1, 2))\n",
    "print(b)\n",
    "\n",
    "# 모든 값들이 7로 채워진 배열\n",
    "c = np.full((2, 2), 7)\n",
    "print(c)\n",
    "\n",
    "# 대각원소가 1이고 나머지는 0인 크기가 3by3인 행렬\n",
    "d = np.eye(3)\n",
    "print(d)\n",
    "\n",
    "# shape(2,2)이고 원소가 범위 [0.0, 1.0) 내의 실수인 행렬\n",
    "e = np.random.random((2, 2))\n",
    "print(e)\n",
    "\n",
    "f = np.arange(2, 9, 2)\n",
    "print(f)\n",
    "\n",
    "# 간격이 동일한 숫자를 생성\n",
    "g = np.linspace(0, 10, num=5)\n",
    "print(g)\n"
   ]
  },
  {
   "cell_type": "markdown",
   "metadata": {},
   "source": [
    "여러 값들에 동일한 계산을 적용할 때 리스트 컴프리헨션을 사용하는 것 보다 편리합니다."
   ]
  },
  {
   "cell_type": "code",
   "execution_count": 15,
   "metadata": {},
   "outputs": [
    {
     "data": {
      "text/plain": [
       "array([ 9, 11, 13])"
      ]
     },
     "execution_count": 15,
     "metadata": {},
     "output_type": "execute_result"
    }
   ],
   "source": [
    "import numpy as np\n",
    "\n",
    "my_list = [4, 5, 6]\n",
    "[x * 2 + 1 for x in my_list]\n",
    "\n",
    "my_array = np.array([4, 5, 6])\n",
    "my_array * 2 + 1\n"
   ]
  },
  {
   "cell_type": "markdown",
   "metadata": {},
   "source": [
    "배열 단위의 연산도 가능합니다."
   ]
  },
  {
   "cell_type": "code",
   "execution_count": 13,
   "metadata": {},
   "outputs": [
    {
     "data": {
      "text/plain": [
       "array([ 4, 10, 18])"
      ]
     },
     "execution_count": 13,
     "metadata": {},
     "output_type": "execute_result"
    }
   ],
   "source": [
    "import numpy as np\n",
    "\n",
    "a = np.array([1, 2, 3])\n",
    "b = np.array([4, 5, 6])\n",
    "\n",
    "# 주의: a와 b의 shape가 같아야겠지요.\n",
    "a + b\n",
    "a * b  # 배열의 원소간의 연산을 축약표현한 것\n"
   ]
  },
  {
   "cell_type": "markdown",
   "metadata": {},
   "source": [
    "배열들을 합칠 수도 있습니다."
   ]
  },
  {
   "cell_type": "code",
   "execution_count": 11,
   "metadata": {},
   "outputs": [
    {
     "name": "stdout",
     "output_type": "stream",
     "text": [
      "[1 2 3 4 5 6]\n",
      "[1 2 3 4 5 6]\n",
      "[[1 2 3]\n",
      " [4 5 6]]\n"
     ]
    }
   ],
   "source": [
    "import numpy as np\n",
    "\n",
    "a = np.array([1, 2, 3])\n",
    "b = np.array([4, 5, 6])\n",
    "\n",
    "print(np.concatenate((a, b)))\n",
    "print(np.hstack((a, b)))\n",
    "print(np.vstack((a, b)))  # 차원을 추가해서 합침\n"
   ]
  },
  {
   "cell_type": "markdown",
   "metadata": {},
   "source": [
    "```size```가 동일하다면 ```shape```를 바꿀 수 있습니다. 참고로 ```shape```가 (8,)이면 ```ndim```이 1이고 (8, 1) 또는 (1, 8)이면 ```ndim```이 2입니다."
   ]
  },
  {
   "cell_type": "code",
   "execution_count": 17,
   "metadata": {},
   "outputs": [
    {
     "name": "stdout",
     "output_type": "stream",
     "text": [
      "(8,) 1\n",
      "(1, 8) 2\n"
     ]
    }
   ],
   "source": [
    "# 배열은 표현은 다르더라도 실제 메모리 상에서는 1차원 배열이다.\n",
    "# 따라서 크기만 갇다면 배열의 모양을 바꿀 수 있다.\n",
    "\n",
    "a = np.ones((2, 4))\n",
    "a = a.reshape((4, 2))\n",
    "a = a.reshape((2, 2, 2))\n",
    "\n",
    "a = a.reshape((8))\n",
    "print(a.shape, a.ndim)\n",
    "\n",
    "a = a.reshape((1, 8))\n",
    "print(a.shape, a.ndim)\n"
   ]
  },
  {
   "cell_type": "markdown",
   "metadata": {},
   "source": [
    "인덱싱과 슬라이싱을 사용할 수 있습니다."
   ]
  },
  {
   "cell_type": "code",
   "execution_count": 19,
   "metadata": {},
   "outputs": [
    {
     "name": "stdout",
     "output_type": "stream",
     "text": [
      "4\n",
      "[1 3 5]\n"
     ]
    }
   ],
   "source": [
    "# 1D array\n",
    "a = np.array([1, 2, 3, 4, 5])\n",
    "\n",
    "print(a[3])\n",
    "print(a[::2])\n"
   ]
  },
  {
   "cell_type": "code",
   "execution_count": 26,
   "metadata": {},
   "outputs": [
    {
     "name": "stdout",
     "output_type": "stream",
     "text": [
      "[1 2 3]\n",
      "[4 5 6]\n",
      "[4 5 6]\n",
      "2\n",
      "6\n",
      "6\n"
     ]
    }
   ],
   "source": [
    "# 2D array\n",
    "a = np.array([[1, 2, 3], [4, 5, 6]])\n",
    "print(a[0])  # 첫번째 열\n",
    "print(a[1])  # 부번째 열\n",
    "\n",
    "print(a[1, :])  # 두번째 열\n",
    "print(a[0, 1])  # 2\n",
    "print(a[1, 2])  # 6\n",
    "print(a[1][2])  # 6\n"
   ]
  },
  {
   "cell_type": "markdown",
   "metadata": {},
   "source": [
    "조건식과 배열을 함께 사용하기도 편리합니다."
   ]
  },
  {
   "cell_type": "code",
   "execution_count": 27,
   "metadata": {},
   "outputs": [
    {
     "name": "stdout",
     "output_type": "stream",
     "text": [
      "[1 2]\n",
      "[ True  True False False False]\n",
      "[2 4 6]\n",
      "[[False  True False]\n",
      " [ True False  True]]\n"
     ]
    }
   ],
   "source": [
    "a = np.array([1, 2, 3, 4, 5])\n",
    "\n",
    "# 조건을 충족하는 원소를 담은 리스트 반환\n",
    "print(a[a < 3])\n",
    "\n",
    "# 각 원소의 조건 충족여부 리스트 반환\n",
    "print(a < 3)\n",
    "\n",
    "b = np.array([[1, 2, 3], [4, 5, 6]])\n",
    "\n",
    "# 2차원 행렬의  경우 원소별 조건 충족 파단 결과 반환\n",
    "print(b[b % 2 == 0])\n",
    "print(b % 2 == 0)\n"
   ]
  },
  {
   "cell_type": "markdown",
   "metadata": {},
   "source": [
    "간단한 선형 대수 연산도 지원합니다."
   ]
  },
  {
   "cell_type": "code",
   "execution_count": 28,
   "metadata": {},
   "outputs": [
    {
     "data": {
      "text/plain": [
       "array([[-2. ,  1. ],\n",
       "       [ 1.5, -0.5]])"
      ]
     },
     "execution_count": 28,
     "metadata": {},
     "output_type": "execute_result"
    }
   ],
   "source": [
    "a = np.array([[1.0, 2.0], [3.0, 4.0]])\n",
    "\n",
    "# 역행렬 반환\n",
    "np.linalg.inv(a)\n"
   ]
  },
  {
   "cell_type": "markdown",
   "metadata": {},
   "source": [
    "Matplotlib 뿐 아니라 많은 패키지에서 Numpy를 지원합니다."
   ]
  },
  {
   "cell_type": "code",
   "execution_count": 30,
   "metadata": {},
   "outputs": [
    {
     "data": {
      "image/png": "[encoded data removed]",
      "text/plain": [
       "<Figure size 640x480 with 1 Axes>"
      ]
     },
     "metadata": {},
     "output_type": "display_data"
    }
   ],
   "source": [
    "import matplotlib.pyplot as plt\n",
    "import numpy as np\n",
    "\n",
    "# x축 정의\n",
    "x = np.linspace(-np.pi, np.pi, 20)\n",
    "\n",
    "# 그래프 계산\n",
    "plt.plot(x, np.sin(x))\n",
    "\n",
    "# 그래프 표현\n",
    "plt.show()\n"
   ]
  },
  {
   "cell_type": "markdown",
   "metadata": {},
   "source": [
    "**[실습]** 정규 분포 난수의 히스토그램 그려보기\n",
    "\n",
    "matplotlib에서는 ```hist()```를 이용해서 히스토그램을 그릴 수 있습니다. [numpy.random.normal()](https://numpy.org/doc/stable/reference/random/generated/numpy.random.normal.html)을 이용해서 정규 분포 난수의 히스토그램을 그려보세요. 예시에서는 ```loc=0.0, scale=1.0, size=10000```을 사용하였습니다."
   ]
  },
  {
   "cell_type": "code",
   "execution_count": 31,
   "metadata": {},
   "outputs": [
    {
     "data": {
      "image/png": "[encoded data removed]",
      "text/plain": [
       "<Figure size 640x480 with 1 Axes>"
      ]
     },
     "metadata": {},
     "output_type": "display_data"
    }
   ],
   "source": [
    "import numpy as np\n",
    "import matplotlib.mlab as mlab\n",
    "import matplotlib.pyplot as plt\n",
    "\n",
    "x = [21, 22, 23, 4, 5, 6, 77, 8, 9, 10, 31, 32, 33, 34, 35, 36, 37, 18, 49, 50, 100]\n",
    "num_bins = 5\n",
    "plt.hist(x, num_bins)\n",
    "plt.show()\n"
   ]
  },
  {
   "cell_type": "code",
   "execution_count": 44,
   "metadata": {},
   "outputs": [
    {
     "data": {
      "image/png": "[encoded data removed]",
      "text/plain": [
       "<Figure size 640x480 with 1 Axes>"
      ]
     },
     "metadata": {},
     "output_type": "display_data"
    }
   ],
   "source": [
    "import numpy as np\n",
    "import matplotlib.mlab as mlab\n",
    "import matplotlib.pyplot as plt\n",
    "\n",
    "normal = np.random.normal\n",
    "\n",
    "x = normal(0.0, 1.0, 100000)\n",
    "num_bins = 30\n",
    "plt.hist(x, num_bins)\n",
    "plt.show()\n"
   ]
  },
  {
   "cell_type": "markdown",
   "metadata": {},
   "source": [
    "본격적으로 데이터사이언스나 딥러닝을 공부하시기 전에 [기본 튜토리얼](https://numpy.org/doc/stable/user/absolute_beginners.html)을 훑어보시기를 권장합니다."
   ]
  },
  {
   "cell_type": "markdown",
   "metadata": {},
   "source": [
    "##### [실습] 몬테 카를로 시뮬레이션으로 원주율 구하기 (Numpy)\n",
    "\n",
    "**스텝1** 앞에서 풀어봤던 원주율 문제를 Numpy로 다시 풀어봅시다. 대부분의 경우 더 간결해지고 속도도 빨라집니다."
   ]
  },
  {
   "cell_type": "code",
   "execution_count": 45,
   "metadata": {},
   "outputs": [
    {
     "name": "stdout",
     "output_type": "stream",
     "text": [
      "[1 2]\n",
      "[3 4 5]\n"
     ]
    }
   ],
   "source": [
    "# 힌트\n",
    "a = np.array([1, 2, 3, 4, 5])\n",
    "check = a < 3 # 조건식을 변수에 저장\n",
    "c = a[check] # 조건을 충족하는 원소 선택\n",
    "d = a[np.logical_not(check)]\n",
    "print(c)\n",
    "print(d)\n"
   ]
  },
  {
   "cell_type": "code",
   "execution_count": null,
   "metadata": {},
   "outputs": [],
   "source": [
    "# Numpy를 사용하는 경우\n",
    "# 훨씬 빠릅니다.\n",
    "import numpy as np\n",
    "import matplotlib.pyplot as plt\n",
    "\n",
    "np.random.seed(0)  # 결과 비교를 위해 시드 고정\n",
    "\n",
    "num_points = 100000\n"
   ]
  },
  {
   "cell_type": "markdown",
   "metadata": {},
   "source": [
    "**스텝2** 이번에는 ```scatter()```를 한 번만 호출해보세요. 필요하다면 ```np.count_nonzero()```와 ```np.where()```를 사용할 수 있습니다. 다만, 실행 속도는 더 느릴 수도 있습니다. 코드가 간결하다고 속도가 빠른 것은 아닙니다."
   ]
  },
  {
   "cell_type": "code",
   "execution_count": null,
   "metadata": {},
   "outputs": [],
   "source": [
    "# Numpy를 사용하는 경우\n",
    "# 훨씬 빠릅니다.\n",
    "import numpy as np\n",
    "import matplotlib.pyplot as plt\n",
    "\n",
    "np.random.seed(0)  # 결과 비교를 위해 시드 고정\n",
    "\n",
    "num_points = 100000\n"
   ]
  }
 ],
 "metadata": {
  "interpreter": {
   "hash": "5c16c27ce297e09fdfa5bf27d0bdd6274dd180355d44d412e70d0a9b6c723271"
  },
  "kernelspec": {
   "display_name": "Python 3.8.12 ('py38')",
   "language": "python",
   "name": "python3"
  },
  "language_info": {
   "codemirror_mode": {
    "name": "ipython",
    "version": 3
   },
   "file_extension": ".py",
   "mimetype": "text/x-python",
   "name": "python",
   "nbconvert_exporter": "python",
   "pygments_lexer": "ipython3",
   "version": "3.10.14"
  },
  "orig_nbformat": 4
 },
 "nbformat": 4,
 "nbformat_minor": 2
}
