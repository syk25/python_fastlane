{
 "cells": [
  {
   "cell_type": "markdown",
   "metadata": {},
   "source": [
    "___\n",
    "<a href='https://cafe.naver.com/jmhonglab'><p style=\"text-align:center;\"><img src='https://lh3.googleusercontent.com/lY3ySXooSmwsq5r-mRi7uiypbo0Vez6pmNoQxMFhl9fmZJkRHu5lO2vo7se_0YOzgmDyJif9fi4_z0o3ZFdwd8NVSWG6Ea80uWaf3pOHpR4GHGDV7kaFeuHR3yAjIJjDgfXMxsvw=w2400'  class=\"center\" width=\"50%\" height=\"50%\"/></p></a>\n",
    "___\n",
    "<center><em>Content Copyright by HongLab, Inc.</em></center>"
   ]
  },
  {
   "cell_type": "markdown",
   "metadata": {},
   "source": [
    "# [넘파이(NumPy)](https://numpy.org/)\n",
    "\n",
    "넘파이(NumPy)는 다차원 배열 계산에서 독보적인 장점을 갖고 있는 과학 계산 패키지입니다. NumPy라는 이름은 Numerical Python에서 나왔습니다. 데이터 과학이나 딥러닝 등 파이썬에서 수치 데이터를 다룰 때 필수적입니다. 아이템 객체들이 메모리 안에서 여기저기 흩어져 있는 리스트와 달리 동일한 자료형의 값들이 나란히 나열되어 있는 배열(array)이기 때문에 속도가 빠르며 다양한 연산들을 한꺼번에 처리할 수 있기 때문에 더 편리합니다. 특히 다차원 배열을 다루는 기능들이 잘 발달해 있습니다."
   ]
  },
  {
   "cell_type": "markdown",
   "metadata": {},
   "source": [
    "### 기본적인 개념들\n",
    "\n",
    "\n"
   ]
  },
  {
   "cell_type": "markdown",
   "metadata": {},
   "source": [
    "파이썬 리스트로부터 배열을 만들 수 있습니다. 이때 ```ndim```은 배열이 몇 차원(number of dimension)인지를 의미하고 ```shape```은 각 차원(dimension)의 길이(원소의 개수)를 의미합니다."
   ]
  },
  {
   "cell_type": "code",
   "execution_count": null,
   "metadata": {},
   "outputs": [],
   "source": [
    "import numpy as np  # 보통 np로 줄여서 사용\n",
    "\n",
    "# 리스트로부터 1차원 배열 생성\n",
    "a = np.array([1, 2, 3, 4])\n",
    "\n",
    "print(a.ndim, a.shape, a.size)  # 1 (4,) 4\n",
    "\n",
    "# 2차원 배열 생성\n",
    "b = np.array([[1, 2, 3], [4, 5, 6]])\n",
    "# b = np.array([[1, 2, 3, 4], [5, 6, 7, 8, 9]]) # 경고 발생\n",
    "\n",
    "print(b.ndim, b.shape, b.size)  # 2 (2, 3) 6\n",
    "\n",
    "# 3차원 배열 생성\n",
    "c = np.array([[[1, 2, 3], [4, 5, 6]], [[7, 8, 9], [10, 11, 12]]])\n",
    "\n",
    "print(c.ndim, c.shape, c.size)  # 3 (2, 2, 3) 12\n",
    "\n",
    "np.sum(c, axis = 2)"
   ]
  },
  {
   "cell_type": "markdown",
   "metadata": {},
   "source": [
    "우리가 수학에서 공간 좌표계를 다룰 때는 x-축(axis), y-축 등으로 각 방향에 이름을 붙여서 부르지만 다차원 배열에서는 축(axis)을 지칭할 때 문자 대신에 인덱스를 이용합니다."
   ]
  },
  {
   "cell_type": "code",
   "execution_count": null,
   "metadata": {},
   "outputs": [],
   "source": [
    "import numpy as np\n",
    "\n",
    "b = np.array([[1, 2, 3], [4, 5, 6]])\n",
    "\n",
    "# axis 이용 사례 sum()\n",
    "print(np.sum(b))  # 모든 축에 대한 합\n",
    "print(np.sum(b, axis=0))  # 0번 축을 따라가면서 더하기\n",
    "print(np.sum(b, axis=1))  # 1번 축을 따라가면서 더하기\n",
    "# print(np.sum(b, axis=2)) # 2D 배열에는 2번 축이 없기 때문에 오류 발생\n",
    "\n",
    "# sum()외에 min(), max(), mean() 등도 비슷하게 사용할 수 있습니다."
   ]
  },
  {
   "cell_type": "markdown",
   "metadata": {},
   "source": [
    "기능을 사용할 때는 ```np.sum(a)```과 같이 패키지의 함수를 호출하는 방법과 ```a.sum()```과 같이 객체의 메써드를 호출하는 방법 두 가지가 있습니다."
   ]
  },
  {
   "cell_type": "code",
   "execution_count": null,
   "metadata": {},
   "outputs": [],
   "source": [
    "a = np.array([1, 2, 3, 4])\n",
    "\n",
    "print(np.sum(a), a.sum())"
   ]
  },
  {
   "cell_type": "markdown",
   "metadata": {},
   "source": [
    "```dtype```은 각 원소의 자료형입니다. \n",
    "- Numpy에서는 하나의 배열은 모두 동일한 자료형이어야 합니다. 예를 들어 리스트에서는 ```[3.14, 1]```같이 ```float```와 ```int```를 하나의 리스트로 묶어두는 것이 가능했지만 배열에서 불가능합니다.  \n",
    "- 많이 사용되는 ```dtype```에는 ```int32```, ```float64```, ```bool``` 등이 있습니다. ```int32```는 ```int``` 하나에 32비트(4바이트)의 메모리를 사용하는 자료형이라는 의미입니다.  \n",
    "- 더 많은 메모리를 사용할 수록 더 넓은 범위의 숫자를 표현할 수 있지만 큰 데이터를 다룰 때는 저장 공간과 계산 속도도 고려해야 하기 때문에 최신 기술에 오히려 크기가 작은 자료형(예: ```float16```)을 사용하는 경우도 있습니다.  \n",
    "- 자료형은 ```astype()``` 메써드로 바꿀 수 있습니다."
   ]
  },
  {
   "cell_type": "code",
   "execution_count": null,
   "metadata": {},
   "outputs": [],
   "source": [
    "a = np.array([1, 2, 3])\n",
    "\n",
    "print(a.dtype, a.itemsize) # int32 4\n",
    "\n",
    "b = np.array([1.0, 2.0, 3.0])\n",
    "\n",
    "print(b.dtype, b.itemsize) # float64 8\n",
    "\n",
    "c = a.astype(np.float16)\n",
    "\n",
    "print(c.dtype, c.itemsize) # float16 2"
   ]
  },
  {
   "cell_type": "markdown",
   "metadata": {},
   "source": [
    "다양한 방식으로 배열을 만들 수 있습니다."
   ]
  },
  {
   "cell_type": "code",
   "execution_count": null,
   "metadata": {},
   "outputs": [],
   "source": [
    "a = np.zeros((2, 1)) # shape이 (2, 1)이고 원소가 전부 0.0인 배열\n",
    "#a = np.array([[0.0], [0.0]])\n",
    "print(a)\n",
    "\n",
    "b = np.ones((1, 2)) # shape이 (1, 2)이고 전부 1.0인 배열\n",
    "print(b)\n",
    "\n",
    "c = np.full((2, 2), 7) # 모든 값들이 7로 채워진 배열\n",
    "print(c)\n",
    "\n",
    "d = np.eye(3) # 대각 원소만 1.0이고 나머지는 0.0인 3x3 2차원 배열\n",
    "print(d)\n",
    "\n",
    "e = np.random.random((2, 2)) # [0.0, 1.0) 범위의 float 난수로 채워진 배열\n",
    "print(e)\n",
    "\n",
    "f = np.arange(2, 9, 2) # array of range\n",
    "print(f) # [2, 4, 6, 8]\n",
    "\n",
    "g = np.linspace(0, 10, num=5) # 간격이 동일한 숫자들\n",
    "print(g) #[ 0.   2.5  5.   7.5 10. ]"
   ]
  },
  {
   "cell_type": "markdown",
   "metadata": {},
   "source": [
    "여러 값들에 동일한 계산을 적용할 때 리스트 컴프리헨션을 사용하는 것 보다 편리합니다."
   ]
  },
  {
   "cell_type": "code",
   "execution_count": null,
   "metadata": {},
   "outputs": [],
   "source": [
    "import numpy as np\n",
    "\n",
    "my_list = [4, 5, 6]\n",
    "[x * 2 + 1 for x in my_list]\n",
    "\n",
    "my_array = np.array([4, 5, 6])\n",
    "my_array * 2 + 1"
   ]
  },
  {
   "cell_type": "markdown",
   "metadata": {},
   "source": [
    "배열 단위의 연산도 가능합니다."
   ]
  },
  {
   "cell_type": "code",
   "execution_count": null,
   "metadata": {},
   "outputs": [],
   "source": [
    "import numpy as np\n",
    "\n",
    "a = np.array([1, 2, 3])\n",
    "b = np.array([4, 5, 6])\n",
    "\n",
    "# 주의: a와 b의 shape가 같아야겠지요.\n",
    "a * b"
   ]
  },
  {
   "cell_type": "markdown",
   "metadata": {},
   "source": [
    "배열들을 합칠 수도 있습니다."
   ]
  },
  {
   "cell_type": "code",
   "execution_count": null,
   "metadata": {},
   "outputs": [],
   "source": [
    "import numpy as np\n",
    "\n",
    "a = np.array([1, 2, 3])\n",
    "b = np.array([4, 5, 6])\n",
    "\n",
    "print(np.concatenate((a, b)))\n",
    "# [1 2 3 4 5 6]\n",
    "\n",
    "print(np.hstack((a, b)))\n",
    "# [1 2 3 4 5 6]\n",
    "\n",
    "print(np.vstack((a, b)))\n",
    "# [[1 2 3]\n",
    "#  [4 5 6]]"
   ]
  },
  {
   "cell_type": "markdown",
   "metadata": {},
   "source": [
    "```size```가 동일하다면 ```shape```를 바꿀 수 있습니다. 참고로 ```shape```가 (8,)이면 ```ndim```이 1이고 (8, 1) 또는 (1, 8)이면 ```ndim```이 2입니다."
   ]
  },
  {
   "cell_type": "code",
   "execution_count": null,
   "metadata": {},
   "outputs": [],
   "source": [
    "a = np.ones((2, 4))\n",
    "a = a.reshape((4, 2))\n",
    "a = a.reshape((2, 2, 2))\n",
    "\n",
    "a = a.reshape((8))\n",
    "print(a.shape, a.ndim) #(8,) 1\n",
    "\n",
    "a = a.reshape((1, 8))\n",
    "print(a.shape, a.ndim) # (1, 8) 2"
   ]
  },
  {
   "cell_type": "markdown",
   "metadata": {},
   "source": [
    "인덱싱과 슬라이싱을 사용할 수 있습니다."
   ]
  },
  {
   "cell_type": "code",
   "execution_count": null,
   "metadata": {},
   "outputs": [],
   "source": [
    "# 1D array\n",
    "a = np.array([1, 2, 3, 4, 5])\n",
    "\n",
    "print(a[3]) # 4\n",
    "print(a[::2]) # [1 3 5]\n",
    "#print(a[100]) # IndexError"
   ]
  },
  {
   "cell_type": "code",
   "execution_count": null,
   "metadata": {},
   "outputs": [],
   "source": [
    "# 2D array\n",
    "a = np.array([[1, 2, 3], [4, 5, 6]])\n",
    "\n",
    "print(a[0]) # [1 2 3]\n",
    "print(a[1]) # [4 5 6]\n",
    "print(a[1, :]) # [4 5 6]\n",
    "print(a[0, 1]) # 2\n",
    "print(a[1, 2]) # 6\n",
    "print(a[1][2]) # 6 a[1]를 만든 후에 다시 [2] 인덱싱\n"
   ]
  },
  {
   "cell_type": "markdown",
   "metadata": {},
   "source": [
    "조건식과 배열을 함께 사용하기도 편리합니다."
   ]
  },
  {
   "cell_type": "code",
   "execution_count": null,
   "metadata": {},
   "outputs": [],
   "source": [
    "a = np.array([1, 2, 3, 4, 5])\n",
    "\n",
    "print(a[a < 3]) # [1, 2]\n",
    "print(a < 3) # [ True  True False False False]\n",
    "\n",
    "b = np.array([[1, 2, 3], [4, 5, 6]])\n",
    "\n",
    "print(b[b % 2 == 0]) # [2 4 6]\n",
    "print(b % 2 == 0) # 원래 shape를 유지한 bool의 배열\n",
    "\n"
   ]
  },
  {
   "cell_type": "markdown",
   "metadata": {},
   "source": [
    "간단한 선형 대수 연산도 지원합니다."
   ]
  },
  {
   "cell_type": "code",
   "execution_count": null,
   "metadata": {},
   "outputs": [],
   "source": [
    "a = np.array([[1., 2.], [3., 4.]])\n",
    "np.linalg.inv(a)"
   ]
  },
  {
   "cell_type": "markdown",
   "metadata": {},
   "source": [
    "Matplotlib 뿐 아니라 많은 패키지에서 Numpy를 지원합니다."
   ]
  },
  {
   "cell_type": "code",
   "execution_count": null,
   "metadata": {},
   "outputs": [],
   "source": [
    "import matplotlib.pyplot as plt\n",
    "import numpy as np\n",
    "\n",
    "x = np.linspace(-np.pi, np.pi, 201)\n",
    "plt.plot(x, np.sin(x))\n",
    "plt.show()"
   ]
  },
  {
   "cell_type": "markdown",
   "metadata": {},
   "source": [
    "**[실습]** 정규 분포 난수의 히스토그램 그려보기\n",
    "\n",
    "matplotlib에서는 ```hist()```를 이용해서 히스토그램을 그릴 수 있습니다. [numpy.random.normal()](https://numpy.org/doc/stable/reference/random/generated/numpy.random.normal.html)을 이용해서 정규 분포 난수의 히스토그램을 그려보세요. 예시에서는 ```loc=0.0, scale=1.0, size=10000```을 사용하였습니다."
   ]
  },
  {
   "cell_type": "code",
   "execution_count": null,
   "metadata": {},
   "outputs": [],
   "source": [
    "import numpy as np\n",
    "import matplotlib.mlab as mlab\n",
    "import matplotlib.pyplot as plt\n",
    "\n",
    "x = [21,22,23,4,5,6,77,8,9,10,31,32,33,34,35,36,37,18,49,50,100]\n",
    "num_bins = 5\n",
    "plt.hist(x, num_bins)\n",
    "plt.show()"
   ]
  },
  {
   "cell_type": "code",
   "execution_count": null,
   "metadata": {},
   "outputs": [],
   "source": []
  },
  {
   "cell_type": "markdown",
   "metadata": {},
   "source": [
    "본격적으로 데이터사이언스나 딥러닝을 공부하시기 전에 [기본 튜토리얼](https://numpy.org/doc/stable/user/absolute_beginners.html)을 훑어보시기를 권장합니다."
   ]
  },
  {
   "cell_type": "markdown",
   "metadata": {},
   "source": [
    "##### [실습] 몬테 카를로 시뮬레이션으로 원주율 구하기 (Numpy)\n",
    "\n",
    "**스텝1** 앞에서 풀어봤던 원주율 문제를 Numpy로 다시 풀어봅시다. 대부분의 경우 더 간결해지고 속도도 빨라집니다."
   ]
  },
  {
   "cell_type": "code",
   "execution_count": null,
   "metadata": {},
   "outputs": [],
   "source": [
    "# 힌트\n",
    "a = np.array([1, 2, 3, 4, 5])\n",
    "check = a < 3\n",
    "c = a[check]\n",
    "d = a[np.logical_not(check)]\n",
    "print(c)\n",
    "print(d)\n",
    "\n",
    "np.split(a, a<3)"
   ]
  },
  {
   "cell_type": "code",
   "execution_count": null,
   "metadata": {},
   "outputs": [],
   "source": [
    "# Numpy를 사용하는 경우\n",
    "# 훨씬 빠릅니다.\n",
    "import numpy as np\n",
    "import matplotlib.pyplot as plt\n",
    "\n",
    "np.random.seed(0)  # 결과 비교를 위해 시드 고정\n",
    "\n",
    "num_points = 100000\n"
   ]
  },
  {
   "cell_type": "markdown",
   "metadata": {},
   "source": [
    "**스텝2** 이번에는 ```scatter()```를 한 번만 호출해보세요. 필요하다면 ```np.count_nonzero()```와 ```np.where()```를 사용할 수 있습니다. 다만, 실행 속도는 더 느릴 수도 있습니다. 코드가 간결하다고 속도가 빠른 것은 아닙니다."
   ]
  },
  {
   "cell_type": "code",
   "execution_count": null,
   "metadata": {},
   "outputs": [],
   "source": [
    "# Numpy를 사용하는 경우\n",
    "# 훨씬 빠릅니다.\n",
    "import numpy as np\n",
    "import matplotlib.pyplot as plt\n",
    "\n",
    "np.random.seed(0)  # 결과 비교를 위해 시드 고정\n",
    "\n",
    "num_points = 100000\n"
   ]
  }
 ],
 "metadata": {
  "interpreter": {
   "hash": "5c16c27ce297e09fdfa5bf27d0bdd6274dd180355d44d412e70d0a9b6c723271"
  },
  "kernelspec": {
   "display_name": "Python 3.8.12 ('py38')",
   "language": "python",
   "name": "python3"
  },
  "language_info": {
   "codemirror_mode": {
    "name": "ipython",
    "version": 3
   },
   "file_extension": ".py",
   "mimetype": "text/x-python",
   "name": "python",
   "nbconvert_exporter": "python",
   "pygments_lexer": "ipython3",
   "version": "3.10.0"
  },
  "orig_nbformat": 4
 },
 "nbformat": 4,
 "nbformat_minor": 2
}
