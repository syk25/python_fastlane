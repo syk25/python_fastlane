{
 "cells": [
  {
   "cell_type": "markdown",
   "metadata": {},
   "source": [
    "___\n",
    "<a href='https://cafe.naver.com/jmhonglab'><p style=\"text-align:center;\"><img src='https://lh3.googleusercontent.com/lY3ySXooSmwsq5r-mRi7uiypbo0Vez6pmNoQxMFhl9fmZJkRHu5lO2vo7se_0YOzgmDyJif9fi4_z0o3ZFdwd8NVSWG6Ea80uWaf3pOHpR4GHGDV7kaFeuHR3yAjIJjDgfXMxsvw=w2400'  class=\"center\" width=\"50%\" height=\"50%\"/></p></a>\n",
    "___\n",
    "<center><em>Content Copyright by HongLab, Inc.</em></center>"
   ]
  },
  {
   "cell_type": "markdown",
   "metadata": {},
   "source": [
    "# [PyTorch](https://pytorch.org/) 기본\n",
    "\n",
    "Tensorflow vs PyTorch\n",
    "- Tensorflow 1.X는 low level\n",
    "- Tensorflow 2.X는 high level\n",
    "\n",
    "뉴럴 네트워크와 같이 크고 복잡한 함수를 많은 양의 데이터에 대해서 최적화(optimization)할 때 사용\n",
    "- 복잡한 수학 함수를 알아서 미분 ([TORCH.AUTOGRAD](https://pytorch.org/tutorials/beginner/blitz/autograd_tutorial.html#a-gentle-introduction-to-torch-autograd))\n",
    "- 뉴럴 네트워크(neural network)를 훈련시킬 때 필요한 다양한 기능들\n",
    "\n",
    "[옵션] ```pip install ipywidgets```"
   ]
  },
  {
   "cell_type": "markdown",
   "metadata": {},
   "source": [
    "### 텐서(Tensor)"
   ]
  },
  {
   "cell_type": "markdown",
   "metadata": {},
   "source": [
    "리스트에서 텐서 만들기"
   ]
  },
  {
   "cell_type": "code",
   "execution_count": null,
   "metadata": {},
   "outputs": [],
   "source": [
    "import torch\n",
    "import numpy as np\n",
    "\n",
    "data = [[1, 2],[3, 4]]\n",
    "x_data = torch.tensor(data)\n",
    "\n",
    "print(x_data.shape, x_data.dtype, x_data.device) # 속성들\n",
    "print(x_data)"
   ]
  },
  {
   "cell_type": "markdown",
   "metadata": {},
   "source": [
    "Numpy 배열에서 텐서 만들기"
   ]
  },
  {
   "cell_type": "code",
   "execution_count": null,
   "metadata": {},
   "outputs": [],
   "source": [
    "import torch\n",
    "import numpy as np\n",
    "\n",
    "data = [[1, 2],[3, 4]]\n",
    "x_np = np.array(data)\n",
    "\n",
    "x_data = torch.tensor(x_np, dtype=torch.int16) # 항상 데이터의 사본을 만든다, dtype으로 원본 numpy array와 다른 자료형으로 지정할 수도 있습니다.\n",
    "print(x_data.shape, x_data.dtype)\n",
    "print(x_data)\n",
    "\n",
    "x_data = torch.from_numpy(x_np) # numpy array와 메모리 공유 (자료형 변경 불가)\n",
    "print(x_data.shape, x_data.dtype)\n",
    "print(x_data)\n",
    "\n",
    "x_data = torch.as_tensor(x_np, dtype=torch.float) # dtype이 같고 같은 device(CPU 또는 GPU)에 있다면 from_numpy() 사용\n",
    "print(x_data.shape, x_data.dtype)\n",
    "print(x_data)\n"
   ]
  },
  {
   "cell_type": "markdown",
   "metadata": {},
   "source": [
    "ones, zeros, randon numbers"
   ]
  },
  {
   "cell_type": "code",
   "execution_count": null,
   "metadata": {},
   "outputs": [],
   "source": [
    "shape = (2,3,)\n",
    "ones_tensor = torch.ones(shape)\n",
    "zeros_tensor = torch.zeros(shape)\n",
    "rand_tensor = torch.rand(shape)\n",
    "\n",
    "print(ones_tensor)\n",
    "print(zeros_tensor)\n",
    "print(rand_tensor)"
   ]
  },
  {
   "cell_type": "code",
   "execution_count": null,
   "metadata": {},
   "outputs": [],
   "source": [
    "data = [[1, 2],[3, 4]]\n",
    "x_np = np.array(data)\n",
    "x_data = torch.tensor(x_np, dtype=torch.float)\n",
    "\n",
    "x_ones = torch.ones_like(x_data)\n",
    "x_zeros = torch.zeros_like(x_data)\n",
    "x_rand = torch.rand_like(x_data)\n",
    "\n",
    "print(x_ones)\n",
    "print(x_zeros)\n",
    "print(x_rand)"
   ]
  },
  {
   "cell_type": "markdown",
   "metadata": {},
   "source": [
    "기본 연산"
   ]
  },
  {
   "cell_type": "code",
   "execution_count": null,
   "metadata": {},
   "outputs": [],
   "source": [
    "a = torch.tensor([1, 2, 3])\n",
    "b = torch.tensor([4, 5, 6])\n",
    "\n",
    "c = a * b # 아이템 별 곱하기\n",
    "\n",
    "print(c)\n",
    "print(c.sum()) # 숫자 하나만 갖고 있는 텐서\n",
    "print(c.sum().item()) # 파이썬 자료형으로 가져올 때 item() 사용\n",
    "print(type(c.sum().item())) # <class 'int'>"
   ]
  },
  {
   "cell_type": "markdown",
   "metadata": {},
   "source": [
    "슬라이싱"
   ]
  },
  {
   "cell_type": "code",
   "execution_count": null,
   "metadata": {},
   "outputs": [],
   "source": [
    "import torch\n",
    "\n",
    "a = torch.tensor([1, 2, 3, 4, 5, 6])\n",
    "\n",
    "b1 = a[0:3]\n",
    "b2 = a[3:6]\n",
    "\n",
    "print(b1)\n",
    "print(b2)"
   ]
  },
  {
   "cell_type": "markdown",
   "metadata": {},
   "source": [
    "torch.cat()"
   ]
  },
  {
   "cell_type": "code",
   "execution_count": null,
   "metadata": {},
   "outputs": [],
   "source": [
    "a = torch.tensor([[1, 2, 3], [4, 5, 6]])\n",
    "b = torch.tensor([[7, 8, 9], [10, 11, 12]])\n",
    "\n",
    "print(\"a shape:\", a.shape)\n",
    "print(\"b shape:\", b.shape)\n",
    "\n",
    "print(\"-----------------------------\")\n",
    "\n",
    "t = torch.cat([a, b], dim = 0)\n",
    "\n",
    "print(\"t shape:\", t.shape)\n",
    "print(t)\n",
    "\n",
    "print(\"-----------------------------\")\n",
    "\n",
    "t = torch.cat([a, b], dim = 1)\n",
    "\n",
    "print(\"t shape:\", t.shape)\n",
    "print(t)"
   ]
  },
  {
   "cell_type": "markdown",
   "metadata": {},
   "source": [
    "GPU\n"
   ]
  },
  {
   "cell_type": "code",
   "execution_count": null,
   "metadata": {},
   "outputs": [],
   "source": [
    "tensor = torch.rand(3,4)\n",
    "\n",
    "if torch.cuda.is_available():\n",
    "    tensor = tensor.to(\"cuda\")"
   ]
  },
  {
   "cell_type": "markdown",
   "metadata": {},
   "source": [
    "### 자동 미분\n",
    "\n",
    "$y = 2.0 \\cdot x^5 + 1.0$\n",
    "\n",
    "$x=0.5$일 때 ($x$에 대한) $y$의 기울기(gradient)는?"
   ]
  },
  {
   "cell_type": "code",
   "execution_count": null,
   "metadata": {},
   "outputs": [],
   "source": [
    "import torch\n",
    "import numpy as np\n",
    "\n",
    "x_data = torch.tensor([0.5], requires_grad=True) # requires_grad = True\n",
    "\n",
    "y = 2.0 * x_data**5 + 1.0 # 미분하고자 하는 함수의 값을 계산하는 과정을 forward()\n",
    "\n",
    "y.backward() # 미분하는 과정을 backward()\n",
    "\n",
    "x_data.grad.item() # 기울기라는 의미의 grad"
   ]
  },
  {
   "cell_type": "markdown",
   "metadata": {},
   "source": [
    "$\\frac{dy}{dx} = 10.0 \\cdot x ^ 4$\n"
   ]
  },
  {
   "cell_type": "markdown",
   "metadata": {},
   "source": [
    "##### [실습] 2차 곡선 미분\n",
    "\n",
    "$y = x^2$\n",
    "\n",
    "$x$가 [-1.0, -0.75 -0.5, 0.0, 0.5, 0.75, 1.0]일 때 $y$의 gradient가 각각 몇 인지를 계산해봅시다."
   ]
  },
  {
   "cell_type": "code",
   "execution_count": null,
   "metadata": {},
   "outputs": [],
   "source": [
    "import torch\n",
    "import numpy as np\n",
    "\n",
    "x_samples = [-1.0, -0.75, -0.5, 0.0, 0.5, 0.75, 1.0]\n",
    "\n",
    "grad_y_list = []\n",
    "\n",
    "for x in x_samples:\n",
    "    pass\n",
    "\n",
    "    grad_y_list.append(x_data.grad.item())\n",
    "\n",
    "print(grad_y_list)\n"
   ]
  },
  {
   "cell_type": "markdown",
   "metadata": {},
   "source": [
    "기울기의 의미를 관찰해봅시다."
   ]
  },
  {
   "cell_type": "code",
   "execution_count": null,
   "metadata": {},
   "outputs": [],
   "source": [
    "import matplotlib.pyplot as plt\n",
    "\n",
    "plt.figure(figsize=(10, 6))\n",
    "\n",
    "plt.xlabel(\"x\")\n",
    "plt.ylabel(\"y\")\n",
    "plt.plot(np.linspace(-1.2, 1.2, 100), np.linspace(-1.2, 1.2, 100)**2)\n",
    "\n",
    "plt.scatter(x_samples, [x**2 for x in x_samples], c =\"red\")\n",
    "\n",
    "dx = 0.1\n",
    "for x, grad_y in zip(x_samples, grad_y_list): \n",
    "    if grad_y > 0.0:\n",
    "        plt.plot([x, x + dx], [x**2, x**2 + grad_y * dx], color = 'blue')\n",
    "    elif grad_y < 0.0:\n",
    "        plt.plot([x, x - dx], [x**2, x**2 - grad_y * dx], color = 'blue')\n",
    "    else:\n",
    "        pass # grad_y == 0.0인 경우에는 그리지 않음"
   ]
  }
 ],
 "metadata": {
  "interpreter": {
   "hash": "9d020ba169b33221ab358611b87de83a49ae84c7ba35bfa72ae9e245c465f61e"
  },
  "kernelspec": {
   "display_name": "Python 3.10.0 ('py10')",
   "language": "python",
   "name": "python3"
  },
  "language_info": {
   "codemirror_mode": {
    "name": "ipython",
    "version": 3
   },
   "file_extension": ".py",
   "mimetype": "text/x-python",
   "name": "python",
   "nbconvert_exporter": "python",
   "pygments_lexer": "ipython3",
   "version": "3.10.0"
  },
  "orig_nbformat": 4
 },
 "nbformat": 4,
 "nbformat_minor": 2
}
