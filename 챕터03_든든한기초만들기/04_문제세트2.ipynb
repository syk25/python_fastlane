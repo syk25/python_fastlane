{
 "cells": [
  {
   "cell_type": "markdown",
   "metadata": {},
   "source": [
    "___\n",
    "<a href='https://cafe.naver.com/jmhonglab'><p style=\"text-align:center;\"><img src='https://lh3.googleusercontent.com/lY3ySXooSmwsq5r-mRi7uiypbo0Vez6pmNoQxMFhl9fmZJkRHu5lO2vo7se_0YOzgmDyJif9fi4_z0o3ZFdwd8NVSWG6Ea80uWaf3pOHpR4GHGDV7kaFeuHR3yAjIJjDgfXMxsvw=w2400'  class=\"center\" width=\"50%\" height=\"50%\"/></p></a>\n",
    "___\n",
    "<center><em>Content Copyright by HongLab, Inc.</em></center>"
   ]
  },
  {
   "cell_type": "markdown",
   "metadata": {},
   "source": [
    "##### [문제] 평균 점수 출력하기\n",
    "\n",
    "여러 학생들의 수학 점수를 사전(dict)에 저장해두었습니다. ```sum()``` 함수를 사용해서 평균 점수를 출력해보세요.  \n",
    "정답: ```59.8```"
   ]
  },
  {
   "cell_type": "code",
   "execution_count": null,
   "metadata": {},
   "outputs": [],
   "source": [
    "math_scores = {\"둘리\": 20, \"희동이\":40, \"또치\":80, \"도우너\":60, \"고길동\":99}\n",
    "\n",
    "# print(_____)"
   ]
  },
  {
   "cell_type": "markdown",
   "metadata": {},
   "source": [
    "##### [문제] 회문(Palindrome) 검사\n",
    "\n",
    "level, madam과 같이 순서를 글자 단위로 뒤집었을 때도 동일한 단어들을 회문(palindrome)이라고 부릅니다. 입력받은 문자열이 회문인지 슬라이싱을 이용해서 검사해보세요.\n",
    "\n",
    "|입력|출력|\n",
    "|---|---|\n",
    "|level|True|\n",
    "|abc|False|\n",
    "|refer|True|"
   ]
  },
  {
   "cell_type": "code",
   "execution_count": null,
   "metadata": {},
   "outputs": [],
   "source": [
    "word = input()\n",
    "\n",
    "#print(______)"
   ]
  },
  {
   "cell_type": "markdown",
   "metadata": {},
   "source": [
    "##### [문제] 모든 아이템 값 바꿔주기\n",
    "\n",
    "리스트 안에 리스트나 정수가 들어 있는 경우 모든 아이템의 값에 100을 더해봅시다. for루프 안에서 리스트 아이템의 값을 바꾸기 위해서는 인덱싱을 사용해야 합니다.\n",
    "\n",
    "예상 결과: ```[[101, 102, 103], 104]```"
   ]
  },
  {
   "cell_type": "code",
   "execution_count": null,
   "metadata": {},
   "outputs": [],
   "source": [
    "my_list = [[1, 2, 3], 4]\n",
    "\n",
    "pass # 여기에 구현\n",
    "\n",
    "my_list"
   ]
  },
  {
   "cell_type": "markdown",
   "metadata": {},
   "source": [
    "이번에는 리스트 안에 사전이 들어있는 경우입니다.\n",
    "\n",
    "예상 결과: ```[[101, 102, 103], 104, {'A': 105, 'B': 106}]```"
   ]
  },
  {
   "cell_type": "code",
   "execution_count": null,
   "metadata": {},
   "outputs": [],
   "source": [
    "my_list = [[1, 2, 3], 4, {\"A\":5, \"B\":6}]\n",
    "\n",
    "pass # 여기에 구현\n",
    "\n",
    "my_list\n"
   ]
  },
  {
   "cell_type": "markdown",
   "metadata": {},
   "source": [
    "##### [문제] 종합소득세 계산하기\n",
    "\n",
    "아래와 같은 세율표에 따라서 수입에 따라 내야 할 세금을 계산해보세요.\n",
    "예를 들어서 수입이 30이라면  \n",
    "\n",
    "$30 \\times 0.15 - 1.08 = 3.42$  \n",
    "\n",
    "가세금이 됩니다.\n",
    "\n",
    "|과세표준|세율|누진공제|\n",
    "|---|---|---|\n",
    "|12 이하|6%| |\n",
    "|46 이하|15%|1.08|\n",
    "|그 외|24%|5.22|\n",
    "\n",
    "입출력\n",
    "|입력|출력|\n",
    "|---|---|\n",
    "|12|0.72|\n",
    "|30|3.42|\n",
    "|46|5.819999999999999|\n",
    "|50|6.78|\n",
    "\n",
    "참고: [국세청 종합소득세 세율표](https://www.nts.go.kr/nts/cm/cntnts/cntntsView.do?mi=2227&cntntsId=7667)\n"
   ]
  },
  {
   "cell_type": "code",
   "execution_count": null,
   "metadata": {},
   "outputs": [],
   "source": [
    "my_income = int(input())\n",
    "\n",
    "pass #여기에 구현\n",
    "\n",
    "#print(tax)"
   ]
  },
  {
   "cell_type": "markdown",
   "metadata": {},
   "source": [
    "##### [문제] [플로이드의 삼각형](https://ko.wikipedia.org/wiki/%ED%94%8C%EB%A1%9C%EC%9D%B4%EB%93%9C%EC%9D%98_%EC%82%BC%EA%B0%81%ED%98%95)\n",
    "\n",
    "별찍기와 유사한 문제입니다. 아래와 같이 숫자가 증가하는 삼각형을 출력해보세요.\n",
    "```\n",
    "1 \n",
    "2 3 \n",
    "4 5 6 \n",
    "7 8 9 10 \n",
    "11 12 13 14 15\n",
    "```"
   ]
  },
  {
   "cell_type": "markdown",
   "metadata": {},
   "source": [
    "**스텝1** 별찍기와 비슷하게 2중 for루프를 사용해보세요"
   ]
  },
  {
   "cell_type": "code",
   "execution_count": null,
   "metadata": {},
   "outputs": [],
   "source": [
    "rows = 5\n",
    "num = 1\n",
    "\n",
    "pass # 여기에 구현"
   ]
  },
  {
   "cell_type": "markdown",
   "metadata": {},
   "source": [
    "**스텝2** 이번에는 같은 문제에 2중 while루프를 사용해봅시다. 요령은 단계별로 바꿔나가는 것입니다. 예를 들면 스텝1에서 작성한 코드에서 안쪽 for루프만 while루프로 바꿔서 잘 작동하는지 확인해본 후에 바깥쪽 for루프도 while루프로 바꿔보세요."
   ]
  },
  {
   "cell_type": "code",
   "execution_count": null,
   "metadata": {},
   "outputs": [],
   "source": [
    "rows = 5\n",
    "num = 1\n",
    "\n",
    "pass # 여기에 구현"
   ]
  },
  {
   "cell_type": "markdown",
   "metadata": {},
   "source": [
    "##### [선택] [시저 암호](https://terms.naver.com/entry.naver?docId=2270491&cid=51173&categoryId=51173)(Ceasar Cipher)\n",
    "\n",
    "시저 암호 예제는 컴퓨터 내부에서는 문자가 숫자로 처리된다는 점, 암호화와 복호화 등의 용어 이해 등의 목적으로 보통 C언어 강의에서 사용되기 때문에 사람에 따라 어려울 수도 있습니다. 가벼운 파이썬 사용이 목적이라면 건너뛰셔도 됩니다. 반대로 언젠가 코딩 테스트를 준비하실 거라면 이번 기회에 이해해두시는 것을 권장합니다.\n",
    "\n",
    "컴퓨터 내부에서 글자는 숫자로 처리됩니다. [ASCII 표](https://www.asciitable.com)에 의하면 대문자 A는 십진수(Dce) 65, B는 66, ..., Z는 90에 해당합니다. ```ord()``` 함수를 이용하면 문자를 ASCII 코드(code)로 바꿀 수 있고 ```chr()```함수를 이용하면 다시 문자로 바꿀 수 있습니다. 알파벳은 총 26글자입니다."
   ]
  },
  {
   "cell_type": "code",
   "execution_count": 1,
   "metadata": {},
   "outputs": [
    {
     "name": "stdout",
     "output_type": "stream",
     "text": [
      "65 66 67 68 69 70 71 72 73 74 75 76 77 78 79 80 81 82 83 84 85 86 87 88 89 90 "
     ]
    }
   ],
   "source": [
    "# ord() 함수 사용 예시\n",
    "for i in \"ABCDEFGHIJKLMNOPQRSTUVWXYZ\":\n",
    "    print(ord(i), end=\" \")"
   ]
  },
  {
   "cell_type": "code",
   "execution_count": 2,
   "metadata": {},
   "outputs": [
    {
     "name": "stdout",
     "output_type": "stream",
     "text": [
      "97 98 99 100 101 102 103 104 105 106 107 108 109 110 111 112 113 114 115 116 117 118 119 120 121 122 "
     ]
    }
   ],
   "source": [
    "# ord() 함수 사용 예시\n",
    "for i in \"abcdefghijklmnopqrstuvwxyz\":\n",
    "    print(ord(i), end=\" \")"
   ]
  },
  {
   "cell_type": "code",
   "execution_count": 3,
   "metadata": {},
   "outputs": [
    {
     "name": "stdout",
     "output_type": "stream",
     "text": [
      "A B C D E F G H I J K L M N O P Q R S T U V W X Y Z "
     ]
    }
   ],
   "source": [
    "# chr() 함수 사용 예시\n",
    "for i in range(65, 65 + 26):\n",
    "    print(chr(i), end=\" \")"
   ]
  },
  {
   "cell_type": "code",
   "execution_count": 4,
   "metadata": {},
   "outputs": [
    {
     "name": "stdout",
     "output_type": "stream",
     "text": [
      "abcdefghijklmnopqrstuvwxyz"
     ]
    }
   ],
   "source": [
    "# chr() 함수 사용 예시\n",
    "for i in range(97, 97 + 26):\n",
    "    print(chr(i), end=\"\")"
   ]
  },
  {
   "cell_type": "markdown",
   "metadata": {},
   "source": [
    "[참고] ```ord()``` 함수는 ASCII 보다 더 다양한 문자들을 다룰 수 있는 유니코드(unicode) 값을 알려줍니다. 여기서는 알파벳만 고려하겠습니다."
   ]
  },
  {
   "cell_type": "code",
   "execution_count": 5,
   "metadata": {},
   "outputs": [
    {
     "data": {
      "text/plain": [
       "(128522, '😊')"
      ]
     },
     "execution_count": 5,
     "metadata": {},
     "output_type": "execute_result"
    }
   ],
   "source": [
    "# 알파벳이 아닌 경우 예시\n",
    "ord(\"😊\"), chr(ord(\"😊\"))"
   ]
  },
  {
   "cell_type": "markdown",
   "metadata": {},
   "source": [
    "[주의] chr()함수와 str()함수는 기능이 다릅니다. str() 함수는 숫자를 그대로 문자로 바꿔줍니다."
   ]
  },
  {
   "cell_type": "code",
   "execution_count": 6,
   "metadata": {},
   "outputs": [
    {
     "data": {
      "text/plain": [
       "('a', '97')"
      ]
     },
     "execution_count": 6,
     "metadata": {},
     "output_type": "execute_result"
    }
   ],
   "source": [
    "chr(97), str(97)"
   ]
  },
  {
   "cell_type": "markdown",
   "metadata": {},
   "source": [
    "시저 암호는 각 글자들을 shift 숫자만큼 이동시켜서 암호화하는 방식입니다. 예를 들어서 shift가 3인 경우 대문자 A는 65 + 3 = 68로 이동 되어서 D가 됩니다. "
   ]
  },
  {
   "cell_type": "code",
   "execution_count": 7,
   "metadata": {},
   "outputs": [
    {
     "data": {
      "text/plain": [
       "'D'"
      ]
     },
     "execution_count": 7,
     "metadata": {},
     "output_type": "execute_result"
    }
   ],
   "source": [
    "chr(ord('A') + 3)"
   ]
  },
  {
   "cell_type": "markdown",
   "metadata": {},
   "source": [
    "Z를 3만큼 shift 시킨다면 90 + 3인데 93은 [ASCII 표](https://www.asciitable.com/)에 의하면 기호 \"]\"입니다. "
   ]
  },
  {
   "cell_type": "code",
   "execution_count": 8,
   "metadata": {},
   "outputs": [
    {
     "data": {
      "text/plain": [
       "']'"
      ]
     },
     "execution_count": 8,
     "metadata": {},
     "output_type": "execute_result"
    }
   ],
   "source": [
    "chr(ord('Z') + 3)"
   ]
  },
  {
   "cell_type": "markdown",
   "metadata": {},
   "source": [
    "ASCII 코드에 shift 3만 더한 후 다시 문자로 변환했을 경우에는 XYZ가 기호로 변환됩니다.\n",
    "|알파벳|A|B|C|D|E|F|G|H|I|J|K|L|M|N|O|P|Q|R|S|T|U|V|W|X|Y|Z|\n",
    "|---|---|---|---|---|---|---|---|---|---|---|---|---|---|---|---|---|---|---|---|---|---|---|---|---|---|---|\n",
    "|ASCII 코드|65|66|67|68|69|70|71|72|73|74|75|76|77|78|79|80|81|82|83|84|85|86|87|88|89|90|\n",
    "|코드 + 3|68|69|70|71|72|73|74|75|76|77|78|79|80|81|82|83|84|85|86|87|88|89|90|**91**|**92**|**93**|\n",
    "|chr(코드)|D|E|F|G|H|I|J|K|L|M|N|O|P|Q|R|S|T|U|V|W|X|Y|Z|**[**|**\\\\**|**]**|\n",
    "\n",
    "\n",
    "여기서 나머지 연산자를 이용해서 마치 XYZ 다음에 다시 처음으로 돌아와서 ABC로 연결되는 것 처럼 만들어 줄 수 있습니다. ord('A')는 65이고 shift는 3이며 알파벳은 총 26글자 입니다.\n",
    "\n",
    "|알파벳|A|B|C|D|E|F|G|H|I|J|K|L|M|N|O|P|Q|R|S|T|U|V|W|X|Y|Z|\n",
    "|---|---|---|---|---|---|---|---|---|---|---|---|---|---|---|---|---|---|---|---|---|---|---|---|---|---|---|\n",
    "|코드|65|66|67|68|69|70|71|72|73|74|75|76|77|78|79|80|81|82|83|84|85|86|87|88|89|90|\n",
    "|코드-ord('A')|0|1|2|3|4|5|6|7|8|9|10|11|12|13|14|15|16|17|18|19|20|21|22|23|24|25|\n",
    "|코드-ord('A')+3|3|4|5|6|7|8|9|10|11|12|13|14|15|16|17|18|19|20|21|22|23|24|25|**26**|**27**|**28**|\n",
    "|(코드-ord('A')+3)%26|3|4|5|6|7|8|9|10|11|12|13|14|15|16|17|18|19|20|21|22|23|24|25|**0**|**1**|**2**|\n",
    "|(코드-ord('A')+3)%26 + ord('A')|68|69|70|71|72|73|74|75|76|77|78|79|80|81|82|83|84|85|86|87|88|89|90|**65**|**66**|**67**|\n",
    "|chr((코드-ord('A')+3)%26 + ord('A'))|D|E|F|G|H|I|J|K|L|M|N|O|P|Q|R|S|T|U|V|W|X|Y|Z|**A**|**B**|**C**|\n"
   ]
  },
  {
   "cell_type": "code",
   "execution_count": 9,
   "metadata": {},
   "outputs": [
    {
     "name": "stdout",
     "output_type": "stream",
     "text": [
      "ABCDEFGHIJKLMNOPQRSTUVWXYZ\n",
      "DEFGHIJKLMNOPQRSTUVWXYZABC"
     ]
    }
   ],
   "source": [
    "for i in range(ord('A'), ord('A') + 26):\n",
    "    print(chr(i), end=\"\")\n",
    "\n",
    "print()\n",
    "\n",
    "for i in range(ord('A'), ord('A') + 26):\n",
    "    print(chr((i - ord('A') + 3) % 26 + ord('A')), end=\"\")"
   ]
  },
  {
   "cell_type": "markdown",
   "metadata": {},
   "source": [
    "**스텝1** 대문자로만 이루어진 문자열과 shift에 대해서 암호화를 하세요. shift의 범위는 0이상 25이하라고 가정합니다.\n",
    "\n",
    "|입력 메시지| 입력 쉬프트|출력|\n",
    "|---|---|---|\n",
    "|ATTACKATONCE|4|EXXEGOEXSRGI|\n",
    "|ATTACKATONCE|3|DWWDFNDWRQFH|\n",
    "|HELLO|2|JGNNQ|\n",
    "|ZEBRA|3|CHEUD|\n"
   ]
  },
  {
   "cell_type": "code",
   "execution_count": null,
   "metadata": {},
   "outputs": [],
   "source": [
    "message = input(\"메시지를 입력해주세요:\").upper() # 입력을 편하기 하기 위해 uppder() 사용\n",
    "shift =  int(input(\"사용할 쉬프트를 입력해주세요:\"))\n",
    "\n",
    "encrypted = \"\"\n",
    "\n",
    "pass # 여기에 구현, 문자열의 += 연산자 사용\n",
    "\n",
    "encrypted"
   ]
  },
  {
   "cell_type": "markdown",
   "metadata": {},
   "source": [
    "**스텝2** 암호문을 다시 원래 메시지로 바꿔보세요. 암호화할때와는 반대로 쉬프트를 빼주면 됩니다.\n",
    "\n",
    "|입력 메시지| 입력 쉬프트|출력|\n",
    "|---|---|---|\n",
    "|EXXEGOEXSRGI|4|ATTACKATONCE|\n",
    "|DWWDFNDWRQFH|3|ATTACKATONCE|\n",
    "|JGNNQ|2|HELLO|\n",
    "|CHEUD|3|ZEBRA|"
   ]
  },
  {
   "cell_type": "code",
   "execution_count": null,
   "metadata": {},
   "outputs": [],
   "source": [
    "encrypted = input(\"암호문을 입력해주세요:\").upper()\n",
    "shift =  int(input(\"사용할 쉬프트를 입력해주세요:\"))\n",
    "\n",
    "decrypted = \"\"\n",
    "\n",
    "pass # 여기에 구현\n",
    "\n",
    "decrypted"
   ]
  },
  {
   "cell_type": "markdown",
   "metadata": {},
   "source": [
    "[보충] 파이썬의 나머지 연산은 C언어의 나머지 연산과 다릅니다. 예를 들어서 C언어에서 ```-3 % 26```의 결과는 ```-3``` 입니다. 파이썬에서는 나머지 연산자 왼쪽의 수가 음수일 경우 ```(-3 + 26) % 26```와 같이 나머지 연산의 결과가 항상 양수가 나오도록 바꿔서 계산합니다.\n"
   ]
  },
  {
   "cell_type": "code",
   "execution_count": 10,
   "metadata": {},
   "outputs": [
    {
     "data": {
      "text/plain": [
       "23"
      ]
     },
     "execution_count": 10,
     "metadata": {},
     "output_type": "execute_result"
    }
   ],
   "source": [
    "-3 % 26"
   ]
  },
  {
   "cell_type": "markdown",
   "metadata": {},
   "source": [
    "**스텝3** 문자열의 ```find()``` 메써드를 이용하면 훨씬 덜 복잡하게 풀 수 있습니다. ```ord()```나 ```chr()```도 필요 없습니다."
   ]
  },
  {
   "cell_type": "code",
   "execution_count": 11,
   "metadata": {},
   "outputs": [
    {
     "name": "stdout",
     "output_type": "stream",
     "text": [
      "입력 메시지 HELLO\n",
      "암호화된 메시지 KHOOR\n",
      "복호화된 메시지 HELLO\n"
     ]
    }
   ],
   "source": [
    "alphabets = \"ABCDEFGHIJKLMNOPQRSTUVWXYZ\"\n",
    "\n",
    "message = input(\"메시지를 입력해주세요:\").upper()\n",
    "shift =  int(input(\"사용할 쉬프트를 입력해주세요:\"))\n",
    "\n",
    "encrypted = \"\"\n",
    "\n",
    "for i in message:\n",
    "    pass\n",
    "\n",
    "decrypted = \"\"\n",
    "\n",
    "for i in encrypted:\n",
    "    pass\n",
    "\n",
    "print(\"입력 메시지\", message)\n",
    "print(\"암호화된 메시지\", encrypted)\n",
    "print(\"복호화된 메시지\", decrypted)\n",
    "\n"
   ]
  },
  {
   "cell_type": "code",
   "execution_count": null,
   "metadata": {},
   "outputs": [],
   "source": []
  }
 ],
 "metadata": {
  "interpreter": {
   "hash": "d187a48a8a4b28f37103ceb7e85bceb2b63d70db7314890fe18e7e16ec425e3f"
  },
  "kernelspec": {
   "display_name": "Python 3.9.7 64-bit ('base': conda)",
   "language": "python",
   "name": "python3"
  },
  "language_info": {
   "codemirror_mode": {
    "name": "ipython",
    "version": 3
   },
   "file_extension": ".py",
   "mimetype": "text/x-python",
   "name": "python",
   "nbconvert_exporter": "python",
   "pygments_lexer": "ipython3",
   "version": "3.9.5"
  },
  "orig_nbformat": 4
 },
 "nbformat": 4,
 "nbformat_minor": 2
}
