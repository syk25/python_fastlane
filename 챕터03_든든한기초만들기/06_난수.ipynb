{
 "cells": [
  {
   "cell_type": "markdown",
   "metadata": {},
   "source": [
    "___\n",
    "<a href='https://cafe.naver.com/jmhonglab'><p style=\"text-align:center;\"><img src='https://lh3.googleusercontent.com/lY3ySXooSmwsq5r-mRi7uiypbo0Vez6pmNoQxMFhl9fmZJkRHu5lO2vo7se_0YOzgmDyJif9fi4_z0o3ZFdwd8NVSWG6Ea80uWaf3pOHpR4GHGDV7kaFeuHR3yAjIJjDgfXMxsvw=w2400'  class=\"center\" width=\"50%\" height=\"50%\"/></p></a>\n",
    "___\n",
    "<center><em>Content Copyright by HongLab, Inc.</em></center>"
   ]
  },
  {
   "cell_type": "markdown",
   "metadata": {},
   "source": [
    "# 난수 사용하기\n",
    "\n",
    "파이썬에서 난수(random number)를 만드는 방법을 알아보고 난수와 관련된 문제들을 풀어봅시다.\n",
    "\n",
    "### 정수형 난수 만들기\n",
    "\n",
    "[random 모듈](https://docs.python.org/3/library/random.html)의 randrange()나 randint()를 이용하면 원하는 정수 범위 안에서 난수를 만들 수 있습니다.\n",
    "\n"
   ]
  },
  {
   "cell_type": "code",
   "execution_count": null,
   "metadata": {},
   "outputs": [],
   "source": [
    "import random\n",
    "\n"
   ]
  },
  {
   "cell_type": "code",
   "execution_count": null,
   "metadata": {},
   "outputs": [],
   "source": [
    "import random\n"
   ]
  },
  {
   "cell_type": "markdown",
   "metadata": {},
   "source": [
    "우리가 그때그때 머리속에 떠올리는 난수는 진정한 난수라고 할 수 있습니다. 컴퓨터가 발생시키는 난수는 진정한 의미는 아닙니다. 내부적으로 규칙을 가지고 발생시키기 때문에 seed()를 이용해서 재현이 가능합니다. 예를 들어서 난수의 씨앗(seed)를 설정해준 후에 난수를 만들면 같은 숫자가 반복해서 만들어집니다."
   ]
  },
  {
   "cell_type": "code",
   "execution_count": null,
   "metadata": {},
   "outputs": [],
   "source": [
    "import random\n",
    "\n"
   ]
  },
  {
   "cell_type": "markdown",
   "metadata": {},
   "source": [
    "seed를 고정시키는 방법은 알고리즘의 오류를 체크하기 위해서 항상 동일한 패턴의 난수를 발생시킬 때 사용할 수 있습니다."
   ]
  },
  {
   "cell_type": "markdown",
   "metadata": {},
   "source": [
    "### [실수형 난수 만들기](https://docs.python.org/3/library/random.html#real-valued-distributions)\n",
    "\n",
    "여기서 실수는 부동소수점 표현법을 사용하는 float 자료형을 의미합니다. 보통 random(), uniform(), gauss() 세 가지를 많이 사용하는데 여기서는 기본적인 함수 사용법만 알아보고 뒤에서 그래프를 그려서 차이를 확인해보도록 하겠습니다. "
   ]
  },
  {
   "cell_type": "code",
   "execution_count": null,
   "metadata": {},
   "outputs": [],
   "source": [
    "import random\n",
    "\n",
    "random.random() # 0.0 이상 1.0 미만의 float형 난수"
   ]
  },
  {
   "cell_type": "code",
   "execution_count": null,
   "metadata": {},
   "outputs": [],
   "source": [
    "import random\n",
    "\n",
    "random.uniform(0.0, 1.0) # 0.0이상 1.0 이하의 float형 균일 분표"
   ]
  },
  {
   "cell_type": "code",
   "execution_count": null,
   "metadata": {},
   "outputs": [],
   "source": [
    "import random\n",
    "\n",
    "random.gauss(0.5, 0.01) # 평균이 0.5이고 표준편차가 0.01인 정규 분포"
   ]
  },
  {
   "cell_type": "markdown",
   "metadata": {},
   "source": [
    "### 연습 문제"
   ]
  },
  {
   "cell_type": "markdown",
   "metadata": {},
   "source": [
    "##### [문제] 주사위 굴리기\n",
    "\n",
    "가상의 주사위를 숫자 3이 나올 때까지 굴려봅시다. 주사위를 굴리는 동작을 1이상 6이하의 정수형 난수를 만드는 것으로 대신합니다. while루프를 사용하세요. 마지막 3도 출력이 되어야 하며 ```print()```는 한 번만 사용하세요."
   ]
  },
  {
   "cell_type": "code",
   "execution_count": null,
   "metadata": {},
   "outputs": [],
   "source": [
    "import random\n"
   ]
  },
  {
   "cell_type": "markdown",
   "metadata": {},
   "source": [
    "[참고] 이렇게 현실을 단순화 시켜서 어떤 일이 벌어지는지 가상으로 실행해보는 것을 시뮬레이션(simulation)이라고 부릅니다."
   ]
  },
  {
   "cell_type": "markdown",
   "metadata": {},
   "source": [
    "##### [문제] 주사위 2개 굴리기\n",
    "\n",
    "이번에는 가상의 주사위를 2개 굴려서 합이 6이 될때까지 반복해봅시다."
   ]
  },
  {
   "cell_type": "code",
   "execution_count": null,
   "metadata": {},
   "outputs": [],
   "source": [
    "import random\n",
    "\n"
   ]
  },
  {
   "cell_type": "markdown",
   "metadata": {},
   "source": [
    "##### [문제] 숫자 맞추기 게임\n",
    "\n",
    "컴퓨터가 1이상 100 이하의 난수를 하나 만든 후에 사용자에게 맞추도록 하는 게임을 만들어봅시다."
   ]
  },
  {
   "cell_type": "code",
   "execution_count": null,
   "metadata": {},
   "outputs": [],
   "source": [
    "import random\n",
    "\n",
    "num = random.randint(1, 100)\n",
    "\n",
    "try_count = 0\n"
   ]
  },
  {
   "cell_type": "markdown",
   "metadata": {},
   "source": [
    "##### [문제] 산수 문제 생성기\n",
    "\n",
    "난수를 이용해서 간단한 사칙 연산 문제를 만들고 사용자가 맞출 때까지 답을 입력받는 프로그램을 만들어봅시다. 1이상 9이하의 정수형 난수 두 개를 피연산자로 사용하고 0이상 3이하의 정수형 난수를 만들어서 4가지 연산자 (\"+\", \"-\", \"*\", \"//\") 중에서 하나를 임의로 선택하게 해보세요. 나누기는 답이 정수가 나오도록 정수 나누기(//)를 사용합시다. "
   ]
  },
  {
   "cell_type": "markdown",
   "metadata": {},
   "source": [
    "**스텝1** 4가지 연산자에 대해 ```if-elif```를 사용해서 만들어보세요."
   ]
  },
  {
   "cell_type": "code",
   "execution_count": null,
   "metadata": {},
   "outputs": [],
   "source": [
    "import random\n",
    "\n",
    "num1, num2 = random.randint(1, 9), random.randint(1, 9)\n",
    "op = random.randint(0, 3)\n"
   ]
  },
  {
   "cell_type": "markdown",
   "metadata": {},
   "source": [
    "**스텝2** ```if```는 사용하지 않고 ```eval()```과 ```while```을 사용해서 간결하게 구현해보세요. ```random.choice()```는 시퀀스의 아이템 중 하나를 랜덤하게 골라줍니다. ```eval()```은 앞에 몸풀기 문제들에서 배웠습니다."
   ]
  },
  {
   "cell_type": "code",
   "execution_count": null,
   "metadata": {},
   "outputs": [],
   "source": [
    "import random\n",
    "\n",
    "num1, num2 = random.randint(1, 9), random.randint(1, 9)\n",
    "op = random.choice((\"+\", \"-\", \"*\", \"//\"))\n",
    "\n"
   ]
  }
 ],
 "metadata": {
  "interpreter": {
   "hash": "4e4a43d73bced3a6de5125252de52756354fa9cd2a395ae122159333d29a56ba"
  },
  "kernelspec": {
   "display_name": "Python 3.10.0 64-bit ('mypy310': conda)",
   "language": "python",
   "name": "python3"
  },
  "language_info": {
   "codemirror_mode": {
    "name": "ipython",
    "version": 3
   },
   "file_extension": ".py",
   "mimetype": "text/x-python",
   "name": "python",
   "nbconvert_exporter": "python",
   "pygments_lexer": "ipython3",
   "version": "3.10.0"
  },
  "orig_nbformat": 4
 },
 "nbformat": 4,
 "nbformat_minor": 2
}
