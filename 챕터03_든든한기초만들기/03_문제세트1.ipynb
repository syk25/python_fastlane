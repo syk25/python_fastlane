{
 "cells": [
  {
   "cell_type": "markdown",
   "metadata": {},
   "source": [
    "___\n",
    "<a href='https://cafe.naver.com/jmhonglab'><p style=\"text-align:center;\"><img src='https://lh3.googleusercontent.com/lY3ySXooSmwsq5r-mRi7uiypbo0Vez6pmNoQxMFhl9fmZJkRHu5lO2vo7se_0YOzgmDyJif9fi4_z0o3ZFdwd8NVSWG6Ea80uWaf3pOHpR4GHGDV7kaFeuHR3yAjIJjDgfXMxsvw=w2400'  class=\"center\" width=\"50%\" height=\"50%\"/></p></a>\n",
    "___\n",
    "<center><em>Content Copyright by HongLab, Inc.</em></center>"
   ]
  },
  {
   "cell_type": "markdown",
   "metadata": {},
   "source": [
    "##### [문제] 슬라이싱 예측\n",
    "\n",
    "아래 코드를 실행하지 않고 결과를 예측해보세요. 오류가 발생하는 경우도 있습니다."
   ]
  },
  {
   "cell_type": "code",
   "execution_count": null,
   "metadata": {},
   "outputs": [],
   "source": [
    "my_list = [1, 2, 3, 4, 5, 6]\n",
    "my_list[0:5:1] = ['A', 'B', 'C'] # :1은 생략 가능\n",
    "my_list"
   ]
  },
  {
   "cell_type": "code",
   "execution_count": null,
   "metadata": {},
   "outputs": [],
   "source": [
    "my_list = [1, 2, 3, 4, 5, 6]\n",
    "my_list[0:5:2] = ['A', 'B', 'C']\n",
    "my_list"
   ]
  },
  {
   "cell_type": "code",
   "execution_count": null,
   "metadata": {},
   "outputs": [],
   "source": [
    "my_list = [1, 2, 3, 4, 5, 6]\n",
    "my_list[0:5:2] = ['A', 'B']\n",
    "my_list"
   ]
  },
  {
   "cell_type": "markdown",
   "metadata": {},
   "source": [
    "##### [문제] 복잡한 리스트에서 값 읽어오기\n",
    "\n",
    "3.14를 출력하도록 아래 빈칸을 채워보세요.\n",
    "\n",
    "```\n",
    "print(my_list[___])\n",
    "```\n"
   ]
  },
  {
   "cell_type": "code",
   "execution_count": null,
   "metadata": {},
   "outputs": [],
   "source": [
    "my_list = [1, [3+4, 777, [\"Hi\", {\"중력\":9.8, (\"파이\", \"숫자\"):3.14, \"파이\":\"애플\"}]]]\n",
    "\n",
    "#print(my_list[??])"
   ]
  },
  {
   "cell_type": "markdown",
   "metadata": {},
   "source": [
    "##### [문제] 한 글자씩 줄여가면서 출력하기\n",
    "\n",
    "아래 코드에서 빈줄이 있는 부분을 채워서 완성해보세요.\n",
    "```\n",
    "x = \"Hello\"\n",
    "while ____:\n",
    "    print(x, end=\" \")\n",
    "    __________\n",
    "```\n",
    "\n",
    "예상 출력\n",
    "```\n",
    "Hello ello llo lo o\n",
    "```"
   ]
  },
  {
   "cell_type": "code",
   "execution_count": null,
   "metadata": {},
   "outputs": [],
   "source": []
  },
  {
   "cell_type": "markdown",
   "metadata": {},
   "source": [
    "##### [문제] 구구단 출력\n",
    "\n",
    "원하는 2이상 9이하의 정수에 대해 아래와 같이 곱셈표를 출력하는 프로그램을 만들어 보세요.\n",
    "예시는 3단입니다.\n",
    "```\n",
    "3 x 1 = 3\n",
    "3 x 2 = 6\n",
    "3 x 3 = 9\n",
    "3 x 4 = 12\n",
    "3 x 5 = 15\n",
    "3 x 6 = 18\n",
    "3 x 7 = 21\n",
    "3 x 8 = 24\n",
    "3 x 9 = 27\n",
    "```"
   ]
  },
  {
   "cell_type": "code",
   "execution_count": null,
   "metadata": {},
   "outputs": [],
   "source": [
    "num = 3\n",
    "\n"
   ]
  },
  {
   "cell_type": "markdown",
   "metadata": {},
   "source": [
    "2단부터 9단까지 아래와 같이 모두 출력하도록 만들어보세요. 줄바꿈이 깨지지 않도록 주피터 노트북을 가로로 길게 펴놓고 보세요.\n",
    "\n",
    "```\n",
    " 2 x 1 =   2\t 3 x 1 =   3\t 4 x 1 =   4\t 5 x 1 =   5\t 6 x 1 =   6\t 7 x 1 =   7\t 8 x 1 =   8\t 9 x 1 =   9\t\n",
    " 2 x 2 =   4\t 3 x 2 =   6\t 4 x 2 =   8\t 5 x 2 =  10\t 6 x 2 =  12\t 7 x 2 =  14\t 8 x 2 =  16\t 9 x 2 =  18\t\n",
    " 2 x 3 =   6\t 3 x 3 =   9\t 4 x 3 =  12\t 5 x 3 =  15\t 6 x 3 =  18\t 7 x 3 =  21\t 8 x 3 =  24\t 9 x 3 =  27\t\n",
    " 2 x 4 =   8\t 3 x 4 =  12\t 4 x 4 =  16\t 5 x 4 =  20\t 6 x 4 =  24\t 7 x 4 =  28\t 8 x 4 =  32\t 9 x 4 =  36\t\n",
    " 2 x 5 =  10\t 3 x 5 =  15\t 4 x 5 =  20\t 5 x 5 =  25\t 6 x 5 =  30\t 7 x 5 =  35\t 8 x 5 =  40\t 9 x 5 =  45\t\n",
    " 2 x 6 =  12\t 3 x 6 =  18\t 4 x 6 =  24\t 5 x 6 =  30\t 6 x 6 =  36\t 7 x 6 =  42\t 8 x 6 =  48\t 9 x 6 =  54\t\n",
    " 2 x 7 =  14\t 3 x 7 =  21\t 4 x 7 =  28\t 5 x 7 =  35\t 6 x 7 =  42\t 7 x 7 =  49\t 8 x 7 =  56\t 9 x 7 =  63\t\n",
    " 2 x 8 =  16\t 3 x 8 =  24\t 4 x 8 =  32\t 5 x 8 =  40\t 6 x 8 =  48\t 7 x 8 =  56\t 8 x 8 =  64\t 9 x 8 =  72\t\n",
    " 2 x 9 =  18\t 3 x 9 =  27\t 4 x 9 =  36\t 5 x 9 =  45\t 6 x 9 =  54\t 7 x 9 =  63\t 8 x 9 =  72\t 9 x 9 =  81\n",
    "```\n"
   ]
  },
  {
   "cell_type": "code",
   "execution_count": null,
   "metadata": {},
   "outputs": [],
   "source": []
  },
  {
   "cell_type": "markdown",
   "metadata": {},
   "source": [
    "##### [예제] 계절 판별하기\n",
    "1 이상 12 이하의 정수를 입력받아서 계절을 출력해봅시다. 문자열 포매팅도 사용해보세요.\n",
    "    \n",
    "|계절|월|\n",
    "|---|---|\n",
    "|봄|3, 4, 5|\n",
    "|여름|6, 7, 8|\n",
    "|가을|9, 10, 11|\n",
    "|겨울|12, 1, 2|\n",
    "\n",
    "결과 예시: 3을 입력했을 경우 \"3월은 봄입니다.\" 출력\n",
    "\n"
   ]
  },
  {
   "cell_type": "code",
   "execution_count": null,
   "metadata": {},
   "outputs": [],
   "source": [
    "month = int(input())\n",
    "\n"
   ]
  },
  {
   "cell_type": "markdown",
   "metadata": {},
   "source": [
    "##### [문제] 최대공약수 구하기\n",
    "\n",
    "공약수는 두 자연수가 공통적으로 가지고 있는 약수를 의미합니다. 예를 들어서\n",
    "> 18의 약수는 1, 2, 3, 6, 9, 18  \n",
    "> 24의 약수는 1, 2, 4, 6, 8, 12, 24  \n",
    "\n",
    "입니다. 최대공약수는 그 중에서 가장 큰 약수를 의미합니다. 18과 24의 최대공약수는 6입니다.\n",
    "\n",
    "파이썬에서는 ```math``` 모듈의 ```gcd()``` 함수를 이용해서 최대공약수를 구할 수 있습니다. 함수이름 gcd는 the greatest common divisor에서 왔습니다."
   ]
  },
  {
   "cell_type": "code",
   "execution_count": 1,
   "metadata": {},
   "outputs": [
    {
     "data": {
      "text/plain": [
       "6"
      ]
     },
     "execution_count": 1,
     "metadata": {},
     "output_type": "execute_result"
    }
   ],
   "source": [
    "import math\n",
    "\n",
    "math.gcd(18, 24)"
   ]
  },
  {
   "cell_type": "markdown",
   "metadata": {},
   "source": [
    "여기서는 ```gcd()``` 함수를 사용하지 않고 직접 계산해봅시다. 만약 여러가지 입력에 대해서 내가 구현한 것이 정확한지 확인하고 싶다면 ```gcd()```와 결과를 비교해보면 되겠지요.\n"
   ]
  },
  {
   "cell_type": "markdown",
   "metadata": {},
   "source": [
    "**스텝1** 먼저 18의 약수(divisor)들을 모두 포함하는 리스트를 만들어 봅시다.  예상 출력은\n",
    "\n",
    "```[1, 2, 3, 6, 9, 18]```  \n",
    "\n",
    "입니다. 이때 어떤 수가 18의 약수인지 아닌지를 검사할 때 작은 수에서 큰 수로 증가시켜가면서 검사한다면 자연스럽게 오름차순으로 정렬된 결과를 얻을 수 있습니다. 힌트: 리스트의 ```append()``` 메써드 사용."
   ]
  },
  {
   "cell_type": "code",
   "execution_count": null,
   "metadata": {},
   "outputs": [],
   "source": [
    "divisors_of_18 = []\n",
    "\n",
    "for i in range(1, 19):\n",
    "    pass # 여기에 구현\n",
    "\n",
    "divisors_of_18"
   ]
  },
  {
   "cell_type": "markdown",
   "metadata": {},
   "source": [
    "**스텝2** 이번에는 24의 약수들을 모두 포함하는 리스트를 만들어 봅시다. 위에서 작성한 코드를 거의 다 재사용해야겠지요. 오타도 주의하세요. 예상 출력은\n",
    "\n",
    "```[1, 2, 3, 4, 6, 8, 12, 24]```\n",
    "\n",
    "입니다."
   ]
  },
  {
   "cell_type": "code",
   "execution_count": null,
   "metadata": {},
   "outputs": [],
   "source": [
    "divisors_of_24 = []\n",
    "\n",
    "pass # 여기에 구현\n",
    "\n",
    "divisors_of_24"
   ]
  },
  {
   "cell_type": "markdown",
   "metadata": {},
   "source": [
    "**스텝3** 이번에는 두 리스트에서 공통되는 아이템들만 추려내봅시다. ```divisors_of_18```의 아이템들 중에서 ```divisors_of_24```에도 포함되는 것들을 새로운 리스트에 넣어주면 되겠지요. 예상 출력은\n",
    "\n",
    "```\n",
    "[1, 2, 3, 6]\n",
    "```\n",
    "\n",
    "입니다.\n"
   ]
  },
  {
   "cell_type": "code",
   "execution_count": null,
   "metadata": {},
   "outputs": [],
   "source": [
    "common_divisors = []\n",
    "\n",
    "# 위에서 구한 divisors_of_18/24를 그대로 사용할 수 있어요\n",
    "\n",
    "for i in divisors_of_18:\n",
    "    pass # 여기에 구현\n",
    "\n",
    "common_divisors"
   ]
  },
  {
   "cell_type": "markdown",
   "metadata": {},
   "source": [
    "**스텝4** common_divisors의 아이템들 중에서 가장 큰 것이 최대공약수겠지요? 이때 우리가 약수(divisors)들을 찾을 때 for문에서 작은 수에서 큰 수로 찾았기 때문에 마지막 아이템이 최대 공약수 입니다. common_divisors 리스트에 인덱싱을 사용해서 마지막 아이템을 출력해보세요.  \n",
    "```6```"
   ]
  },
  {
   "cell_type": "code",
   "execution_count": null,
   "metadata": {},
   "outputs": [],
   "source": [
    "#print(common_divisors[???])"
   ]
  },
  {
   "cell_type": "markdown",
   "metadata": {},
   "source": [
    "**스텝5** 여기서 잠깐 set도 사용해보고 갑시다. 리스트를 셋으로 바꾸고 ```intersection()``` 메써드와 ```max()``` 함수를 사용하면 같은 결과를 얻을 수 있습니다.  \n",
    "```6```"
   ]
  },
  {
   "cell_type": "code",
   "execution_count": null,
   "metadata": {},
   "outputs": [],
   "source": [
    "#max(set(???).intersection(???))"
   ]
  },
  {
   "cell_type": "markdown",
   "metadata": {},
   "source": [
    "**스텝6** 여기서부터가 진짜 문제입니다. for문을 하나만 사용해서 ```num1```과 ```num2```의 모든 공약수들을 구해보세요. 힌트: max의 반대는 min입니다.  \n",
    "```[1, 2, 3, 6]```"
   ]
  },
  {
   "cell_type": "code",
   "execution_count": null,
   "metadata": {},
   "outputs": [],
   "source": [
    "num1 = 18\n",
    "num2 = 24\n",
    "\n",
    "common_divisors = []\n",
    "\n",
    "# uses min()\n",
    "pass\n",
    "\n",
    "common_divisors"
   ]
  },
  {
   "cell_type": "markdown",
   "metadata": {},
   "source": [
    "**스텝7** 마지막으로 common_divisors 리스트를 거치지 않고 바로 greatest_common_divisor를 구해봅시다.  \n",
    "```6```"
   ]
  },
  {
   "cell_type": "code",
   "execution_count": null,
   "metadata": {},
   "outputs": [],
   "source": [
    "num1 = 18\n",
    "num2 = 24\n",
    "\n",
    "greatest_common_divisor = 1\n",
    "\n",
    "pass\n",
    "\n",
    "greatest_common_divisor"
   ]
  },
  {
   "cell_type": "markdown",
   "metadata": {},
   "source": [
    "다양한 ```num1```과 ```num2```에 대해 결과가 정확한지 확인해보고 싶다면 ```gcd()```의 결과와 비교해보세요."
   ]
  }
 ],
 "metadata": {
  "interpreter": {
   "hash": "f64e548cbf2ebb58caacc39a919b16809fbf0a70979c18e5ddba76aa9934d80e"
  },
  "kernelspec": {
   "display_name": "Python 3.9.5 64-bit ('base': conda)",
   "language": "python",
   "name": "python3"
  },
  "language_info": {
   "codemirror_mode": {
    "name": "ipython",
    "version": 3
   },
   "file_extension": ".py",
   "mimetype": "text/x-python",
   "name": "python",
   "nbconvert_exporter": "python",
   "pygments_lexer": "ipython3",
   "version": "3.9.5"
  },
  "orig_nbformat": 4
 },
 "nbformat": 4,
 "nbformat_minor": 2
}
