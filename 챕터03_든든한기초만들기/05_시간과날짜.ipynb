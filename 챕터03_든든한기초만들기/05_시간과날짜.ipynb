{
 "cells": [
  {
   "cell_type": "markdown",
   "metadata": {},
   "source": [
    "___\n",
    "<a href='https://cafe.naver.com/jmhonglab'><p style=\"text-align:center;\"><img src='https://lh3.googleusercontent.com/lY3ySXooSmwsq5r-mRi7uiypbo0Vez6pmNoQxMFhl9fmZJkRHu5lO2vo7se_0YOzgmDyJif9fi4_z0o3ZFdwd8NVSWG6Ea80uWaf3pOHpR4GHGDV7kaFeuHR3yAjIJjDgfXMxsvw=w2400'  class=\"center\" width=\"50%\" height=\"50%\"/></p></a>\n",
    "___\n",
    "<center><em>Content Copyright by HongLab, Inc.</em></center>"
   ]
  },
  {
   "cell_type": "markdown",
   "metadata": {},
   "source": [
    "# 날짜와 시간\n",
    "\n",
    "파이썬에서 날짜와 시간을 다루는 모듈들의 사용법을 간단히 살펴보겠습니다.\n",
    "\n",
    "### 날짜 다루기"
   ]
  },
  {
   "cell_type": "markdown",
   "metadata": {},
   "source": [
    "[calendar 모듈](https://docs.python.org/3/library/calendar.html)은 달력과 관련된 기능을 수행합니다. 예를 들어서 원하는 달의 달력을 출력할 수 있습니다."
   ]
  },
  {
   "cell_type": "code",
   "execution_count": null,
   "metadata": {},
   "outputs": [],
   "source": [
    "import calendar\n",
    "\n",
    "print(calendar.month(2024, 2))"
   ]
  },
  {
   "cell_type": "code",
   "execution_count": null,
   "metadata": {},
   "outputs": [],
   "source": [
    "import calendar\n",
    "\n",
    "for week in calendar.Calendar().monthdatescalendar(2024, 2):\n",
    "    print(week)"
   ]
  },
  {
   "cell_type": "markdown",
   "metadata": {},
   "source": [
    "\n",
    "\n",
    "\n",
    "\n",
    "\n",
    "\n",
    "날짜와 시간을 다룰 때는 [datetime 모듈](https://docs.python.org/3/library/datetime.html)을 사용합니다. 예를 들어서 아래와 같이 현재 날짜와 시간을 알 수 있습니다."
   ]
  },
  {
   "cell_type": "code",
   "execution_count": null,
   "metadata": {},
   "outputs": [],
   "source": [
    "import datetime\n",
    "\n",
    "# 현재 날짜와 시간을 출력하고 싶을 경우\n",
    "print(datetime.datetime.now())\n",
    "\n",
    "# 날짜와 시간을 따로따로 다룰 수도 있어요\n",
    "year = datetime.date.today().year\n",
    "month = datetime.date.today().month\n",
    "day = datetime.date.today().day\n",
    "hour = datetime.datetime.now().hour\n",
    "minute = datetime.datetime.now().minute\n",
    "second = datetime.datetime.now().second\n",
    "\n",
    "print(year, month, day, hour, minute, second)"
   ]
  },
  {
   "cell_type": "markdown",
   "metadata": {},
   "source": [
    "날짜간의 더하기 빼기도 할 수 있습니다."
   ]
  },
  {
   "cell_type": "code",
   "execution_count": null,
   "metadata": {},
   "outputs": [],
   "source": [
    "import datetime\n",
    "\n",
    "datetime.date(2021, 2, 28) + datetime.timedelta(days = 10)"
   ]
  },
  {
   "cell_type": "code",
   "execution_count": null,
   "metadata": {},
   "outputs": [],
   "source": [
    "import datetime\n",
    "\n",
    "datetime.date(2022, 5, 15) - datetime.date.today()"
   ]
  },
  {
   "cell_type": "markdown",
   "metadata": {},
   "source": [
    "\n",
    "\n",
    "\n",
    "\n",
    "\n",
    "\n",
    "\n",
    "\n",
    "### 시간 재기\n",
    "\n",
    "파이썬에서 시간을 측정할 때 사용할 수 있는 가장 간단한 방법은 [time 모듈](https://docs.python.org/3/library/time.html)을 사용하는 것입니다. ```time.time()```을 이용하면 현재 시간이 1970년 1월 1일 00:00:00 (UTC)로부터 몇 초가 지났는 지를 알려줍니다. \n",
    "\n",
    "아래와 같이 프로그램 안에서 시간이 얼마나 지났는지 시간의 간격을 초 단위로 측정할 때 많이 사용합니다."
   ]
  },
  {
   "cell_type": "code",
   "execution_count": null,
   "metadata": {},
   "outputs": [],
   "source": [
    "import time\n",
    "\n",
    "start_time = time.time()\n",
    "\n",
    "# 얼마나 걸리는지 시간을 재고 싶은 일을 여기서 합니다.\n",
    "time.sleep(1.5)  # 1.5초 동안 아무것도 하지 않고 쉽니다.\n",
    "\n",
    "end_time = time.time()\n",
    "\n",
    "elapsed_time = end_time - start_time\n",
    "\n",
    "print(elapsed_time) # 시간이 얼마나 지났는지 출력"
   ]
  },
  {
   "cell_type": "markdown",
   "metadata": {},
   "source": [
    "물론 datetime으로도 시간을 잴 수 있습니다."
   ]
  },
  {
   "cell_type": "code",
   "execution_count": null,
   "metadata": {},
   "outputs": [],
   "source": [
    "import time # sleep()을 사용하기 위해서\n",
    "import datetime\n",
    "\n",
    "start_time = datetime.datetime.now()\n",
    "\n",
    "# 얼마나 걸리는지 시간을 재고 싶은 일을 여기서 합니다.\n",
    "time.sleep(1.5)  # 1.5초 동안 아무것도 하지 않고 쉽니다.\n",
    "\n",
    "end_time = datetime.datetime.now()\n",
    "\n",
    "print(type(end_time))\n",
    "\n",
    "elapsed_time = end_time - start_time\n",
    "\n",
    "print(type(elapsed_time))\n",
    "\n",
    "print(elapsed_time.total_seconds()) # time과 사용 방법이 약간 다릅니다."
   ]
  },
  {
   "cell_type": "markdown",
   "metadata": {},
   "source": [
    "### 연습 문제\n",
    "\n",
    "##### [문제] 시간 단위 변환\n",
    "\n",
    "**스텝1** 80초를 분과 초로 바꿔보세요. 정수 나누기와 나머지를 사용하면 됩니다."
   ]
  },
  {
   "cell_type": "code",
   "execution_count": null,
   "metadata": {},
   "outputs": [],
   "source": [
    "input_seconds = 80\n",
    "\n",
    "\n",
    "\n",
    "#print(f\"{input_seconds}초는 {minutes}분 {seconds}초 입니다.\")"
   ]
  },
  {
   "cell_type": "markdown",
   "metadata": {},
   "source": [
    "**스텝2** 같은 문제를 앞에서 배운 ```divmod()``` 함수를 이용해서 해결해보세요."
   ]
  },
  {
   "cell_type": "code",
   "execution_count": null,
   "metadata": {},
   "outputs": [],
   "source": [
    "input_seconds = 80\n",
    "\n",
    "\n",
    "\n",
    "#print(f\"{input_seconds}초는 {minutes}분 {seconds}초 입니다.\")"
   ]
  },
  {
   "cell_type": "markdown",
   "metadata": {},
   "source": [
    "##### [문제] 시간에 대해 while문 사용하기"
   ]
  },
  {
   "cell_type": "markdown",
   "metadata": {},
   "source": [
    "```while``` 루프를 사용해서 총 5초 동안 1초에 한 번 씩 현재 시간을 출력하는 프로그램을 작성해봅시다."
   ]
  },
  {
   "cell_type": "code",
   "execution_count": null,
   "metadata": {},
   "outputs": [],
   "source": [
    "import time\n",
    "import datetime\n",
    "\n",
    "start_time = time.time()  # 시작 조건"
   ]
  },
  {
   "cell_type": "markdown",
   "metadata": {},
   "source": [
    "##### [문제] 윤년 확인\n",
    "\n",
    "calendar 모듈의 isleap()을 이용해서 어떤 해가 윤년인지 아닌지 판단할 수 있습니다. 예를 들어서 2022년은 윤년이 아니고 2024년은 윤년입니다."
   ]
  },
  {
   "cell_type": "code",
   "execution_count": null,
   "metadata": {},
   "outputs": [],
   "source": [
    "import calendar\n",
    "\n",
    "calendar.isleap(2022), calendar.isleap(2024)"
   ]
  },
  {
   "attachments": {},
   "cell_type": "markdown",
   "metadata": {},
   "source": [
    "윤년 판별 알고리즘을 직접 구현해봅시다.  \n",
    "1. 연습 삼아서 [위키피디아의 윤년 판별 순서도](https://upload.wikimedia.org/wikipedia/commons/5/52/Leap_Year_Algorithm.png)를 보고 복잡한 if-else로 구현해보거나 \n",
    "2. [스택오버플로우에서 더 간단한 방법을 찾아서](https://stackoverflow.com/questions/11621740/how-to-determine-whether-a-year-is-a-leap-year) 구현해보세요.\n",
    "\n",
    "여기서 중요한 것은 calendar.isleap()을 이용해서 여러분의 알고리즘이 올바르게 작동하는지 서기 1년부터 4000년까지 테스트를 해본다는 것 입니다.\n",
    "아래 코드를 참고하세요."
   ]
  },
  {
   "cell_type": "code",
   "execution_count": null,
   "metadata": {},
   "outputs": [],
   "source": [
    "import calendar\n",
    "\n",
    "for year in range(1, 4001): # 서기 1년부터 4000년까지 테스트\n",
    " \n",
    "    is_leap = None # 삭제 가능\n",
    "\n",
    "    # 여기에 year로부터 is_leap을 결정하는 코드를 넣어주세요.\n",
    " \n",
    "    if calendar.isleap(year) != is_leap:\n",
    "        print(\"Error\", year)\n",
    "        break\n",
    "\n",
    "else:\n",
    "    print(\"Passed all tests\")"
   ]
  }
 ],
 "metadata": {
  "interpreter": {
   "hash": "d187a48a8a4b28f37103ceb7e85bceb2b63d70db7314890fe18e7e16ec425e3f"
  },
  "kernelspec": {
   "display_name": "Python 3.9.7 64-bit ('base': conda)",
   "language": "python",
   "name": "python3"
  },
  "language_info": {
   "codemirror_mode": {
    "name": "ipython",
    "version": 3
   },
   "file_extension": ".py",
   "mimetype": "text/x-python",
   "name": "python",
   "nbconvert_exporter": "python",
   "pygments_lexer": "ipython3",
   "version": "3.10.0"
  },
  "orig_nbformat": 4
 },
 "nbformat": 4,
 "nbformat_minor": 2
}
