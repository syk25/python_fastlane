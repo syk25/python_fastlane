{
 "cells": [
  {
   "cell_type": "markdown",
   "metadata": {},
   "source": [
    "___\n",
    "<a href='https://cafe.naver.com/jmhonglab'><p style=\"text-align:center;\"><img src='https://lh3.googleusercontent.com/lY3ySXooSmwsq5r-mRi7uiypbo0Vez6pmNoQxMFhl9fmZJkRHu5lO2vo7se_0YOzgmDyJif9fi4_z0o3ZFdwd8NVSWG6Ea80uWaf3pOHpR4GHGDV7kaFeuHR3yAjIJjDgfXMxsvw=w2400'  class=\"center\" width=\"50%\" height=\"50%\"/></p></a>\n",
    "___\n",
    "<center><em>Content Copyright by HongLab, Inc.</em></center>"
   ]
  },
  {
   "cell_type": "markdown",
   "metadata": {},
   "source": [
    "# [상속(Inheritance)](https://docs.python.org/3/tutorial/classes.html#inheritance)"
   ]
  },
  {
   "cell_type": "markdown",
   "metadata": {},
   "source": [
    "\n",
    "### 기본적인 상속 방법\n",
    "\n",
    "상속을 사용하면 새로운 클래스를 만들 때 이미 존재하는 다른 클래스가 가지고 있는 속성들을 사용할 수 있습니다. 부모 클래스(parent class)와 자식 클래스(child class)라고 표현하기도 합니다. 파이썬에서는 상위 클래스(super class)와 하위 클래스(sub class)라는 용어를 사용하기도 합니다. 그 외에는 자식 클래스를 derived class, extended class라고 부르기도 합니다.\n"
   ]
  },
  {
   "cell_type": "code",
   "execution_count": null,
   "metadata": {},
   "outputs": [],
   "source": [
    "class SuperClass:\n",
    "    def method_super(self):\n",
    "        print(\"Super method\")\n",
    "\n",
    "\n",
    "# 괄호로 상속받을 클래스 이름 추가\n",
    "class SubClass(SuperClass):\n",
    "    pass\n",
    "\n",
    "\n",
    "i = SubClass()\n",
    "\n",
    "i.method_super()\n",
    "\n",
    "print(isinstance(i, SubClass), isinstance(i, SuperClass))\n",
    "print(issubclass(SubClass, SuperClass), issubclass(SuperClass, SubClass))"
   ]
  },
  {
   "cell_type": "markdown",
   "metadata": {},
   "source": [
    "기본적인 의도는 클래스를 여러 개 만들어야 하는 상황에서 공통적인 속성들을 묶어서 재활용하는 것입니다."
   ]
  },
  {
   "cell_type": "code",
   "execution_count": null,
   "metadata": {},
   "outputs": [],
   "source": [
    "# speak() 메써드는 클래스마다 다른 기능 수행\n",
    "# walk() 메써드는 동일한 기능 수행\n",
    "\n",
    "\n",
    "class Duck:\n",
    "    def walk(self):\n",
    "        print(\"걸어간다.\")\n",
    "\n",
    "    def speak(self):\n",
    "        print(\"꽥꽥\")\n",
    "\n",
    "\n",
    "class Dog:\n",
    "    def walk(self):\n",
    "        print(\"걸어간다.\")\n",
    "\n",
    "    def speak(self):\n",
    "        print(\"멍멍\")"
   ]
  },
  {
   "cell_type": "markdown",
   "metadata": {},
   "source": [
    "공통적인 메써드를 상위(부모) 클래스로 옮겼습니다. 상속을 \"is-a\" 관계로 설명하기도 합니다.\n"
   ]
  },
  {
   "cell_type": "code",
   "execution_count": null,
   "metadata": {},
   "outputs": [],
   "source": [
    "class Animal:\n",
    "    def walk(self):\n",
    "        print(\"걸어간다.\")\n",
    "\n",
    "\n",
    "\n",
    "\n",
    "duck1 = Duck()\n",
    "dog1 = Dog()\n",
    "\n",
    "duck1.walk() # 걸어간다.\n",
    "dog1.walk() # 걸어간다."
   ]
  },
  {
   "cell_type": "markdown",
   "metadata": {},
   "source": [
    "### 클래스들의 관계: is-a vs has-a\n",
    "\n",
    "꼭 상속을 사용해야만 재활용 할 수 있는 것은 아닙니다. 상속 받는 대신에 다른 클래스를 구성 요소로써 가져다가 사용할 수도 있습니다. 상속을 사용할지 여부는 문제에 따라서 결정해야 합니다."
   ]
  },
  {
   "cell_type": "code",
   "execution_count": null,
   "metadata": {},
   "outputs": [],
   "source": [
    "class Animal:\n",
    "    def walk(self):\n",
    "        print(\"걸어간다.\")\n",
    "\n",
    "\n",
    "\n",
    "duck1 = Duck()\n",
    "duck1.walk() # 걸어간다."
   ]
  },
  {
   "cell_type": "markdown",
   "metadata": {},
   "source": [
    "한 클래스에서 다른 클래스를 구성 요소로써 사용하는 것을 \"has-a\" 관계로 설명하기도 합니다. 디자인 패턴(design pattern)에서는 구성(composition) 관계라고 부릅니다."
   ]
  },
  {
   "cell_type": "code",
   "execution_count": null,
   "metadata": {},
   "outputs": [],
   "source": [
    "\n",
    "\n",
    "\n",
    "l = Lesson()\n",
    "l.run()"
   ]
  },
  {
   "cell_type": "markdown",
   "metadata": {},
   "source": [
    "[참고] 집합(Aggregation) 관계"
   ]
  },
  {
   "cell_type": "code",
   "execution_count": null,
   "metadata": {},
   "outputs": [],
   "source": [
    "\n",
    "\n",
    "l = Lesson(teacher, student)\n",
    "l.run()"
   ]
  },
  {
   "cell_type": "markdown",
   "metadata": {},
   "source": [
    "### 초기화 주의 사항\n",
    "\n",
    "서브 클래스의 ```__init()__```에서 수퍼 클래스의 ```__init()__```을 호출해주지 않으면 인스턴스 변수를 사용할 수가 없습니다."
   ]
  },
  {
   "cell_type": "code",
   "execution_count": null,
   "metadata": {},
   "outputs": [],
   "source": [
    "class SuperClass:\n",
    "\n",
    "    super_cls_var = \"A class variable of SuperClass\"\n",
    "\n",
    "    def __init__(self):\n",
    "        self.super_inst_var = \"An instance variable of SuperClass\"\n",
    "\n",
    "    def do_super(self):\n",
    "        print(\"In SuperClass :\", SuperClass.super_cls_var)\n",
    "        print(\"In SuperClass :\", self.super_inst_var)\n",
    "\n",
    "\n",
    "class SubClass(SuperClass):\n",
    "    def __init__(self):\n",
    "        # 부모 클래스 이름 사용\n",
    "        # self를 넣어줘야 합니다.\n",
    "        #SuperClass.__init__(self)\n",
    "        pass\n",
    "\n",
    "    def do_sub(self):\n",
    "        print(\"In SubClass :\", SuperClass.super_cls_var)\n",
    "        print(\"In SubClass :\", self.super_inst_var)\n",
    "        self.do_super()\n",
    "        #SuperClass.do_super(self)\n",
    "\n",
    "\n",
    "i = SubClass()\n",
    "\n",
    "i.do_super()\n",
    "i.do_sub()"
   ]
  },
  {
   "cell_type": "markdown",
   "metadata": {},
   "source": [
    "### [super()](https://docs.python.org/3/library/functions.html#super) 사용법\n",
    "\n",
    "부모 클래스의 이름을 직접 지정하는 것보다 편리합니다."
   ]
  },
  {
   "cell_type": "code",
   "execution_count": null,
   "metadata": {},
   "outputs": [],
   "source": [
    "class SuperClass:\n",
    "    def __init__(self):\n",
    "        self.super_inst_var = \"An instance variable of SuperClass\"\n",
    "\n",
    "    def do_super(self):\n",
    "        print(\"I'm super.\")\n",
    "\n",
    "\n",
    "class SubClass(SuperClass):\n",
    "    def __init__(self):\n",
    "        # 부모 클래스 이름 대신에 super() 사용\n",
    "        # self 불필요\n",
    "        super().__init__()\n",
    "\n",
    "    def do_sub(self):\n",
    "        super().do_super()\n",
    "        #SuperClass.do_super(self)\n",
    "        #super().do_super() # 뒤에서 배울 super()로 부모 클래스의 메써드 실행\n",
    "\n",
    "\n",
    "s = SubClass()\n",
    "\n",
    "s.do_sub()"
   ]
  },
  {
   "cell_type": "markdown",
   "metadata": {},
   "source": [
    "##### [예시] 도형 클래스 초기화\n",
    "\n",
    "모든 자식 클래스들이 공통적으로 갖게 되는 x, y 좌표는 부모 클래스에서 초기화하고 그 외의 속성들은 자식 클래스에서 초기화합니다."
   ]
  },
  {
   "cell_type": "code",
   "execution_count": null,
   "metadata": {},
   "outputs": [],
   "source": [
    "class Shape:\n",
    "    def __init__(self, x, y):\n",
    "        # 도형의 중심\n",
    "        self.x = x\n",
    "        self.y = y\n",
    "\n",
    "\n",
    "class Circle(Shape):\n",
    "    def __init__(self, x, y, r):\n",
    "        # 빈칸\n",
    "        self.r = r  # 반지름\n",
    "\n",
    "\n",
    "class Box(Shape):\n",
    "    def __init__(self, x, y, width, height):\n",
    "        # 빈칸\n",
    "        self.width = width\n",
    "        self.height = height\n"
   ]
  },
  {
   "cell_type": "markdown",
   "metadata": {},
   "source": [
    "### 메써드 재정의(Overriding)\n",
    "\n",
    "\n",
    "\n",
    "\n",
    "\n",
    "\n",
    "\n",
    "\n",
    "\n",
    "\n",
    "\n",
    "\n",
    "\n",
    "\n",
    "\n",
    "\n",
    "\n",
    "\n"
   ]
  },
  {
   "cell_type": "markdown",
   "metadata": {},
   "source": [
    "부모 클래스의 메써드와 같은 이름의 메써드를 자식 클래스에 만드는 것\n",
    "\n",
    "실행되어서는 안될 메써드가 실행되었을 경우\n",
    "- [raise](https://docs.python.org/3/reference/simple_stmts.html#the-raise-statement) NotImplementedError\n",
    "- [assert](https://docs.python.org/3/reference/simple_stmts.html#the-assert-statement) (디버깅에 사용)"
   ]
  },
  {
   "cell_type": "code",
   "execution_count": null,
   "metadata": {},
   "outputs": [],
   "source": [
    "class Shape:\n",
    "    def __init__(self, x, y):\n",
    "        # 도형의 중심\n",
    "        self.x = x\n",
    "        self.y = y\n",
    "\n",
    "    # # 추상적인 상위 클래스에서는 구현할 수 없는 기능\n",
    "    # # 자식 클래스들은 구현해야 한다는 안내\n",
    "    # def area(self):\n",
    "    #     # raise로 예외를 발생\n",
    "    #     # raise NotImplementedError(f\"In {type(self)},  area() is not implemented\")\n",
    "    #     assert False, f\"In {type(self)},  area() is not implemented\"\n",
    "\n",
    "    def print_area(self):\n",
    "        print(f\"넓이는 {self.area():.2f} 입니다.\")\n",
    "\n",
    "\n",
    "b = Box(0, 0, 5, 6)\n",
    "print(b.area()) # 30\n",
    "b.print_area() # 넓이는 30 입니다.\n",
    "\n",
    "c = Circle(0, 0, 1)\n",
    "c.area()\n"
   ]
  },
  {
   "cell_type": "markdown",
   "metadata": {},
   "source": [
    "다형성(Polymorphism)을 이용하는 사례\n"
   ]
  },
  {
   "cell_type": "code",
   "execution_count": null,
   "metadata": {},
   "outputs": [],
   "source": [
    "class Shape:\n",
    "    def __init__(self, x, y):\n",
    "        # 도형의 중심\n",
    "        self.x = x\n",
    "        self.y = y\n",
    "\n",
    "    # 추상적인 상위 클래스에서는 구현할 수 없는 기능\n",
    "    def area(self):\n",
    "        # assert(False)\n",
    "        raise NotImplementedError(type(self), \"area() is not implemented\")\n",
    "\n",
    "    def print_area(self):\n",
    "        print(f\"넓이는 {self.area():.2f} 입니다.\")\n",
    "\n",
    "\n",
    "\n",
    "\n",
    "\n",
    "b1 = Box(0, 0, 5, 5)\n",
    "b2 = Box(1, 3, 2, 5)\n",
    "c1 = Circle(0, 0, 2)\n",
    "c2 = Circle(3, 4, 3)\n",
    "\n",
    "for s in [b1, b2, c1, c2]:\n",
    "    #print(s.area())  # 덕 타이핑\n",
    "    s.print_area()"
   ]
  },
  {
   "cell_type": "markdown",
   "metadata": {},
   "source": [
    "##### [실습] 동물 클래스 설계"
   ]
  },
  {
   "cell_type": "code",
   "execution_count": null,
   "metadata": {},
   "outputs": [],
   "source": [
    "class Animal:\n",
    "\n",
    "    def __init__(self, type):\n",
    "        self.type = type # \"오리\", \"병아리\" 등\n",
    "\n",
    "    def speak(self):\n",
    "        pass\n",
    "\n",
    "class Duck(Animal):\n",
    "\n",
    "    def __init__(self):\n",
    "        pass\n",
    "\n",
    "    def sound(self):\n",
    "        return \"꽥꽥\"\n",
    "\n",
    "class Chick(Animal):\n",
    "\n",
    "    def __init__(self):\n",
    "        pass\n",
    "\n",
    "    def sound(self):\n",
    "        return \"삐약삐약\"\n",
    "\n",
    "\n",
    "d = Duck()\n",
    "c = Chick()\n",
    "\n",
    "for a in [d, c]:\n",
    "    a.speak()\n",
    "# 오리 꽥꽥\n",
    "# 병아리 삐약삐약"
   ]
  },
  {
   "cell_type": "markdown",
   "metadata": {},
   "source": [
    "### 다중 상속\n",
    "\n",
    "두 개 이상의 클래스로부터 상속을 받을 때는 생성자를 클래스 이름으로 각각 호출해주세요."
   ]
  },
  {
   "cell_type": "code",
   "execution_count": null,
   "metadata": {},
   "outputs": [],
   "source": [
    "class A:\n",
    "    def __init__(self):\n",
    "        print(\"A\")\n",
    "\n",
    "\n",
    "class B:\n",
    "    def __init__(self):\n",
    "        print(\"B\")\n",
    "\n",
    "\n",
    "class C(A, B):\n",
    "    def __init__(self):\n",
    "        super().__init__()\n",
    "\n",
    "        print(\"C\")\n",
    "\n",
    "\n",
    "c = C()"
   ]
  },
  {
   "cell_type": "markdown",
   "metadata": {},
   "source": [
    "상속을 여러 레벨로 할 경우에는 생성자가 연쇄적으로 호출될 수 있도록 만들어주세요."
   ]
  },
  {
   "cell_type": "code",
   "execution_count": null,
   "metadata": {},
   "outputs": [],
   "source": [
    "class A:\n",
    "    def __init__(self):\n",
    "        print(\"A\")\n",
    "\n",
    "\n",
    "class B(A):\n",
    "    def __init__(self):\n",
    "\n",
    "        print(\"B\")\n",
    "\n",
    "\n",
    "class C(B):\n",
    "    def __init__(self):\n",
    "\n",
    "        \n",
    "        # 생성자를 따로따로 호출할 필요 없음\n",
    "        # A.__init__(self)\n",
    "        # B.__init__(self)\n",
    "\n",
    "        print(\"C\")\n",
    "\n",
    "\n",
    "c = C()"
   ]
  },
  {
   "cell_type": "markdown",
   "metadata": {},
   "source": [
    "[다이아몬드 상속](https://en.wikipedia.org/wiki/Multiple_inheritance)\n",
    "\n",
    "상속 구조가 복잡할 경우에 메써드를 찾는 우선순위는 [MRO(Method Resolution Order)](https://www.python.org/download/releases/2.3/mro/)를 따릅니다. ```ClassName.mro()```로 확인할 수 있습니다."
   ]
  },
  {
   "cell_type": "code",
   "execution_count": null,
   "metadata": {},
   "outputs": [],
   "source": [
    "class A:\n",
    "    def __init__(self):\n",
    "        print(\"A\")\n",
    "\n",
    "class B:\n",
    "    pass\n",
    "\n",
    "class C:\n",
    "    pass\n",
    "\n",
    "class D(B, C):\n",
    "    def __init__(self):\n",
    "        print(\"D in\")\n",
    "        super().__init__()\n",
    "        print(\"D out\")\n",
    "\n",
    "print(D.mro())  # MRO 확인\n",
    "d = D()\n"
   ]
  },
  {
   "cell_type": "markdown",
   "metadata": {},
   "source": [
    "### Object 클래스\n",
    "\n",
    "파이썬에서 모든 클래스는 object 클래스의 하위 클래스입니다. object 클래스 상속은 생략할 수 있습니다.\n"
   ]
  },
  {
   "cell_type": "code",
   "execution_count": null,
   "metadata": {},
   "outputs": [],
   "source": [
    "# class MyClass(object):\n",
    "class MyClass:\n",
    "    pass\n"
   ]
  },
  {
   "cell_type": "markdown",
   "metadata": {},
   "source": [
    "앞에서 사용한 ```__init()__```, ```__str__()``` 등은 모두 object 클래스의 해당 메써드들을 재정의한 것입니다."
   ]
  },
  {
   "cell_type": "code",
   "execution_count": null,
   "metadata": {},
   "outputs": [],
   "source": [
    "dir(object)"
   ]
  },
  {
   "cell_type": "markdown",
   "metadata": {},
   "source": [
    "### [Private variables](https://docs.python.org/3/tutorial/classes.html#tut-private)\n",
    "\n",
    "[Name mangling](https://en.wikipedia.org/wiki/Name_mangling#:~:text=In%20Python%2C%20mangling%20is%20used,more%20than%20one%20trailing%20underscore)"
   ]
  },
  {
   "cell_type": "code",
   "execution_count": null,
   "metadata": {},
   "outputs": [],
   "source": [
    "\n",
    "\n",
    "a = A()\n",
    "#a.__speak() # 이름 사용 불가\n",
    "#a.lonely()\n",
    "\n",
    "b = B()\n",
    "#b.__speak() # 자식 클래스도 사용 불가\n",
    "\n",
    "dir(a)"
   ]
  },
  {
   "cell_type": "markdown",
   "metadata": {},
   "source": [
    "### 데이터 숨기기 (Data Hiding)\n"
   ]
  },
  {
   "cell_type": "code",
   "execution_count": null,
   "metadata": {},
   "outputs": [],
   "source": [
    "class MyMind:\n",
    "    def __init__(self):\n",
    "        self._secret = \"나는 산타를 믿어요\"\n",
    "\n",
    "    def get_secret(self): # getter\n",
    "        return self._secret\n",
    "\n",
    "    def set_secret(self, new_secret): # setter\n",
    "        self._secret = new_secret\n",
    "        # 주로 변화로 인한 2차적인 파급효과가 있는 경우에 사용\n",
    "\n",
    "\n",
    "m = MyMind()\n",
    "\n",
    "# m._secret = \"헬로\" # 문법적으로 할 수는 있으나 하지 말 것"
   ]
  },
  {
   "cell_type": "markdown",
   "metadata": {},
   "source": [
    "데코레이터 이용"
   ]
  },
  {
   "cell_type": "code",
   "execution_count": null,
   "metadata": {},
   "outputs": [],
   "source": [
    "class MyMind:\n",
    "    pass\n",
    "\n",
    "\n",
    "m = MyMind()\n",
    "print(m.secret)  # getter called\n",
    "m.secret = \"없음\"  # setter called"
   ]
  },
  {
   "cell_type": "markdown",
   "metadata": {},
   "source": [
    "### [실습] FaceMesh 상속\n",
    "\n"
   ]
  },
  {
   "cell_type": "code",
   "execution_count": null,
   "metadata": {},
   "outputs": [],
   "source": [
    "import cv2\n",
    "import mediapipe as mp\n",
    "\n",
    "\n",
    "def find_landmarks(img_bgr, face_mesh):\n",
    "    \"\"\"Normalized image space to pixel space\"\"\"\n",
    "\n",
    "    img_rgb = cv2.cvtColor(img_bgr, cv2.COLOR_BGR2RGB)\n",
    "    results = face_mesh.process(img_rgb)\n",
    "    landmarks = []\n",
    "    if results.multi_face_landmarks:\n",
    "        for person in results.multi_face_landmarks:\n",
    "            face = []\n",
    "            for id, lm in enumerate(person.landmark):\n",
    "                ih, iw, _ = img_bgr.shape\n",
    "                x, y = int(lm.x * iw), int(lm.y * ih)\n",
    "                face.append([x, y])\n",
    "            landmarks.append(face)\n",
    "    return landmarks\n",
    "\n",
    "\n",
    "img = cv2.imread(\"jmhong_face.jpg\")\n",
    "\n",
    "with mp.solutions.face_mesh.FaceMesh(\n",
    "    max_num_faces=1,\n",
    "    refine_landmarks=True,\n",
    "    min_detection_confidence=0.5,\n",
    "    min_tracking_confidence=0.5,\n",
    ") as face_mesh:\n",
    "\n",
    "    landmarks = find_landmarks(img, face_mesh)\n",
    "\n",
    "    for xy in landmarks[0]:  # [0] is for the first person\n",
    "        cv2.circle(img, xy, 2, (255, 255, 255), cv2.FILLED)\n",
    "\n",
    "        # 특정 랜드마크만 그리기\n",
    "        cv2.circle(img, landmarks[0][159], 2, (255, 255, 255), cv2.FILLED)\n",
    "        cv2.circle(img, landmarks[0][145], 2, (255, 255, 255), cv2.FILLED)\n",
    "\n",
    "cv2.imshow(\"Landmarks\", img)\n",
    "cv2.waitKey(0)\n",
    "cv2.destroyAllWindows()"
   ]
  },
  {
   "cell_type": "code",
   "execution_count": null,
   "metadata": {},
   "outputs": [],
   "source": [
    "import cv2\n",
    "import mediapipe as mp\n",
    "\n",
    "# 여기에 class MyFaceMesh를 만드세요.\n",
    "class MyFaceMesh:\n",
    "    pass\n",
    "\n",
    "\n",
    "# 이 아래는 수정할 필요 없음\n",
    "with MyFaceMesh(\n",
    "    max_num_faces=1,\n",
    "    refine_landmarks=True,\n",
    "    min_detection_confidence=0.5,\n",
    "    min_tracking_confidence=0.5,\n",
    ") as my_face_mesh:\n",
    "\n",
    "    img_bgr = cv2.imread(\"jmhong_face.jpg\")\n",
    "\n",
    "    landmarks = my_face_mesh.process(img_bgr)\n",
    "\n",
    "    for xy in landmarks[0]:  # [0] is for the first person\n",
    "        cv2.circle(img, xy, 2, (255, 255, 255), cv2.FILLED)\n",
    "\n",
    "        # 특정 랜드마크만 그리기\n",
    "        cv2.circle(img, landmarks[0][159], 2, (255, 255, 255), cv2.FILLED)\n",
    "        cv2.circle(img, landmarks[0][145], 2, (255, 255, 255), cv2.FILLED)\n",
    "\n",
    "cv2.imshow(\"Landmarks\", img)\n",
    "cv2.waitKey(0)\n",
    "cv2.destroyAllWindows()"
   ]
  }
 ],
 "metadata": {
  "interpreter": {
   "hash": "f64e548cbf2ebb58caacc39a919b16809fbf0a70979c18e5ddba76aa9934d80e"
  },
  "kernelspec": {
   "display_name": "Python 3.9.5 64-bit ('base': conda)",
   "language": "python",
   "name": "python3"
  },
  "language_info": {
   "codemirror_mode": {
    "name": "ipython",
    "version": 3
   },
   "file_extension": ".py",
   "mimetype": "text/x-python",
   "name": "python",
   "nbconvert_exporter": "python",
   "pygments_lexer": "ipython3",
   "version": "3.10.2"
  },
  "orig_nbformat": 4
 },
 "nbformat": 4,
 "nbformat_minor": 2
}
