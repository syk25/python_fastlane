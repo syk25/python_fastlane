{
 "cells": [
  {
   "cell_type": "markdown",
   "metadata": {},
   "source": [
    "___\n",
    "<a href='https://cafe.naver.com/jmhonglab'><p style=\"text-align:center;\"><img src='https://lh3.googleusercontent.com/lY3ySXooSmwsq5r-mRi7uiypbo0Vez6pmNoQxMFhl9fmZJkRHu5lO2vo7se_0YOzgmDyJif9fi4_z0o3ZFdwd8NVSWG6Ea80uWaf3pOHpR4GHGDV7kaFeuHR3yAjIJjDgfXMxsvw=w2400'  class=\"center\" width=\"50%\" height=\"50%\"/></p></a>\n",
    "___\n",
    "<center><em>Content Copyright by HongLab, Inc.</em></center>"
   ]
  },
  {
   "cell_type": "markdown",
   "metadata": {},
   "source": [
    "# [상속(Inheritance)](https://docs.python.org/3/tutorial/classes.html#inheritance)"
   ]
  },
  {
   "cell_type": "markdown",
   "metadata": {},
   "source": [
    "\n",
    "### 기본적인 상속 방법\n",
    "\n",
    "상속을 사용하면 새로운 클래스를 만들 때 이미 존재하는 다른 클래스가 가지고 있는 속성들을 사용할 수 있습니다. 부모 클래스(parent class)와 자식 클래스(child class)라고 표현하기도 합니다. 파이썬에서는 상위 클래스(super class)와 하위 클래스(sub class)라는 용어를 사용하기도 합니다. 그 외에는 자식 클래스를 derived class, extended class라고 부르기도 합니다.\n"
   ]
  },
  {
   "cell_type": "code",
   "execution_count": null,
   "metadata": {},
   "outputs": [],
   "source": [
    "# 부모클래스\n",
    "class SuperClass:\n",
    "    def method_super(self):\n",
    "        print(\"Super method\")\n",
    "\n",
    "\n",
    "# 자식클래스: 괄호로 상속받을 클래스 이름 추가\n",
    "class SubClass(SuperClass):\n",
    "    pass\n",
    "\n",
    "\n",
    "i = SubClass()\n",
    "\n",
    "i.method_super()  # 자식객체는 부모 클래스의 메서드 호출 가능\n",
    "\n",
    "print(\n",
    "    isinstance(i, SubClass), isinstance(i, SuperClass)\n",
    ")  # 자식객체는 자식클래스는 물론, 부모클래스의 자료형이기도하다\n",
    "print(issubclass(SubClass, SuperClass), issubclass(SuperClass, SubClass))\n"
   ]
  },
  {
   "cell_type": "markdown",
   "metadata": {},
   "source": [
    "기본적인 의도는 클래스를 여러 개 만들어야 하는 상황에서 공통적인 속성들을 묶어서 재활용하는 것입니다."
   ]
  },
  {
   "cell_type": "code",
   "execution_count": 2,
   "metadata": {},
   "outputs": [],
   "source": [
    "# speak() 메써드는 클래스마다 다른 기능 수행\n",
    "# walk() 메써드는 동일한 기능 수행\n",
    "\n",
    "\n",
    "class Duck:\n",
    "    def walk(self):\n",
    "        print(\"걸어간다.\")\n",
    "\n",
    "    def speak(self):\n",
    "        print(\"꽥꽥\")\n",
    "\n",
    "\n",
    "class Dog:\n",
    "    def walk(self):\n",
    "        print(\"걸어간다.\")\n",
    "\n",
    "    def speak(self):\n",
    "        print(\"멍멍\")\n"
   ]
  },
  {
   "cell_type": "markdown",
   "metadata": {},
   "source": [
    "공통적인 메써드를 상위(부모) 클래스로 옮겼습니다. 상속을 \"is-a\" 관계로 설명하기도 합니다.\n"
   ]
  },
  {
   "cell_type": "code",
   "execution_count": 1,
   "metadata": {},
   "outputs": [
    {
     "name": "stdout",
     "output_type": "stream",
     "text": [
      "걸어간다.\n",
      "걸어간다.\n"
     ]
    }
   ],
   "source": [
    "class Animal:\n",
    "    def walk(self):\n",
    "        print(\"걸어간다.\")\n",
    "\n",
    "\n",
    "class Duck(Animal):\n",
    "    def speak(self):\n",
    "        print(\"꽥꽥\")\n",
    "\n",
    "\n",
    "class Dog(Animal):\n",
    "    def speak(self):\n",
    "        print(\"멍멍\")\n",
    "\n",
    "\n",
    "duck1 = Duck()\n",
    "dog1 = Dog()\n",
    "\n",
    "duck1.walk()  # 걸어간다.\n",
    "dog1.walk()  # 걸어간다.\n"
   ]
  },
  {
   "cell_type": "markdown",
   "metadata": {},
   "source": [
    "### 클래스들의 관계: is-a vs has-a\n",
    "\n",
    "꼭 상속을 사용해야만 재활용 할 수 있는 것은 아닙니다. 상속 받는 대신에 다른 클래스를 구성 요소로써 가져다가 사용할 수도 있습니다. 상속을 사용할지 여부는 문제에 따라서 결정해야 합니다."
   ]
  },
  {
   "cell_type": "code",
   "execution_count": null,
   "metadata": {},
   "outputs": [],
   "source": [
    "class Animal:\n",
    "    def walk(self):\n",
    "        print(\"걸어간다.\")\n",
    "\n",
    "\n",
    "# Duck은 Animal의 자식 클래스 -> is-a 관계\n",
    "class Duck(Animal):\n",
    "    def speak(self):\n",
    "        print(\"꽥꽥\")\n",
    "\n",
    "\n",
    "duck1 = Duck()\n",
    "duck1.walk()  # 걸어간다.\n"
   ]
  },
  {
   "cell_type": "markdown",
   "metadata": {},
   "source": [
    "한 클래스에서 다른 클래스를 구성 요소로써 사용하는 것을 \"has-a\" 관계로 설명하기도 합니다. 디자인 패턴(design pattern)에서는 구성(composition) 관계라고 부릅니다."
   ]
  },
  {
   "cell_type": "code",
   "execution_count": 2,
   "metadata": {},
   "outputs": [
    {
     "name": "stdout",
     "output_type": "stream",
     "text": [
      "가르칩니다.\n",
      "공부합니다.\n"
     ]
    }
   ],
   "source": [
    "class Student:\n",
    "    def study(self):\n",
    "        print(\"공부합니다.\")\n",
    "\n",
    "\n",
    "class Teacher:\n",
    "    def teach(self):\n",
    "        print(\"가르칩니다.\")\n",
    "\n",
    "\n",
    "# 구성관계: 다른 클래스의 객체들을 인스턴스 내부에서 소유한다\n",
    "class Lesson:\n",
    "    def __init__(self):\n",
    "        self.teacher = Teacher()\n",
    "        self.student = Student()\n",
    "\n",
    "    def run(self):\n",
    "        self.teacher.teach()\n",
    "        self.student.study()\n",
    "\n",
    "\n",
    "l = Lesson()\n",
    "l.run()\n"
   ]
  },
  {
   "cell_type": "markdown",
   "metadata": {},
   "source": [
    "[참고] 집합(Aggregation) 관계"
   ]
  },
  {
   "cell_type": "code",
   "execution_count": 3,
   "metadata": {},
   "outputs": [
    {
     "name": "stdout",
     "output_type": "stream",
     "text": [
      "가르칩니다.\n",
      "공부합니다.\n"
     ]
    }
   ],
   "source": [
    "class Student:\n",
    "    def study(self):\n",
    "        print(\"공부합니다.\")\n",
    "\n",
    "\n",
    "class Teacher:\n",
    "    def teach(self):\n",
    "        print(\"가르칩니다.\")\n",
    "\n",
    "\n",
    "# 집합관계: 다른 클래스의 객체들을 외부에서 받는다\n",
    "class Lesson:\n",
    "    def __init__(self, teacher, student):\n",
    "        self.teacher = teacher\n",
    "        self.student = student\n",
    "\n",
    "    def run(self):\n",
    "        self.teacher.teach()\n",
    "        self.student.study()\n",
    "\n",
    "\n",
    "teacher = Teacher()\n",
    "student = Student()\n",
    "\n",
    "\n",
    "l = Lesson(teacher, student)\n",
    "l.run()\n"
   ]
  },
  {
   "cell_type": "markdown",
   "metadata": {},
   "source": [
    "### 초기화 주의 사항\n",
    "\n",
    "서브 클래스의 ```__init()__```에서 수퍼 클래스의 ```__init()__```을 호출해주지 않으면 인스턴스 변수를 사용할 수가 없습니다."
   ]
  },
  {
   "cell_type": "code",
   "execution_count": 10,
   "metadata": {},
   "outputs": [
    {
     "name": "stdout",
     "output_type": "stream",
     "text": [
      "In SuperClass : A class variable of SuperClass\n",
      "In SuperClass : An instance variable of SuperClass\n",
      "In SubClass : A class variable of SuperClass\n",
      "In SubClass : An instance variable of SuperClass\n",
      "In SuperClass : A class variable of SuperClass\n",
      "In SuperClass : An instance variable of SuperClass\n",
      "In SuperClass : A class variable of SuperClass\n",
      "In SuperClass : An instance variable of SuperClass\n"
     ]
    }
   ],
   "source": [
    "class SuperClass:\n",
    "\n",
    "    # 클래스변수\n",
    "    super_cls_var = \"A class variable of SuperClass\"\n",
    "\n",
    "    def __init__(self):\n",
    "        self.super_inst_var = \"An instance variable of SuperClass\"\n",
    "\n",
    "    def do_super(self):\n",
    "        print(\n",
    "            \"In SuperClass :\", SuperClass.super_cls_var\n",
    "        )  # 클래스명으로 클래스변수에 접근\n",
    "        print(\"In SuperClass :\", self.super_inst_var)  # 인스턴스변수에 접근\n",
    "\n",
    "\n",
    "class SubClass(SuperClass):\n",
    "    def __init__(self):\n",
    "        # 부모 클래스 이름 사용\n",
    "        # self를 넣어줘야 합니다.\n",
    "        SuperClass.__init__(\n",
    "            self\n",
    "        )  # 부모클래스의 클래스변수와 인스턴스 변수에 접근하려면 부모클래스의 인스턴스도 초기화해야함\n",
    "\n",
    "    def do_sub(self):\n",
    "        print(\"In SubClass :\", SuperClass.super_cls_var)\n",
    "        print(\"In SubClass :\", self.super_inst_var)\n",
    "        self.do_super()\n",
    "        SuperClass.do_super(self)\n",
    "\n",
    "\n",
    "i = SubClass()\n",
    "\n",
    "i.do_super()\n",
    "i.do_sub()\n"
   ]
  },
  {
   "cell_type": "markdown",
   "metadata": {},
   "source": [
    "### [super()](https://docs.python.org/3/library/functions.html#super) 사용법\n",
    "\n",
    "부모 클래스의 이름을 직접 지정하는 것보다 편리합니다."
   ]
  },
  {
   "cell_type": "code",
   "execution_count": 13,
   "metadata": {},
   "outputs": [
    {
     "name": "stdout",
     "output_type": "stream",
     "text": [
      "I'm super.\n",
      "I'm super.\n",
      "I'm super.\n"
     ]
    }
   ],
   "source": [
    "class SuperClass:\n",
    "    def __init__(self):\n",
    "        self.super_inst_var = \"An instance variable of SuperClass\"\n",
    "\n",
    "    def do_super(self):\n",
    "        print(\"I'm super.\")\n",
    "\n",
    "\n",
    "class SubClass(SuperClass):\n",
    "    def __init__(self):\n",
    "        # 부모 클래스 이름 대신에 super() 사용\n",
    "        # self 불필요\n",
    "        super().__init__()\n",
    "\n",
    "    def do_sub(self):\n",
    "        super().do_super()\n",
    "        SuperClass.do_super(self)\n",
    "        super().do_super()  # 뒤에서 배울 super()로 부모 클래스의 메써드 실행\n",
    "\n",
    "\n",
    "s = SubClass()\n",
    "\n",
    "s.do_sub()\n"
   ]
  },
  {
   "cell_type": "markdown",
   "metadata": {},
   "source": [
    "##### [예시] 도형 클래스 초기화\n",
    "\n",
    "모든 자식 클래스들이 공통적으로 갖게 되는 x, y 좌표는 부모 클래스에서 초기화하고 그 외의 속성들은 자식 클래스에서 초기화합니다."
   ]
  },
  {
   "cell_type": "code",
   "execution_count": 14,
   "metadata": {},
   "outputs": [],
   "source": [
    "class Shape:\n",
    "    def __init__(self, x, y):\n",
    "        # 도형의 중심\n",
    "        self.x = x\n",
    "        self.y = y\n",
    "\n",
    "\n",
    "class Circle(Shape):\n",
    "    def __init__(self, x, y, r):\n",
    "        # 빈칸\n",
    "        super().__init(x, y)\n",
    "        self.r = r  # 반지름\n",
    "\n",
    "\n",
    "class Box(Shape):\n",
    "    def __init__(self, x, y, width, height):\n",
    "        # 빈칸\n",
    "        super().__init(x, y)\n",
    "        self.width = width\n",
    "        self.height = height\n"
   ]
  },
  {
   "cell_type": "markdown",
   "metadata": {},
   "source": [
    "### 메써드 재정의(Overriding)\n",
    "\n",
    "\n",
    "\n",
    "\n",
    "\n",
    "\n",
    "\n",
    "\n",
    "\n",
    "\n",
    "\n",
    "\n",
    "\n",
    "\n",
    "\n",
    "\n",
    "\n",
    "\n"
   ]
  },
  {
   "cell_type": "markdown",
   "metadata": {},
   "source": [
    "부모 클래스의 메써드와 같은 이름의 메써드를 자식 클래스에 만드는 것\n",
    "\n",
    "실행되어서는 안될 메써드가 실행되었을 경우\n",
    "- [raise](https://docs.python.org/3/reference/simple_stmts.html#the-raise-statement) NotImplementedError\n",
    "- [assert](https://docs.python.org/3/reference/simple_stmts.html#the-assert-statement) (디버깅에 사용)"
   ]
  },
  {
   "cell_type": "code",
   "execution_count": 10,
   "metadata": {},
   "outputs": [
    {
     "name": "stdout",
     "output_type": "stream",
     "text": [
      "30\n",
      "넓이는 30.00 입니다.\n"
     ]
    },
    {
     "data": {
      "text/plain": [
       "3.14"
      ]
     },
     "execution_count": 10,
     "metadata": {},
     "output_type": "execute_result"
    }
   ],
   "source": [
    "class Shape:\n",
    "    def __init__(self, x, y):\n",
    "        # 도형의 중심\n",
    "        self.x = x\n",
    "        self.y = y\n",
    "\n",
    "    # # 추상적인 상위 클래스에서는 구현할 수 없는 기능\n",
    "    # # 자식 클래스들은 구현해야 한다는 안내\n",
    "    def area(self):\n",
    "        # raise로 예외를 발생\n",
    "        # raise NotImplementedError(f\"In {type(self)},  area() is not implemented\")\n",
    "        assert False, f\"In {type(self)},  area() is not implemented\"\n",
    "\n",
    "    def print_area(self):\n",
    "        print(f\"넓이는 {self.area():.2f} 입니다.\")\n",
    "\n",
    "\n",
    "class Box(Shape):\n",
    "    def __init__(self, x, y, width, height):\n",
    "        super().__init__(x, y)\n",
    "        self.width = width\n",
    "        self.height = height\n",
    "\n",
    "    def area(self):\n",
    "        return self.width * self.height\n",
    "\n",
    "\n",
    "class Circle(Shape):\n",
    "    def __init__(self, x, y, r):\n",
    "        super().__init__(x, y)\n",
    "        self.r = r\n",
    "\n",
    "    def area(self):\n",
    "        return 3.14 * self.r**2\n",
    "\n",
    "\n",
    "b = Box(0, 0, 5, 6)\n",
    "print(b.area())  # 30\n",
    "b.print_area()  # 넓이는 30 입니다.\n",
    "\n",
    "c = Circle(0, 0, 1)\n",
    "c.area()\n"
   ]
  },
  {
   "cell_type": "markdown",
   "metadata": {},
   "source": [
    "다형성(Polymorphism)을 이용하는 사례\n"
   ]
  },
  {
   "cell_type": "code",
   "execution_count": 5,
   "metadata": {},
   "outputs": [
    {
     "name": "stdout",
     "output_type": "stream",
     "text": [
      "넓이는 25.00 입니다.\n",
      "넓이는 10.00 입니다.\n",
      "넓이는 12.56 입니다.\n",
      "넓이는 28.26 입니다.\n"
     ]
    }
   ],
   "source": [
    "class Shape:\n",
    "    def __init__(self, x, y):\n",
    "        # 도형의 중심\n",
    "        self.x = x\n",
    "        self.y = y\n",
    "\n",
    "    # 추상적인 상위 클래스에서는 구현할 수 없는 기능\n",
    "    def area(self):\n",
    "        # assert(False)\n",
    "        raise NotImplementedError(type(self), \"area() is not implemented\")\n",
    "\n",
    "    def print_area(self):\n",
    "        print(f\"넓이는 {self.area():.2f} 입니다.\")\n",
    "\n",
    "\n",
    "class Box(Shape):\n",
    "    def __init__(self, x, y, width, height):\n",
    "        super().__init__(x, y)\n",
    "        self.width = width\n",
    "        self.height = height\n",
    "\n",
    "    def area(self):\n",
    "        return self.width * self.height\n",
    "\n",
    "\n",
    "class Circle(Shape):\n",
    "    def __init__(self, x, y, r):\n",
    "        super().__init__(x, y)\n",
    "        self.r = r\n",
    "\n",
    "    def area(self):\n",
    "        return 3.14 * self.r**2\n",
    "\n",
    "\n",
    "b1 = Box(0, 0, 5, 5)\n",
    "b2 = Box(1, 3, 2, 5)\n",
    "c1 = Circle(0, 0, 2)\n",
    "c2 = Circle(3, 4, 3)\n",
    "\n",
    "for s in [b1, b2, c1, c2]:\n",
    "    # print(s.area())  # 덕 타이핑 - 인스턴스들이 자기 고유의 메서드 실행\n",
    "    s.print_area()  # 서로 다른 자료형의 인스턴스들이 부모 메서드를 사용 - 다형성\n"
   ]
  },
  {
   "cell_type": "markdown",
   "metadata": {},
   "source": [
    "##### [실습] 동물 클래스 설계"
   ]
  },
  {
   "cell_type": "code",
   "execution_count": 10,
   "metadata": {},
   "outputs": [
    {
     "name": "stdout",
     "output_type": "stream",
     "text": [
      "오리 꽥꽥\n",
      "병아리 삐약삐약\n"
     ]
    }
   ],
   "source": [
    "class Animal:\n",
    "\n",
    "    def __init__(self, type):\n",
    "        self.type = type  # \"오리\", \"병아리\" 등\n",
    "\n",
    "    # NOTE: 부모클래스에서는 자식 클래스가 반드시 구현해야할 메서드들을 선언해놓으면 구현 시 편함\n",
    "    def sound(self):\n",
    "        raise NotImplementedError(type(self), \"Sound() is not implemented\")\n",
    "\n",
    "    def speak(self):\n",
    "        print(f\"{self.type} {self.sound()}\")\n",
    "\n",
    "\n",
    "class Duck(Animal):\n",
    "\n",
    "    def __init__(self):\n",
    "        super().__init__(\"오리\")\n",
    "\n",
    "    def sound(self):\n",
    "        return \"꽥꽥\"\n",
    "\n",
    "\n",
    "class Chick(Animal):\n",
    "\n",
    "    def __init__(self):\n",
    "        super().__init__(\"병아리\")\n",
    "\n",
    "    def sound(self):\n",
    "        return \"삐약삐약\"\n",
    "\n",
    "\n",
    "d = Duck()\n",
    "c = Chick()\n",
    "\n",
    "for a in [d, c]:\n",
    "    a.speak()\n",
    "# 오리 꽥꽥\n",
    "# 병아리 삐약삐약\n"
   ]
  },
  {
   "cell_type": "markdown",
   "metadata": {},
   "source": [
    "### 다중 상속\n",
    "\n",
    "두 개 이상의 클래스로부터 상속을 받을 때는 생성자를 클래스 이름으로 각각 호출해주세요."
   ]
  },
  {
   "cell_type": "code",
   "execution_count": 3,
   "metadata": {},
   "outputs": [
    {
     "name": "stdout",
     "output_type": "stream",
     "text": [
      "A\n",
      "B\n",
      "C\n"
     ]
    }
   ],
   "source": [
    "class A:\n",
    "    def __init__(self):\n",
    "        print(\"A\")\n",
    "\n",
    "\n",
    "class B:\n",
    "    def __init__(self):\n",
    "        print(\"B\")\n",
    "\n",
    "\n",
    "class C(A, B):\n",
    "    def __init__(self):\n",
    "        # super().__init__()\n",
    "        # 부모 클래스 이름으로 직접 초기화할 경우 인수로 self를 넣어야함\n",
    "        A.__init__(self)\n",
    "        B.__init__(self)\n",
    "\n",
    "        print(\"C\")\n",
    "\n",
    "\n",
    "c = C()\n"
   ]
  },
  {
   "cell_type": "markdown",
   "metadata": {},
   "source": [
    "상속을 여러 레벨로 할 경우에는 생성자가 연쇄적으로 호출될 수 있도록 만들어주세요."
   ]
  },
  {
   "cell_type": "code",
   "execution_count": 6,
   "metadata": {},
   "outputs": [
    {
     "name": "stdout",
     "output_type": "stream",
     "text": [
      "A\n",
      "B\n",
      "C\n"
     ]
    }
   ],
   "source": [
    "class A:\n",
    "    def __init__(self):\n",
    "        print(\"A\")\n",
    "\n",
    "\n",
    "class B(A):\n",
    "    def __init__(self):\n",
    "        super().__init__()\n",
    "        print(\"B\")\n",
    "\n",
    "\n",
    "class C(B):\n",
    "    def __init__(self):\n",
    "\n",
    "        # 생성자를 따로따로 호출할 필요 없음\n",
    "        # A.__init__(self)\n",
    "        # B.__init__(self)\n",
    "        super().__init__()\n",
    "        print(\"C\")\n",
    "\n",
    "\n",
    "c = C()\n"
   ]
  },
  {
   "cell_type": "markdown",
   "metadata": {},
   "source": [
    "[다이아몬드 상속](https://en.wikipedia.org/wiki/Multiple_inheritance)\n",
    "\n",
    "상속 구조가 복잡할 경우에 메써드를 찾는 우선순위는 [MRO(Method Resolution Order)](https://www.python.org/download/releases/2.3/mro/)를 따릅니다. ```ClassName.mro()```로 확인할 수 있습니다."
   ]
  },
  {
   "cell_type": "code",
   "execution_count": 12,
   "metadata": {},
   "outputs": [
    {
     "name": "stdout",
     "output_type": "stream",
     "text": [
      "[<class '__main__.D'>, <class '__main__.B'>, <class '__main__.C'>, <class '__main__.A'>, <class 'object'>]\n",
      "D in\n",
      "B in\n",
      "C in\n",
      "A\n",
      "C out\n",
      "B out\n",
      "D out\n"
     ]
    }
   ],
   "source": [
    "class A:\n",
    "    def __init__(self):\n",
    "        print(\"A\")\n",
    "\n",
    "\n",
    "class B(A):\n",
    "    def __init__(self):\n",
    "        print(\"B in\")\n",
    "        super().__init__()  # D가 B와 C를 다중상속 -> mro에 따라 이번 행의 super()는 C를 가리킴\n",
    "        print(\"B out\")\n",
    "\n",
    "\n",
    "class C(A):\n",
    "    def __init__(self):\n",
    "        print(\"C in\")\n",
    "        super().__init__()  # D가 B와 C를 다중상속 -> mro에 따라 이번 행의 super()는 A를 가리킴\n",
    "        print(\"C out\")\n",
    "\n",
    "\n",
    "class D(B, C):\n",
    "    def __init__(self):\n",
    "        print(\"D in\")\n",
    "        super().__init__()\n",
    "        print(\"D out\")\n",
    "\n",
    "\n",
    "print(\n",
    "    D.mro()\n",
    ")  # MRO 확인 - 다중상속의 경우 D가 부모클래스에서 메서드를 참조할 때 순서 출력\n",
    "d = D()\n"
   ]
  },
  {
   "cell_type": "markdown",
   "metadata": {},
   "source": [
    "### Object 클래스\n",
    "\n",
    "파이썬에서 모든 클래스는 object 클래스의 하위 클래스입니다. object 클래스 상속은 생략할 수 있습니다.\n"
   ]
  },
  {
   "cell_type": "code",
   "execution_count": 13,
   "metadata": {},
   "outputs": [
    {
     "data": {
      "text/plain": [
       "True"
      ]
     },
     "execution_count": 13,
     "metadata": {},
     "output_type": "execute_result"
    }
   ],
   "source": [
    "# class MyClass(object):\n",
    "class MyClass:\n",
    "    pass\n",
    "\n",
    "\n",
    "issubclass(MyClass, object)\n"
   ]
  },
  {
   "cell_type": "markdown",
   "metadata": {},
   "source": [
    "앞에서 사용한 ```__init__()```, ```__str__()``` 등은 모두 object 클래스의 해당 메써드들을 재정의한 것입니다."
   ]
  },
  {
   "cell_type": "code",
   "execution_count": 14,
   "metadata": {},
   "outputs": [
    {
     "data": {
      "text/plain": [
       "['__class__',\n",
       " '__delattr__',\n",
       " '__dir__',\n",
       " '__doc__',\n",
       " '__eq__',\n",
       " '__format__',\n",
       " '__ge__',\n",
       " '__getattribute__',\n",
       " '__gt__',\n",
       " '__hash__',\n",
       " '__init__',\n",
       " '__init_subclass__',\n",
       " '__le__',\n",
       " '__lt__',\n",
       " '__ne__',\n",
       " '__new__',\n",
       " '__reduce__',\n",
       " '__reduce_ex__',\n",
       " '__repr__',\n",
       " '__setattr__',\n",
       " '__sizeof__',\n",
       " '__str__',\n",
       " '__subclasshook__']"
      ]
     },
     "execution_count": 14,
     "metadata": {},
     "output_type": "execute_result"
    }
   ],
   "source": [
    "dir(object)\n"
   ]
  },
  {
   "cell_type": "markdown",
   "metadata": {},
   "source": [
    "### [Private variables](https://docs.python.org/3/tutorial/classes.html#tut-private)\n",
    "\n",
    "[Name mangling](https://en.wikipedia.org/wiki/Name_mangling#:~:text=In%20Python%2C%20mangling%20is%20used,more%20than%20one%20trailing%20underscore)"
   ]
  },
  {
   "cell_type": "code",
   "execution_count": 17,
   "metadata": {},
   "outputs": [
    {
     "data": {
      "text/plain": [
       "['_A__speak',\n",
       " '__class__',\n",
       " '__delattr__',\n",
       " '__dict__',\n",
       " '__dir__',\n",
       " '__doc__',\n",
       " '__eq__',\n",
       " '__format__',\n",
       " '__ge__',\n",
       " '__getattribute__',\n",
       " '__gt__',\n",
       " '__hash__',\n",
       " '__init__',\n",
       " '__init_subclass__',\n",
       " '__le__',\n",
       " '__lt__',\n",
       " '__module__',\n",
       " '__ne__',\n",
       " '__new__',\n",
       " '__reduce__',\n",
       " '__reduce_ex__',\n",
       " '__repr__',\n",
       " '__setattr__',\n",
       " '__sizeof__',\n",
       " '__str__',\n",
       " '__subclasshook__',\n",
       " '__weakref__',\n",
       " 'lonely']"
      ]
     },
     "execution_count": 17,
     "metadata": {},
     "output_type": "execute_result"
    }
   ],
   "source": [
    "# 클래스 A 선언하고\n",
    "# 메서드: 말하기, 외로움 구현하기\n",
    "class A:\n",
    "    # Name mangling -> 클래스 외부에서는 사용할 수 없는 메서드이나 클래스 내부에서는 사용 가능\n",
    "    def __speak(self):\n",
    "        print(\"Don't call me!\")\n",
    "\n",
    "    def lonely(self):\n",
    "        self.__speak()\n",
    "\n",
    "\n",
    "class B(A):\n",
    "    pass\n",
    "\n",
    "\n",
    "a = A()\n",
    "# a.__speak()  # 이름 사용 불가\n",
    "# a.lonely()\n",
    "\n",
    "b = B()\n",
    "# b.__speak()  # 자식 클래스도 사용 불가\n",
    "\n",
    "dir(\n",
    "    a\n",
    ")  # name mangling의 효과: 메서드의 이름을 변경해서 못 찾게 막아버림 -> 자바와 C 등은 private으로 가제로 못 찾게 하나 파이썬은 그런 문법이 없어서 비슷하게 구현한 것임\n"
   ]
  },
  {
   "cell_type": "markdown",
   "metadata": {},
   "source": [
    "### 데이터 숨기기 (Data Hiding)\n"
   ]
  },
  {
   "cell_type": "code",
   "execution_count": 18,
   "metadata": {},
   "outputs": [],
   "source": [
    "class MyMind:\n",
    "    def __init__(self):\n",
    "        # 파이썬은 데이터를 숨기는 문법이 없어서 관례로 언더바 하나일 때 외부에서 접근 불가하다는 것을 약속함\n",
    "        self._secret = \"나는 산타를 믿어요\"\n",
    "\n",
    "    def get_secret(self):  # getter\n",
    "        return self._secret\n",
    "\n",
    "    def set_secret(self, new_secret):  # setter\n",
    "        self._secret = new_secret\n",
    "        # 주로 변화로 인한 2차적인 파급효과가 있는 경우에 사용\n",
    "\n",
    "\n",
    "m = MyMind()\n",
    "\n",
    "# m._secret = \"헬로\" # 문법적으로 할 수는 있으나 하지 말 것\n"
   ]
  },
  {
   "cell_type": "markdown",
   "metadata": {},
   "source": [
    "데코레이터 이용"
   ]
  },
  {
   "cell_type": "code",
   "execution_count": 20,
   "metadata": {},
   "outputs": [
    {
     "name": "stdout",
     "output_type": "stream",
     "text": [
      "나는 산타를 믿어요\n",
      "setter called\n",
      "없음\n"
     ]
    }
   ],
   "source": [
    "class MyMind:\n",
    "    # 생성자\n",
    "    def __init__(self):\n",
    "        self._secret = \"나는 산타를 믿어요\"\n",
    "\n",
    "    # 게터\n",
    "    @property\n",
    "    def secret(self):\n",
    "        return self._secret\n",
    "\n",
    "    # 세터\n",
    "    @secret.setter\n",
    "    def secret(self, new_secret):\n",
    "        print(\"setter called\")\n",
    "        self._secret = new_secret\n",
    "\n",
    "    # 게터와 세터를 통해 속성에 접근하는 것처럼 다룰 수 있음\n",
    "\n",
    "\n",
    "m = MyMind()\n",
    "print(m.secret)  # getter called\n",
    "m.secret = \"없음\"  # setter called\n",
    "print(m.secret)\n"
   ]
  },
  {
   "cell_type": "markdown",
   "metadata": {},
   "source": [
    "### [실습] FaceMesh 상속\n",
    "\n"
   ]
  },
  {
   "cell_type": "code",
   "execution_count": 22,
   "metadata": {},
   "outputs": [
    {
     "name": "stderr",
     "output_type": "stream",
     "text": [
      "WARNING: All log messages before absl::InitializeLog() is called are written to STDERR\n",
      "I0000 00:00:1725799159.081836 1903160 gl_context.cc:357] GL version: 2.1 (2.1 Metal - 88.1), renderer: Apple M1\n",
      "INFO: Created TensorFlow Lite XNNPACK delegate for CPU.\n",
      "W0000 00:00:1725799159.085475 1945415 inference_feedback_manager.cc:114] Feedback manager requires a model with a single signature inference. Disabling support for feedback tensors.\n",
      "W0000 00:00:1725799159.091704 1945414 inference_feedback_manager.cc:114] Feedback manager requires a model with a single signature inference. Disabling support for feedback tensors.\n",
      "W0000 00:00:1725799159.094207 1945420 landmark_projection_calculator.cc:186] Using NORM_RECT without IMAGE_DIMENSIONS is only supported for the square ROI. Provide IMAGE_DIMENSIONS or use PROJECTION_MATRIX.\n",
      "/opt/anaconda3/envs/fast_lane/lib/python3.10/site-packages/google/protobuf/symbol_database.py:55: UserWarning: SymbolDatabase.GetPrototype() is deprecated. Please use message_factory.GetMessageClass() instead. SymbolDatabase.GetPrototype() will be removed soon.\n",
      "  warnings.warn('SymbolDatabase.GetPrototype() is deprecated. Please '\n"
     ]
    },
    {
     "ename": "",
     "evalue": "",
     "output_type": "error",
     "traceback": [
      "\u001b[1;31mThe Kernel crashed while executing code in the current cell or a previous cell. \n",
      "\u001b[1;31mPlease review the code in the cell(s) to identify a possible cause of the failure. \n",
      "\u001b[1;31mClick <a href='https://aka.ms/vscodeJupyterKernelCrash'>here</a> for more info. \n",
      "\u001b[1;31mView Jupyter <a href='command:jupyter.viewOutput'>log</a> for further details."
     ]
    }
   ],
   "source": [
    "import cv2\n",
    "import mediapipe as mp\n",
    "\n",
    "\n",
    "def find_landmarks(img_bgr, face_mesh):\n",
    "    \"\"\"Normalized image space to pixel space\"\"\"\n",
    "\n",
    "    img_rgb = cv2.cvtColor(img_bgr, cv2.COLOR_BGR2RGB)\n",
    "    results = face_mesh.process(img_rgb)\n",
    "    landmarks = []\n",
    "    if results.multi_face_landmarks:\n",
    "        for person in results.multi_face_landmarks:\n",
    "            face = []\n",
    "            for id, lm in enumerate(person.landmark):\n",
    "                ih, iw, _ = img_bgr.shape\n",
    "                x, y = int(lm.x * iw), int(lm.y * ih)\n",
    "                face.append([x, y])\n",
    "            landmarks.append(face)\n",
    "    return landmarks\n",
    "\n",
    "\n",
    "img = cv2.imread(\"jmhong_face.jpg\")\n",
    "\n",
    "with mp.solutions.face_mesh.FaceMesh(\n",
    "    max_num_faces=1,\n",
    "    refine_landmarks=True,\n",
    "    min_detection_confidence=0.5,\n",
    "    min_tracking_confidence=0.5,\n",
    ") as face_mesh:\n",
    "\n",
    "    landmarks = find_landmarks(img, face_mesh)\n",
    "\n",
    "    for xy in landmarks[0]:  # [0] is for the first person\n",
    "        cv2.circle(img, xy, 2, (255, 255, 255), cv2.FILLED)\n",
    "\n",
    "        # 특정 랜드마크만 그리기\n",
    "        cv2.circle(img, landmarks[0][159], 2, (255, 255, 255), cv2.FILLED)\n",
    "        cv2.circle(img, landmarks[0][145], 2, (255, 255, 255), cv2.FILLED)\n",
    "\n",
    "cv2.imshow(\"Landmarks\", img)\n",
    "cv2.waitKey(0)\n",
    "cv2.destroyAllWindows()\n"
   ]
  },
  {
   "cell_type": "code",
   "execution_count": 8,
   "metadata": {},
   "outputs": [
    {
     "name": "stderr",
     "output_type": "stream",
     "text": [
      "I0000 00:00:1725801353.611556 1951289 gl_context.cc:357] GL version: 2.1 (2.1 Metal - 88.1), renderer: Apple M1\n",
      "W0000 00:00:1725801353.614759 2004576 inference_feedback_manager.cc:114] Feedback manager requires a model with a single signature inference. Disabling support for feedback tensors.\n",
      "W0000 00:00:1725801353.622887 2004572 inference_feedback_manager.cc:114] Feedback manager requires a model with a single signature inference. Disabling support for feedback tensors.\n",
      "/opt/anaconda3/envs/fast_lane/lib/python3.10/site-packages/google/protobuf/symbol_database.py:55: UserWarning: SymbolDatabase.GetPrototype() is deprecated. Please use message_factory.GetMessageClass() instead. SymbolDatabase.GetPrototype() will be removed soon.\n",
      "  warnings.warn('SymbolDatabase.GetPrototype() is deprecated. Please '\n"
     ]
    },
    {
     "ename": "",
     "evalue": "",
     "output_type": "error",
     "traceback": [
      "\u001b[1;31mThe Kernel crashed while executing code in the current cell or a previous cell. \n",
      "\u001b[1;31mPlease review the code in the cell(s) to identify a possible cause of the failure. \n",
      "\u001b[1;31mClick <a href='https://aka.ms/vscodeJupyterKernelCrash'>here</a> for more info. \n",
      "\u001b[1;31mView Jupyter <a href='command:jupyter.viewOutput'>log</a> for further details."
     ]
    }
   ],
   "source": [
    "import cv2\n",
    "import mediapipe as mp\n",
    "\n",
    "\n",
    "# 여기에 class MyFaceMesh를 만드세요.\n",
    "# 클래스 상속\n",
    "class MyFaceMesh(mp.solutions.face_mesh.FaceMesh):\n",
    "\n",
    "    # 메서드 오버라이딩\n",
    "    def process(self, img_bgr):\n",
    "        img_rgb = cv2.cvtColor(img_bgr, cv2.COLOR_BGR2RGB)\n",
    "        results = super().process(img_rgb)\n",
    "        landmarks = []\n",
    "        if results.multi_face_landmarks:\n",
    "            for person in results.multi_face_landmarks:\n",
    "                face = []\n",
    "                for id, lm in enumerate(person.landmark):\n",
    "                    ih, iw, _ = img_bgr.shape\n",
    "                    x, y = int(lm.x * iw), int(lm.y * ih)\n",
    "                    face.append([x, y])\n",
    "                landmarks.append(face)\n",
    "        return landmarks\n",
    "\n",
    "\n",
    "# 이 아래는 수정할 필요 없음\n",
    "with MyFaceMesh(\n",
    "    max_num_faces=1,\n",
    "    refine_landmarks=True,\n",
    "    min_detection_confidence=0.5,\n",
    "    min_tracking_confidence=0.5,\n",
    ") as my_face_mesh:\n",
    "\n",
    "    img_bgr = cv2.imread(\"jmhong_face.jpg\")\n",
    "\n",
    "    landmarks = my_face_mesh.process(img_bgr)\n",
    "\n",
    "    for xy in landmarks[0]:  # [0] is for the first person\n",
    "        cv2.circle(img_bgr, xy, 2, (255, 255, 255), cv2.FILLED)\n",
    "\n",
    "        # 특정 랜드마크만 그리기\n",
    "        cv2.circle(img_bgr, landmarks[0][159], 2, (255, 255, 255), cv2.FILLED)\n",
    "        cv2.circle(img_bgr, landmarks[0][145], 2, (255, 255, 255), cv2.FILLED)\n",
    "\n",
    "cv2.imshow(\"Landmarks\", img_bgr)\n",
    "cv2.waitKey(0)\n",
    "cv2.destroyAllWindows()\n"
   ]
  }
 ],
 "metadata": {
  "interpreter": {
   "hash": "f64e548cbf2ebb58caacc39a919b16809fbf0a70979c18e5ddba76aa9934d80e"
  },
  "kernelspec": {
   "display_name": "Python 3.9.5 64-bit ('base': conda)",
   "language": "python",
   "name": "python3"
  },
  "language_info": {
   "codemirror_mode": {
    "name": "ipython",
    "version": 3
   },
   "file_extension": ".py",
   "mimetype": "text/x-python",
   "name": "python",
   "nbconvert_exporter": "python",
   "pygments_lexer": "ipython3",
   "version": "3.10.14"
  },
  "orig_nbformat": 4
 },
 "nbformat": 4,
 "nbformat_minor": 2
}
