{
 "cells": [
  {
   "cell_type": "markdown",
   "metadata": {},
   "source": [
    "___\n",
    "<a href='https://cafe.naver.com/jmhonglab'><p style=\"text-align:center;\"><img src='https://lh3.googleusercontent.com/lY3ySXooSmwsq5r-mRi7uiypbo0Vez6pmNoQxMFhl9fmZJkRHu5lO2vo7se_0YOzgmDyJif9fi4_z0o3ZFdwd8NVSWG6Ea80uWaf3pOHpR4GHGDV7kaFeuHR3yAjIJjDgfXMxsvw=w2400'  class=\"center\" width=\"50%\" height=\"50%\"/></p></a>\n",
    "___\n",
    "<center><em>Content Copyright by HongLab, Inc.</em></center>"
   ]
  },
  {
   "cell_type": "markdown",
   "metadata": {},
   "source": [
    "### 네임스페이스(Namespace)"
   ]
  },
  {
   "cell_type": "markdown",
   "metadata": {},
   "source": [
    "클래스로 만든 인스턴스의 자료형을 출력해봅시다. ```__main___```은 뭘까요?"
   ]
  },
  {
   "cell_type": "code",
   "execution_count": null,
   "metadata": {},
   "outputs": [],
   "source": [
    "class MyClass:\n",
    "    pass  # 최소한의 클래스 정의\n",
    "\n",
    "\n",
    "i = MyClass()\n",
    "\n",
    "print(type(i))  # <class '__main__.MyClass'>\n",
    "\n",
    "# 참고\n",
    "#print(type(MyClass)) # <class 'type'>"
   ]
  },
  {
   "cell_type": "markdown",
   "metadata": {},
   "source": [
    "[네임스페이스](https://docs.python.org/3/tutorial/classes.html#python-scopes-and-namespaces)는 변수, 함수, 클래스 등 여러가지 이름들이 들어있는 공간을 의미합니다.\n",
    "\n",
    "내장 함수인 [```dir()```](https://docs.python.org/3/library/functions.html#dir)을 사용해서 어떤 영역(scope)이나 객체에 어떤 이름들이 들어있는지 확인할 수 있습니다. 디렉토리(directory)의 약자입니다."
   ]
  },
  {
   "cell_type": "code",
   "execution_count": null,
   "metadata": {},
   "outputs": [],
   "source": [
    "# Global scope에서 dir() 실행\n",
    "dir()"
   ]
  },
  {
   "cell_type": "code",
   "execution_count": null,
   "metadata": {},
   "outputs": [],
   "source": [
    "print(__name__)"
   ]
  },
  {
   "cell_type": "markdown",
   "metadata": {},
   "source": [
    "### 모듈과 이름\n",
    "\n",
    "[```__name__```](https://docs.python.org/3/reference/import.html?highlight=__name__#name__)은 모듈 이름을 알려줍니다. \n",
    "이때 모듈을 통하지 않고 직접 실행한 스크립트(코드)에서는 [```__main__```](https://docs.python.org/3/library/__main__.html)이라는 특별한 값을 갖습니다.\n",
    "\n",
    "```<class '__main__.MyClass'>```는 MyClass 클래스가 우리가 직접 실행시킨 스크립트(코드)에서 정의되었다는 의미입니다."
   ]
  },
  {
   "cell_type": "code",
   "execution_count": null,
   "metadata": {},
   "outputs": [],
   "source": [
    "import numpy as np\n",
    "\n",
    "print(np.__name__)  # numpy\n",
    "\n",
    "import json\n",
    "\n",
    "print(json.__name__)  # json\n",
    "\n",
    "print(__name__)  # __main__"
   ]
  },
  {
   "cell_type": "markdown",
   "metadata": {},
   "source": [
    "운영체제가 프로그램을 시작하는 시작점이 필요합니다. 다른 언어에서는 보통 이름에 main이 들어간 함수나 메써드를 사용합니다."
   ]
  },
  {
   "cell_type": "code",
   "execution_count": null,
   "metadata": {},
   "outputs": [],
   "source": [
    "# 보통 스크립트 모드에서 사용합니다.\n",
    "\n",
    "def main():\n",
    "    # 하고 싶은 일들\n",
    "    print(\"I am\", __name__)\n",
    "\n",
    "\n",
    "if __name__ == \"__main__\":\n",
    "    main()\n"
   ]
  },
  {
   "cell_type": "markdown",
   "metadata": {},
   "source": [
    "### 객체는 네임스페이스\n",
    "\n",
    " 파이썬의 객체는 네임스페이스입니다."
   ]
  },
  {
   "cell_type": "code",
   "execution_count": null,
   "metadata": {},
   "outputs": [],
   "source": [
    "class MyClass:\n",
    "    \n",
    "    def __init__(self):\n",
    "        self.my_variable = \"Hello\"\n",
    "    \n",
    "    def my_method(self):\n",
    "        pass\n",
    "\n",
    "\n",
    "i = MyClass()\n",
    "\n",
    "print(i.my_variable)\n",
    "i.my_method()\n",
    "\n",
    "dir(i)\n"
   ]
  },
  {
   "cell_type": "markdown",
   "metadata": {},
   "source": [
    "인스턴스를 만든 후에 (속성의) 이름을 추가할 수도 있습니다. 문법에서는 허용해주더라도 사용을 권장하지 않습니다."
   ]
  },
  {
   "cell_type": "code",
   "execution_count": null,
   "metadata": {},
   "outputs": [],
   "source": [
    "class EmptyClass:\n",
    "    pass\n",
    "\n",
    "    # def __init__(self):\n",
    "    #     self.my_variable = \"Hello\"\n",
    "\n",
    "    # def any_method(self):\n",
    "    #     self.my_variable = \"Hello\"\n",
    "\n",
    "e = EmptyClass()\n",
    "\n",
    "e.my_variable = \"Hello\"\n",
    "# 비교: 메써드 안에서 self.my_variable = \"Hello\"\n",
    "\n",
    "e.my_method = lambda : print(\"Hi\")\n",
    "\n",
    "#e.my_method()\n",
    "\n",
    "dir(e)"
   ]
  }
 ],
 "metadata": {
  "interpreter": {
   "hash": "8018e705143a54fe8977c076a25f32bbbfeba551799f40fa3d5ac4e2da245feb"
  },
  "kernelspec": {
   "display_name": "Python 3.10.2 ('py310')",
   "language": "python",
   "name": "python3"
  },
  "language_info": {
   "codemirror_mode": {
    "name": "ipython",
    "version": 3
   },
   "file_extension": ".py",
   "mimetype": "text/x-python",
   "name": "python",
   "nbconvert_exporter": "python",
   "pygments_lexer": "ipython3",
   "version": "3.10.2"
  },
  "orig_nbformat": 4
 },
 "nbformat": 4,
 "nbformat_minor": 2
}
