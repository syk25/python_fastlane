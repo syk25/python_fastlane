{
 "cells": [
  {
   "cell_type": "markdown",
   "metadata": {},
   "source": [
    "___\n",
    "<a href='https://cafe.naver.com/jmhonglab'><p style=\"text-align:center;\"><img src='https://lh3.googleusercontent.com/lY3ySXooSmwsq5r-mRi7uiypbo0Vez6pmNoQxMFhl9fmZJkRHu5lO2vo7se_0YOzgmDyJif9fi4_z0o3ZFdwd8NVSWG6Ea80uWaf3pOHpR4GHGDV7kaFeuHR3yAjIJjDgfXMxsvw=w2400'  class=\"center\" width=\"50%\" height=\"50%\"/></p></a>\n",
    "___\n",
    "<center><em>Content Copyright by HongLab, Inc.</em></center>"
   ]
  },
  {
   "cell_type": "markdown",
   "metadata": {},
   "source": [
    "# 전화번호부 리팩토링(Refactoring)\n",
    "\n",
    "앞에서 만들었던 전화번호부에 클래스를 사용해보겠습니다."
   ]
  },
  {
   "cell_type": "code",
   "execution_count": 1,
   "metadata": {},
   "outputs": [
    {
     "name": "stdout",
     "output_type": "stream",
     "text": [
      "성기훈 8734-2398 gh@squid.kr\n",
      "아이언맨 1234-5678 tony@avengers.com\n"
     ]
    }
   ],
   "source": [
    "# 데이터와 기능이 분리되어 있는 구조\n",
    "p1 = {\n",
    "    \"name\": \"성기훈\",\n",
    "    \"phone\": \"8734-2398\",\n",
    "    \"email\": \"gh@squid.kr\",\n",
    "}\n",
    "p2 = {\n",
    "    \"name\": \"아이언맨\",\n",
    "    \"phone\": \"1234-5678\",\n",
    "    \"email\": \"tony@avengers.com\",\n",
    "}\n",
    "\n",
    "\n",
    "def print_person(person):\n",
    "    print(\n",
    "        \"{} {} {}\".format(\n",
    "            person[\"name\"], person[\"phone\"], person[\"email\"]\n",
    "        )\n",
    "    )\n",
    "\n",
    "\n",
    "# 함수를 호출할 때 어떤 데이터를 사용할지 찾아서 넣어줘야 합니다.\n",
    "print_person(p1)\n",
    "print_person(p2)"
   ]
  },
  {
   "cell_type": "code",
   "execution_count": 3,
   "metadata": {},
   "outputs": [
    {
     "name": "stdout",
     "output_type": "stream",
     "text": [
      "성기훈 8734-2398 gh@squid.kr\n",
      "아이언맨 1234-5678 tony@avengers.com\n"
     ]
    }
   ],
   "source": [
    "# 데이터와 행위가 결합되어 있는 구조\n",
    "class Person:\n",
    "\n",
    "    # 인스턴스가 만들어질 때 자동으로 실행\n",
    "    def __init__(self, name, phone, email):\n",
    "        self.name = name  # 인스턴스 변수\n",
    "        self.phone = phone\n",
    "        self.email = email\n",
    "\n",
    "    # 메써드\n",
    "    def print(self):\n",
    "        print(f\"{self.name} {self.phone} {self.email}\")\n",
    "\n",
    "\n",
    "# p0 = Person() # 오류 발생\n",
    "p1 = Person(\"성기훈\", \"8734-2398\", \"gh@squid.kr\")\n",
    "p2 = Person(\"아이언맨\", \"1234-5678\", \"tony@avengers.com\")\n",
    "\n",
    "# 메써드를 실행할 때 객체의 데이터에 대해 신경쓰지 않아도 됩니다.\n",
    "p1.print()\n",
    "p2.print()"
   ]
  },
  {
   "cell_type": "markdown",
   "metadata": {},
   "source": [
    "### 1단계\n",
    "\n",
    "```class Person``` 사용\n",
    "- 수정하기 전 코드를 별도 파일로 보관해놓기를 권장\n",
    "- 프로그램 구조 동일, 같은 함수들 사용"
   ]
  },
  {
   "cell_type": "code",
   "execution_count": null,
   "metadata": {},
   "outputs": [],
   "source": [
    "class Person:\n",
    "    def __init__(self, name, phone, email):\n",
    "        self.name = name\n",
    "        self.phone = phone\n",
    "        self.email = email\n",
    "\n",
    "    def print(self):\n",
    "        print(f\"{self.name} {self.phone} {self.email}\")"
   ]
  },
  {
   "cell_type": "markdown",
   "metadata": {},
   "source": [
    "- ```contact_data = {} -> contact_list: list[Person] = []```\n",
    "- 사람을 찾을 때 이름으로 찾아야한다는 점 주의\n",
    "- 사람을 삭제할 때는 리스트 컴프리헨션에 if 사용\n",
    "- 사람을 업데이트할 때 일단 그 이름을 가진 사람이 없는 리스트를 만들고 거기에 새로 추가"
   ]
  },
  {
   "cell_type": "code",
   "execution_count": null,
   "metadata": {},
   "outputs": [],
   "source": [
    "# 전화번호부 저장용 list (전역변수)\n",
    "contact_list: list[Person] = []"
   ]
  },
  {
   "cell_type": "markdown",
   "metadata": {},
   "source": [
    "\n",
    "- 파일 저장할 때 ```pickle``` 사용\n",
    "- 필요한 경우 함수 안에서 ```global contact_list```를 사용"
   ]
  },
  {
   "cell_type": "markdown",
   "metadata": {},
   "source": [
    "### 2단계\n",
    "```class PhoneBook```을 사용하도록 수정\n",
    "- ```contact_list```를 ```class PhoneBook```의 인스턴스 변수로 사용"
   ]
  },
  {
   "cell_type": "code",
   "execution_count": null,
   "metadata": {},
   "outputs": [],
   "source": [
    "class PhoneBook:\n",
    "\n",
    "    def __init__(self):\n",
    "        \"\"\"저장된 파일이 있을 경우 읽어들여서 self.contact_list 초기화\"\"\"\n",
    "        self.contact_list: list[Person] = []\n",
    "        pass\n",
    "\n",
    "    def save(self):\n",
    "        \"\"\"self.contact_list 파일로 저장\"\"\"\n",
    "        pass\n",
    "\n",
    "    def show_all(self):\n",
    "        \"\"\"모든 데이터 출력\"\"\"\n",
    "        pass\n",
    "\n",
    "    def find_person(self):\n",
    "        \"\"\"이름을 입력받고 그 이름으로 찾아서 해당 데이터 출력\"\"\"\n",
    "        pass\n",
    "\n",
    "    def update_person(self):\n",
    "        \"\"\"사람 추가 또는 수정\n",
    "        사용자로부터 이름, 전화번호, 이메일을 입력받아서\n",
    "        이미 있는 이름이면 업데이트를 하고\n",
    "        없는 이름이면 새로 추가\n",
    "        \"\"\"\n",
    "        pass\n",
    "\n",
    "    def delete_person(self):\n",
    "        \"\"\"이름을 입력받아서 데이터 삭제\"\"\"\n",
    "        pass\n",
    "\n",
    "\n",
    "pass\n"
   ]
  },
  {
   "cell_type": "markdown",
   "metadata": {},
   "source": [
    "- 코드 전체에서 ```global```이 불필요"
   ]
  },
  {
   "cell_type": "code",
   "execution_count": null,
   "metadata": {},
   "outputs": [],
   "source": [
    "def main():\n",
    "    \n",
    "    # 전화번호부 데이터 관리 객체\n",
    "    phone_book = PhoneBook()\n",
    "\n",
    "    pass\n"
   ]
  },
  {
   "cell_type": "markdown",
   "metadata": {},
   "source": [
    "### 3단계\n",
    "\n",
    "새로운 기능 추가\n",
    "\n",
    "- class Person에 클래스 변수인 id_counter를 추가해서 개인별로 self.id 추가\n",
    "- 주의: pickle 파일 삭제 후 다시 실행 또는 다른 이름 사용\n",
    "- class Person의 ```print()``` 메써드에서 id도 같이 출력\n",
    "- class PhoneBook에 ```__len__()``` 메써드 구현"
   ]
  },
  {
   "cell_type": "code",
   "execution_count": null,
   "metadata": {},
   "outputs": [],
   "source": [
    "class PhoneBook:\n",
    "\n",
    "    pass\n",
    "\n",
    "    def show_all(self):\n",
    "        \"\"\"모든 데이터 출력\"\"\"\n",
    "        if self.contact_list:\n",
    "            \n",
    "            # PhoneBook에서 __len__() 메써드를 구현하면 len(self) 가능\n",
    "            # len(self.contact_list)와 동일\n",
    "            print(\"총 인원:\", len(self))\n",
    "        \n",
    "        pass"
   ]
  },
  {
   "cell_type": "markdown",
   "metadata": {},
   "source": [
    "```\n",
    "(1) 찾기 (2) 추가/변경 (3) 삭제 (4) 모두 보기 (5) 메모 (6) 종료 : 4\n",
    "총 인원: 2\n",
    "1 홍정모 1111-2222 jm@hong.net\n",
    "2 아이언맨 1234-1234 tony@stark.com\n",
    "```"
   ]
  },
  {
   "cell_type": "markdown",
   "metadata": {},
   "source": [
    "- 선택적으로 사용할 수 있는 메모(memo) 추가\n"
   ]
  }
 ],
 "metadata": {
  "interpreter": {
   "hash": "8018e705143a54fe8977c076a25f32bbbfeba551799f40fa3d5ac4e2da245feb"
  },
  "kernelspec": {
   "display_name": "Python 3.10.2 ('py310')",
   "language": "python",
   "name": "python3"
  },
  "language_info": {
   "codemirror_mode": {
    "name": "ipython",
    "version": 3
   },
   "file_extension": ".py",
   "mimetype": "text/x-python",
   "name": "python",
   "nbconvert_exporter": "python",
   "pygments_lexer": "ipython3",
   "version": "3.10.2"
  },
  "orig_nbformat": 4
 },
 "nbformat": 4,
 "nbformat_minor": 2
}
