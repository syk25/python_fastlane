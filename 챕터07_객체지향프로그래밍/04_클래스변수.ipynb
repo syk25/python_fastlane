{
 "cells": [
  {
   "cell_type": "markdown",
   "metadata": {},
   "source": [
    "___\n",
    "<a href='https://cafe.naver.com/jmhonglab'><p style=\"text-align:center;\"><img src='https://lh3.googleusercontent.com/lY3ySXooSmwsq5r-mRi7uiypbo0Vez6pmNoQxMFhl9fmZJkRHu5lO2vo7se_0YOzgmDyJif9fi4_z0o3ZFdwd8NVSWG6Ea80uWaf3pOHpR4GHGDV7kaFeuHR3yAjIJjDgfXMxsvw=w2400'  class=\"center\" width=\"50%\" height=\"50%\"/></p></a>\n",
    "___\n",
    "<center><em>Content Copyright by HongLab, Inc.</em></center>"
   ]
  },
  {
   "cell_type": "markdown",
   "metadata": {},
   "source": [
    "### 클래스 변수\n",
    "\n",
    "인스턴스가 아니라 클래스 자체에 소속되어 있는 변수를 클래스 변수라고 부릅니다. 여러 개의 인스턴스들이 클래스 변수를 사용할 수 있습니다. 클래스 변수는 클래스 이름을 통해서 사용합니다.\n",
    "\n",
    "[보충] 클래스 변수도 같은 이름을 가진 인스턴스 변수가 없을 경우에는 self를 통해서 사용할 수 있습니다. 그러나 실수로 self.class_var = \"1234\" 같이 대입을 해버리면 그때는 클래스 변수를 변경하는 것이 아니라 새로운 인스턴스 변수를 하나 더 만드는 것이기 때문에 self를 통해서 클래스 변수를 사용하는 것은 권장하지 않습니다.\n"
   ]
  },
  {
   "cell_type": "code",
   "execution_count": null,
   "metadata": {},
   "outputs": [],
   "source": [
    "class MyClass:\n",
    "\n",
    "    # 클래스 변수 정의\n",
    "    class_var = \"Class variable\"\n",
    "\n",
    "    def __init__(self, value):\n",
    "        self.inst_var = value\n",
    "\n",
    "    def print(self):\n",
    "        print(MyClass.class_var, self.inst_var)\n",
    "\n",
    "\n",
    "print(MyClass.class_var) # Class variable\n",
    "\n",
    "i1 = MyClass(123)\n",
    "i2 = MyClass(456)\n",
    "i3 = MyClass(789)\n",
    "\n",
    "i1.print() # Class variable 123\n",
    "i2.print() # Class variable 456\n",
    "i3.print() # Class variable 789"
   ]
  },
  {
   "cell_type": "markdown",
   "metadata": {},
   "source": [
    "한 인스턴스에서 클래스 변수를 바꾸면 모든 인스턴스가 영향을 받습니다."
   ]
  },
  {
   "cell_type": "code",
   "execution_count": null,
   "metadata": {},
   "outputs": [],
   "source": [
    "class MyClass:\n",
    "\n",
    "    class_var = \"Class variable\"\n",
    "\n",
    "    def __init__(self, value):\n",
    "        self.inst_var = value\n",
    "\n",
    "    def change_class_var(self, new_value):\n",
    "        MyClass.class_var = new_value\n",
    "        # class_var = new_value 는 지역변수\n",
    "        # self.class_var = new_value는 새로운 인스턴스 변수 생성\n",
    "\n",
    "    def print(self):\n",
    "        print(MyClass.class_var, self.inst_var)\n",
    "\n",
    "\n",
    "i1 = MyClass(123)\n",
    "i2 = MyClass(456)\n",
    "\n",
    "i1.print() # Class variable 123\n",
    "i2.print() # Class variable 456\n",
    "\n",
    "i2.change_class_var(\"Changed\")\n",
    "\n",
    "i1.print() # Changed 123\n",
    "i2.print() # Changed 456"
   ]
  },
  {
   "cell_type": "markdown",
   "metadata": {},
   "source": [
    "### 클래스 메써드\n",
    "\n",
    "@는 at sign이라고 읽어요. 함수 정의 위에 @classmethod 같이 @이 붙어있는 것을 함수를 장식해준다는 의미에서 데코레이터(decorator)라고 부릅니다."
   ]
  },
  {
   "cell_type": "code",
   "execution_count": null,
   "metadata": {},
   "outputs": [],
   "source": [
    "class MyClass:\n",
    "\n",
    "    class_var = \"Class variable\"\n",
    "\n",
    "    def __init__(self, value):\n",
    "        self.inst_var = value\n",
    "\n",
    "    def print(self):\n",
    "        print(MyClass.class_var, self.inst_var)\n",
    "\n",
    "    @classmethod\n",
    "    def change_class_var(cls, new_value):\n",
    "        cls.class_var = new_value\n",
    "        # self ?\n",
    "\n",
    "\n",
    "i1 = MyClass(123)\n",
    "i2 = MyClass(456)\n",
    "\n",
    "# 인스턴스에서 클래스 메써드 사용\n",
    "i2.change_class_var(\"Changed\")\n",
    "\n",
    "i1.print()\n",
    "i2.print()\n",
    "\n",
    "# 클래스 이름으로 클래스 메써드 사용\n",
    "MyClass.change_class_var(\"Changed again\")\n",
    "\n",
    "i1.print()\n",
    "i2.print()"
   ]
  },
  {
   "cell_type": "markdown",
   "metadata": {},
   "source": [
    "### 정적 메써드\n",
    "\n",
    "@staticmethod 데코레이터를 사용합니다."
   ]
  },
  {
   "cell_type": "code",
   "execution_count": null,
   "metadata": {},
   "outputs": [],
   "source": [
    "class MyClass:\n",
    "    def __init__(self, value):\n",
    "        self.inst_var = value\n",
    "\n",
    "    # 파이썬이 self나 cls를 자동으로 넣어주지 않습니다.\n",
    "    @staticmethod\n",
    "    def static_print():        \n",
    "        print(\"Hello, World!\")\n",
    "\n",
    "        # 클래스 변수를 사용할 경우에는 \n",
    "        # 클래스 메써드로 만드는 것을 권장\n",
    "        #MyClass.cls_var = 123 \n",
    "\n",
    "\n",
    "i1 = MyClass(123)\n",
    "i2 = MyClass(456)\n",
    "\n",
    "MyClass.static_print()\n",
    "\n",
    "i1.static_print()\n",
    "i2.static_print()"
   ]
  },
  {
   "cell_type": "markdown",
   "metadata": {},
   "source": [
    "### [실습] 인원수 세보기\n"
   ]
  },
  {
   "cell_type": "code",
   "execution_count": null,
   "metadata": {},
   "outputs": [],
   "source": [
    "class Person:\n",
    "\n",
    "    def __init__(self, name):\n",
    "        self.name = name\n",
    "\n",
    "\n",
    "p1 = Person(\"송새벽\")\n",
    "p2 = Person(\"성지훈\")\n",
    "p3 = Person(\"오일남\")"
   ]
  }
 ],
 "metadata": {
  "interpreter": {
   "hash": "8018e705143a54fe8977c076a25f32bbbfeba551799f40fa3d5ac4e2da245feb"
  },
  "kernelspec": {
   "display_name": "Python 3.10.2 ('py310')",
   "language": "python",
   "name": "python3"
  },
  "language_info": {
   "codemirror_mode": {
    "name": "ipython",
    "version": 3
   },
   "file_extension": ".py",
   "mimetype": "text/x-python",
   "name": "python",
   "nbconvert_exporter": "python",
   "pygments_lexer": "ipython3",
   "version": "3.10.2"
  },
  "orig_nbformat": 4
 },
 "nbformat": 4,
 "nbformat_minor": 2
}
