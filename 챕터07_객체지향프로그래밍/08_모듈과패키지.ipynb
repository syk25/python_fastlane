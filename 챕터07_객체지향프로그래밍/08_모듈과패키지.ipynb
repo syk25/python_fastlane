{
 "cells": [
  {
   "cell_type": "markdown",
   "metadata": {},
   "source": [
    "___\n",
    "<a href='https://cafe.naver.com/jmhonglab'><p style=\"text-align:center;\"><img src='https://lh3.googleusercontent.com/lY3ySXooSmwsq5r-mRi7uiypbo0Vez6pmNoQxMFhl9fmZJkRHu5lO2vo7se_0YOzgmDyJif9fi4_z0o3ZFdwd8NVSWG6Ea80uWaf3pOHpR4GHGDV7kaFeuHR3yAjIJjDgfXMxsvw=w2400'  class=\"center\" width=\"50%\" height=\"50%\"/></p></a>\n",
    "___\n",
    "<center><em>Content Copyright by HongLab, Inc.</em></center>"
   ]
  },
  {
   "cell_type": "markdown",
   "metadata": {},
   "source": [
    "### 모듈 만들고 사용하기\n",
    "\n",
    "- 모듈로 만들고 싶은 내용들을 OOOO.py 파일에 넣고 import OOOO\n",
    "- 주의: 주피터 노트북에서는 모듈 파일을 수정한 후에는 커널을 restart를 해줘야 수정된 내용이 반영됩니다. 스크립트모드에서는 상관없습니다."
   ]
  },
  {
   "cell_type": "code",
   "execution_count": 2,
   "metadata": {},
   "outputs": [
    {
     "name": "stdout",
     "output_type": "stream",
     "text": [
      "my_var\n",
      "__name__= my_module\n",
      "MyClass\n",
      "MyClass\n"
     ]
    }
   ],
   "source": [
    "import my_module as mm  # 모듈을 가져다 쓰기\n",
    "\n",
    "print(mm.my_var)  # 모듈에 있는 변수 사용\n",
    "\n",
    "mm.my_func()  # 모듈의 이름 출력\n",
    "\n",
    "my_class = mm.MyClass()\n",
    "\n",
    "\n",
    "mm.MyClass().work()\n",
    "my_class.work()\n"
   ]
  },
  {
   "cell_type": "code",
   "execution_count": null,
   "metadata": {},
   "outputs": [],
   "source": [
    "from my_module import myClass, my_var\n",
    "\n",
    "c = myClass()\n",
    "c.work()\n",
    "\n",
    "print(my_var)\n"
   ]
  },
  {
   "cell_type": "code",
   "execution_count": 6,
   "metadata": {},
   "outputs": [
    {
     "name": "stdout",
     "output_type": "stream",
     "text": [
      "my_var\n",
      "__name__= my_module\n",
      "MyClass\n"
     ]
    }
   ],
   "source": [
    "from my_module import *\n",
    "\n",
    "# print(my_module.my_var)\n",
    "\n",
    "print(my_var)\n",
    "\n",
    "my_func()\n",
    "\n",
    "c = MyClass()\n",
    "c.work()\n"
   ]
  },
  {
   "cell_type": "markdown",
   "metadata": {},
   "source": [
    "### 패키지 만들고 사용하기\n",
    "\n",
    "폴더를 만들고 그 안에 ```__init__.py``` 파일과 모듈 파일들을 넣으면 됩니다.\n"
   ]
  },
  {
   "cell_type": "code",
   "execution_count": null,
   "metadata": {},
   "outputs": [],
   "source": []
  }
 ],
 "metadata": {
  "interpreter": {
   "hash": "8018e705143a54fe8977c076a25f32bbbfeba551799f40fa3d5ac4e2da245feb"
  },
  "kernelspec": {
   "display_name": "Python 3.10.2 ('py310')",
   "language": "python",
   "name": "python3"
  },
  "language_info": {
   "codemirror_mode": {
    "name": "ipython",
    "version": 3
   },
   "file_extension": ".py",
   "mimetype": "text/x-python",
   "name": "python",
   "nbconvert_exporter": "python",
   "pygments_lexer": "ipython3",
   "version": "3.10.14"
  },
  "orig_nbformat": 4
 },
 "nbformat": 4,
 "nbformat_minor": 2
}
