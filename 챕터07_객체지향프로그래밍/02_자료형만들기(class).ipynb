{
 "cells": [
  {
   "cell_type": "markdown",
   "metadata": {},
   "source": [
    "___\n",
    "<a href='https://cafe.naver.com/jmhonglab'><p style=\"text-align:center;\"><img src='https://lh3.googleusercontent.com/lY3ySXooSmwsq5r-mRi7uiypbo0Vez6pmNoQxMFhl9fmZJkRHu5lO2vo7se_0YOzgmDyJif9fi4_z0o3ZFdwd8NVSWG6Ea80uWaf3pOHpR4GHGDV7kaFeuHR3yAjIJjDgfXMxsvw=w2400'  class=\"center\" width=\"50%\" height=\"50%\"/></p></a>\n",
    "___\n",
    "<center><em>Content Copyright by HongLab, Inc.</em></center>"
   ]
  },
  {
   "cell_type": "markdown",
   "metadata": {},
   "source": [
    "# [클래스(Class)](https://docs.python.org/3/tutorial/classes.html)로 자료형 만들기\n",
    "\n",
    "```class``` 문법을 이용하여 필요한 자료형들을 만들어서 사용할 수 있습니다."
   ]
  },
  {
   "cell_type": "code",
   "execution_count": 1,
   "metadata": {},
   "outputs": [
    {
     "name": "stdout",
     "output_type": "stream",
     "text": [
      "123\n",
      "124\n",
      "456\n",
      "457\n"
     ]
    }
   ],
   "source": [
    "# class 키워드로 정의\n",
    "# 클래스 이름에는 낙타(Camel) 케이스 사용\n",
    "class MyInt:\n",
    "\n",
    "    # 인스턴스가 만들어질 때 자동으로 실행되는 특별한 메써드\n",
    "    # init 앞뒤의 언더스코어 2개 주의\n",
    "    # magic or Dunder(Double UNDERscores) methods\n",
    "    # C++이나 Java에서는 생성자(constructor)라고 부릅니다.\n",
    "    # self는 인스턴스에 대한 레퍼런스 (변수)\n",
    "    def __init__(self, value):\n",
    "        # 인스턴스 변수 정의\n",
    "        self.value = value\n",
    "\n",
    "    # 메써드 정의 (첫 매개변수는 self)\n",
    "    def add(self, a):\n",
    "        self.value = self.value + a\n",
    "\n",
    "    # 메써드 정의 (첫 매개변수는 self)\n",
    "    def print(self):\n",
    "        print(self.value)\n",
    "\n",
    "\n",
    "# 인스턴스는 여러 개 만들 수 있습니다.\n",
    "my_int1 = MyInt(123)  # __init__(123)\n",
    "my_int2 = MyInt(456)  # __init__(456)\n",
    "\n",
    "print(my_int1.value)  # 124\n",
    "my_int1.add(1)  # 메써드를 호출할 때 self는 넣어줄 필요가 없습니다.\n",
    "my_int1.print()\n",
    "\n",
    "print(my_int2.value)  # 456\n",
    "my_int2.add(1)\n",
    "my_int2.print()  # 457\n"
   ]
  },
  {
   "cell_type": "markdown",
   "metadata": {},
   "source": [
    "[Python Visualization](https://pythontutor.com/visualize.html#mode=edit)을 사용해서 self의 용도를 확인해보세요."
   ]
  },
  {
   "cell_type": "code",
   "execution_count": 8,
   "metadata": {},
   "outputs": [
    {
     "name": "stderr",
     "output_type": "stream",
     "text": [
      "ERROR:root:No traceback has been produced, nothing to debug.\n"
     ]
    },
    {
     "name": "stdout",
     "output_type": "stream",
     "text": [
      "124\n",
      "1005\n"
     ]
    }
   ],
   "source": [
    "# %debug\n",
    "class MyInt:\n",
    "\n",
    "    def __init__(self, value):\n",
    "        self.v = value\n",
    "\n",
    "    def add(self, a):\n",
    "        self.v = self.v + a\n",
    "\n",
    "\n",
    "i1 = MyInt(123)\n",
    "i2 = MyInt(1004)\n",
    "\n",
    "i1.add(1)\n",
    "print(i1.v)  # 124\n",
    "\n",
    "i2.add(1)\n",
    "print(i2.v)  # 1005\n"
   ]
  },
  {
   "cell_type": "markdown",
   "metadata": {},
   "source": [
    "[보충] self와 instance의 id를 비교해보세요."
   ]
  },
  {
   "cell_type": "code",
   "execution_count": 11,
   "metadata": {},
   "outputs": [
    {
     "name": "stderr",
     "output_type": "stream",
     "text": [
      "ERROR:root:No traceback has been produced, nothing to debug.\n"
     ]
    },
    {
     "name": "stdout",
     "output_type": "stream",
     "text": [
      "4359892336\n",
      "4359892336\n",
      "4359892336\n",
      "124\n",
      "4359892336\n",
      "124\n"
     ]
    }
   ],
   "source": [
    "%debug\n",
    "class MyInt:\n",
    "    def __init__(self, value):\n",
    "        self.value = value\n",
    "        print(id(self))\n",
    "\n",
    "    def add(self, a):\n",
    "        self.value = self.value + a\n",
    "        print(id(self))\n",
    "\n",
    "    def print(self):\n",
    "        print(self.value)\n",
    "        print(id(self))\n",
    "\n",
    "\n",
    "my_int1 = MyInt(123)\n",
    "\n",
    "print(id(my_int1))\n",
    "\n",
    "my_int1.add(1)\n",
    "my_int1.print()  # 124\n",
    "print(my_int1.value)  # 125\n"
   ]
  },
  {
   "cell_type": "markdown",
   "metadata": {},
   "source": [
    "### [실습] 원 클래스 만들기\n",
    "\n",
    "클래스 이름은 Circle  \n",
    "인스턴스 변수는 x, y, r 세 가지 (x와 y는 원의 중심의 좌표, r은 반지름)  \n",
    "```__init__()``` 메써드와 ```is_inside()``` 메써드 구현\n",
    "\n",
    "[힌트] 어떤 좌표 $(i, j)$에 대해서 $(i - x)^2 + (j-y)^2 < r^2$를 만족한다면 $(i, j)$가 원 안에 포함된 것으로 판단\n"
   ]
  },
  {
   "cell_type": "code",
   "execution_count": 12,
   "metadata": {},
   "outputs": [
    {
     "name": "stdout",
     "output_type": "stream",
     "text": [
      "True\n",
      "False\n"
     ]
    }
   ],
   "source": [
    "class Circle:\n",
    "    def __init__(self, x, y, r):\n",
    "        self.x = x\n",
    "        self.y = y\n",
    "        self.r = r\n",
    "\n",
    "    def is_inside(self, i: float, j: float) -> bool:\n",
    "        \"\"\"i,j 가 원 내부에 있는 지 여부 판단\"\"\"\n",
    "        if (self.x - i) ** 2 + (self.y - j) ** 2 <= self.r**2:\n",
    "            return True\n",
    "        return False\n",
    "\n",
    "\n",
    "# 중심이 (1.0, 1.5)이고 반지름이 0.8인 원\n",
    "my_circle = Circle(1.0, 1.5, 0.8)\n",
    "\n",
    "print(my_circle.is_inside(1.5, 0.9))  # True\n",
    "print(my_circle.is_inside(0.4, 0.5))  # False\n"
   ]
  },
  {
   "cell_type": "code",
   "execution_count": 5,
   "metadata": {},
   "outputs": [
    {
     "data": {
      "image/jpeg": "[encoded data removed]",
      "image/png": "[encoded data removed]",
      "text/plain": [
       "<PIL.Image.Image image mode=RGB size=320x240>"
      ]
     },
     "execution_count": 5,
     "metadata": {},
     "output_type": "execute_result"
    }
   ],
   "source": [
    "# 원 그리기 (앞에서 사용했던 코드 그대로)\n",
    "from PIL import Image\n",
    "import numpy as np\n",
    "\n",
    "arr = np.empty((240, 320, 3), dtype=np.uint8)\n",
    "\n",
    "for j in range(arr.shape[0]):\n",
    "    for i in range(arr.shape[1]):\n",
    "        arr[j, i] = (\n",
    "            (255, 0, 0) if (i - 160) ** 2 + (j - 120) ** 2 < 100**2 else (0, 0, 255)\n",
    "        )\n",
    "\n",
    "im = Image.fromarray(arr.clip(0, 255).astype(np.uint8))  # data type 바꿔주기\n",
    "\n",
    "im\n"
   ]
  },
  {
   "cell_type": "code",
   "execution_count": 10,
   "metadata": {},
   "outputs": [
    {
     "data": {
      "image/jpeg": "[encoded data removed]",
      "image/png": "[encoded data removed]",
      "text/plain": [
       "<PIL.Image.Image image mode=RGB size=320x240>"
      ]
     },
     "execution_count": 10,
     "metadata": {},
     "output_type": "execute_result"
    }
   ],
   "source": [
    "# 원 그리기\n",
    "from PIL import Image\n",
    "import numpy as np\n",
    "\n",
    "\n",
    "class Circle:\n",
    "    def __init__(self, x, y, r):\n",
    "        self.x = x\n",
    "        self.y = y\n",
    "        self.r = r\n",
    "\n",
    "    def is_inside(self, i: float, j: float) -> bool:\n",
    "        \"\"\"i,j 가 원 내부에 있는 지 여부 판단\"\"\"\n",
    "        if (self.x - i) ** 2 + (self.y - j) ** 2 <= self.r**2:\n",
    "            return True\n",
    "        return False\n",
    "\n",
    "    def draw(self, arr):\n",
    "        for j in range(arr.shape[0]):\n",
    "            for i in range(arr.shape[1]):\n",
    "                if self.is_inside(i, j):\n",
    "                    arr[j, i] = (255, 0, 0)\n",
    "\n",
    "        return arr\n",
    "\n",
    "\n",
    "c1 = Circle(100, 120, 50)\n",
    "c2 = Circle(220, 120, 50)\n",
    "\n",
    "# 배경을 파란색으로 초기화\n",
    "arr = np.full((240, 320, 3), (0, 0, 255), dtype=np.uint8)\n",
    "\n",
    "arr = c1.draw(arr)\n",
    "arr = c2.draw(arr)\n",
    "\n",
    "im = Image.fromarray(arr.clip(0, 255).astype(np.uint8))  # data type 바꿔주기\n",
    "\n",
    "im\n"
   ]
  }
 ],
 "metadata": {
  "interpreter": {
   "hash": "f64e548cbf2ebb58caacc39a919b16809fbf0a70979c18e5ddba76aa9934d80e"
  },
  "kernelspec": {
   "display_name": "Python 3.9.5 64-bit ('base': conda)",
   "language": "python",
   "name": "python3"
  },
  "language_info": {
   "codemirror_mode": {
    "name": "ipython",
    "version": 3
   },
   "file_extension": ".py",
   "mimetype": "text/x-python",
   "name": "python",
   "nbconvert_exporter": "python",
   "pygments_lexer": "ipython3",
   "version": "3.10.14"
  },
  "orig_nbformat": 4
 },
 "nbformat": 4,
 "nbformat_minor": 2
}
