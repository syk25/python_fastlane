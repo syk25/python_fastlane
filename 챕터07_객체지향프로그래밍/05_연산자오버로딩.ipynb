{
 "cells": [
  {
   "cell_type": "markdown",
   "metadata": {},
   "source": [
    "___\n",
    "<a href='https://cafe.naver.com/jmhonglab'><p style=\"text-align:center;\"><img src='https://lh3.googleusercontent.com/lY3ySXooSmwsq5r-mRi7uiypbo0Vez6pmNoQxMFhl9fmZJkRHu5lO2vo7se_0YOzgmDyJif9fi4_z0o3ZFdwd8NVSWG6Ea80uWaf3pOHpR4GHGDV7kaFeuHR3yAjIJjDgfXMxsvw=w2400'  class=\"center\" width=\"50%\" height=\"50%\"/></p></a>\n",
    "___\n",
    "<center><em>Content Copyright by HongLab, Inc.</em></center>"
   ]
  },
  {
   "cell_type": "markdown",
   "metadata": {},
   "source": [
    "### 연산자 오버로딩 (Operator Overloading)\n",
    "\n",
    "```__init()__``` 메써드처럼 클래스를 만들 때 정해진 기능을 하도록 미리 이름이 지정되어 있는 메써드들이 있습니다.\n",
    "\n",
    "기본 자료형들처럼 연산자를 사용하기 위해서는 [특별한 이름을 가진 메써드들](https://www.geeksforgeeks.org/operator-overloading-in-python/)을 만들어주면 됩니다. "
   ]
  },
  {
   "cell_type": "code",
   "execution_count": null,
   "metadata": {},
   "outputs": [],
   "source": [
    "x = int(1)\n",
    "y = int(3)\n",
    "\n",
    "a = x + y\n",
    "#a = x.__add__(y)\n",
    "\n",
    "print(a)"
   ]
  },
  {
   "cell_type": "code",
   "execution_count": null,
   "metadata": {},
   "outputs": [],
   "source": [
    "class Vector2D:\n",
    "\n",
    "    def __init__(self, x, y):\n",
    "        self.x = x\n",
    "        self.y = y\n",
    "\n",
    "v1 = Vector2D(1, 2)\n",
    "v2 = Vector2D(3, 4)\n",
    "\n",
    "v3 = v1 + v2 # ???"
   ]
  },
  {
   "cell_type": "code",
   "execution_count": null,
   "metadata": {},
   "outputs": [],
   "source": [
    "class Vector2D:\n",
    "\n",
    "    def __init__(self, x, y):\n",
    "        self.x = x\n",
    "        self.y = y\n",
    "\n",
    "    def __add__(self, v):\n",
    "        return Vector2D(self.x + v.x, self.y + v.y)\n",
    "\n",
    "v1 = Vector2D(1, 2)\n",
    "v2 = Vector2D(3, 4)\n",
    "\n",
    "v3 = v1 + v2 # v1.__add__(v2)\n",
    "\n",
    "print(v3.x, v3.y)\n",
    "\n",
    "print(v3) # ???"
   ]
  },
  {
   "cell_type": "markdown",
   "metadata": {},
   "source": [
    "[실습] ```__str__()```\n",
    "\n",
    "```__str__()``` 메써드에서 출력하고 싶은 문자열을 반환해주면 됩니다."
   ]
  },
  {
   "cell_type": "code",
   "execution_count": null,
   "metadata": {},
   "outputs": [],
   "source": [
    "class Vector2D:\n",
    "\n",
    "    def __init__(self, x, y):\n",
    "        self.x = x\n",
    "        self.y = y\n",
    "\n",
    "    def __add__(self, v):\n",
    "        return Vector2D(self.x + v.x, self.y + v.y)\n",
    "\n",
    "\n",
    "v1 = Vector2D(1, 2)\n",
    "v2 = Vector2D(3, 4)\n",
    "v3 = v1 + v2\n",
    "\n",
    "print(v3)"
   ]
  },
  {
   "cell_type": "markdown",
   "metadata": {},
   "source": [
    "[실습] 등호(==) 연산자 오버로딩\n",
    "\n",
    "불리언을 반환하는 ```__eq__()``` 메써드를 만들어주면 됩니다."
   ]
  },
  {
   "cell_type": "code",
   "execution_count": null,
   "metadata": {},
   "outputs": [],
   "source": [
    "class Vector2D:\n",
    "\n",
    "    def __init__(self, x, y):\n",
    "        self.x = x\n",
    "        self.y = y\n",
    "\n",
    "\n",
    "v1 = Vector2D(1, 2)\n",
    "v2 = Vector2D(3, 4)\n",
    "\n",
    "print(v1 == v2)\n",
    "print(v1 == Vector2D(1, 2))\n",
    "print(Vector2D(3, 4) == v3)"
   ]
  }
 ],
 "metadata": {
  "interpreter": {
   "hash": "8018e705143a54fe8977c076a25f32bbbfeba551799f40fa3d5ac4e2da245feb"
  },
  "kernelspec": {
   "display_name": "Python 3.10.2 ('py310')",
   "language": "python",
   "name": "python3"
  },
  "language_info": {
   "codemirror_mode": {
    "name": "ipython",
    "version": 3
   },
   "file_extension": ".py",
   "mimetype": "text/x-python",
   "name": "python",
   "nbconvert_exporter": "python",
   "pygments_lexer": "ipython3",
   "version": "3.10.2"
  },
  "orig_nbformat": 4
 },
 "nbformat": 4,
 "nbformat_minor": 2
}
