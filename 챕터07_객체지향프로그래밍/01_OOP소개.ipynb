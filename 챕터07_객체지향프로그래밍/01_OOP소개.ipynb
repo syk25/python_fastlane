{
 "cells": [
  {
   "cell_type": "markdown",
   "metadata": {},
   "source": [
    "___\n",
    "<a href='https://cafe.naver.com/jmhonglab'><p style=\"text-align:center;\"><img src='https://lh3.googleusercontent.com/lY3ySXooSmwsq5r-mRi7uiypbo0Vez6pmNoQxMFhl9fmZJkRHu5lO2vo7se_0YOzgmDyJif9fi4_z0o3ZFdwd8NVSWG6Ea80uWaf3pOHpR4GHGDV7kaFeuHR3yAjIJjDgfXMxsvw=w2400'  class=\"center\" width=\"50%\" height=\"50%\"/></p></a>\n",
    "___\n",
    "<center><em>Content Copyright by HongLab, Inc.</em></center>"
   ]
  },
  {
   "cell_type": "markdown",
   "metadata": {},
   "source": [
    "# 객체지향 프로그래밍 (Object-Oriented Programming)\n",
    "\n",
    "파이썬은 객체지향 프로그래밍(OOP) 언어입니다. OOP는 객체를 이용해서 프로그램을 구조화하는 방법론입니다. 앞에서는 함수를 이용해서 구조를 설계하고 코드를 재사용하는 방법에 대해서 공부했습니다. 객체는 함수와 함께 그 함수가 일을 할 때 필요한 데이터까지 묶어놓은 것이라서 더 크고 복잡한 프로그램을 더 쉽게 만들 수 있도록 도와줍니다. 객체지향을 사용하기 시작하면 일시적으로 훨씬 복잡하게 느껴지실 수도 있지만 프로그래머처럼 생각하는 방법을 배우는 과정이기 때문에 익숙해진 후에는 오히려 더 편해집니다.\n",
    "\n",
    "우리는 이미 다양한 종류의 객체(object)들을 사용해왔습니다. 예를 들어서 지금까지 많이 사용해온 문자열(str) 객체를 생각해봅시다.\n",
    "\n",
    "- a와 b는 (보다 정확히는 a와 b라는 이름과 연결되어 있는 객체들은) 각각 \"hello\"와 \"abc\"라는 데이터를 가지고 있습니다.\n",
    "- \"hello\"와 \"abc\"는 서로 값이 다르지만 같은 종류(type)이기 때문에 같은 방법으로 사용할 수 있습니다.\n",
    "- a와 b는 메써드(method)를 이용해서 기능도 수행할 수 있습니다. 예를 들어서 a와 b에 ```upper()``` 메써드를 사용해서 각자 가지고 있는 데이터 값을 바꿀 수 있습니다."
   ]
  },
  {
   "cell_type": "code",
   "execution_count": null,
   "metadata": {},
   "outputs": [],
   "source": [
    "a = str(\"hello\")\n",
    "b = str(\"abc\")\n",
    "\n",
    "print(type(a), type(b))  # <class 'str'> <class 'str'>\n",
    "\n",
    "a.upper()  # 'HELLO'\n",
    "b.upper()  # 'ABC'"
   ]
  },
  {
   "cell_type": "markdown",
   "metadata": {},
   "source": [
    "여기서 OOP의 장점들을 엿볼 수 있습니다.\n",
    "\n",
    "- 세세한 내용들을 신경쓰지 않아도 됩니다. 위의 예에서는 마치 a라는 존재(object)에게 \"네가 갖고 있는 글자들을 모두 대문자로 알아서 바꿔라\"라고 명령을 내리는 기분입니다.\n",
    "- 잘 설계된 자료형들은 재사용이 쉽습니다. 지금까지 사용해온 수 많은 패키지들의 자료형들을 내가 하나하나 만들어 써야 한다고 생각해보면 와닿을 것 같습니다.\n",
    "- 추상적인 관점에서 프로그램의 구조를 설계할 수 있습니다. 프로그램의 규모가 커지고 복잡해질 수록 큰 장점이 됩니다.\n"
   ]
  },
  {
   "cell_type": "markdown",
   "metadata": {},
   "source": [
    "중요한 용어들을 정리해보겠습니다.\n",
    "- 객체(object): 영어에서 일반적인 물건/물체를 의미하듯이 파이썬에서는 모든 것이 객체입니다. 보다 구체적으로는 데이터와 기능을 묶어놓은 것들을 의미합니다.\n",
    "- 클래스(class): 어떤 객체가 어떤 데이터를 갖고 그 데이터로 어떤 기능들을 수행할지 정의해놓은 템플릿(template)을 의미합니다. 바꿔말하면 어떤 자료형(data type)을 정의하는 것입니다. 클래스와 인스턴스 객체의 관계를 흔히 쿠키 커터와 쿠키 또는 붕어빵틀과 붕어빵의 관계에 비유합니다. 예전에는 '[부류](https://terms.naver.com/entry.naver?docId=817824&cid=42344&categoryId=42344)'로 번역하기도 했습니다.\n",
    "- 인스턴스(instance): 파이썬에서는 모든 것이 객체이기 때문에 객체의 의미가 매우 넓습니다. 어떤 객체가 어떤 클래스에 맞춰서 만들어졌다는 점을 강조하고 싶을 때 그 객체를 어떤 클래스의 **인스턴스**라고 부릅니다. 예를 들어서 ```a```와 ```b```는 클래스 'str'의 인스턴스입니다. 객체와 인스턴스는 혼용되는 경우도 많습니다."
   ]
  },
  {
   "cell_type": "code",
   "execution_count": null,
   "metadata": {},
   "outputs": [],
   "source": [
    "a = str(\"hello\")\n",
    "b = str(\"abc\")\n",
    "\n",
    "# isinstance를 이용해서 어떤 객체가 어떤 type의 instance인지를 확인합니다.\n",
    "isinstance(a, str), isinstance(b, str)  # (True, True)"
   ]
  },
  {
   "cell_type": "markdown",
   "metadata": {},
   "source": [
    "- 속성(attribute): 파이썬에서는 변수 다음에 .을 찍어서 사용할 수 있는 것들은 모두 attribute라고 부릅니다.\n",
    "- 데이터 속성(data attributes): 객체의 변수들을 의미합니다.\n",
    "- 메써드(method): 객체의 함수들을 의미합니다.\n",
    "\n",
    "참고: C++에서는 특정 클래스에 소속되었다는 의미에서 멤버 변수(member variable)와 멤버 함수(member function)이라고 부릅니다. 자바에서는 속성(attribute)과 메써드(method)라고 부릅니다.\n",
    "\n",
    "파이썬은 기본 자료형들도 사용법이 유연하고 패키지를 통해서 가져다쓸 수 있는 자료형들도 다양하기 때문에 간단한 예제에서는 굳이 새로운 자료형을 직접 만들어서 써야할 필요성이 느껴지지 않을 수도 있습니다. 그러나 기본 예제에서 약간만이라도 벗어나서 창의성을 발휘하기 시작하면 첫째로는 내가 원하는 것을 보다 효율적으로 만들기 위해서 둘째로는 좋은 코드들을 이해하고 [훔치기](https://en.wikiquote.org/wiki/Pablo_Picasso) 위해서 ```class```로 대표되는 객체지향 문법을 잘 알아야 합니다."
   ]
  },
  {
   "cell_type": "markdown",
   "metadata": {},
   "source": [
    "##### 참고\n",
    "[Introduction to Programming in Python: An Interdisciplinary Approach](https://www.amazon.com/Introduction-Programming-Python-Interdisciplinary-Approach-ebook/dp/B00YF0ORKU)\n",
    "- A data type is a set of values and a set of operations defined on those values. \n",
    "- In Python we implement a data type using a class."
   ]
  }
 ],
 "metadata": {
  "interpreter": {
   "hash": "f64e548cbf2ebb58caacc39a919b16809fbf0a70979c18e5ddba76aa9934d80e"
  },
  "kernelspec": {
   "display_name": "Python 3.9.5 64-bit ('base': conda)",
   "language": "python",
   "name": "python3"
  },
  "language_info": {
   "codemirror_mode": {
    "name": "ipython",
    "version": 3
   },
   "file_extension": ".py",
   "mimetype": "text/x-python",
   "name": "python",
   "nbconvert_exporter": "python",
   "pygments_lexer": "ipython3",
   "version": "3.10.2"
  },
  "orig_nbformat": 4
 },
 "nbformat": 4,
 "nbformat_minor": 2
}
